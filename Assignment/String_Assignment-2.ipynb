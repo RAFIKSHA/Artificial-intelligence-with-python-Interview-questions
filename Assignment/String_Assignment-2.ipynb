{
 "cells": [
  {
   "cell_type": "code",
   "execution_count": null,
   "id": "b4c7a754",
   "metadata": {},
   "outputs": [],
   "source": [
    "#1.What is string? And how we can initialize it?\n",
    "String is collections of char,enclosed inside single or double quotes also with three single and three double quotes.\n",
    "String is immutable datatype."
   ]
  },
  {
   "cell_type": "code",
   "execution_count": 2,
   "id": "4240850d",
   "metadata": {},
   "outputs": [
    {
     "data": {
      "text/plain": [
       "'Python'"
      ]
     },
     "execution_count": 2,
     "metadata": {},
     "output_type": "execute_result"
    }
   ],
   "source": [
    "#how we can initialize it\n",
    "a='Python'\n",
    "a"
   ]
  },
  {
   "cell_type": "code",
   "execution_count": 1,
   "id": "b6410fc4",
   "metadata": {},
   "outputs": [
    {
     "data": {
      "text/plain": [
       "6"
      ]
     },
     "execution_count": 1,
     "metadata": {},
     "output_type": "execute_result"
    }
   ],
   "source": [
    "#2.Write a Python program to calculate the length of a string.\n",
    "a='Reshma'\n",
    "len(a)"
   ]
  },
  {
   "cell_type": "code",
   "execution_count": 16,
   "id": "5f760f4c",
   "metadata": {},
   "outputs": [
    {
     "name": "stdout",
     "output_type": "stream",
     "text": [
      "Reshma\n",
      "Nikam\n",
      "Reshma\tNikam\n"
     ]
    }
   ],
   "source": [
    "#3.What are the Escape Characters in python?\n",
    "print('Reshma\\nNikam')\n",
    "print('Reshma\\tNikam')"
   ]
  },
  {
   "cell_type": "code",
   "execution_count": 3,
   "id": "471e6319",
   "metadata": {},
   "outputs": [
    {
     "data": {
      "text/plain": [
       "('My name is Reshma, I am 23',\n",
       " 'My name is Rohit, I am 20',\n",
       " 'My name is Raj, I am 24')"
      ]
     },
     "execution_count": 3,
     "metadata": {},
     "output_type": "execute_result"
    }
   ],
   "source": [
    "#4.Which are the different ways to perform string formatting? Explain with example.\n",
    "a= \"My name is {fname}, I am {age}\".format(fname= \"Reshma\", age=23)\n",
    "b= \"My name is {0}, I am {1}\".format(\"Rohit\",20)\n",
    "c= \"My name is {}, I am {}\".format(\"Raj\",24)\n",
    "a,b,c"
   ]
  },
  {
   "cell_type": "code",
   "execution_count": 3,
   "id": "aecc88e3",
   "metadata": {},
   "outputs": [
    {
     "data": {
      "text/plain": [
       "16"
      ]
     },
     "execution_count": 3,
     "metadata": {},
     "output_type": "execute_result"
    }
   ],
   "source": [
    "#5.Write a program to find the length of the string \"machine learning”\n",
    "a='machine Learning'\n",
    "len(a)"
   ]
  },
  {
   "cell_type": "code",
   "execution_count": 5,
   "id": "43bd0d38",
   "metadata": {},
   "outputs": [
    {
     "name": "stdout",
     "output_type": "stream",
     "text": [
      "True\n"
     ]
    }
   ],
   "source": [
    "#6.Write a program to check if the word 'orange' is present in the \"This is orange juice\".\n",
    "a= \"This is orange juice\"\n",
    "print('orange' in a.split())"
   ]
  },
  {
   "cell_type": "code",
   "execution_count": 5,
   "id": "e61f4f5c",
   "metadata": {},
   "outputs": [
    {
     "data": {
      "text/plain": [
       "'Rema Nikam'"
      ]
     },
     "execution_count": 5,
     "metadata": {},
     "output_type": "execute_result"
    }
   ],
   "source": [
    "#7.Write a Python program to get a string made of the first 2 and the last 2 chars from a given a string.\n",
    "a='Reshma Nikam'\n",
    "s=a[0:2]+a[-1:3:-1][::-1]\n",
    "s"
   ]
  },
  {
   "cell_type": "code",
   "execution_count": 8,
   "id": "ad06ceaa",
   "metadata": {},
   "outputs": [
    {
     "name": "stdout",
     "output_type": "stream",
     "text": [
      "Same Identity\n"
     ]
    }
   ],
   "source": [
    "#8.How would you confirm that 2 strings have the same identity?\n",
    "a='python'\n",
    "b='python'\n",
    "if (a is b):\n",
    "    print('Same Identity')\n",
    "else:\n",
    "    print('Not Same Identity')"
   ]
  },
  {
   "cell_type": "code",
   "execution_count": 7,
   "id": "b9968bb4",
   "metadata": {},
   "outputs": [
    {
     "data": {
      "text/plain": [
       "True"
      ]
     },
     "execution_count": 7,
     "metadata": {},
     "output_type": "execute_result"
    }
   ],
   "source": [
    "#9.How would you check if each word in a string begins with a capital letter?\n",
    "a=\"Reshma Rohit Ravi Raj Priya\"\n",
    "a=a.split()\n",
    "for i in a:\n",
    "    if i[0].isupper():\n",
    "        a1=True\n",
    "    else:\n",
    "        a1=False\n",
    "        break\n",
    "a1"
   ]
  },
  {
   "cell_type": "code",
   "execution_count": 8,
   "id": "85fa68fc",
   "metadata": {},
   "outputs": [
    {
     "name": "stdout",
     "output_type": "stream",
     "text": [
      "Not Found\n"
     ]
    }
   ],
   "source": [
    "#10.Check if a string contains a specific substring.\n",
    "c=\"Check if a string contains a specific substring\"\n",
    "string='reshma rohit'\n",
    "if string in c:\n",
    "    print(\"Found\")\n",
    "else:\n",
    "    print(\"Not Found\")"
   ]
  },
  {
   "cell_type": "code",
   "execution_count": 9,
   "id": "83c781d6",
   "metadata": {},
   "outputs": [
    {
     "data": {
      "text/plain": [
       "7"
      ]
     },
     "execution_count": 9,
     "metadata": {},
     "output_type": "execute_result"
    }
   ],
   "source": [
    "#11.Find the index of the first occurrence of a substring in a string.\n",
    "f='reshma rohit raj'\n",
    "f.index('rohit')"
   ]
  },
  {
   "cell_type": "code",
   "execution_count": 11,
   "id": "d1593cd6",
   "metadata": {},
   "outputs": [
    {
     "name": "stdout",
     "output_type": "stream",
     "text": [
      "a = Reshma Rohit Ravi Raj Priya\n",
      "4\n"
     ]
    }
   ],
   "source": [
    "#12.Count the number of a specific character in a string\n",
    "a='Reshma Rohit Ravi Raj Priya'\n",
    "print('a =',a)\n",
    "print(a.count('a'))"
   ]
  },
  {
   "cell_type": "code",
   "execution_count": 2,
   "id": "ced1dbfe",
   "metadata": {},
   "outputs": [
    {
     "data": {
      "text/plain": [
       "'Reshma'"
      ]
     },
     "execution_count": 2,
     "metadata": {},
     "output_type": "execute_result"
    }
   ],
   "source": [
    "#13.Capitalize the first character of a string\n",
    "a='reshma'\n",
    "a.capitalize()"
   ]
  },
  {
   "cell_type": "code",
   "execution_count": 16,
   "id": "2ba0e928",
   "metadata": {},
   "outputs": [],
   "source": [
    "#14.What is an f-string and how do you use it?\n",
    "f string is literal string prefix with 'f' which contain expression inside braces{}."
   ]
  },
  {
   "cell_type": "code",
   "execution_count": 18,
   "id": "24756fc0",
   "metadata": {},
   "outputs": [
    {
     "name": "stdout",
     "output_type": "stream",
     "text": [
      "Value of a = 50 Value of b = 60\n",
      "The value of a is 50\n"
     ]
    }
   ],
   "source": [
    "a=50\n",
    "b=60\n",
    "print('Value of a =',a,'Value of b =',b )\n",
    "print(f'The value of a is {a}')"
   ]
  },
  {
   "cell_type": "code",
   "execution_count": null,
   "id": "e4d73888",
   "metadata": {},
   "outputs": [],
   "source": [
    "#15.Search a specific part of a string for a substring.\n",
    "s=\"Search a specific part of a string for a substring\"\n",
    "s1=\"part\"\n",
    "i=o\n",
    "s=s.split()\n",
    "for i in s:\n",
    "    if i==s1:\n",
    "        i=1\n",
    "        break\n",
    "    if i==1:\n",
    "        print('Found')\n",
    "    else:\n",
    "        print('Not Found')   Op=Found"
   ]
  },
  {
   "cell_type": "code",
   "execution_count": 19,
   "id": "6016f225",
   "metadata": {},
   "outputs": [
    {
     "name": "stdout",
     "output_type": "stream",
     "text": [
      "a = 36575768\n"
     ]
    },
    {
     "data": {
      "text/plain": [
       "True"
      ]
     },
     "execution_count": 19,
     "metadata": {},
     "output_type": "execute_result"
    }
   ],
   "source": [
    "#16.Check if a string contains only numbers\n",
    "a='36575768'\n",
    "print('a =',a)\n",
    "a.isnumeric()"
   ]
  },
  {
   "cell_type": "code",
   "execution_count": 2,
   "id": "25161116",
   "metadata": {},
   "outputs": [
    {
     "name": "stdout",
     "output_type": "stream",
     "text": [
      "a = reshma-raj-ravi-rohit\n",
      "['reshma', 'raj', 'ravi', 'rohit']\n"
     ]
    }
   ],
   "source": [
    "#17.Split a string on a specific character.\n",
    "a='reshma-raj-ravi-rohit'\n",
    "print('a =',a)\n",
    "print(a.split('-'))"
   ]
  },
  {
   "cell_type": "code",
   "execution_count": 4,
   "id": "1493eb53",
   "metadata": {},
   "outputs": [
    {
     "name": "stdout",
     "output_type": "stream",
     "text": [
      "a = pyThon\n",
      "False\n"
     ]
    }
   ],
   "source": [
    "#18.Check if a string is composed of all lower case characters\n",
    "a='pyThon'\n",
    "print('a =',a)\n",
    "print(a.islower())"
   ]
  },
  {
   "cell_type": "code",
   "execution_count": 22,
   "id": "e7c40104",
   "metadata": {},
   "outputs": [
    {
     "name": "stdout",
     "output_type": "stream",
     "text": [
      "a = rESHMA\n",
      "False\n"
     ]
    }
   ],
   "source": [
    "#19.Check if the first character in a string is lowercase\n",
    "a='rESHMA'\n",
    "print('a =',a)\n",
    "print(a.isupper())"
   ]
  },
  {
   "cell_type": "code",
   "execution_count": 25,
   "id": "710b2dea",
   "metadata": {},
   "outputs": [],
   "source": [
    "#20.Can an integer be added to a string in Python?\n",
    "No"
   ]
  },
  {
   "cell_type": "code",
   "execution_count": 23,
   "id": "86091463",
   "metadata": {},
   "outputs": [
    {
     "data": {
      "text/plain": [
       "'dlrow olleh'"
      ]
     },
     "execution_count": 23,
     "metadata": {},
     "output_type": "execute_result"
    }
   ],
   "source": [
    "#21.Reverse the string “hello world”.\n",
    "a=\"hello world\" [::-1]\n",
    "a"
   ]
  },
  {
   "cell_type": "code",
   "execution_count": 32,
   "id": "5f9f80dd",
   "metadata": {},
   "outputs": [
    {
     "name": "stdout",
     "output_type": "stream",
     "text": [
      "reshma-rohit-raj-ravi\n"
     ]
    }
   ],
   "source": [
    "#22.Join a list of strings into a single string, delimited by hyphens.\n",
    "a = ['reshma', 'rohit', 'raj', 'ravi']\n",
    "b = '-'.join(a)\n",
    "print(b)"
   ]
  },
  {
   "cell_type": "code",
   "execution_count": 63,
   "id": "0bdbe914",
   "metadata": {},
   "outputs": [
    {
     "name": "stdout",
     "output_type": "stream",
     "text": [
      "ReshmA\n"
     ]
    }
   ],
   "source": [
    "#23.Uppercase first and last character of a string.\n",
    "a='reshma'\n",
    "str1=a[0].upper()+a[1:-1]+a[-1].upper()\n",
    "print(str1)"
   ]
  },
  {
   "cell_type": "code",
   "execution_count": 36,
   "id": "0ed77aa6",
   "metadata": {},
   "outputs": [
    {
     "data": {
      "text/plain": [
       "'reshma'"
      ]
     },
     "execution_count": 36,
     "metadata": {},
     "output_type": "execute_result"
    }
   ],
   "source": [
    "#24.Give an example of string slicing.\n",
    "a='reshma'\n",
    "a[0:6]"
   ]
  },
  {
   "cell_type": "code",
   "execution_count": 3,
   "id": "db87fb3e",
   "metadata": {},
   "outputs": [
    {
     "name": "stdout",
     "output_type": "stream",
     "text": [
      "23\n"
     ]
    },
    {
     "data": {
      "text/plain": [
       "str"
      ]
     },
     "execution_count": 3,
     "metadata": {},
     "output_type": "execute_result"
    }
   ],
   "source": [
    "#25.Convert an integer to a string.\n",
    "a=23\n",
    "s=str(a)\n",
    "print(s)\n",
    "type(s)"
   ]
  },
  {
   "cell_type": "code",
   "execution_count": 44,
   "id": "cf84a772",
   "metadata": {},
   "outputs": [
    {
     "name": "stdout",
     "output_type": "stream",
     "text": [
      "a = FSTXERTFFF\n",
      "True\n"
     ]
    }
   ],
   "source": [
    "#26.Check if a string contains only characters of the alphabet.\n",
    "a='FSTXERTFFF'\n",
    "print('a =',a)\n",
    "print(a.isalpha())"
   ]
  },
  {
   "cell_type": "code",
   "execution_count": 48,
   "id": "156a4a82",
   "metadata": {},
   "outputs": [
    {
     "name": "stdout",
     "output_type": "stream",
     "text": [
      "a = reshma raj ravi rohit\n",
      "lavu guna ravi rohit\n"
     ]
    }
   ],
   "source": [
    "#27.Replace all instances of a substring in a string.\n",
    "a='reshma raj ravi rohit'\n",
    "print('a =',a)\n",
    "print(a.replace('reshma raj', 'lavu guna',2))"
   ]
  },
  {
   "cell_type": "code",
   "execution_count": 49,
   "id": "24ca7ef5",
   "metadata": {},
   "outputs": [
    {
     "data": {
      "text/plain": [
       "'reshma raj ravi rohit'"
      ]
     },
     "execution_count": 49,
     "metadata": {},
     "output_type": "execute_result"
    }
   ],
   "source": [
    "#28.Remove whitespace from the left, right or both sides of a string.\n",
    "#Both side\n",
    "a='     reshma raj ravi rohit     '\n",
    "a\n",
    "a.strip()"
   ]
  },
  {
   "cell_type": "code",
   "execution_count": 50,
   "id": "a8ddec5c",
   "metadata": {},
   "outputs": [
    {
     "data": {
      "text/plain": [
       "'reshma raj ravi rohit     '"
      ]
     },
     "execution_count": 50,
     "metadata": {},
     "output_type": "execute_result"
    }
   ],
   "source": [
    "#left side\n",
    "a='     reshma raj ravi rohit     '\n",
    "a\n",
    "a.lstrip()"
   ]
  },
  {
   "cell_type": "code",
   "execution_count": 51,
   "id": "3c12332c",
   "metadata": {},
   "outputs": [
    {
     "data": {
      "text/plain": [
       "'     reshma raj ravi rohit'"
      ]
     },
     "execution_count": 51,
     "metadata": {},
     "output_type": "execute_result"
    }
   ],
   "source": [
    "#right side\n",
    "a='     reshma raj ravi rohit     '\n",
    "a\n",
    "a.rstrip()"
   ]
  },
  {
   "cell_type": "code",
   "execution_count": 53,
   "id": "49b9094e",
   "metadata": {},
   "outputs": [
    {
     "name": "stdout",
     "output_type": "stream",
     "text": [
      "a = reshma raj ravi rohit\n",
      "True\n"
     ]
    }
   ],
   "source": [
    "#29.Check if a string begins with or ends with a specific character.\n",
    "#startwith\n",
    "a='reshma raj ravi rohit'\n",
    "print('a =',a)\n",
    "print(a.startswith('reshma'))"
   ]
  },
  {
   "cell_type": "code",
   "execution_count": 55,
   "id": "294b1f4f",
   "metadata": {},
   "outputs": [
    {
     "name": "stdout",
     "output_type": "stream",
     "text": [
      "a = reshma raj ravi rohit\n",
      "True\n"
     ]
    }
   ],
   "source": [
    "#Endwith\n",
    "a='reshma raj ravi rohit'\n",
    "print('a =',a)\n",
    "print(a.endswith('rohit'))"
   ]
  },
  {
   "cell_type": "code",
   "execution_count": 56,
   "id": "f309181c",
   "metadata": {},
   "outputs": [
    {
     "data": {
      "text/plain": [
       "'reshmanikam'"
      ]
     },
     "execution_count": 56,
     "metadata": {},
     "output_type": "execute_result"
    }
   ],
   "source": [
    "#30.Concatenate Two strings.\n",
    "a='reshma'\n",
    "b='nikam'\n",
    "a+b"
   ]
  }
 ],
 "metadata": {
  "kernelspec": {
   "display_name": "Python 3 (ipykernel)",
   "language": "python",
   "name": "python3"
  },
  "language_info": {
   "codemirror_mode": {
    "name": "ipython",
    "version": 3
   },
   "file_extension": ".py",
   "mimetype": "text/x-python",
   "name": "python",
   "nbconvert_exporter": "python",
   "pygments_lexer": "ipython3",
   "version": "3.10.9"
  }
 },
 "nbformat": 4,
 "nbformat_minor": 5
}
