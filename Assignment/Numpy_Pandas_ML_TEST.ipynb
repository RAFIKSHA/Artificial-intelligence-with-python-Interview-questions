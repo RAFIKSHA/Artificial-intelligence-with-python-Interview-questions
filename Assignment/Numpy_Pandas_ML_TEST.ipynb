{
 "cells": [
  {
   "cell_type": "markdown",
   "id": "01f54ef8",
   "metadata": {},
   "source": [
    "# Numpy"
   ]
  },
  {
   "cell_type": "code",
   "execution_count": 10,
   "id": "46f780b8",
   "metadata": {},
   "outputs": [
    {
     "data": {
      "text/plain": [
       "(0.5235987755982988, 0.49999999999999994)"
      ]
     },
     "execution_count": 10,
     "metadata": {},
     "output_type": "execute_result"
    }
   ],
   "source": [
    "#1.Write a numpy program to convert angles from degree to radian for all elements in given array.\n",
    "import numpy as np\n",
    "np.deg2rad(30),np.sin(0.5235987755982988)"
   ]
  },
  {
   "cell_type": "code",
   "execution_count": 11,
   "id": "efeddb0e",
   "metadata": {},
   "outputs": [
    {
     "name": "stdout",
     "output_type": "stream",
     "text": [
      "[[8, 7, 6], [5, 4, 3], [2, 1, 0]]\n"
     ]
    }
   ],
   "source": [
    "#2.How to reverse the rows of a 2D array?\n",
    "#[[6, 7, 8],\n",
    "# [3, 4, 5],\n",
    "# [0, 1, 2]]\n",
    "arr = [[6, 7, 8], [3, 4, 5], [0, 1, 2]]\n",
    "reversed_arr = [list(reversed(row)) for row in arr]\n",
    "print(reversed_arr)"
   ]
  },
  {
   "cell_type": "code",
   "execution_count": 12,
   "id": "7e800493",
   "metadata": {},
   "outputs": [
    {
     "name": "stdout",
     "output_type": "stream",
     "text": [
      "[[[0.72962702 0.12257178 0.38872805]\n",
      "  [0.54399969 0.52086532 0.74704685]\n",
      "  [0.78386703 0.68766084 0.71794446]]\n",
      "\n",
      " [[0.41694167 0.63999287 0.01519707]\n",
      "  [0.64595702 0.55241092 0.4741403 ]\n",
      "  [0.86657585 0.49208224 0.95799268]]\n",
      "\n",
      " [[0.40269264 0.97068556 0.67430956]\n",
      "  [0.98088015 0.29915475 0.58747184]\n",
      "  [0.47997896 0.73331088 0.70316729]]]\n"
     ]
    }
   ],
   "source": [
    "#3.Create a 3x3x3 array with random values.\n",
    "arr = np.random.rand(3, 3, 3)\n",
    "print(arr)"
   ]
  },
  {
   "cell_type": "code",
   "execution_count": 13,
   "id": "ccb1a7f8",
   "metadata": {},
   "outputs": [
    {
     "name": "stdout",
     "output_type": "stream",
     "text": [
      "[[1. 1. 1. 1. 1. 1. 1. 1. 1. 1.]\n",
      " [1. 0. 0. 0. 0. 0. 0. 0. 0. 1.]\n",
      " [1. 0. 0. 0. 0. 0. 0. 0. 0. 1.]\n",
      " [1. 0. 0. 0. 0. 0. 0. 0. 0. 1.]\n",
      " [1. 0. 0. 0. 0. 0. 0. 0. 0. 1.]\n",
      " [1. 0. 0. 0. 0. 0. 0. 0. 0. 1.]\n",
      " [1. 0. 0. 0. 0. 0. 0. 0. 0. 1.]\n",
      " [1. 0. 0. 0. 0. 0. 0. 0. 0. 1.]\n",
      " [1. 0. 0. 0. 0. 0. 0. 0. 0. 1.]\n",
      " [1. 1. 1. 1. 1. 1. 1. 1. 1. 1.]]\n"
     ]
    }
   ],
   "source": [
    "#4.Create a 2d array with 1 on the border and 0 inside.\n",
    "\"\"\"[[1. 1. 1. 1. 1. 1. 1. 1. 1. 1.]  8,e=0\n",
    "[1. 0. 0. 0. 9. 9. e. 8. 9. 1.] \n",
    "[1. e. e. e. e. a. e. e. 8. 1.]\n",
    "[1. 8. e. e. 8. 9. e. e. e. 1.] \n",
    "[1, 0, 0.0, 0. e. e. e. e. 1.] \n",
    "[1. e. e. e. e. e. e. e. e. 1.] \n",
    "[1. e. 0, 0, 0, 0, 0. e. e. 1.]\n",
    "[1, 0. 0. 8. e. e. o. e. e. 1.] \n",
    "[1. e. e. e. 3. e. 8. e. e. 1.] \n",
    "[1. 1. 1. 1. 1. 1. 1. 1. 1. 1.]\"\"\"\n",
    " \n",
    "nrows = 10\n",
    "ncols = 10\n",
    "arr = np.zeros((nrows, ncols))\n",
    "arr[0, :] = 1\n",
    "arr[-1, :] = 1\n",
    "arr[:, 0] = 1\n",
    "arr[:, -1] = 1\n",
    "print(arr)"
   ]
  },
  {
   "cell_type": "code",
   "execution_count": 14,
   "id": "151eba6e",
   "metadata": {},
   "outputs": [
    {
     "name": "stdout",
     "output_type": "stream",
     "text": [
      "[[3 4]\n",
      " [5 6]]\n"
     ]
    },
    {
     "data": {
      "text/plain": [
       "array([[-3. ,  2. ],\n",
       "       [ 2.5, -1.5]])"
      ]
     },
     "execution_count": 14,
     "metadata": {},
     "output_type": "execute_result"
    }
   ],
   "source": [
    "#5.Write a NumPy program to compute the inverse of a given matrix.\n",
    "a=np.array([[3,4],[5,6]])\n",
    "print(a)\n",
    "np.linalg.inv(a)"
   ]
  },
  {
   "cell_type": "code",
   "execution_count": 15,
   "id": "a3890f3c",
   "metadata": {},
   "outputs": [
    {
     "name": "stdout",
     "output_type": "stream",
     "text": [
      "Input array:\n",
      "[[1 2 3]\n",
      " [4 5 6]\n",
      " [7 8 9]]\n",
      "Output array:\n",
      "[[1 2 3]\n",
      " [7 8 9]\n",
      " [4 5 6]]\n"
     ]
    }
   ],
   "source": [
    "#6.How to swap two rows of an array with practically.\n",
    "a = np.array([[1, 2, 3], [4, 5, 6], [7, 8, 9]])\n",
    "print(\"Input array:\")\n",
    "print(a)\n",
    "temp = a[1].copy()\n",
    "a[1] = a[2]\n",
    "a[2] = temp\n",
    "print(\"Output array:\")\n",
    "print(a)\n"
   ]
  },
  {
   "cell_type": "code",
   "execution_count": 24,
   "id": "964d4f5d",
   "metadata": {},
   "outputs": [
    {
     "name": "stdout",
     "output_type": "stream",
     "text": [
      "The most frequent value is: 3\n"
     ]
    }
   ],
   "source": [
    "#7.How to find the most frequent value in a NumPy array with practically.\n",
    "a = np.array([1, 2, 3, 2, 2, 1, 3, 3, 3])\n",
    "np.argmax(a)\n",
    "\n",
    "a = np.array([1, 2, 3, 2, 2, 3, 4, 4, 4, 4, 3, 3, 3, 5])\n",
    "counts = np.bincount(a)\n",
    "most_frequent_value = np.argmax(counts)\n",
    "print(\"The most frequent value is:\", most_frequent_value)"
   ]
  },
  {
   "cell_type": "code",
   "execution_count": 8,
   "id": "0085f89e",
   "metadata": {},
   "outputs": [
    {
     "data": {
      "text/plain": [
       "1.4142135623730951"
      ]
     },
     "execution_count": 8,
     "metadata": {},
     "output_type": "execute_result"
    }
   ],
   "source": [
    "#8.How to compute the standard deviation of a NumPy array.\n",
    "a=np.array([1,2,3,4,5])\n",
    "np.std(a)"
   ]
  },
  {
   "cell_type": "code",
   "execution_count": 26,
   "id": "2dd7260c",
   "metadata": {},
   "outputs": [
    {
     "name": "stdout",
     "output_type": "stream",
     "text": [
      "The sorted array is:\n",
      "[[4 1]\n",
      " [3 2]\n",
      " [2 3]\n",
      " [1 4]]\n"
     ]
    }
   ],
   "source": [
    "#9.How to sort an array by the nth column with practically.\n",
    "a = np.array([[1, 4], [2, 3], [3, 2], [4, 1]])\n",
    "n = 1\n",
    "sorted_indices = np.argsort(a[:, n])\n",
    "sorted_a = a[sorted_indices]\n",
    "print(\"The sorted array is:\")\n",
    "print(sorted_arr)"
   ]
  },
  {
   "cell_type": "code",
   "execution_count": 31,
   "id": "8f7fee8c",
   "metadata": {},
   "outputs": [
    {
     "name": "stdout",
     "output_type": "stream",
     "text": [
      "[0.01299039 0.07564117 0.18858684 0.37371088 0.37739874 0.3984117\n",
      " 0.44224716 0.61791529 0.95154488 0.97888727]\n"
     ]
    }
   ],
   "source": [
    "#10.Create a random vector of size 10 and sort it.\n",
    "a = np.random.rand(10)\n",
    "sorted_vector= np.sort(a)\n",
    "print(sorted_vector)"
   ]
  },
  {
   "cell_type": "markdown",
   "id": "c753961e",
   "metadata": {},
   "source": [
    "# Pandas"
   ]
  },
  {
   "cell_type": "code",
   "execution_count": 61,
   "id": "ff884e7e",
   "metadata": {},
   "outputs": [
    {
     "name": "stdout",
     "output_type": "stream",
     "text": [
      "   col1  col2  col3\n",
      "0     1     4     7\n",
      "1     2     5     8\n",
      "2     3     6     9\n",
      "[{'a': [1, 2, 3, 4, 5]}, {'b': 'Reshma'}]\n",
      "   Name Age    Country\n",
      "0  John  25        USA\n",
      "1  Jane  30     Canada\n",
      "2   Bob  40         UK\n",
      "3   Sue  35  Australia\n"
     ]
    }
   ],
   "source": [
    "#1.What are the different ways of creating DataFrame in pandas? Explain with examples.\n",
    "import pandas as pd\n",
    "\n",
    "#1.Creating from a dictionary:\n",
    "data = {'col1': [1,2,3], 'col2': [4,5,6], 'col3': [7,8,9]}\n",
    "df = pd.DataFrame(data)\n",
    "print(df)\n",
    "\n",
    "#2.Creating from a list of dictionaries:\n",
    "a=[{'a':[1,2,3,4,5]},{'b':'Reshma'}]\n",
    "pd.DataFrame(a)\n",
    "print(a)\n",
    "\n",
    "#3.Creating from a NumPy array:\n",
    "data = np.array([['John', 25, 'USA'],\n",
    "                 ['Jane', 30, 'Canada'],\n",
    "                 ['Bob', 40, 'UK'],\n",
    "                 ['Sue', 35, 'Australia']])\n",
    "df = pd.DataFrame(data, columns=['Name', 'Age', 'Country'])\n",
    "print(df)\n",
    "\n",
    "#4.Creating from a CSV file:\n",
    "df = pd.read_csv('Iris .csv')\n",
    "print(df)\n",
    "\n",
    "#5.Using Series:\n",
    "s1=pd.series(['a','b','c'])\n",
    "s2=pd.series([10,20,30])\n",
    "a1=pd.DataFrame({'A':s1,'B':s2})\n",
    "print(a1)"
   ]
  },
  {
   "cell_type": "code",
   "execution_count": null,
   "id": "4b3f15f9",
   "metadata": {},
   "outputs": [],
   "source": [
    "#2.What is Groupby Function In Pandas? Explain with example."
   ]
  },
  {
   "cell_type": "raw",
   "id": "01db67ea",
   "metadata": {},
   "source": [
    "What is Groupby Function In Pandas.\n",
    "  Group is used for grouping the data according to the categories and applying a function to the categories.\n",
    "  It also helps to aggregate data efficiently.\n",
    "  The pandas group by is a very powerful function with a lot of variations.\n",
    "  It makes the task of splitting the data frame over some criteria really easy and efficient.\n",
    " Syntax :\n",
    "  DataFrame.group(by=None,Axis=0,level=None,as_index=True,sort=True,Group_keys=True,**kwargs).\n",
    "      by--> Mapping,function,str on iterable.\n",
    "      Axis--> int, default 0.\n",
    "      level--> If the axis is a multi_index(hierachical),group by a particular level or labels.\n",
    "      as_index--> For aggergate output,return object with labels as the index.\n",
    "      sort--> Sort group keys.\n",
    "      Group_keys--> When calling apply,add group keys to index to indetify the pieces.\n",
    "      Return--> GroupBy Object.\n",
    "\n",
    "Explain with example.\n",
    "df.groupby('genre')"
   ]
  },
  {
   "cell_type": "code",
   "execution_count": 46,
   "id": "aaedcdc7",
   "metadata": {},
   "outputs": [
    {
     "name": "stdout",
     "output_type": "stream",
     "text": [
      "    A   B\n",
      "0  15  10\n",
      "1  15  20\n",
      "2  17  30\n",
      "3  19  40\n",
      "4  16  50\n"
     ]
    },
    {
     "data": {
      "text/html": [
       "<div>\n",
       "<style scoped>\n",
       "    .dataframe tbody tr th:only-of-type {\n",
       "        vertical-align: middle;\n",
       "    }\n",
       "\n",
       "    .dataframe tbody tr th {\n",
       "        vertical-align: top;\n",
       "    }\n",
       "\n",
       "    .dataframe thead th {\n",
       "        text-align: right;\n",
       "    }\n",
       "</style>\n",
       "<table border=\"1\" class=\"dataframe\">\n",
       "  <thead>\n",
       "    <tr style=\"text-align: right;\">\n",
       "      <th></th>\n",
       "      <th>a</th>\n",
       "      <th>b</th>\n",
       "    </tr>\n",
       "  </thead>\n",
       "  <tbody>\n",
       "    <tr>\n",
       "      <th>0</th>\n",
       "      <td>15</td>\n",
       "      <td>10</td>\n",
       "    </tr>\n",
       "    <tr>\n",
       "      <th>1</th>\n",
       "      <td>15</td>\n",
       "      <td>20</td>\n",
       "    </tr>\n",
       "    <tr>\n",
       "      <th>2</th>\n",
       "      <td>17</td>\n",
       "      <td>30</td>\n",
       "    </tr>\n",
       "    <tr>\n",
       "      <th>3</th>\n",
       "      <td>19</td>\n",
       "      <td>40</td>\n",
       "    </tr>\n",
       "    <tr>\n",
       "      <th>4</th>\n",
       "      <td>16</td>\n",
       "      <td>50</td>\n",
       "    </tr>\n",
       "  </tbody>\n",
       "</table>\n",
       "</div>"
      ],
      "text/plain": [
       "    a   b\n",
       "0  15  10\n",
       "1  15  20\n",
       "2  17  30\n",
       "3  19  40\n",
       "4  16  50"
      ]
     },
     "execution_count": 46,
     "metadata": {},
     "output_type": "execute_result"
    }
   ],
   "source": [
    "#3.What Method Will You Use To Rename The Index Or Columns Of Pandas Dataframe.\n",
    "df=pd.DataFrame({'A':np.random.randint(10,20,5),'B':[10,20,30,40,50]})\n",
    "print(df)\n",
    "\n",
    "df.rename({'A':'a','B':'b'},axis=1,inplace=True)\n",
    "df"
   ]
  },
  {
   "cell_type": "markdown",
   "id": "f7688357",
   "metadata": {},
   "source": [
    "# Machine Learning"
   ]
  },
  {
   "cell_type": "raw",
   "id": "2314b54f",
   "metadata": {},
   "source": [
    "Explain the significance of the sigmoid function.\n",
    "\n",
    "The sigmoid function is a mathematical function that has a characteristic S-shaped curve. \n",
    "It is widely used in the field of machine learning and artificial neural networks, particularly \n",
    "in binary classification tasks. The sigmoid function is defined as:\n",
    "f(x) = 1 / (1 + e^-x)\n",
    "where e is the mathematical constant, and x is the input to the function.\n",
    "The sigmoid function has several significant properties, which make it useful in the field of machine learning, \n",
    "some of these properties are:\n",
    "Range between 0 and 1: The sigmoid function maps any input to the range of 0 to 1. \n",
    "This property is useful in binary classification problems, where we need to classify input into one of two classes.\n",
    "The output of the sigmoid function can be interpreted as the probability of the input belonging to the positive class.\n",
    "Continuously differentiable: The sigmoid function is continuously differentiable, which makes \n",
    "it easy to calculate the gradient of the function. This property is essential in the field of machine learning, \n",
    "particularly in gradient descent optimization techniques.\n",
    "\n",
    "Monotonic: The sigmoid function is monotonic, which means that the function is always increasing or \n",
    "           always decreasing. This property is useful in neural networks because it ensures that \n",
    "           the output of a neuron always changes in the same direction as its input.\n",
    "\n",
    "Non-linear: The sigmoid function is a non-linear function, which means that it can model complex relationships \n",
    "            between inputs and outputs. This property is essential in neural networks because it allows \n",
    "            the network to learn non-linear relationships between the input and output.\n",
    "\n",
    "In summary, the sigmoid function is a fundamental function used in many machine learning algorithms.\n",
    "It is useful because it maps inputs to a range between 0 and 1, is continuously differentiable, monotonic, \n",
    "and non-linear, which allows it to model complex relationships between inputs and outputs."
   ]
  }
 ],
 "metadata": {
  "kernelspec": {
   "display_name": "Python 3 (ipykernel)",
   "language": "python",
   "name": "python3"
  },
  "language_info": {
   "codemirror_mode": {
    "name": "ipython",
    "version": 3
   },
   "file_extension": ".py",
   "mimetype": "text/x-python",
   "name": "python",
   "nbconvert_exporter": "python",
   "pygments_lexer": "ipython3",
   "version": "3.10.9"
  }
 },
 "nbformat": 4,
 "nbformat_minor": 5
}
