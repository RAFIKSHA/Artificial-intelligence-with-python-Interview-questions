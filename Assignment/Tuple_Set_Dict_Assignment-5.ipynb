{
 "cells": [
  {
   "cell_type": "markdown",
   "id": "41d526cd",
   "metadata": {},
   "source": [
    "1.What is a Tuple?\n",
    "It is data type in python.\n",
    "It is used to store sequence.\n",
    "It is immutable in nature.\n",
    "Round brackets '()' are used to store tuple collection.\n",
    "Comma sepearted values.\n",
    "Tuple also support indexing.\n",
    "Tuple are faster than list."
   ]
  },
  {
   "cell_type": "markdown",
   "id": "4bfff567",
   "metadata": {},
   "source": [
    "2.What is the difference between List and Tuple?\n",
    "Tuple :\n",
    "1.Tuple is immutable.\n",
    "2.Round brackets '()' are used to store tuple collection and Comma sepearted values.\n",
    "3.Tuple are faster than list.\n",
    "4.It is not uesd add().\n",
    "5.It is not used delete().\n",
    "6.We can use Sorted().\n",
    "7.It is less memory Requried.\n",
    "8.It is ordered.\n",
    "9.It is Hetergenous.\n",
    "10.Duplicates are allowed.\n",
    "\n",
    "List :\n",
    "1.list is mutable.\n",
    "2.Square brackets '[]' and Comma sepearted values.\n",
    "3.list are faster than Tuple.\n",
    "4.It is uesd add() i.e append,insert.\n",
    "5.It is used delete() i.e pop,remove,sort.\n",
    "6.We can use Sort().\n",
    "7.It is more memory Requried.\n",
    "8.It is ordered.\n",
    "9.It is Hetergenous.\n",
    "10.Duplicates are allowed.\n"
   ]
  },
  {
   "cell_type": "code",
   "execution_count": 4,
   "id": "d4aa2162",
   "metadata": {},
   "outputs": [
    {
     "data": {
      "text/plain": [
       "[51, 36, 34, 9, 5, 2]"
      ]
     },
     "execution_count": 4,
     "metadata": {},
     "output_type": "execute_result"
    }
   ],
   "source": [
    "#3.How to sort a tuple?\n",
    "a=(34,5,2,36,51,9)\n",
    "a1=sorted(a,reverse=True)\n",
    "a1"
   ]
  },
  {
   "cell_type": "code",
   "execution_count": 23,
   "id": "5f186203",
   "metadata": {},
   "outputs": [
    {
     "data": {
      "text/plain": [
       "(1, 96)"
      ]
     },
     "execution_count": 23,
     "metadata": {},
     "output_type": "execute_result"
    }
   ],
   "source": [
    "#4.How to Find Min,Max in Tuple ?\n",
    "a=(4,5,41,30,96,1,55)\n",
    "#Min\n",
    "min(a),max(a)"
   ]
  },
  {
   "cell_type": "code",
   "execution_count": 24,
   "id": "fb8a3b2c",
   "metadata": {},
   "outputs": [
    {
     "name": "stdout",
     "output_type": "stream",
     "text": [
      "[(1, 'a'), (2, 'b'), (3, 'c'), (4, 'd')]\n"
     ]
    }
   ],
   "source": [
    "#5.How to Sort List Of Tuples By The First Element.\n",
    "List_of_tuples=[(1,'a'),(2,'b'),(3,'c'),(4,'d')]\n",
    "sorted_list=sorted(List_of_tuples, key=lambda x: x[0])\n",
    "print(sorted_list)"
   ]
  },
  {
   "cell_type": "code",
   "execution_count": 25,
   "id": "f681b1ce",
   "metadata": {},
   "outputs": [
    {
     "name": "stdout",
     "output_type": "stream",
     "text": [
      "[(1, 'a'), (2, 'b'), (3, 'c'), (4, 'd')]\n"
     ]
    }
   ],
   "source": [
    "#6.How to Sort List Of Tuples By Second Element.\n",
    "List_of_tuples=[(1,'a'),(2,'b'),(3,'c'),(4,'d')]\n",
    "sorted_list=sorted(List_of_tuples, key=lambda x: x[1])\n",
    "print(sorted_list)"
   ]
  },
  {
   "cell_type": "code",
   "execution_count": 27,
   "id": "ac2c99ef",
   "metadata": {},
   "outputs": [
    {
     "name": "stdout",
     "output_type": "stream",
     "text": [
      "[(1, 'a'), (2, 'b'), (3, 'c'), (4, 'd')]\n"
     ]
    }
   ],
   "source": [
    "#7.How to remove duplicate from list of tuples.\n",
    "List_of_tuples=[(1,'a'),(2,'b'),(3,'c'),(4,'d'),(1,'a')]\n",
    "unique_list=[]\n",
    "for i in List_of_tuples:\n",
    "    if i not in unique_list:\n",
    "        unique_list.append(i)\n",
    "print(unique_list)"
   ]
  },
  {
   "cell_type": "markdown",
   "id": "6fedb426",
   "metadata": {},
   "source": [
    "8.What is Set ? How to create Set in Python ?\n",
    "Set :\n",
    "It is datatype in python.\n",
    "It is mutable in nature.\n",
    "If we want to store gruop of unique values as a single entities then we should go for set.\n",
    "Duplicates are not allowed.\n",
    "Inerstion order is not perserved.\n",
    "Set is created by '{}' and elements are comma seperated."
   ]
  },
  {
   "cell_type": "code",
   "execution_count": 13,
   "id": "7392e882",
   "metadata": {},
   "outputs": [
    {
     "data": {
      "text/plain": [
       "{1, 2, 3, 4, 5, 6, 'reshma'}"
      ]
     },
     "execution_count": 13,
     "metadata": {},
     "output_type": "execute_result"
    }
   ],
   "source": [
    "a={'reshma',1,2,3,4,5,6,}\n",
    "a"
   ]
  },
  {
   "cell_type": "code",
   "execution_count": 17,
   "id": "9d624068",
   "metadata": {},
   "outputs": [
    {
     "data": {
      "text/plain": [
       "{1, 2, 3, 4, 5, 7, 8, 9}"
      ]
     },
     "execution_count": 17,
     "metadata": {},
     "output_type": "execute_result"
    }
   ],
   "source": [
    "#9.How to join two or more sets in Python?\n",
    "a={1,2,3,4,5}\n",
    "b={7,8,9,3,4}\n",
    "a.union(b)"
   ]
  },
  {
   "cell_type": "code",
   "execution_count": 19,
   "id": "a9f5bec3",
   "metadata": {},
   "outputs": [
    {
     "data": {
      "text/plain": [
       "dict_keys(['Name', 'class', 'Marks', 'Branch'])"
      ]
     },
     "execution_count": 19,
     "metadata": {},
     "output_type": "execute_result"
    }
   ],
   "source": [
    "#10.Python program to sort Python Dictionaries by Keys.\n",
    "dict1={'Name':'Reshma','class':'B.Tech','Marks':'Pass','Branch':'CSE'}\n",
    "dict1.keys()"
   ]
  },
  {
   "cell_type": "code",
   "execution_count": 21,
   "id": "4ea8db05",
   "metadata": {},
   "outputs": [
    {
     "data": {
      "text/plain": [
       "dict_values(['Reshma', 'B.Tech', 'Pass', 'CSE'])"
      ]
     },
     "execution_count": 21,
     "metadata": {},
     "output_type": "execute_result"
    }
   ],
   "source": [
    "#11.Python program to sort Python Dictionaries by Values.\n",
    "dict1={'Name':'Reshma','class':'B.Tech','Marks':'Pass','Branch':'CSE'}\n",
    "dict1.values()"
   ]
  },
  {
   "cell_type": "code",
   "execution_count": 55,
   "id": "432105d9",
   "metadata": {},
   "outputs": [
    {
     "data": {
      "text/plain": [
       "{'a': 10, 'b': 20, 'c': 30, 'd': 40}"
      ]
     },
     "execution_count": 55,
     "metadata": {},
     "output_type": "execute_result"
    }
   ],
   "source": [
    "#12.Python program to find the sum of all items in a dictionary.\n",
    "dict1={'a':10,'b':20,'c':30,'d':40}\n",
    "dict1"
   ]
  },
  {
   "cell_type": "code",
   "execution_count": 38,
   "id": "91404985",
   "metadata": {},
   "outputs": [
    {
     "data": {
      "text/plain": [
       "{'Name': 'Reshma', 'Class': 'B.Tech', 'Branch': 'CSE'}"
      ]
     },
     "execution_count": 38,
     "metadata": {},
     "output_type": "execute_result"
    }
   ],
   "source": [
    "#13.Python program to remove a key from a dictionary.\n",
    "dict1={'Name':'Reshma','Class':'B.Tech','Marks':'Pass','Branch':'CSE'}\n",
    "dict1.pop('Marks')\n",
    "dict1"
   ]
  },
  {
   "cell_type": "code",
   "execution_count": 41,
   "id": "75dac469",
   "metadata": {},
   "outputs": [
    {
     "name": "stdout",
     "output_type": "stream",
     "text": [
      "{'Name': 'Reshma', 'Class': 'B.Tech', 'Marks': 'Pass', 'Branch': 'CSE', 'a': 10, 'b': 20, 'c': 30, 'd': 40}\n"
     ]
    }
   ],
   "source": [
    "#14.Python program to merge two Dictionaries.\n",
    "dict1={'Name':'Reshma','Class':'B.Tech','Marks':'Pass','Branch':'CSE'}\n",
    "dict2={'a':10,'b':20,'c':30,'d':40}\n",
    "a=dict1 | dict2\n",
    "print(a)"
   ]
  },
  {
   "cell_type": "code",
   "execution_count": 30,
   "id": "deaad75d",
   "metadata": {},
   "outputs": [
    {
     "name": "stdout",
     "output_type": "stream",
     "text": [
      "{'Resmha': 1, 'Ravi': 1, 'Raj': 2, 'Rohit': 1}\n"
     ]
    }
   ],
   "source": [
    "#15.Counting the frequencis in a list using a dictionary in Python.\n",
    "l=['Resmha','Ravi','Raj','Rohit','Raj']\n",
    "dict={}\n",
    "for i in l:\n",
    "    if i in dict:\n",
    "        dict[i] += 1\n",
    "    else:\n",
    "        dict[i] = 1\n",
    "print(dict)"
   ]
  },
  {
   "cell_type": "code",
   "execution_count": 48,
   "id": "ea679861",
   "metadata": {},
   "outputs": [
    {
     "name": "stdout",
     "output_type": "stream",
     "text": [
      "{'a': 10, 'b': 20, 'c': 30, 'd': 40}\n"
     ]
    }
   ],
   "source": [
    "#16.Python program to convert a list of Tuples into Dictionary.\n",
    "[('a',10),('b',20),('c',30),('d',40)]\n",
    "print(dict([('a',10),('b',20),('c',30),('d',40)]))"
   ]
  },
  {
   "cell_type": "code",
   "execution_count": 32,
   "id": "bf2951ab",
   "metadata": {},
   "outputs": [
    {
     "name": "stdout",
     "output_type": "stream",
     "text": [
      "[(1, 1), (2, 8), (3, 27), (4, 64), (5, 125), (6, 216)]\n"
     ]
    }
   ],
   "source": [
    "#17.Create a list of tuples from the given list having a number and its cube in each tuple.\n",
    "l=[1,2,3,4,5,6]\n",
    "Cube=[(n,n**3) for n in l]\n",
    "print(Cube)"
   ]
  },
  {
   "cell_type": "code",
   "execution_count": 33,
   "id": "ba89b5fe",
   "metadata": {},
   "outputs": [
    {
     "name": "stdout",
     "output_type": "stream",
     "text": [
      "[('a', 10), ('b', 20), ('c', 30), ('d', 40)]\n"
     ]
    }
   ],
   "source": [
    "#18.Sort a list of tuples by the second item.\n",
    "l=[('a',10),('b',20),('c',30),('d',40)]\n",
    "sorted_list=sorted(l,key=lambda x: x[1])\n",
    "print(sorted_list)"
   ]
  },
  {
   "cell_type": "code",
   "execution_count": 7,
   "id": "946423bd",
   "metadata": {},
   "outputs": [
    {
     "name": "stdout",
     "output_type": "stream",
     "text": [
      "{1, 2, 3, 4, 5}\n"
     ]
    },
    {
     "data": {
      "text/plain": [
       "set"
      ]
     },
     "execution_count": 7,
     "metadata": {},
     "output_type": "execute_result"
    }
   ],
   "source": [
    "#19.Write a Python program to create a set.\n",
    "a={1,2,3,4,5}\n",
    "print(a)\n",
    "type(a)"
   ]
  },
  {
   "cell_type": "code",
   "execution_count": 34,
   "id": "6ec280f6",
   "metadata": {},
   "outputs": [
    {
     "name": "stdout",
     "output_type": "stream",
     "text": [
      "1\n",
      "2\n",
      "3\n",
      "4\n",
      "5\n"
     ]
    }
   ],
   "source": [
    "#20.Write a Python program to iteration over sets.\n",
    "a={1, 2, 3, 4, 5}\n",
    "for i in a:\n",
    "    print(i)"
   ]
  },
  {
   "cell_type": "code",
   "execution_count": 4,
   "id": "7b219e4f",
   "metadata": {},
   "outputs": [
    {
     "data": {
      "text/plain": [
       "{1, 2, 3, 4, 5}"
      ]
     },
     "execution_count": 4,
     "metadata": {},
     "output_type": "execute_result"
    }
   ],
   "source": [
    "#21.Write a Python program to add member(s) in a set.\n",
    "a={1,2,3,4}\n",
    "a.add(5)\n",
    "a"
   ]
  },
  {
   "cell_type": "code",
   "execution_count": 3,
   "id": "2c4ce3fe",
   "metadata": {},
   "outputs": [
    {
     "data": {
      "text/plain": [
       "{1, 2, 3, 4, 6, 7}"
      ]
     },
     "execution_count": 3,
     "metadata": {},
     "output_type": "execute_result"
    }
   ],
   "source": [
    "#22.Write a Python program to remove item(s) from a given set.\n",
    "a={1,2,3,4,5,6,7}\n",
    "a.remove(5)\n",
    "a"
   ]
  },
  {
   "cell_type": "code",
   "execution_count": 35,
   "id": "f09f191c",
   "metadata": {},
   "outputs": [
    {
     "name": "stdout",
     "output_type": "stream",
     "text": [
      "{1, 2, 4, 5}\n"
     ]
    }
   ],
   "source": [
    "#23.Write a Python program to remove an item from a set if it is present in the set.\n",
    "a={1, 2, 3, 4, 5}\n",
    "if 3 in a:\n",
    "    a.discard(3)\n",
    "print(a)"
   ]
  },
  {
   "cell_type": "code",
   "execution_count": 2,
   "id": "8d53bed6",
   "metadata": {},
   "outputs": [
    {
     "data": {
      "text/plain": [
       "{3, 4}"
      ]
     },
     "execution_count": 2,
     "metadata": {},
     "output_type": "execute_result"
    }
   ],
   "source": [
    "#24.Write a Python program to create an intersection of sets.\n",
    "a={1,2,3,4,5}\n",
    "b={7,8,9,3,4}\n",
    "a.intersection(b)"
   ]
  },
  {
   "cell_type": "code",
   "execution_count": 8,
   "id": "7dc3c11b",
   "metadata": {},
   "outputs": [
    {
     "data": {
      "text/plain": [
       "{1, 2, 3, 4, 5, 7, 8, 9}"
      ]
     },
     "execution_count": 8,
     "metadata": {},
     "output_type": "execute_result"
    }
   ],
   "source": [
    "#25.Write a Python program to create a union of sets.\n",
    "a={1,2,3,4,5}\n",
    "b={7,8,9,3,4}\n",
    "a.union(b)"
   ]
  },
  {
   "cell_type": "code",
   "execution_count": 9,
   "id": "d91bae4e",
   "metadata": {},
   "outputs": [
    {
     "data": {
      "text/plain": [
       "{1, 2, 5}"
      ]
     },
     "execution_count": 9,
     "metadata": {},
     "output_type": "execute_result"
    }
   ],
   "source": [
    "#26.Write a Python program to create set difference.\n",
    "a={1,2,3,4,5}\n",
    "b={7,8,9,3,4}\n",
    "a.difference(b)"
   ]
  },
  {
   "cell_type": "code",
   "execution_count": 11,
   "id": "d2ec1b38",
   "metadata": {},
   "outputs": [
    {
     "data": {
      "text/plain": [
       "{1, 2, 5, 7, 8, 9}"
      ]
     },
     "execution_count": 11,
     "metadata": {},
     "output_type": "execute_result"
    }
   ],
   "source": [
    "#27.Write a Python program to create a symmetric difference.\n",
    "a={1,2,3,4,5}\n",
    "b={7,8,9,3,4}\n",
    "a.symmetric_difference(b)"
   ]
  },
  {
   "cell_type": "code",
   "execution_count": 12,
   "id": "6e763c63",
   "metadata": {},
   "outputs": [
    {
     "data": {
      "text/plain": [
       "set()"
      ]
     },
     "execution_count": 12,
     "metadata": {},
     "output_type": "execute_result"
    }
   ],
   "source": [
    "#28.Write a Python program to check if a set is a subset of another set.\n",
    "a={1,2,3,4,5,6,7}\n",
    "a.clear()\n",
    "a"
   ]
  },
  {
   "cell_type": "code",
   "execution_count": 13,
   "id": "b497f2ef",
   "metadata": {},
   "outputs": [
    {
     "data": {
      "text/plain": [
       "(1, 343)"
      ]
     },
     "execution_count": 13,
     "metadata": {},
     "output_type": "execute_result"
    }
   ],
   "source": [
    "#29.Write a Python program to find maximum and the minimum value in a set.\n",
    "a={1,2,343,54,3}\n",
    "min(a),max(a)"
   ]
  },
  {
   "cell_type": "code",
   "execution_count": 14,
   "id": "bf1c390c",
   "metadata": {},
   "outputs": [
    {
     "data": {
      "text/plain": [
       "7"
      ]
     },
     "execution_count": 14,
     "metadata": {},
     "output_type": "execute_result"
    }
   ],
   "source": [
    "#30.Write a Python program to find the length of a set.\n",
    "a={1,2,3,4,5,6,7}\n",
    "len(a)"
   ]
  },
  {
   "cell_type": "code",
   "execution_count": 3,
   "id": "a421da6e",
   "metadata": {},
   "outputs": [
    {
     "name": "stdout",
     "output_type": "stream",
     "text": [
      "Not present\n"
     ]
    }
   ],
   "source": [
    "#31.Write a Python program to check if a given value is present in a set or not.\n",
    "a={1,2,20,3,455,31}\n",
    "i=45\n",
    "if i in a:\n",
    "    print('Present')\n",
    "else:\n",
    "    print('Not present')"
   ]
  },
  {
   "cell_type": "code",
   "execution_count": 7,
   "id": "e90707a5",
   "metadata": {},
   "outputs": [
    {
     "name": "stdout",
     "output_type": "stream",
     "text": [
      "Common element\n"
     ]
    }
   ],
   "source": [
    "#32.Write a Python program to check if two given sets have no elements in common.\n",
    "a={1,2,3,4,5}\n",
    "b={1,2,5,6,7,8}\n",
    "if a.isdisjoint(b):\n",
    "    print('No common Element')\n",
    "else:\n",
    "    print('Common element')"
   ]
  },
  {
   "cell_type": "code",
   "execution_count": 9,
   "id": "bd5e986e",
   "metadata": {},
   "outputs": [
    {
     "name": "stdout",
     "output_type": "stream",
     "text": [
      "set b is superset\n"
     ]
    }
   ],
   "source": [
    "#33.Write a Python program to check if a given set is superset of itself and superset of another given set.\n",
    "a={1,2,3,4,5}\n",
    "b={1,2,5,6,7,8}\n",
    "if a.issuperset(b):\n",
    "    print('set a is superset')\n",
    "else:\n",
    "    print('set b is superset')"
   ]
  },
  {
   "cell_type": "code",
   "execution_count": 39,
   "id": "bee3138a",
   "metadata": {},
   "outputs": [
    {
     "name": "stdout",
     "output_type": "stream",
     "text": [
      "{3, 4}\n"
     ]
    }
   ],
   "source": [
    "#34.Write a Python program to find the elements in a given set that are not in another set.\n",
    "s1={1,2,3,4,5}\n",
    "s2={1,2,5,6,7}\n",
    "difference=s1-s2\n",
    "print(difference)"
   ]
  },
  {
   "cell_type": "code",
   "execution_count": 40,
   "id": "936287f4",
   "metadata": {},
   "outputs": [
    {
     "name": "stdout",
     "output_type": "stream",
     "text": [
      "{3, 4}\n"
     ]
    }
   ],
   "source": [
    "#35.Write a Python program to remove the intersection of a 2nd set from the 1st set.\n",
    "s1={1,2,3,4,5}\n",
    "s2={1,2,5,6,7}\n",
    "s1-=s1.intersection(s2)\n",
    "print(s1)"
   ]
  },
  {
   "cell_type": "code",
   "execution_count": 4,
   "id": "70029da0",
   "metadata": {},
   "outputs": [
    {
     "name": "stdout",
     "output_type": "stream",
     "text": [
      "(1, 2, 'reshma')\n",
      "<class 'tuple'>\n"
     ]
    }
   ],
   "source": [
    "#36.Write a Python program to create a tuple.\n",
    "a=(1,2,'reshma')\n",
    "print(a)\n",
    "print(type(a))"
   ]
  },
  {
   "cell_type": "code",
   "execution_count": 41,
   "id": "bf3c9ffe",
   "metadata": {},
   "outputs": [
    {
     "name": "stdout",
     "output_type": "stream",
     "text": [
      "('Reshma', 23.5, 42, True)\n"
     ]
    }
   ],
   "source": [
    "#37.Write a Python program to create a tuple with different data types.\n",
    "a= ('Reshma',23.5, 42, True)\n",
    "print(a)"
   ]
  },
  {
   "cell_type": "code",
   "execution_count": 21,
   "id": "25a59c7c",
   "metadata": {},
   "outputs": [
    {
     "name": "stdout",
     "output_type": "stream",
     "text": [
      "2\n"
     ]
    }
   ],
   "source": [
    "#38.Write a Python program to create a tuple with numbers and print one item.\n",
    "a=(1,2,3,4,5)\n",
    "print(a[1])"
   ]
  },
  {
   "cell_type": "code",
   "execution_count": 5,
   "id": "2472da29",
   "metadata": {},
   "outputs": [
    {
     "data": {
      "text/plain": [
       "(1, 2, 4, 5, 24, 53, 78)"
      ]
     },
     "execution_count": 5,
     "metadata": {},
     "output_type": "execute_result"
    }
   ],
   "source": [
    "#39.Write a Python program to unpack a tuple in several variables.\n",
    "a=1,2,4,5,24,53,78\n",
    "a"
   ]
  },
  {
   "cell_type": "code",
   "execution_count": 22,
   "id": "8df2dc25",
   "metadata": {},
   "outputs": [],
   "source": [
    "#40.Write a Python program to add an item in a tuple.\n",
    "Not Possible"
   ]
  },
  {
   "cell_type": "code",
   "execution_count": 42,
   "id": "9beed46b",
   "metadata": {},
   "outputs": [
    {
     "name": "stdout",
     "output_type": "stream",
     "text": [
      "Reshma, Ravi, Raj, Rohit\n"
     ]
    }
   ],
   "source": [
    "#41.Write a Python program to convert a tuple to a string.\n",
    "tuple=('Reshma','Ravi','Raj','Rohit')\n",
    "string=\", \".join(tuple)\n",
    "print(string)"
   ]
  },
  {
   "cell_type": "code",
   "execution_count": 43,
   "id": "29dcc53e",
   "metadata": {},
   "outputs": [
    {
     "name": "stdout",
     "output_type": "stream",
     "text": [
      "4\n",
      "7\n"
     ]
    }
   ],
   "source": [
    "#42.Write a Python program to get the 4th element and 4th element from last of a tuple.\n",
    "a=(1, 2, 3, 4, 5, 6, 7, 8, 9, 10)\n",
    "fourth_element=a[3]\n",
    "fourth_from_last_element=a[-4]\n",
    "print(fourth_element)\n",
    "print(fourth_from_last_element)"
   ]
  },
  {
   "cell_type": "code",
   "execution_count": 45,
   "id": "1786d220",
   "metadata": {},
   "outputs": [
    {
     "name": "stdout",
     "output_type": "stream",
     "text": [
      "(3, 4, 5, 6)\n"
     ]
    }
   ],
   "source": [
    "#43.Write a Python program to create the colon of a tuple.\n",
    "t=(1,2,3,4,5,6)\n",
    "c=t[2:6]\n",
    "print(c)"
   ]
  },
  {
   "cell_type": "code",
   "execution_count": 50,
   "id": "c8186e00",
   "metadata": {},
   "outputs": [
    {
     "name": "stdout",
     "output_type": "stream",
     "text": [
      "[1, 3, 4]\n"
     ]
    }
   ],
   "source": [
    "#44.Write a Python program to find the repeated items of a tuple.\n",
    "a=(1, 2, 3, 4, 5, 3 ,4 ,1, 6, 7)\n",
    "repeated=[]\n",
    "for i in a:\n",
    "    if a.count(i) > 1 and i not in repeated:\n",
    "        repeated.append(i)\n",
    "print(repeated)"
   ]
  },
  {
   "cell_type": "code",
   "execution_count": 52,
   "id": "4720b5fc",
   "metadata": {},
   "outputs": [
    {
     "name": "stdout",
     "output_type": "stream",
     "text": [
      "exists in the tuple\n"
     ]
    }
   ],
   "source": [
    "#45.Write a Python program to check whether an element exists within a tuple.\n",
    "a= (1, 2, 3, 4, 5)\n",
    "n= 3\n",
    "if n in a:\n",
    "    print('exists in the tuple')\n",
    "else:\n",
    "    print('does not exist in the tuple')"
   ]
  },
  {
   "cell_type": "code",
   "execution_count": 103,
   "id": "3ab113a5",
   "metadata": {},
   "outputs": [
    {
     "name": "stdout",
     "output_type": "stream",
     "text": [
      "[5, 10, 7, 4, 15, 3]\n"
     ]
    },
    {
     "ename": "TypeError",
     "evalue": "'tuple' object is not callable",
     "output_type": "error",
     "traceback": [
      "\u001b[1;31m---------------------------------------------------------------------------\u001b[0m",
      "\u001b[1;31mTypeError\u001b[0m                                 Traceback (most recent call last)",
      "Cell \u001b[1;32mIn[103], line 5\u001b[0m\n\u001b[0;32m      3\u001b[0m listx \u001b[38;5;241m=\u001b[39m [\u001b[38;5;241m5\u001b[39m, \u001b[38;5;241m10\u001b[39m, \u001b[38;5;241m7\u001b[39m, \u001b[38;5;241m4\u001b[39m, \u001b[38;5;241m15\u001b[39m, \u001b[38;5;241m3\u001b[39m]\n\u001b[0;32m      4\u001b[0m \u001b[38;5;28mprint\u001b[39m(listx)\n\u001b[1;32m----> 5\u001b[0m tuplex \u001b[38;5;241m=\u001b[39m \u001b[38;5;28;43mtuple\u001b[39;49m\u001b[43m(\u001b[49m\u001b[43mlistx\u001b[49m\u001b[43m)\u001b[49m\n\u001b[0;32m      6\u001b[0m \u001b[38;5;28mprint\u001b[39m(tuplex)\n",
      "\u001b[1;31mTypeError\u001b[0m: 'tuple' object is not callable"
     ]
    }
   ],
   "source": [
    "#46.Write a Python program to convert a list to a tuple.\n",
    "\n",
    "listx = [5, 10, 7, 4, 15, 3]\n",
    "print(listx)\n",
    "tuplex = tuple(listx)\n",
    "print(tuplex)"
   ]
  },
  {
   "cell_type": "code",
   "execution_count": 101,
   "id": "aeb4ede9",
   "metadata": {},
   "outputs": [
    {
     "name": "stdout",
     "output_type": "stream",
     "text": [
      "('w', 3, 'r', 's', 'o', 'u', 'r', 'c', 'e')\n",
      "('w', 3, 's', 'o', 'u', 'r', 'c', 'e')\n"
     ]
    },
    {
     "ename": "TypeError",
     "evalue": "'list' object is not callable",
     "output_type": "error",
     "traceback": [
      "\u001b[1;31m---------------------------------------------------------------------------\u001b[0m",
      "\u001b[1;31mTypeError\u001b[0m                                 Traceback (most recent call last)",
      "Cell \u001b[1;32mIn[101], line 7\u001b[0m\n\u001b[0;32m      5\u001b[0m tuplex \u001b[38;5;241m=\u001b[39m tuplex[:\u001b[38;5;241m2\u001b[39m] \u001b[38;5;241m+\u001b[39m tuplex[\u001b[38;5;241m3\u001b[39m:]\n\u001b[0;32m      6\u001b[0m \u001b[38;5;28mprint\u001b[39m(tuplex)\n\u001b[1;32m----> 7\u001b[0m listx \u001b[38;5;241m=\u001b[39m \u001b[38;5;28;43mlist\u001b[39;49m\u001b[43m(\u001b[49m\u001b[43mtuplex\u001b[49m\u001b[43m)\u001b[49m \n\u001b[0;32m      8\u001b[0m listx\u001b[38;5;241m.\u001b[39mremove(\u001b[38;5;124m\"\u001b[39m\u001b[38;5;124mc\u001b[39m\u001b[38;5;124m\"\u001b[39m) \n\u001b[0;32m      9\u001b[0m tuplex \u001b[38;5;241m=\u001b[39m \u001b[38;5;28mtuple\u001b[39m(listx)\n",
      "\u001b[1;31mTypeError\u001b[0m: 'list' object is not callable"
     ]
    }
   ],
   "source": [
    "#45.Write a Python program to remove an item from a tuple.\n",
    "\n",
    "tuplex = \"w\", 3, \"r\", \"s\", \"o\", \"u\", \"r\", \"c\", \"e\"\n",
    "print(tuplex)\n",
    "tuplex = tuplex[:2] + tuplex[3:]\n",
    "print(tuplex)\n",
    "listx = list(tuplex) \n",
    "listx.remove(\"c\") \n",
    "tuplex = tuple(listx)\n",
    "print(tuplex)"
   ]
  },
  {
   "cell_type": "code",
   "execution_count": 10,
   "id": "1f3ba204",
   "metadata": {},
   "outputs": [
    {
     "data": {
      "text/plain": [
       "6"
      ]
     },
     "execution_count": 10,
     "metadata": {},
     "output_type": "execute_result"
    }
   ],
   "source": [
    "#47.Write a Python program to slice a tuple.\n",
    "a=[2,3,4,5,6]\n",
    "a[-1]"
   ]
  },
  {
   "cell_type": "code",
   "execution_count": 11,
   "id": "286274fa",
   "metadata": {},
   "outputs": [
    {
     "data": {
      "text/plain": [
       "3"
      ]
     },
     "execution_count": 11,
     "metadata": {},
     "output_type": "execute_result"
    }
   ],
   "source": [
    "#48.Write a Python program to find the index of an item of a tuple.\n",
    "a=[2,3,4,5,6] \n",
    "a.index(5)"
   ]
  },
  {
   "cell_type": "code",
   "execution_count": 14,
   "id": "ca284669",
   "metadata": {},
   "outputs": [
    {
     "data": {
      "text/plain": [
       "9"
      ]
     },
     "execution_count": 14,
     "metadata": {},
     "output_type": "execute_result"
    }
   ],
   "source": [
    "#49.Write a Python program to find the length of a tuple.\n",
    "a=[1,2,3,4,5,6,7,8,9]\n",
    "len(a)"
   ]
  },
  {
   "cell_type": "code",
   "execution_count": 73,
   "id": "070f379b",
   "metadata": {},
   "outputs": [
    {
     "name": "stdout",
     "output_type": "stream",
     "text": [
      "{'a': 1, 'b': 2, 'c': 3}\n"
     ]
    }
   ],
   "source": [
    "#50.Write a Python program to convert a tuple to a dictionary.\n",
    "t = ((\"a\", 1), (\"b\", 2), (\"c\", 3)) \n",
    "dict1 = {k: v for k, v in t} \n",
    "print(dict1) "
   ]
  },
  {
   "cell_type": "code",
   "execution_count": 74,
   "id": "f18f7a5e",
   "metadata": {},
   "outputs": [
    {
     "name": "stdout",
     "output_type": "stream",
     "text": [
      "(1, 2, 3)\n",
      "('a', 'b', 'c')\n"
     ]
    }
   ],
   "source": [
    "#51.Write a Python program to unzip a list of tuples into individual lists.\n",
    "l = [(1, \"a\"), (2, \"b\"), (3, \"c\")] \n",
    "numbers, letters = zip(*l) \n",
    "print(numbers)     \n",
    "print(letters)  "
   ]
  },
  {
   "cell_type": "code",
   "execution_count": 19,
   "id": "fe4236d1",
   "metadata": {},
   "outputs": [
    {
     "name": "stdout",
     "output_type": "stream",
     "text": [
      "(5, 4, 3, 2, 1)\n"
     ]
    }
   ],
   "source": [
    "#52.Write a Python program to reverse a tuple.\n",
    "a=[1,2,3,4,5]\n",
    "a.reverse()\n",
    "b=reversed(a)\n",
    "print(tuple(a))"
   ]
  },
  {
   "cell_type": "code",
   "execution_count": 100,
   "id": "d3c54346",
   "metadata": {},
   "outputs": [
    {
     "name": "stdout",
     "output_type": "stream",
     "text": [
      "{'Reshma': [10], 'Raj': [12], 'Rohit': [14], 'Akshay': [20], 'Ravi': [25], 'Lavu': [30]}\n"
     ]
    }
   ],
   "source": [
    "#53.Write a Python program to convert a list of tuples into a dictionary.\n",
    "\n",
    "def Convert(tup, di):\n",
    "\tfor a, b in tup:\n",
    "\t\tdi.setdefault(a, []).append(b)\n",
    "\treturn di\n",
    "tups = [(\"Reshma\", 10), (\"Raj\", 12), (\"Rohit\", 14),\n",
    "\t\t(\"Akshay\", 20), (\"Ravi\", 25), (\"Lavu\", 30)]\n",
    "dictionary = {}\n",
    "print(Convert(tups, dictionary))\n"
   ]
  },
  {
   "cell_type": "code",
   "execution_count": 77,
   "id": "923c70bc",
   "metadata": {},
   "outputs": [
    {
     "name": "stdout",
     "output_type": "stream",
     "text": [
      "This is a tuple (100, 200, 300)\n"
     ]
    }
   ],
   "source": [
    "#54.Write a Python program to print a tuple with string Formatting.\n",
    "#Sample tuple : (100, 200, 300)\n",
    "#Output : This is a tuple (100, 200, 300)\n",
    "\n",
    "my_tuple = (100, 200, 300) \n",
    "print(\"This is a tuple (100, 200, 300)\") \n"
   ]
  },
  {
   "cell_type": "code",
   "execution_count": 79,
   "id": "eddff5f4",
   "metadata": {},
   "outputs": [
    {
     "name": "stdout",
     "output_type": "stream",
     "text": [
      "[(10, 20, 100), (40, 50, 100), (70, 80, 100)]\n"
     ]
    }
   ],
   "source": [
    "#55.Write a Python program to replace last value of tuples in a list.\n",
    "#Sample list: [(10, 20, 40), (40, 50, 60), (70, 80, 90)]\n",
    "#Expected Output: [(10, 20, 100), (40, 50, 100), (70, 80, 100)]\n",
    "\n",
    "list1 = [(10, 20, 40), (40, 50, 60), (70, 80, 90)] \n",
    "list2 = [] \n",
    "for i in list1: \n",
    "    tuple1 = i[:-1] + (100,) \n",
    "    list2.append(tuple1)\n",
    "print(list2) "
   ]
  },
  {
   "cell_type": "code",
   "execution_count": 80,
   "id": "8a5e06fc",
   "metadata": {},
   "outputs": [
    {
     "name": "stdout",
     "output_type": "stream",
     "text": [
      "[('item3', '24.5'), ('item2', '15.10'), ('item1', '12.20')]\n"
     ]
    }
   ],
   "source": [
    "#56.Write a Python program to sort a tuple by its float element.\n",
    "#Sample data: [('item1', '12.20'), ('item2', '15.10'), ('item3', '24.5')]\n",
    "#Expected Output: [('item3', '24.5'), ('item2', '15.10'), ('item1', '12.20')]\n",
    "\n",
    "a = [('item1', '12.20'), ('item2', '15.10'), ('item3', '24.5')]\n",
    "sorted_tuple = sorted(a, key=lambda x: float(x[1]), reverse=True)\n",
    "print(sorted_tuple) "
   ]
  },
  {
   "cell_type": "code",
   "execution_count": 98,
   "id": "0a2d2085",
   "metadata": {},
   "outputs": [
    {
     "name": "stdout",
     "output_type": "stream",
     "text": [
      "Original string:\n",
      "python 3.0\n",
      "<class 'str'>\n",
      "Convert the said string to a tuple:\n"
     ]
    },
    {
     "ename": "TypeError",
     "evalue": "'tuple' object is not callable",
     "output_type": "error",
     "traceback": [
      "\u001b[1;31m---------------------------------------------------------------------------\u001b[0m",
      "\u001b[1;31mTypeError\u001b[0m                                 Traceback (most recent call last)",
      "Cell \u001b[1;32mIn[98], line 11\u001b[0m\n\u001b[0;32m      9\u001b[0m \u001b[38;5;28mprint\u001b[39m(\u001b[38;5;28mtype\u001b[39m(str1))\n\u001b[0;32m     10\u001b[0m \u001b[38;5;28mprint\u001b[39m(\u001b[38;5;124m\"\u001b[39m\u001b[38;5;124mConvert the said string to a tuple:\u001b[39m\u001b[38;5;124m\"\u001b[39m) \n\u001b[1;32m---> 11\u001b[0m \u001b[38;5;28mprint\u001b[39m(\u001b[43mstring_list_to_tuple\u001b[49m\u001b[43m(\u001b[49m\u001b[43mstr1\u001b[49m\u001b[43m)\u001b[49m)\n\u001b[0;32m     12\u001b[0m \u001b[38;5;28mprint\u001b[39m(\u001b[38;5;28mtype\u001b[39m(string_list_to_tuple(str1)))\n",
      "Cell \u001b[1;32mIn[98], line 4\u001b[0m, in \u001b[0;36mstring_list_to_tuple\u001b[1;34m(str1)\u001b[0m\n\u001b[0;32m      3\u001b[0m \u001b[38;5;28;01mdef\u001b[39;00m \u001b[38;5;21mstring_list_to_tuple\u001b[39m(str1):\n\u001b[1;32m----> 4\u001b[0m     result \u001b[38;5;241m=\u001b[39m \u001b[38;5;28;43mtuple\u001b[39;49m\u001b[43m(\u001b[49m\u001b[43mx\u001b[49m\u001b[43m \u001b[49m\u001b[38;5;28;43;01mfor\u001b[39;49;00m\u001b[43m \u001b[49m\u001b[43mx\u001b[49m\u001b[43m \u001b[49m\u001b[38;5;129;43;01min\u001b[39;49;00m\u001b[43m \u001b[49m\u001b[43mstr1\u001b[49m\u001b[43m \u001b[49m\u001b[38;5;28;43;01mif\u001b[39;49;00m\u001b[43m \u001b[49m\u001b[38;5;129;43;01mnot\u001b[39;49;00m\u001b[43m \u001b[49m\u001b[43mx\u001b[49m\u001b[38;5;241;43m.\u001b[39;49m\u001b[43misspace\u001b[49m\u001b[43m(\u001b[49m\u001b[43m)\u001b[49m\u001b[43m)\u001b[49m \n\u001b[0;32m      5\u001b[0m     \u001b[38;5;28;01mreturn\u001b[39;00m result\n",
      "\u001b[1;31mTypeError\u001b[0m: 'tuple' object is not callable"
     ]
    }
   ],
   "source": [
    "#57.Write a Python program to count the elements in a list until an element is a tuple.\n",
    "\n",
    "def string_list_to_tuple(str1):\n",
    "    result = tuple(x for x in str1 if not x.isspace()) \n",
    "    return result\n",
    "str1 = \"python 3.0\"\n",
    "print(\"Original string:\")\n",
    "print(str1)\n",
    "print(type(str1))\n",
    "print(\"Convert the said string to a tuple:\") \n",
    "print(string_list_to_tuple(str1))\n",
    "print(type(string_list_to_tuple(str1)))"
   ]
  },
  {
   "cell_type": "code",
   "execution_count": 97,
   "id": "3a0aeb64",
   "metadata": {},
   "outputs": [
    {
     "name": "stdout",
     "output_type": "stream",
     "text": [
      "Original string:\n",
      "python 3.0\n",
      "<class 'str'>\n",
      "Convert the said string to a tuple:\n"
     ]
    },
    {
     "ename": "TypeError",
     "evalue": "'tuple' object is not callable",
     "output_type": "error",
     "traceback": [
      "\u001b[1;31m---------------------------------------------------------------------------\u001b[0m",
      "\u001b[1;31mTypeError\u001b[0m                                 Traceback (most recent call last)",
      "Cell \u001b[1;32mIn[97], line 16\u001b[0m\n\u001b[0;32m     14\u001b[0m \u001b[38;5;28mprint\u001b[39m(\u001b[38;5;28mtype\u001b[39m(str1))\n\u001b[0;32m     15\u001b[0m \u001b[38;5;28mprint\u001b[39m(\u001b[38;5;124m\"\u001b[39m\u001b[38;5;124mConvert the said string to a tuple:\u001b[39m\u001b[38;5;124m\"\u001b[39m) \n\u001b[1;32m---> 16\u001b[0m \u001b[38;5;28mprint\u001b[39m(\u001b[43mstring_list_to_tuple\u001b[49m\u001b[43m(\u001b[49m\u001b[43mstr1\u001b[49m\u001b[43m)\u001b[49m)\n\u001b[0;32m     17\u001b[0m \u001b[38;5;28mprint\u001b[39m(\u001b[38;5;28mtype\u001b[39m(string_list_to_tuple(str1)))\n",
      "Cell \u001b[1;32mIn[97], line 9\u001b[0m, in \u001b[0;36mstring_list_to_tuple\u001b[1;34m(str1)\u001b[0m\n\u001b[0;32m      8\u001b[0m \u001b[38;5;28;01mdef\u001b[39;00m \u001b[38;5;21mstring_list_to_tuple\u001b[39m(str1):\n\u001b[1;32m----> 9\u001b[0m     result \u001b[38;5;241m=\u001b[39m \u001b[38;5;28;43mtuple\u001b[39;49m\u001b[43m(\u001b[49m\u001b[43mx\u001b[49m\u001b[43m \u001b[49m\u001b[38;5;28;43;01mfor\u001b[39;49;00m\u001b[43m \u001b[49m\u001b[43mx\u001b[49m\u001b[43m \u001b[49m\u001b[38;5;129;43;01min\u001b[39;49;00m\u001b[43m \u001b[49m\u001b[43mstr1\u001b[49m\u001b[43m \u001b[49m\u001b[38;5;28;43;01mif\u001b[39;49;00m\u001b[43m \u001b[49m\u001b[38;5;129;43;01mnot\u001b[39;49;00m\u001b[43m \u001b[49m\u001b[43mx\u001b[49m\u001b[38;5;241;43m.\u001b[39;49m\u001b[43misspace\u001b[49m\u001b[43m(\u001b[49m\u001b[43m)\u001b[49m\u001b[43m)\u001b[49m \n\u001b[0;32m     10\u001b[0m     \u001b[38;5;28;01mreturn\u001b[39;00m result\n",
      "\u001b[1;31mTypeError\u001b[0m: 'tuple' object is not callable"
     ]
    }
   ],
   "source": [
    "#58.Write a Python program convert a given string list to a tuple.\n",
    "#Original string: python 3.0\n",
    "#<class 'str'>\n",
    "#Convert the said string to a tuple:\n",
    "#('p', 'y', 't', 'h', 'o', 'n', '3', '.', '0')\n",
    "#<class 'tuple'>\n",
    "\n",
    "def string_list_to_tuple(str1):\n",
    "    result = tuple(x for x in str1 if not x.isspace()) \n",
    "    return result\n",
    "str1 = \"python 3.0\"\n",
    "print(\"Original string:\")\n",
    "print(str1)\n",
    "print(type(str1))\n",
    "print(\"Convert the said string to a tuple:\") \n",
    "print(string_list_to_tuple(str1))\n",
    "print(type(string_list_to_tuple(str1)))"
   ]
  },
  {
   "cell_type": "code",
   "execution_count": 90,
   "id": "b404c3c2",
   "metadata": {},
   "outputs": [
    {
     "name": "stdout",
     "output_type": "stream",
     "text": [
      "Product - multiplying all the numbers of the said tuple: -864\n"
     ]
    }
   ],
   "source": [
    "#59.Write a Python program calculate the product, multiplying all the numbers of a given tuple.\n",
    "#Original Tuple:\n",
    "#(4, 3, 2, 2, -1, 18)\n",
    "#Product - multiplying all the numbers of the said tuple: -864\n",
    "#Original Tuple:\n",
    "#(2, 4, 8, 8, 3, 2, 9)\n",
    "#Product - multiplying all the numbers of the said tuple: 27648\n",
    "\n",
    "a = (4, 3, 2, 2, -1, 18) \n",
    "product = 1 \n",
    "for i in a: \n",
    "    product *= i\n",
    "print(\"Product - multiplying all the numbers of the said tuple:\", product) "
   ]
  },
  {
   "cell_type": "code",
   "execution_count": 93,
   "id": "d249bee4",
   "metadata": {},
   "outputs": [
    {
     "name": "stdout",
     "output_type": "stream",
     "text": [
      "Average value of the numbers of the said tuple of tuples: [30.5, 34.25, 27.0, 23.25]\n"
     ]
    }
   ],
   "source": [
    "#60.Write a Python program to calculate the average value of the numbers in a given tuple of tuples.\n",
    "#Original Tuple:\n",
    "#((10, 10, 10, 12), (30, 45, 56, 45), (81, 80, 39, 32), (1, 2, 3, 4))\n",
    "#Average value of the numbers of the said tuple of tuples:\n",
    "#[30.5, 34.25, 27.0, 23.25]\n",
    "#Original Tuple:\n",
    "#((1, 1, -5), (30, -15, 56), (81, -60, -39), (-10, 2, 3))\n",
    "#Average value of the numbers of the said tuple of tuples:\n",
    "#[25.5, -18.0, 3.75]\n",
    "\n",
    "a = ((10, 10, 10, 12), (30, 45, 56, 45), (81, 80, 39, 32), (1, 2, 3, 4)) \n",
    "num_cols = len(a[0]) \n",
    "num_rows = len(a) \n",
    "col_sums = [0] * num_cols\n",
    "for row in a:\n",
    "    for i, num in enumerate(row):\n",
    "        col_sums[i] += num\n",
    "avg_values = [round(col_sum / num_rows, 2) for col_sum in col_sums]\n",
    "print(\"Average value of the numbers of the said tuple of tuples:\", avg_values) "
   ]
  },
  {
   "cell_type": "code",
   "execution_count": 96,
   "id": "e60e1b79",
   "metadata": {},
   "outputs": [
    {
     "name": "stdout",
     "output_type": "stream",
     "text": [
      "Original tuple values:\n",
      "(('333', '33'), ('1416', '55'))\n",
      "\n",
      "New tuple values:\n"
     ]
    },
    {
     "ename": "TypeError",
     "evalue": "'tuple' object is not callable",
     "output_type": "error",
     "traceback": [
      "\u001b[1;31m---------------------------------------------------------------------------\u001b[0m",
      "\u001b[1;31mTypeError\u001b[0m                                 Traceback (most recent call last)",
      "Cell \u001b[1;32mIn[96], line 15\u001b[0m\n\u001b[0;32m     13\u001b[0m \u001b[38;5;28mprint\u001b[39m(tuple_str)\n\u001b[0;32m     14\u001b[0m \u001b[38;5;28mprint\u001b[39m(\u001b[38;5;124m\"\u001b[39m\u001b[38;5;130;01m\\n\u001b[39;00m\u001b[38;5;124mNew tuple values:\u001b[39m\u001b[38;5;124m\"\u001b[39m)\n\u001b[1;32m---> 15\u001b[0m \u001b[38;5;28mprint\u001b[39m(\u001b[43mtuple_int_str\u001b[49m\u001b[43m(\u001b[49m\u001b[43mtuple_str\u001b[49m\u001b[43m)\u001b[49m)\n",
      "Cell \u001b[1;32mIn[96], line 8\u001b[0m, in \u001b[0;36mtuple_int_str\u001b[1;34m(tuple_str)\u001b[0m\n\u001b[0;32m      7\u001b[0m \u001b[38;5;28;01mdef\u001b[39;00m \u001b[38;5;21mtuple_int_str\u001b[39m(tuple_str):\n\u001b[1;32m----> 8\u001b[0m     result \u001b[38;5;241m=\u001b[39m \u001b[38;5;28;43mtuple\u001b[39;49m\u001b[43m(\u001b[49m\u001b[43m(\u001b[49m\u001b[38;5;28;43mint\u001b[39;49m\u001b[43m(\u001b[49m\u001b[43mx\u001b[49m\u001b[43m[\u001b[49m\u001b[38;5;241;43m0\u001b[39;49m\u001b[43m]\u001b[49m\u001b[43m)\u001b[49m\u001b[43m,\u001b[49m\u001b[43m \u001b[49m\u001b[38;5;28;43mint\u001b[39;49m\u001b[43m(\u001b[49m\u001b[43mx\u001b[49m\u001b[43m[\u001b[49m\u001b[38;5;241;43m1\u001b[39;49m\u001b[43m]\u001b[49m\u001b[43m)\u001b[49m\u001b[43m)\u001b[49m\u001b[43m \u001b[49m\u001b[38;5;28;43;01mfor\u001b[39;49;00m\u001b[43m \u001b[49m\u001b[43mx\u001b[49m\u001b[43m \u001b[49m\u001b[38;5;129;43;01min\u001b[39;49;00m\u001b[43m \u001b[49m\u001b[43mtuple_str\u001b[49m\u001b[43m)\u001b[49m\n\u001b[0;32m      9\u001b[0m     \u001b[38;5;28;01mreturn\u001b[39;00m result\n",
      "\u001b[1;31mTypeError\u001b[0m: 'tuple' object is not callable"
     ]
    }
   ],
   "source": [
    "#61.Write a Python program to convert a tuple of string values to a tuple of integer values.\n",
    "#Original tuple values:\n",
    "#(('333', '33'), ('1416', '55'))\n",
    "#New tuple values:\n",
    "#((333, 33), (1416, 55))\n",
    "\n",
    "def tuple_int_str(tuple_str):\n",
    "    result = tuple((int(x[0]), int(x[1])) for x in tuple_str)\n",
    "    return result\n",
    "     \n",
    "tuple_str =  (('333', '33'), ('1416', '55'))\n",
    "print(\"Original tuple values:\")\n",
    "print(tuple_str)\n",
    "print(\"\\nNew tuple values:\")\n",
    "print(tuple_int_str(tuple_str))"
   ]
  },
  {
   "cell_type": "code",
   "execution_count": 95,
   "id": "8f0ab5eb",
   "metadata": {},
   "outputs": [
    {
     "name": "stdout",
     "output_type": "stream",
     "text": [
      "Original tuple: \n",
      "(1, 2, 3)\n",
      "Convert the said tuple of positive integers into an integer:\n",
      "123\n",
      "\n",
      "Original tuple: \n",
      "(10, 20, 40, 5, 70)\n",
      "Convert the said tuple of positive integers into an integer:\n",
      "102040570\n"
     ]
    }
   ],
   "source": [
    "#62.Write a Python program to convert a given tuple of positive integers into an integer\n",
    "#Original tuple:\n",
    "#(1, 2, 3)\n",
    "#Convert the said tuple of positive integers into an integer:\n",
    "#123\n",
    "#Original tuple:\n",
    "#(10, 20, 40, 5, 70)\n",
    "#Convert the said tuple of positive integers into an integer:\n",
    "#102040570\n",
    "\n",
    "def tuple_to_int(nums):\n",
    "    result = int(''.join(map(str,nums)))\n",
    "    return result\n",
    "\n",
    "nums = (1,2,3)\n",
    "print(\"Original tuple: \") \n",
    "print(nums)\n",
    "print(\"Convert the said tuple of positive integers into an integer:\")\n",
    "print(tuple_to_int(nums))\n",
    "\n",
    "nums = (10,20,40,5,70)\n",
    "print(\"\\nOriginal tuple: \") \n",
    "print(nums)\n",
    "print(\"Convert the said tuple of positive integers into an integer:\")\n",
    "print(tuple_to_int(nums))"
   ]
  }
 ],
 "metadata": {
  "kernelspec": {
   "display_name": "Python 3 (ipykernel)",
   "language": "python",
   "name": "python3"
  },
  "language_info": {
   "codemirror_mode": {
    "name": "ipython",
    "version": 3
   },
   "file_extension": ".py",
   "mimetype": "text/x-python",
   "name": "python",
   "nbconvert_exporter": "python",
   "pygments_lexer": "ipython3",
   "version": "3.10.9"
  }
 },
 "nbformat": 4,
 "nbformat_minor": 5
}
