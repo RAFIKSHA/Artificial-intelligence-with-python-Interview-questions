{
 "cells": [
  {
   "cell_type": "markdown",
   "id": "e7b41a61",
   "metadata": {},
   "source": [
    "1.What is a List?\n",
    "List is collection of item, entities that are enclosed in square braces and are seperated by commas.\n",
    "List is mutable datatype we cand add, update and delete element from list..\n",
    "List is iterable datatype.\n",
    "Heterogeneous objects are allowed."
   ]
  },
  {
   "cell_type": "code",
   "execution_count": 1,
   "id": "fa882dc1",
   "metadata": {},
   "outputs": [
    {
     "data": {
      "text/plain": [
       "[2, 45, 43, 567, 23, 'reshma']"
      ]
     },
     "execution_count": 1,
     "metadata": {},
     "output_type": "execute_result"
    }
   ],
   "source": [
    "a=[2,45,43,567,23,'reshma']\n",
    "a"
   ]
  },
  {
   "cell_type": "code",
   "execution_count": 4,
   "id": "4da33dd2",
   "metadata": {},
   "outputs": [
    {
     "data": {
      "text/plain": [
       "45"
      ]
     },
     "execution_count": 4,
     "metadata": {},
     "output_type": "execute_result"
    }
   ],
   "source": [
    "#2.Python Program to find the largest element in the list\n",
    "a=[1,23,45,23,3,4,5]\n",
    "max(a)"
   ]
  },
  {
   "cell_type": "code",
   "execution_count": 1,
   "id": "52c36a25",
   "metadata": {},
   "outputs": [
    {
     "data": {
      "text/plain": [
       "['Rohit', 'Reshma']"
      ]
     },
     "execution_count": 1,
     "metadata": {},
     "output_type": "execute_result"
    }
   ],
   "source": [
    "#3.Python program to interchange first and last elements in a list.\n",
    "a=['Reshma','Rohit']\n",
    "a.reverse()\n",
    "a"
   ]
  },
  {
   "cell_type": "code",
   "execution_count": 5,
   "id": "3808a752",
   "metadata": {},
   "outputs": [
    {
     "data": {
      "text/plain": [
       "['Raj', 'Reshma']"
      ]
     },
     "execution_count": 5,
     "metadata": {},
     "output_type": "execute_result"
    }
   ],
   "source": [
    "#4.Python program to swap two elements in a list.\n",
    "a=['Reshma','Raj']\n",
    "a[0],a[-1]=a[-1],a[0]\n",
    "a"
   ]
  },
  {
   "cell_type": "code",
   "execution_count": 9,
   "id": "def9b8d4",
   "metadata": {},
   "outputs": [
    {
     "data": {
      "text/plain": [
       "['ravi', 'raj', 'reshma', 'rohit']"
      ]
     },
     "execution_count": 9,
     "metadata": {},
     "output_type": "execute_result"
    }
   ],
   "source": [
    "#5.Python program to Reverse a List.\n",
    "a=['rohit','reshma','raj','ravi'] \n",
    "a[::-1]"
   ]
  },
  {
   "cell_type": "code",
   "execution_count": 12,
   "id": "4799a1bf",
   "metadata": {},
   "outputs": [
    {
     "data": {
      "text/plain": [
       "[5, 4, 3, 2, 1]"
      ]
     },
     "execution_count": 12,
     "metadata": {},
     "output_type": "execute_result"
    }
   ],
   "source": [
    "b=[1,2,3,4,5]\n",
    "b[::-1]"
   ]
  },
  {
   "cell_type": "code",
   "execution_count": 13,
   "id": "5a519c60",
   "metadata": {},
   "outputs": [
    {
     "data": {
      "text/plain": [
       "3"
      ]
     },
     "execution_count": 13,
     "metadata": {},
     "output_type": "execute_result"
    }
   ],
   "source": [
    "#6.Python program to count occurrences of an element in a list.\n",
    "a=[1,2,33,44,54,65,7,2,10,2]\n",
    "a.count(2)"
   ]
  },
  {
   "cell_type": "code",
   "execution_count": 15,
   "id": "775f559f",
   "metadata": {},
   "outputs": [
    {
     "data": {
      "text/plain": [
       "212"
      ]
     },
     "execution_count": 15,
     "metadata": {},
     "output_type": "execute_result"
    }
   ],
   "source": [
    "#7.Python program to find the sum of elements in a list.\n",
    "a=[3,44,5,67,90,3]\n",
    "sum(a)"
   ]
  },
  {
   "cell_type": "code",
   "execution_count": 6,
   "id": "dae3f8b1",
   "metadata": {},
   "outputs": [
    {
     "data": {
      "text/plain": [
       "24"
      ]
     },
     "execution_count": 6,
     "metadata": {},
     "output_type": "execute_result"
    }
   ],
   "source": [
    "#8.Python program to Multiply all numbers in the list.\n",
    "a=[1,2,3,4]\n",
    "mul=1\n",
    "for i in a:\n",
    "    mul*=i\n",
    "mul"
   ]
  },
  {
   "cell_type": "code",
   "execution_count": 23,
   "id": "02eb74b7",
   "metadata": {},
   "outputs": [
    {
     "data": {
      "text/plain": [
       "6"
      ]
     },
     "execution_count": 23,
     "metadata": {},
     "output_type": "execute_result"
    }
   ],
   "source": [
    "#9.What are the ways to find the length of a list.\n",
    "a=[3,2,45,65,76,21]\n",
    "len(a)"
   ]
  },
  {
   "cell_type": "code",
   "execution_count": 7,
   "id": "a38ec722",
   "metadata": {},
   "outputs": [
    {
     "name": "stdout",
     "output_type": "stream",
     "text": [
      "58\n"
     ]
    }
   ],
   "source": [
    "#10.Python program to find the smallest and largest number in a list (Without minmax function).\n",
    "a=[1,22,32,4,5,3,58,7]\n",
    "a1=a[0]\n",
    "for i in range(1,len(a)):\n",
    "    if a1<a[i]:\n",
    "        a1=a[i]\n",
    "print(a1)"
   ]
  },
  {
   "cell_type": "code",
   "execution_count": 12,
   "id": "457c9159",
   "metadata": {},
   "outputs": [
    {
     "name": "stdout",
     "output_type": "stream",
     "text": [
      "Enter the Element = 4\n",
      "5\n",
      "7\n",
      "8\n",
      "9\n",
      "Enter The Seaching = 7\n",
      "5\n",
      "7\n",
      "8\n",
      "9\n"
     ]
    }
   ],
   "source": [
    "#11.Take inputs from the user to make a list. Again take one input from the user\n",
    "#and search it in the list and delete that element, if found. Iterate over a list\n",
    "#using for loop.\n",
    "a=int(input('Enter the Element = '))\n",
    "l=[]\n",
    "for i in range(a):\n",
    "    a1=int(input())\n",
    "    l.append(a1)\n",
    "Search=int(input('Enter The Seaching = '))\n",
    "for i in l:\n",
    "    print(i)"
   ]
  },
  {
   "cell_type": "code",
   "execution_count": 22,
   "id": "08c36304",
   "metadata": {},
   "outputs": [
    {
     "name": "stdout",
     "output_type": "stream",
     "text": [
      "[4, 25, 36, 144]\n"
     ]
    }
   ],
   "source": [
    "#12.You are given a list of integer elements. Make a new list that will store a\n",
    "#square of elements of the previous list. (With and without list comprehension)\n",
    "#i. Input_list = [2,5,6,12]\n",
    "#ii. Output_list = [4,25,36,144]\n",
    "#1.With and list comprehension\n",
    "l1=[2,5,6,12]\n",
    "square_list=[]\n",
    "for i in l1:\n",
    "    square_list.append(i**2)\n",
    "square_list\n",
    "[4,25,36,144]\n",
    "#2.Without list comprehension\n",
    "l1=[2,5,6,12]\n",
    "l2=[i**2 for i in l1]\n",
    "print(l2)"
   ]
  },
  {
   "cell_type": "code",
   "execution_count": 26,
   "id": "3fd0649d",
   "metadata": {},
   "outputs": [
    {
     "data": {
      "text/plain": [
       "([0,\n",
       "  2,\n",
       "  4,\n",
       "  6,\n",
       "  8,\n",
       "  10,\n",
       "  12,\n",
       "  14,\n",
       "  16,\n",
       "  18,\n",
       "  20,\n",
       "  22,\n",
       "  24,\n",
       "  26,\n",
       "  28,\n",
       "  30,\n",
       "  32,\n",
       "  34,\n",
       "  36,\n",
       "  38,\n",
       "  40,\n",
       "  42,\n",
       "  44,\n",
       "  46,\n",
       "  48,\n",
       "  50,\n",
       "  52,\n",
       "  54,\n",
       "  56,\n",
       "  58,\n",
       "  60,\n",
       "  62,\n",
       "  64,\n",
       "  66,\n",
       "  68,\n",
       "  70,\n",
       "  72,\n",
       "  74,\n",
       "  76,\n",
       "  78,\n",
       "  80,\n",
       "  82,\n",
       "  84,\n",
       "  86,\n",
       "  88,\n",
       "  90,\n",
       "  92,\n",
       "  94,\n",
       "  96,\n",
       "  98,\n",
       "  100,\n",
       "  102,\n",
       "  104,\n",
       "  106,\n",
       "  108,\n",
       "  110,\n",
       "  112,\n",
       "  114,\n",
       "  116,\n",
       "  118,\n",
       "  120,\n",
       "  122,\n",
       "  124,\n",
       "  126,\n",
       "  128,\n",
       "  130,\n",
       "  132,\n",
       "  134,\n",
       "  136,\n",
       "  138,\n",
       "  140,\n",
       "  142,\n",
       "  144,\n",
       "  146,\n",
       "  148,\n",
       "  150],\n",
       " [1,\n",
       "  3,\n",
       "  5,\n",
       "  7,\n",
       "  9,\n",
       "  11,\n",
       "  13,\n",
       "  15,\n",
       "  17,\n",
       "  19,\n",
       "  21,\n",
       "  23,\n",
       "  25,\n",
       "  27,\n",
       "  29,\n",
       "  31,\n",
       "  33,\n",
       "  35,\n",
       "  37,\n",
       "  39,\n",
       "  41,\n",
       "  43,\n",
       "  45,\n",
       "  47,\n",
       "  49,\n",
       "  51,\n",
       "  53,\n",
       "  55,\n",
       "  57,\n",
       "  59,\n",
       "  61,\n",
       "  63,\n",
       "  65,\n",
       "  67,\n",
       "  69,\n",
       "  71,\n",
       "  73,\n",
       "  75,\n",
       "  77,\n",
       "  79,\n",
       "  81,\n",
       "  83,\n",
       "  85,\n",
       "  87,\n",
       "  89,\n",
       "  91,\n",
       "  93,\n",
       "  95,\n",
       "  97,\n",
       "  99,\n",
       "  101,\n",
       "  103,\n",
       "  105,\n",
       "  107,\n",
       "  109,\n",
       "  111,\n",
       "  113,\n",
       "  115,\n",
       "  117,\n",
       "  119,\n",
       "  121,\n",
       "  123,\n",
       "  125,\n",
       "  127,\n",
       "  129,\n",
       "  131,\n",
       "  133,\n",
       "  135,\n",
       "  137,\n",
       "  139,\n",
       "  141,\n",
       "  143,\n",
       "  145,\n",
       "  147,\n",
       "  149])"
      ]
     },
     "execution_count": 26,
     "metadata": {},
     "output_type": "execute_result"
    }
   ],
   "source": [
    "#13.WAP to create two lists, one containing all even numbers and the other\n",
    "#containing all odd numbers between 0 to 151\n",
    "l=list(range(0,151))\n",
    "even=[]\n",
    "odd=[]\n",
    "for i in l:\n",
    "    if i%2==0:\n",
    "        even.append(i)\n",
    "    else:\n",
    "        odd.append(i)\n",
    "even,odd"
   ]
  },
  {
   "cell_type": "code",
   "execution_count": 24,
   "id": "3b1df17d",
   "metadata": {},
   "outputs": [
    {
     "name": "stdout",
     "output_type": "stream",
     "text": [
      "3\n",
      "3\n"
     ]
    }
   ],
   "source": [
    "#14.Python program to Count Even and Odd numbers in a List\n",
    "a=[4,3,43,2,5,22]             \n",
    "even=0\n",
    "odd=0\n",
    "for i in a:\n",
    "    if(i%2==0):\n",
    "        even=even+1\n",
    "    else:\n",
    "        odd=odd+1\n",
    "print(even)\n",
    "print(odd)"
   ]
  },
  {
   "cell_type": "code",
   "execution_count": 26,
   "id": "94280509",
   "metadata": {},
   "outputs": [
    {
     "name": "stdout",
     "output_type": "stream",
     "text": [
      "[1, 2, 3, 4, 5, 6, 7, 8, 9, 10, 11, 12, 13, 14, 15, 16, 17, 18, 19, 20, 21, 22, 23, 24, 25, 26, 27, 28, 29, 30, 31, 32, 33, 34, 35, 36, 37, 38, 39, 40, 41, 42, 43, 44, 45, 46, 47, 48, 49, 50, 51, 52, 53, 54, 55, 56, 57, 58, 59, 60, 61, 62, 63, 64, 65, 66, 67, 68, 69, 70, 71, 72, 73, 74, 75, 76, 77, 78, 79, 80, 81, 82, 83, 84, 85, 86, 87, 88, 89, 90, 91, 92, 93, 94, 95, 96, 97, 98, 99, 100, 101, 102, 103, 104, 105, 106, 107, 108, 109, 110, 111, 112, 113, 114, 115, 116, 117, 118, 119, 120, 121, 122, 123, 124, 125, 126, 127, 128, 129, 130, 131, 132, 133, 134, 135, 136, 137, 138, 139, 140, 141, 142, 143, 144, 145, 146, 147, 148, 149, 150]\n"
     ]
    }
   ],
   "source": [
    "#15.WAP to make new lists, containing only numbers which are divisible by 4, 6,\n",
    "#8, 10, 3, 5, 7, and 9 in separate lists for range(0,151)\n",
    "a=[]\n",
    "for i in range(0,151):\n",
    "    if i%4 or i%6 or i%8 or i%10 or i%3 or i%5 or i%7 or i%9:\n",
    "        a.append(i)\n",
    "print(a)"
   ]
  },
  {
   "cell_type": "code",
   "execution_count": 31,
   "id": "b70060ba",
   "metadata": {},
   "outputs": [
    {
     "name": "stdout",
     "output_type": "stream",
     "text": [
      "[2, 3, 45, 5]\n",
      "[4.5, 22.5]\n",
      "['reshma', 'rohit']\n"
     ]
    }
   ],
   "source": [
    "#16.From a list containing ints, strings, and floats, make three lists to store them separately.\n",
    "a=[2,3,4.5,'reshma',22.5,45,'rohit',5]\n",
    "int1=[]\n",
    "float1=[]\n",
    "str1=[]\n",
    "for i in a:\n",
    "    if type(i)==int:\n",
    "        int1.append(i)\n",
    "    elif type(i)==float:\n",
    "        float1.append(i)\n",
    "    elif type(i)==str:\n",
    "        str1.append(i)\n",
    "print(int1)\n",
    "print(float1)\n",
    "print(str1)"
   ]
  },
  {
   "cell_type": "code",
   "execution_count": null,
   "id": "df8ec080",
   "metadata": {},
   "outputs": [],
   "source": [
    "#17.What’s The Difference Between The Python append() and extend() Methods?\n",
    "Append():                                       \n",
    "1.The element passed as an argument is appended to the end of the list\n",
    "\n",
    "Extend()\n",
    "1.Each element of the iterable passed as an argument gets appended to the end of the list."
   ]
  },
  {
   "cell_type": "code",
   "execution_count": 34,
   "id": "a5eef82b",
   "metadata": {},
   "outputs": [
    {
     "data": {
      "text/plain": [
       "[1, 2, 3, 4, 5, [6, 7, 8, 9, 10]]"
      ]
     },
     "execution_count": 34,
     "metadata": {},
     "output_type": "execute_result"
    }
   ],
   "source": [
    "#18.Write a Python program to append a list to the second list.\n",
    "a=[1,2,3,4,5]\n",
    "a.append([6,7,8,9,10])\n",
    "a"
   ]
  },
  {
   "cell_type": "code",
   "execution_count": 16,
   "id": "e0361696",
   "metadata": {},
   "outputs": [
    {
     "data": {
      "text/plain": [
       "32"
      ]
     },
     "execution_count": 16,
     "metadata": {},
     "output_type": "execute_result"
    }
   ],
   "source": [
    "#19.Write a Python program to find the third-largest number in a list.\n",
    "a=[1,4,56,76,32,11]\n",
    "a.sort(reverse=1)\n",
    "a[2]"
   ]
  },
  {
   "cell_type": "code",
   "execution_count": 19,
   "id": "f4626962",
   "metadata": {},
   "outputs": [
    {
     "data": {
      "text/plain": [
       "Counter({3: 1, 4: 1, 54: 1, 6: 1, 5: 1})"
      ]
     },
     "execution_count": 19,
     "metadata": {},
     "output_type": "execute_result"
    }
   ],
   "source": [
    "#20.Write a Python program to get the frequency of the elements in a list.\n",
    "from collections import Counter\n",
    "a=[3,4,54,6,5]\n",
    "Counter(a)"
   ]
  },
  {
   "cell_type": "code",
   "execution_count": 28,
   "id": "57be15ea",
   "metadata": {},
   "outputs": [
    {
     "data": {
      "text/plain": [
       "True"
      ]
     },
     "execution_count": 28,
     "metadata": {},
     "output_type": "execute_result"
    }
   ],
   "source": [
    "#21.Write a Python program to check whether a list contains a sublist.\n",
    "a=[1,2,3,4,5]\n",
    "a=set(a)\n",
    "b=[5,4,6,7,8,9,1,2,3]\n",
    "b=set(a)\n",
    "a.issubset(b)"
   ]
  },
  {
   "cell_type": "code",
   "execution_count": 39,
   "id": "6f04b02c",
   "metadata": {},
   "outputs": [
    {
     "name": "stdout",
     "output_type": "stream",
     "text": [
      "[1, 4, 5]\n"
     ]
    }
   ],
   "source": [
    "#22.Write a Python program to find common items from two lists\n",
    "a=[1,2,3,4,8,5]\n",
    "b=[1,23,4,5,11,12]\n",
    "c=[]\n",
    "for i in a:\n",
    "    if i in b:\n",
    "        c.append(i)\n",
    "print(c)"
   ]
  },
  {
   "cell_type": "code",
   "execution_count": 9,
   "id": "be04a626",
   "metadata": {},
   "outputs": [
    {
     "data": {
      "text/plain": [
       "[[1, 2, 3, 4], [5, 6, 7, 8]]"
      ]
     },
     "execution_count": 9,
     "metadata": {},
     "output_type": "execute_result"
    }
   ],
   "source": [
    "#23.How to flatten a list in python?\n",
    "l1=[1,2,3,4]\n",
    "l2=[5,6,7,8]\n",
    "[l1,l2]"
   ]
  },
  {
   "cell_type": "code",
   "execution_count": 40,
   "id": "50651a9a",
   "metadata": {},
   "outputs": [
    {
     "name": "stdout",
     "output_type": "stream",
     "text": [
      "[41, 23, 5, 5, 4, 3, 1]\n"
     ]
    }
   ],
   "source": [
    "#24.How to sort a list in ascending and descending order without using the sort function?\n",
    "a=[1,4,5,23,5,3,41]\n",
    "for i in range(len(a)):\n",
    "    for j in range(i+1,len(a)):\n",
    "        if a[i]<a[j]:\n",
    "            a[i],a[j]=a[j],a[i]\n",
    "print(a)"
   ]
  },
  {
   "cell_type": "code",
   "execution_count": 41,
   "id": "ea852dd8",
   "metadata": {},
   "outputs": [
    {
     "name": "stdout",
     "output_type": "stream",
     "text": [
      "113350"
     ]
    }
   ],
   "source": [
    "#25.Write a Python program to convert a list of multiple integers into a single integer.\n",
    "#a. [11, 33, 50] >>> 113350\n",
    "a=[11,33,50]\n",
    "for i in a:\n",
    "    print(i, end=\"\")"
   ]
  },
  {
   "cell_type": "code",
   "execution_count": null,
   "id": "4a8f4cc8",
   "metadata": {},
   "outputs": [],
   "source": [
    "#26.Difference between del and clear?\n",
    "del\n",
    "del keyword is used to delete the dictionary itself.\n",
    "We can also delete the key from the dictionary by using del keyword. \n",
    "If key is not in the dictionary means, then it will raise KeyError.\n",
    "\n",
    "clear()\n",
    "clear() will empty the dictionary.\n",
    "It's retrun type is none."
   ]
  },
  {
   "cell_type": "code",
   "execution_count": null,
   "id": "aa8e0aa0",
   "metadata": {},
   "outputs": [],
   "source": [
    "#27.Difference between remove and pop?\n",
    "Remove \n",
    "To delete value this method uses the value as a parameter.\n",
    "The remove() method doesn’t return any value.\n",
    "At a time it deletes only one value from the list.\n",
    "\n",
    "Pop\n",
    "This method also uses the index as a parameter to delete.\n",
    "pop() returns deleted value.\n",
    "At a time it deletes only one value from the list."
   ]
  },
  {
   "cell_type": "code",
   "execution_count": null,
   "id": "af33acf3",
   "metadata": {},
   "outputs": [],
   "source": [
    "#28.Difference between indexing and Slicing?\n",
    "Indexing\n",
    "It returns only 1 item.\n",
    "We cannot change the length of the list by item assignment in indexing.\n",
    "We can assign a single element or an iterable to indexing.\n",
    "\n",
    "Slicing\n",
    "It returns a new list/tuple.\n",
    "We can change the length of the list or even clear it by assigning items to slicing.\n",
    "When we assign a single element to slicing, we get a TypeError. It will only accept iterables."
   ]
  },
  {
   "cell_type": "code",
   "execution_count": null,
   "id": "81ce52cd",
   "metadata": {},
   "outputs": [],
   "source": [
    "#29.Difference between sort and sorted?\n",
    "Sorted \n",
    "The sorted() function returns a sorted list of the specific iterable object.\n",
    "We can specify ascending or descending order while using the sorted() function.\n",
    "Its return type is a sorted list.\n",
    "It can only sort a list that contains only one type of value.\n",
    "\n",
    "Sort\n",
    "The sort() method sorts the list.\n",
    "It sorts the list in ascending order by default\n",
    "We can also use it for sorting a list in descending order\n",
    "It sorts the list in-place"
   ]
  },
  {
   "cell_type": "code",
   "execution_count": null,
   "id": "9f240679",
   "metadata": {},
   "outputs": [],
   "source": [
    "#30.Difference between reverse and reversed?\n",
    "Reverse \n",
    "The reverse() function can only reverse the Python list.\n",
    "Returns the reversed .\n",
    "Takes no arguments.\n",
    "\n",
    "Reversed\n",
    "The reversed() function can be used to reverse lists, tuples, strings, and dictionaries or any sequence that is iterable.\n",
    "Returns the reversed iterator object of the sequence.\n",
    "Any sequence that is iterable is required."
   ]
  },
  {
   "cell_type": "code",
   "execution_count": null,
   "id": "c990c201",
   "metadata": {},
   "outputs": [],
   "source": [
    "#31.Difference between copy and deep copy?\n",
    "Copy\n",
    "A copy constructs a new compound object and then \n",
    "inserts references into it to the objects found in the original.\n",
    "\n",
    "Deep Copy\n",
    "A deep copy constructs a new compound object and then,\n",
    "recursively, inserts copies into it of the objects found in the original."
   ]
  },
  {
   "cell_type": "code",
   "execution_count": 29,
   "id": "f000986d",
   "metadata": {},
   "outputs": [
    {
     "name": "stdout",
     "output_type": "stream",
     "text": [
      "list is not empty\n"
     ]
    }
   ],
   "source": [
    "#32.How to check whether the list is empty or not?\n",
    "l1=[1]\n",
    "if not l1:\n",
    "    print(\"list is empty\")\n",
    "else:\n",
    "    print(\"list is not empty\")"
   ]
  },
  {
   "cell_type": "code",
   "execution_count": 45,
   "id": "f516c08a",
   "metadata": {},
   "outputs": [
    {
     "data": {
      "text/plain": [
       "[1, 2, 3, 4, 5, 4, 5, 6, 7, 8]"
      ]
     },
     "execution_count": 45,
     "metadata": {},
     "output_type": "execute_result"
    }
   ],
   "source": [
    "#33.How to concatenate two lists?\n",
    "l1=[1,2,3,4,5]\n",
    "l2=[4,5,6,7,8]\n",
    "l=l1+l2\n",
    "l"
   ]
  },
  {
   "cell_type": "code",
   "execution_count": 49,
   "id": "5b7b64e2",
   "metadata": {},
   "outputs": [
    {
     "data": {
      "text/plain": [
       "2"
      ]
     },
     "execution_count": 49,
     "metadata": {},
     "output_type": "execute_result"
    }
   ],
   "source": [
    "#34.How to find the occurrences of an element in the python list?\n",
    "a=[1,2,3,14,5,2,54,3]\n",
    "n=a.count(3)\n",
    "n"
   ]
  }
 ],
 "metadata": {
  "kernelspec": {
   "display_name": "Python 3 (ipykernel)",
   "language": "python",
   "name": "python3"
  },
  "language_info": {
   "codemirror_mode": {
    "name": "ipython",
    "version": 3
   },
   "file_extension": ".py",
   "mimetype": "text/x-python",
   "name": "python",
   "nbconvert_exporter": "python",
   "pygments_lexer": "ipython3",
   "version": "3.10.9"
  }
 },
 "nbformat": 4,
 "nbformat_minor": 5
}
