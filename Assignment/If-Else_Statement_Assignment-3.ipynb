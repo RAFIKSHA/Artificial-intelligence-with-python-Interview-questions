{
 "cells": [
  {
   "cell_type": "code",
   "execution_count": 1,
   "id": "6890a944",
   "metadata": {},
   "outputs": [
    {
     "name": "stdout",
     "output_type": "stream",
     "text": [
      "enter a First value: 43\n",
      "enter a Second value: 23\n",
      "a is greater\n"
     ]
    }
   ],
   "source": [
    "#1.Take two int values from user and print greatest among them.\n",
    "a = int(input(\"enter a First value: \"))\n",
    "b = int(input(\"enter a Second value: \"))\n",
    "if a>b:\n",
    "    print(\"a is greater\")\n",
    "elif b>a:\n",
    "    print(\"b is greater\")"
   ]
  },
  {
   "cell_type": "code",
   "execution_count": 2,
   "id": "209ea3e1",
   "metadata": {},
   "outputs": [
    {
     "name": "stdout",
     "output_type": "stream",
     "text": [
      "What is your salary= 40000\n",
      "How many years have you worked at the company= 4\n",
      "Not eligible for a bonus\n"
     ]
    }
   ],
   "source": [
    "#2.A company decided to give bonus of 5% to employee if his/her year of\n",
    "#service is more than 5 years. Ask user for their salary and year of service and\n",
    "#print the net bonus amount.\n",
    "\n",
    "salary = float(input(\"What is your salary= \"))\n",
    "years_of_service = int(input(\"How many years have you worked at the company= \"))\n",
    "\n",
    "if years_of_service > 5:\n",
    "    bonus = salary * 0.05\n",
    "    print(\"Net bonus amount is:\", amount)\n",
    "else:\n",
    "    print(\"Not eligible for a bonus\")"
   ]
  },
  {
   "cell_type": "code",
   "execution_count": 3,
   "id": "27d67a5d",
   "metadata": {},
   "outputs": [
    {
     "name": "stdout",
     "output_type": "stream",
     "text": [
      "How many units do you want to purchase? 45\n",
      "Total cost =  45 Unit =  4050.0\n"
     ]
    }
   ],
   "source": [
    "#3.A shop will give discount of 10% if the cost of purchased quantity is more than 1000.\n",
    "#Ask user for quantity\n",
    "#Suppose, one unit will cost 100.\n",
    "#Judge and print total cost for user.\n",
    "\n",
    "unit_cost = 100\n",
    "quantity = int(input(\"How many units do you want to purchase? \"))\n",
    "total_cost = unit_cost * quantity\n",
    "\n",
    "if total_cost > 1000:\n",
    "    discount = total_cost * 0.1\n",
    "    total_cost -= discount\n",
    "\n",
    "print(\"Total cost = \", quantity, \"Unit = \", total_cost)\n"
   ]
  },
  {
   "cell_type": "code",
   "execution_count": 5,
   "id": "b21b65c7",
   "metadata": {},
   "outputs": [
    {
     "name": "stdout",
     "output_type": "stream",
     "text": [
      "Enter The Marks = 65\n",
      "Grade =  B\n"
     ]
    }
   ],
   "source": [
    "#4. A school has following rules for grading system:\n",
    "\"\"\"a. Below 25 - F\n",
    "b. 25 to 45 - E\n",
    "c. 45 to 50 - D\n",
    "d. 50 to 60 - C\n",
    "e. 60 to 80 - B\n",
    "f. Above 80 - A\n",
    "Ask user to enter marks and print the corresponding grade.\"\"\"\n",
    "\n",
    "marks = float(input(\"Enter The Marks = \"))\n",
    "\n",
    "if marks < 25:\n",
    "    grade = \"F\"\n",
    "elif marks < 45:\n",
    "    grade = \"E\"\n",
    "elif marks < 50:\n",
    "    grade = \"D\"\n",
    "elif marks < 60:\n",
    "    grade = \"C\"\n",
    "elif marks < 80:\n",
    "    grade = \"B\"\n",
    "else:\n",
    "    grade = \"A\"\n",
    "\n",
    "print(\"Grade = \", grade)\n"
   ]
  },
  {
   "cell_type": "code",
   "execution_count": 8,
   "id": "9e904f22",
   "metadata": {},
   "outputs": [
    {
     "name": "stdout",
     "output_type": "stream",
     "text": [
      "Enter the age of the first person = 23\n",
      "Enter the age of the second person = 43\n",
      "Enter the age of the third person = 30\n",
      "The Oldest person is =  43\n",
      "The Youngest person is =  23\n"
     ]
    }
   ],
   "source": [
    "#5.Take input of age of 3 people by user and determine oldest and youngest among them.\n",
    "\n",
    "age1 = int(input(\"Enter the age of the first person = \"))\n",
    "age2 = int(input(\"Enter the age of the second person = \"))\n",
    "age3 = int(input(\"Enter the age of the third person = \"))\n",
    "\n",
    "oldest = max(age1, age2, age3)\n",
    "youngest = min(age1, age2, age3)\n",
    "\n",
    "print(\"The Oldest person is = \", oldest)\n",
    "print(\"The Youngest person is = \", youngest)\n"
   ]
  },
  {
   "cell_type": "code",
   "execution_count": 11,
   "id": "4bb3abe3",
   "metadata": {},
   "outputs": [
    {
     "name": "stdout",
     "output_type": "stream",
     "text": [
      "Enter The Number = 1\n",
      "The Absolute value is =  1.0 is 1.0\n"
     ]
    }
   ],
   "source": [
    "#6.Write a program to print absolute vlaue of a number entered by user. E.g.-\n",
    "#INPUT: 1 OUTPUT: 1\n",
    "#INPUT: -1 OUTPUT: 1\n",
    "\n",
    "n = float(input(\"Enter The Number = \"))\n",
    "absolute_value = abs(n)\n",
    "print(\"The Absolute value is = \", n, \"is\", absolute_value)\n"
   ]
  },
  {
   "cell_type": "code",
   "execution_count": 13,
   "id": "165c9d5d",
   "metadata": {},
   "outputs": [
    {
     "name": "stdout",
     "output_type": "stream",
     "text": [
      "Enter the total number of classes held = 80\n",
      "Enter the number of classes attended = 76\n",
      "Percentage of classes attended =  95.0\n",
      "The student is allowed to sit in the exam.\n"
     ]
    }
   ],
   "source": [
    "#7.A student will not be allowed to sit in exam if his/her attendence is less than 75%.\n",
    "#Take following input from user\n",
    "#Number of classes held\n",
    "#Number of classes attended.\n",
    "#And print\n",
    "#percentage of class attended\n",
    "#Is student is allowed to sit in exam or not.\n",
    "\n",
    "number_classes_held = int(input(\"Enter the total number of classes held = \"))\n",
    "number_classes_attended = int(input(\"Enter the number of classes attended = \"))\n",
    "\n",
    "attendance_percentage = (number_classes_attended / number_classes_held) * 100\n",
    "\n",
    "print(\"Percentage of classes attended = \", attendance_percentage)\n",
    "\n",
    "if attendance_percentage >= 75:\n",
    "    print(\"The student is allowed to sit in the exam.\")\n",
    "else:\n",
    "    print(\"The student is not allowed to sit in the exam.\")\n"
   ]
  },
  {
   "cell_type": "code",
   "execution_count": 16,
   "id": "e3d9c30b",
   "metadata": {},
   "outputs": [
    {
     "name": "stdout",
     "output_type": "stream",
     "text": [
      "Enter the Units = 200\n",
      "Total bill amount = Rs 500\n"
     ]
    }
   ],
   "source": [
    "#8.Write a program to calculate the electricity bill (accept number of unitfrom user) according to the following criteria :\n",
    "#Unit Price\n",
    "#First 100 units no charge\n",
    "#Next 100 units Rs 5 per unit\n",
    "#After 200 units Rs 10 per unit\n",
    "#(For example if input unit is 350 than total bill amount is Rs2000)\n",
    "\n",
    "unit = int(input(\"Enter the Units = \"))\n",
    "\n",
    "if unit <= 100:\n",
    "    bill_amount = 0\n",
    "elif unit <= 200:\n",
    "    bill_amount = (unit - 100) * 5\n",
    "else:\n",
    "    bill_amount = 500 + (unit - 200) * 10\n",
    "\n",
    "print(\"Total bill amount = Rs\", bill_amount)"
   ]
  },
  {
   "cell_type": "code",
   "execution_count": 20,
   "id": "99ab1a37",
   "metadata": {},
   "outputs": [
    {
     "name": "stdout",
     "output_type": "stream",
     "text": [
      "Enter The Number = 6\n",
      "Bye\n"
     ]
    }
   ],
   "source": [
    "#9.Write a program to display \"Hello\" if a number entered by user is a multiple of five , otherwise print \"Bye\"\n",
    "\n",
    "n= int(input(\"Enter The Number = \"))\n",
    "if n % 5 == 0:\n",
    "    print(\"Hello\")\n",
    "else:\n",
    "    print(\"Bye\")"
   ]
  },
  {
   "cell_type": "code",
   "execution_count": 24,
   "id": "ad838569",
   "metadata": {},
   "outputs": [
    {
     "name": "stdout",
     "output_type": "stream",
     "text": [
      "Enter a number = 7\n",
      "Number is odd\n"
     ]
    }
   ],
   "source": [
    "#10.Write a program to check whether a number entered by user is even or odd.\n",
    "\n",
    "n= int(input(\"Enter a number = \"))\n",
    "if n % 2 == 0:\n",
    "    print(\"Number is even\")\n",
    "else:\n",
    "    print(\"Number is odd\")\n"
   ]
  },
  {
   "cell_type": "code",
   "execution_count": 25,
   "id": "983f6f7b",
   "metadata": {},
   "outputs": [
    {
     "name": "stdout",
     "output_type": "stream",
     "text": [
      "Enter The age = 14\n",
      "You are not eligible for vote\n"
     ]
    }
   ],
   "source": [
    "#11.Write a program to check whether a person is eligible for voting or not.\n",
    "\n",
    "age = int(input(\"Enter The age = \"))\n",
    "if age >= 18:\n",
    "    print(\"You are eligible for vote\")\n",
    "else:\n",
    "    print(\"You are not eligible for vote\")"
   ]
  },
  {
   "cell_type": "code",
   "execution_count": 26,
   "id": "b0284a80",
   "metadata": {},
   "outputs": [
    {
     "name": "stdout",
     "output_type": "stream",
     "text": [
      "Enter The Number = 27\n",
      "The last digit Number is not divisible by 3\n"
     ]
    }
   ],
   "source": [
    "#12.Write a program to check whether the last digit of a number( entered by user ) is divisible by 3 or not.\n",
    "\n",
    "n = int(input(\"Enter The Number = \"))\n",
    "if n % 10 % 3 == 0:\n",
    "    print(\"The last digit Number is divisible by 3\")\n",
    "else:\n",
    "    print(\"The last digit Number is not divisible by 3\")\n"
   ]
  },
  {
   "cell_type": "code",
   "execution_count": 28,
   "id": "4e7a168c",
   "metadata": {},
   "outputs": [
    {
     "name": "stdout",
     "output_type": "stream",
     "text": [
      "Enter the cost price of the bike = 100000\n",
      "The road tax for the bike is: 10000.00 Rs\n"
     ]
    }
   ],
   "source": [
    "#13. Write a program to accept the cost price of a bike and display the road tax to be paid according to \n",
    "#the following criteria :\n",
    "#Cost price (in Rs) Tax\n",
    "#> 100000 15 %\n",
    "#> 50000 and <= 100000 10%\n",
    "\n",
    "cost_price = int(input(\"Enter the cost price of the bike = \"))\n",
    "if cost_price > 100000:\n",
    "    road_tax = 0.15 * cost_price\n",
    "elif cost_price > 50000:\n",
    "    road_tax = 0.1 * cost_price\n",
    "else:\n",
    "    road_tax = 0\n",
    "\n",
    "print(f\"The road tax for the bike is: {road_tax:.2f} Rs\")\n"
   ]
  },
  {
   "cell_type": "code",
   "execution_count": 29,
   "id": "571ecf16",
   "metadata": {},
   "outputs": [
    {
     "name": "stdout",
     "output_type": "stream",
     "text": [
      "Enter The year = 20\n",
      "Leap year\n"
     ]
    }
   ],
   "source": [
    "#14.Write a program to check whether an years is leap year or not.\n",
    "\n",
    "year = int(input(\"Enter The year = \"))\n",
    "if year % 4 == 0 and (year % 100 != 0 or year % 400 == 0):\n",
    "    print(\"Leap year\")\n",
    "else:\n",
    "    print(\"Not Leap Year\")"
   ]
  },
  {
   "cell_type": "code",
   "execution_count": 31,
   "id": "07227965",
   "metadata": {},
   "outputs": [
    {
     "name": "stdout",
     "output_type": "stream",
     "text": [
      "Enter The number from 1 to 7 = 1\n",
      "Sunday\n"
     ]
    }
   ],
   "source": [
    "#15.Write a program to accept a number from 1 to 7 and display the name of the day like 1 for Sunday ,2 for Monday and so on.\n",
    "\n",
    "day_num = int(input(\"Enter The number from 1 to 7 = \"))\n",
    "\n",
    "if day_num == 1:\n",
    "    print(\"Sunday\")\n",
    "elif day_num == 2:\n",
    "    print(\"Monday\")\n",
    "elif day_num == 3:\n",
    "    print(\"Tuesday\")\n",
    "elif day_num == 4:\n",
    "    print(\"Wednesday\")\n",
    "elif day_num == 5:\n",
    "    print(\"Thursday\")\n",
    "elif day_num == 6:\n",
    "    print(\"Friday\")\n",
    "elif day_num == 7:\n",
    "    print(\"Saturday\")\n",
    "else:\n",
    "    print(\"Invalid input\")\n"
   ]
  },
  {
   "cell_type": "code",
   "execution_count": 34,
   "id": "47b1ec7f",
   "metadata": {},
   "outputs": [
    {
     "name": "stdout",
     "output_type": "stream",
     "text": [
      "Enter a City Name = kolkata\n",
      "We do not have information about the monument in that city\n"
     ]
    }
   ],
   "source": [
    "#16. Accept any city from the user and display monument of that city.\n",
    "#City Monument\n",
    "#Delhi Red Fort\n",
    "#Agra Taj Mahal\n",
    "#Jaipur Jal Mahal\n",
    "\n",
    "city = input(\"Enter a City Name = \")\n",
    "if city.lower() == \"Delhi\":\n",
    "    print(\"The monument of Delhi is Red Fort\")\n",
    "elif city.lower() == \"Agra\":\n",
    "    print(\"The monument of Agra is Taj Mahal\")\n",
    "elif city.lower() == \"Jaipur\":\n",
    "    print(\"The monument of Jaipur is Jal Mahal\")\n",
    "else:\n",
    "    print(\"We do not have information about the monument in that city\")\n"
   ]
  },
  {
   "cell_type": "code",
   "execution_count": 36,
   "id": "96fdf1eb",
   "metadata": {},
   "outputs": [
    {
     "name": "stdout",
     "output_type": "stream",
     "text": [
      "Enter The number = 12324\n",
      "The number is not three-digit number\n"
     ]
    }
   ],
   "source": [
    "#17.Write a program to check whether a number entered is three digit number or not.\n",
    "\n",
    "number = input(\"Enter The number = \")\n",
    "if number.isdigit() and len(number) == 3:\n",
    "    print(\"The number is  three-digit number\")\n",
    "else:\n",
    "    print(\"The number is not three-digit number\")\n"
   ]
  }
 ],
 "metadata": {
  "kernelspec": {
   "display_name": "Python 3 (ipykernel)",
   "language": "python",
   "name": "python3"
  },
  "language_info": {
   "codemirror_mode": {
    "name": "ipython",
    "version": 3
   },
   "file_extension": ".py",
   "mimetype": "text/x-python",
   "name": "python",
   "nbconvert_exporter": "python",
   "pygments_lexer": "ipython3",
   "version": "3.10.9"
  }
 },
 "nbformat": 4,
 "nbformat_minor": 5
}
