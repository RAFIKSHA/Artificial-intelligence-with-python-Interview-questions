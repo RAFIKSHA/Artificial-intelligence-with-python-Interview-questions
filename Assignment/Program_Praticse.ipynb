{
 "cells": [
  {
   "cell_type": "code",
   "execution_count": 3,
   "id": "0aa54307",
   "metadata": {},
   "outputs": [
    {
     "name": "stdout",
     "output_type": "stream",
     "text": [
      "[1, 2, 3, 4, 5]\n",
      "[5, 4, 3, 2, 1]\n"
     ]
    }
   ],
   "source": [
    "#Reverse List\n",
    "a=[1,2,3,4,5]\n",
    "print(a)\n",
    "s=[]\n",
    "for i in a:\n",
    "    s=[i]+s\n",
    "print(s)"
   ]
  },
  {
   "cell_type": "code",
   "execution_count": 4,
   "id": "643148ac",
   "metadata": {},
   "outputs": [
    {
     "data": {
      "text/plain": [
       "'yhn'"
      ]
     },
     "execution_count": 4,
     "metadata": {},
     "output_type": "execute_result"
    }
   ],
   "source": [
    "#program to remove the char which have odd index value of a given string\n",
    "a='python'\n",
    "x=a[1::2]\n",
    "x"
   ]
  },
  {
   "cell_type": "code",
   "execution_count": 6,
   "id": "96761469",
   "metadata": {},
   "outputs": [
    {
     "name": "stdout",
     "output_type": "stream",
     "text": [
      "Enter the string = rohit\n",
      "tihor\n"
     ]
    }
   ],
   "source": [
    "#Reverse String-->length 5\n",
    "x=input('Enter the string = ')\n",
    "if len(x)==5:\n",
    "    y=x[::-1]\n",
    "    print(y)"
   ]
  },
  {
   "cell_type": "code",
   "execution_count": 12,
   "id": "55cd4e67",
   "metadata": {},
   "outputs": [
    {
     "name": "stdout",
     "output_type": "stream",
     "text": [
      "[41, 23, 5, 5, 4, 3, 1]\n"
     ]
    }
   ],
   "source": [
    "#Ascending order by using bubble sort\n",
    "a=[1,4,5,23,5,3,41]\n",
    "for i in range(len(a)):\n",
    "    for j in range(i+1,len(a)):\n",
    "        if a[i]<a[j]:\n",
    "            a[i],a[j]=a[j],a[i]\n",
    "print(a)"
   ]
  },
  {
   "cell_type": "code",
   "execution_count": 31,
   "id": "524ab07a",
   "metadata": {},
   "outputs": [
    {
     "name": "stdout",
     "output_type": "stream",
     "text": [
      "[]\n",
      "[]\n"
     ]
    }
   ],
   "source": [
    "#Separate the tuple list string\n",
    "a=['reshma',23,45.3,2+4j]\n",
    "str=[]\n",
    "int=[]\n",
    "for i in a:\n",
    "    if type(a)==str:\n",
    "        str.append(i)\n",
    "    elif type(a)==float:\n",
    "        float.append(i)\n",
    "print(str)\n",
    "print(int)"
   ]
  },
  {
   "cell_type": "code",
   "execution_count": 25,
   "id": "2bad6540",
   "metadata": {},
   "outputs": [
    {
     "data": {
      "text/plain": [
       "[2, 4]"
      ]
     },
     "execution_count": 25,
     "metadata": {},
     "output_type": "execute_result"
    }
   ],
   "source": [
    "#Even number\n",
    "a=[1,2,3,4,5]\n",
    "[i for i in a if i%2==0]"
   ]
  },
  {
   "cell_type": "code",
   "execution_count": 27,
   "id": "d937e58c",
   "metadata": {},
   "outputs": [
    {
     "name": "stdout",
     "output_type": "stream",
     "text": [
      "2\n",
      "4\n"
     ]
    }
   ],
   "source": [
    "#Even number\n",
    "a=[1,2,3,4,5]\n",
    "for i in a:\n",
    "    if i%2==0:\n",
    "        print(i)"
   ]
  },
  {
   "cell_type": "code",
   "execution_count": 29,
   "id": "15eb512c",
   "metadata": {},
   "outputs": [
    {
     "name": "stdout",
     "output_type": "stream",
     "text": [
      "4\n",
      "5\n"
     ]
    }
   ],
   "source": [
    "#python program to reverse and odd\n",
    "a=[1,2,3,4,5,6,7,8,9]\n",
    "even=0\n",
    "odd=0\n",
    "for i in a:\n",
    "    if(i%2==0):\n",
    "        even=even+1\n",
    "    else:\n",
    "        odd=odd+1\n",
    "print(even)\n",
    "print(odd)"
   ]
  },
  {
   "cell_type": "code",
   "execution_count": 37,
   "id": "25f99383",
   "metadata": {},
   "outputs": [
    {
     "name": "stdout",
     "output_type": "stream",
     "text": [
      "[45, 46, 47, 48, 49, 50, 51, 52, 53, 54, 55, 56, 57, 58, 59, 60, 61, 62, 63, 64, 65, 66, 67, 68, 69, 71, 72, 73, 74, 75, 76, 77, 78, 79, 80, 81, 82, 83, 84, 85, 86, 87, 88, 89, 90, 91, 92, 93, 94, 95, 96]\n"
     ]
    }
   ],
   "source": [
    "#program to rang 45-97 to divide by 5 and 7\n",
    "a=[]\n",
    "for i in range(45,97):\n",
    "    if i%5 or i%7:\n",
    "        a.append(i)\n",
    "print(a)"
   ]
  },
  {
   "cell_type": "code",
   "execution_count": 41,
   "id": "af64d9c0",
   "metadata": {},
   "outputs": [],
   "source": [
    "#create a file \n",
    "f=open('reshma.txt','w')\n",
    "f.write('Hello')\n",
    "f.close()"
   ]
  },
  {
   "cell_type": "code",
   "execution_count": 43,
   "id": "d7299360",
   "metadata": {},
   "outputs": [],
   "source": [
    "#append method\n",
    "f=open('reshma.txt','a')\n",
    "f.write('rohit')\n",
    "f.close()"
   ]
  },
  {
   "cell_type": "code",
   "execution_count": 47,
   "id": "e2c82d05",
   "metadata": {},
   "outputs": [
    {
     "name": "stdout",
     "output_type": "stream",
     "text": [
      "rsm\n",
      "rht\n",
      "rj\n",
      "rv\n"
     ]
    }
   ],
   "source": [
    "#even index in list\n",
    "a=['reshma','rohit','raj','ravi']\n",
    "for i in a:\n",
    "    print(i[0::2])"
   ]
  },
  {
   "cell_type": "code",
   "execution_count": 66,
   "id": "ff67f8ec",
   "metadata": {},
   "outputs": [
    {
     "name": "stdout",
     "output_type": "stream",
     "text": [
      "[1, 4]\n"
     ]
    }
   ],
   "source": [
    "#To find common element\n",
    "a=[1,2,3,4,8]\n",
    "b=[1,23,4,5]\n",
    "c=[]\n",
    "for i in a:\n",
    "    if i in b:\n",
    "        c.append(i)\n",
    "print(c)\n",
    "            "
   ]
  },
  {
   "cell_type": "code",
   "execution_count": 73,
   "id": "ff58134f",
   "metadata": {},
   "outputs": [
    {
     "data": {
      "text/plain": [
       "{65: 'phy', 76: 'bio', 78: 'chem', 90: 'maths'}"
      ]
     },
     "execution_count": 73,
     "metadata": {},
     "output_type": "execute_result"
    }
   ],
   "source": [
    "sub={'maths':90,'bio':76,'phy':65,'chem':78}\n",
    "key=sub.keys()\n",
    "value=sub.values()\n",
    "dict(sorted(dict(zip(value,key)).items()))"
   ]
  },
  {
   "cell_type": "code",
   "execution_count": 78,
   "id": "dcdee8c6",
   "metadata": {},
   "outputs": [
    {
     "name": "stdout",
     "output_type": "stream",
     "text": [
      "55.35,46\n",
      "55,35.46\n"
     ]
    }
   ],
   "source": [
    "#input ('55.35,46') Output ('55,35.46')  by using replace()\n",
    "a='55.35,46'\n",
    "print(a)\n",
    "a=a.replace('.','other')\n",
    "a=a.replace(',','.')\n",
    "a=a.replace('other',',')\n",
    "print(a)"
   ]
  },
  {
   "cell_type": "code",
   "execution_count": 83,
   "id": "ec50432c",
   "metadata": {},
   "outputs": [
    {
     "name": "stdout",
     "output_type": "stream",
     "text": [
      "r\n"
     ]
    }
   ],
   "source": [
    "#write a python program to find the first repeated char in a given string\n",
    "a='reshma rohit raj ravi'\n",
    "for i in a:\n",
    "    if a.count(i)>1:\n",
    "        print(i)\n",
    "        break"
   ]
  },
  {
   "cell_type": "code",
   "execution_count": 4,
   "id": "c4ab98a7",
   "metadata": {},
   "outputs": [
    {
     "name": "stdout",
     "output_type": "stream",
     "text": [
      "Enter The First Name : Reshma\n",
      "Enter The Last Name : Nikam\n",
      "Reshma Nikam\n"
     ]
    }
   ],
   "source": [
    "#ask for the user first name and then ask for their surname and display the output message.\n",
    "fname=input('Enter The First Name : ')\n",
    "lname=input('Enter The Last Name : ')\n",
    "print(fname,lname)"
   ]
  },
  {
   "cell_type": "code",
   "execution_count": 1,
   "id": "a18d7ebb",
   "metadata": {},
   "outputs": [
    {
     "name": "stdout",
     "output_type": "stream",
     "text": [
      "19\n",
      "Thank you\n"
     ]
    }
   ],
   "source": [
    "#ask the user to enter the number that is under 20 \n",
    "#if they enter a number that is 20 or more display the message \"too high\", otherwise display \"Thank you\"\n",
    "a=int(input())\n",
    "if a>20:\n",
    "    print('Too High')\n",
    "else:\n",
    "    print('Thank you')"
   ]
  },
  {
   "cell_type": "code",
   "execution_count": 3,
   "id": "6e149a1c",
   "metadata": {},
   "outputs": [
    {
     "name": "stdout",
     "output_type": "stream",
     "text": [
      "15\n",
      "You can go trick or traning\n"
     ]
    }
   ],
   "source": [
    "#ask the users age if they are 18 or over display the msg \"you can vote\" if they are aged 17,\n",
    "#display the msg \"you can learn to drive\" If they are 16 display the msg \"you can buy a lottery tickets\", \n",
    "#if they are under 16, display the msg \"you can go trick or traning\"\n",
    "age=int(input())\n",
    "if age>=18:\n",
    "    print('You can vote')\n",
    "elif age==17:\n",
    "    print('You can learn to drive')\n",
    "elif age==16:\n",
    "    print('You can buy a lottery tickets')\n",
    "else:\n",
    "    print('You can go trick or traning')"
   ]
  },
  {
   "cell_type": "code",
   "execution_count": 4,
   "id": "92f2d349",
   "metadata": {},
   "outputs": [
    {
     "name": "stdout",
     "output_type": "stream",
     "text": [
      "4\n",
      "Error Message\n"
     ]
    }
   ],
   "source": [
    "#Ask the user to enter 1,2,3 if they enter a 1. display the msg \"Thank you\" if they enter a 2 display \"well done\", \n",
    "#if they enter 3 dispaly the msg \"correct\" ,if they enter anything else, dispaly \"error msg\"\n",
    "num=int(input())\n",
    "if num==1:\n",
    "    print('Thank you')\n",
    "elif num==2:\n",
    "    print('Well Done')\n",
    "elif num==3:\n",
    "    print('Correct')\n",
    "else:\n",
    "    print('Error Message')"
   ]
  },
  {
   "cell_type": "code",
   "execution_count": 6,
   "id": "aed165b8",
   "metadata": {},
   "outputs": [
    {
     "name": "stdout",
     "output_type": "stream",
     "text": [
      "Enter The Number = 43\n",
      "50\n",
      "49\n",
      "48\n",
      "47\n",
      "46\n",
      "45\n",
      "44\n",
      "43\n"
     ]
    }
   ],
   "source": [
    "#Ask for a number below 50 and then countdown from 50 to that number.\n",
    "n=int(input('Enter The Number = '))\n",
    "for i in range(50,n-1,-1):\n",
    "    print(i)"
   ]
  },
  {
   "cell_type": "code",
   "execution_count": 2,
   "id": "4d23fee3",
   "metadata": {},
   "outputs": [
    {
     "name": "stdout",
     "output_type": "stream",
     "text": [
      "Enter the Name = Reshma\n",
      "Enter the Number= 11\n",
      "Too High\n",
      "Too High\n",
      "Too High\n"
     ]
    }
   ],
   "source": [
    "#ask the user to enter their name and a number, if the number is less than 10, then display their name that number of time\n",
    "#otherwise to display \"too high\" three time.\n",
    "name=(input('Enter the Name = '))\n",
    "a=int(input('Enter the Number= '))\n",
    "if a<10:\n",
    "    for i in range(0,a):\n",
    "        print(Name)\n",
    "else:\n",
    "    for i in range(0,3):\n",
    "        print('Too High')    "
   ]
  }
 ],
 "metadata": {
  "kernelspec": {
   "display_name": "Python 3 (ipykernel)",
   "language": "python",
   "name": "python3"
  },
  "language_info": {
   "codemirror_mode": {
    "name": "ipython",
    "version": 3
   },
   "file_extension": ".py",
   "mimetype": "text/x-python",
   "name": "python",
   "nbconvert_exporter": "python",
   "pygments_lexer": "ipython3",
   "version": "3.10.9"
  }
 },
 "nbformat": 4,
 "nbformat_minor": 5
}
