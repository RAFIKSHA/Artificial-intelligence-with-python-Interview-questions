{
 "cells": [
  {
   "cell_type": "markdown",
   "id": "57a3a2c6",
   "metadata": {},
   "source": [
    "Numpy Sort Function :"
   ]
  },
  {
   "cell_type": "markdown",
   "id": "3c3fe400",
   "metadata": {},
   "source": [
    "1.Ascending Order :"
   ]
  },
  {
   "cell_type": "code",
   "execution_count": 2,
   "id": "d61d8dbb",
   "metadata": {},
   "outputs": [
    {
     "data": {
      "text/plain": [
       "array([ 1,  2,  6, 21, 34, 54])"
      ]
     },
     "execution_count": 2,
     "metadata": {},
     "output_type": "execute_result"
    }
   ],
   "source": [
    "import numpy as np\n",
    "a=np.array((1,2,54,34,6,21))\n",
    "np.sort(a)"
   ]
  },
  {
   "cell_type": "markdown",
   "id": "97f0fbc6",
   "metadata": {},
   "source": [
    "2.Descending Order :"
   ]
  },
  {
   "cell_type": "markdown",
   "id": "72041723",
   "metadata": {},
   "source": [
    "sorted(a,reverse=True)"
   ]
  },
  {
   "cell_type": "code",
   "execution_count": 3,
   "id": "2471cbdc",
   "metadata": {},
   "outputs": [
    {
     "data": {
      "text/plain": [
       "array([54, 34, 21,  6,  2,  1])"
      ]
     },
     "execution_count": 3,
     "metadata": {},
     "output_type": "execute_result"
    }
   ],
   "source": [
    "np.sort(a)[::-1]"
   ]
  },
  {
   "cell_type": "markdown",
   "id": "6db7d445",
   "metadata": {},
   "source": [
    "3.Insert :"
   ]
  },
  {
   "cell_type": "code",
   "execution_count": 16,
   "id": "65c4afb2",
   "metadata": {},
   "outputs": [
    {
     "name": "stdout",
     "output_type": "stream",
     "text": [
      "[1 2 3 4 5]\n"
     ]
    },
    {
     "data": {
      "text/plain": [
       "array([  1,   2, 100,   3,   4,   5])"
      ]
     },
     "execution_count": 16,
     "metadata": {},
     "output_type": "execute_result"
    }
   ],
   "source": [
    "a=np.array((1,2,3,4,5))\n",
    "print(a)\n",
    "np.insert(a,2,100)"
   ]
  },
  {
   "cell_type": "markdown",
   "id": "0f6a1476",
   "metadata": {},
   "source": [
    "4.Append()"
   ]
  },
  {
   "cell_type": "code",
   "execution_count": 18,
   "id": "a27c12cc",
   "metadata": {},
   "outputs": [
    {
     "name": "stdout",
     "output_type": "stream",
     "text": [
      "[1 2 3 4 5]\n"
     ]
    }
   ],
   "source": [
    "a=np.array((1,2,3,4,5))\n",
    "print(a)\n",
    "np.append(10)"
   ]
  },
  {
   "cell_type": "markdown",
   "id": "e912a2a5",
   "metadata": {},
   "source": [
    "Append() :\n",
    "   Apend the value str at the last index of the array. "
   ]
  },
  {
   "cell_type": "code",
   "execution_count": 4,
   "id": "cc963c6b",
   "metadata": {},
   "outputs": [],
   "source": [
    "import numpy as np "
   ]
  },
  {
   "cell_type": "code",
   "execution_count": 15,
   "id": "fceb8eea",
   "metadata": {},
   "outputs": [
    {
     "data": {
      "text/plain": [
       "array([1, 2, 3, 4, 8])"
      ]
     },
     "execution_count": 15,
     "metadata": {},
     "output_type": "execute_result"
    }
   ],
   "source": [
    "np.array([1,2,3,4])\n",
    "np.append(a,8)"
   ]
  },
  {
   "cell_type": "code",
   "execution_count": 17,
   "id": "5d75a970",
   "metadata": {},
   "outputs": [
    {
     "data": {
      "text/plain": [
       "array([[ 0,  1,  2,  3],\n",
       "       [ 4,  5,  6,  7],\n",
       "       [ 8,  9, 10, 11],\n",
       "       [12, 13, 14, 15]])"
      ]
     },
     "execution_count": 17,
     "metadata": {},
     "output_type": "execute_result"
    }
   ],
   "source": [
    "#For Multidimensional Array    0=Row,1=Column\n",
    "a=np.arange(16).reshape(4,4)\n",
    "a"
   ]
  },
  {
   "cell_type": "markdown",
   "id": "fd72bd12",
   "metadata": {},
   "source": [
    "For column wise append number of rows has to be same.\n",
    "For row wise apend number of column has to be same."
   ]
  },
  {
   "cell_type": "code",
   "execution_count": 8,
   "id": "3c083b31",
   "metadata": {},
   "outputs": [
    {
     "data": {
      "text/plain": [
       "array([[0, 1],\n",
       "       [2, 3],\n",
       "       [4, 5],\n",
       "       [6, 7]])"
      ]
     },
     "execution_count": 8,
     "metadata": {},
     "output_type": "execute_result"
    }
   ],
   "source": [
    "b=np.arange(8).reshape(4,2)\n",
    "b"
   ]
  },
  {
   "cell_type": "code",
   "execution_count": 18,
   "id": "e53e9f22",
   "metadata": {},
   "outputs": [
    {
     "data": {
      "text/plain": [
       "array([[ 0,  1,  2,  3,  0,  1],\n",
       "       [ 4,  5,  6,  7,  2,  3],\n",
       "       [ 8,  9, 10, 11,  4,  5],\n",
       "       [12, 13, 14, 15,  6,  7]])"
      ]
     },
     "execution_count": 18,
     "metadata": {},
     "output_type": "execute_result"
    }
   ],
   "source": [
    "np.append(a,b,axis=1)"
   ]
  },
  {
   "cell_type": "code",
   "execution_count": 23,
   "id": "f8adcbda",
   "metadata": {},
   "outputs": [
    {
     "data": {
      "text/plain": [
       "array([[ 0,  1,  2,  3,  4,  5,  6,  7,  8,  9],\n",
       "       [10, 11, 12, 13, 14, 15, 16, 17, 18, 19],\n",
       "       [20, 21, 22, 23, 24, 25, 26, 27, 28, 29],\n",
       "       [30, 31, 32, 33, 34, 35, 36, 37, 38, 39],\n",
       "       [40, 41, 42, 43, 44, 45, 46, 47, 48, 49]])"
      ]
     },
     "execution_count": 23,
     "metadata": {},
     "output_type": "execute_result"
    }
   ],
   "source": [
    "a=np.arange(50).reshape(5,10)\n",
    "a"
   ]
  },
  {
   "cell_type": "code",
   "execution_count": 24,
   "id": "ba9c597f",
   "metadata": {},
   "outputs": [
    {
     "data": {
      "text/plain": [
       "array([[ 0,  1,  2,  3,  4,  5,  6,  7],\n",
       "       [ 8,  9, 10, 11, 12, 13, 14, 15],\n",
       "       [16, 17, 18, 19, 20, 21, 22, 23],\n",
       "       [24, 25, 26, 27, 28, 29, 30, 31],\n",
       "       [32, 33, 34, 35, 36, 37, 38, 39]])"
      ]
     },
     "execution_count": 24,
     "metadata": {},
     "output_type": "execute_result"
    }
   ],
   "source": [
    "b=np.arange(40).reshape(5,8)\n",
    "b"
   ]
  },
  {
   "cell_type": "code",
   "execution_count": 25,
   "id": "6d08172d",
   "metadata": {},
   "outputs": [
    {
     "data": {
      "text/plain": [
       "array([[ 0,  1,  2,  3,  4,  5,  6,  7,  8,  9,  0,  1,  2,  3,  4,  5,\n",
       "         6,  7],\n",
       "       [10, 11, 12, 13, 14, 15, 16, 17, 18, 19,  8,  9, 10, 11, 12, 13,\n",
       "        14, 15],\n",
       "       [20, 21, 22, 23, 24, 25, 26, 27, 28, 29, 16, 17, 18, 19, 20, 21,\n",
       "        22, 23],\n",
       "       [30, 31, 32, 33, 34, 35, 36, 37, 38, 39, 24, 25, 26, 27, 28, 29,\n",
       "        30, 31],\n",
       "       [40, 41, 42, 43, 44, 45, 46, 47, 48, 49, 32, 33, 34, 35, 36, 37,\n",
       "        38, 39]])"
      ]
     },
     "execution_count": 25,
     "metadata": {},
     "output_type": "execute_result"
    }
   ],
   "source": [
    "np.append(a,b,axis=1)"
   ]
  },
  {
   "cell_type": "markdown",
   "id": "855390ca",
   "metadata": {},
   "source": [
    "Concatenate :\n",
    "  Concatenate the arrays  along the axis :\n",
    "1.Row-wise Concatenate :\n",
    "    Number of column has to be same.\n",
    "  Syntax :\n",
    "    np.concatenate([array1,array2,axis=0])\n",
    "2.Column-wise Concatenate :\n",
    "    Number of row has to be same.\n",
    "  Syntax :\n",
    "    np.concatenate([array1,array2,axis=1])"
   ]
  },
  {
   "cell_type": "code",
   "execution_count": 35,
   "id": "22559c98",
   "metadata": {},
   "outputs": [],
   "source": [
    "#1.Row-wise Concatenate\n",
    "array1=np.arange(16).reshape(4,4)\n",
    "array2=np.arange(20).reshape(4,5)"
   ]
  },
  {
   "cell_type": "code",
   "execution_count": 37,
   "id": "7fa1cca6",
   "metadata": {},
   "outputs": [
    {
     "data": {
      "text/plain": [
       "array([[ 0,  1,  2,  3,  0,  1,  2,  3,  4],\n",
       "       [ 4,  5,  6,  7,  5,  6,  7,  8,  9],\n",
       "       [ 8,  9, 10, 11, 10, 11, 12, 13, 14],\n",
       "       [12, 13, 14, 15, 15, 16, 17, 18, 19]])"
      ]
     },
     "execution_count": 37,
     "metadata": {},
     "output_type": "execute_result"
    }
   ],
   "source": [
    "a=np.concatenate([array1,array2],axis=1)\n",
    "a"
   ]
  },
  {
   "cell_type": "code",
   "execution_count": 38,
   "id": "dcaf8f6f",
   "metadata": {},
   "outputs": [],
   "source": [
    "#2.Column-wise Concatenate\n",
    "array1=np.arange(10).reshape(5,2)\n",
    "array2=np.arange(12).reshape(6,2)"
   ]
  },
  {
   "cell_type": "code",
   "execution_count": 39,
   "id": "dd8c28be",
   "metadata": {},
   "outputs": [
    {
     "data": {
      "text/plain": [
       "array([[ 0,  1],\n",
       "       [ 2,  3],\n",
       "       [ 4,  5],\n",
       "       [ 6,  7],\n",
       "       [ 8,  9],\n",
       "       [ 0,  1],\n",
       "       [ 2,  3],\n",
       "       [ 4,  5],\n",
       "       [ 6,  7],\n",
       "       [ 8,  9],\n",
       "       [10, 11]])"
      ]
     },
     "execution_count": 39,
     "metadata": {},
     "output_type": "execute_result"
    }
   ],
   "source": [
    "a=np.concatenate([array1,array2],axis=0)\n",
    "a"
   ]
  },
  {
   "cell_type": "markdown",
   "id": "6f768a95",
   "metadata": {},
   "source": [
    "Ceil() :\n",
    "  It will yield out the maximum closet whole number to that decimal number."
   ]
  },
  {
   "cell_type": "code",
   "execution_count": 42,
   "id": "b383e8e6",
   "metadata": {},
   "outputs": [
    {
     "data": {
      "text/plain": [
       "11.0"
      ]
     },
     "execution_count": 42,
     "metadata": {},
     "output_type": "execute_result"
    }
   ],
   "source": [
    "a=10.2\n",
    "np.ceil(a)"
   ]
  },
  {
   "cell_type": "code",
   "execution_count": 44,
   "id": "c0cccadb",
   "metadata": {},
   "outputs": [
    {
     "data": {
      "text/plain": [
       "10.0"
      ]
     },
     "execution_count": 44,
     "metadata": {},
     "output_type": "execute_result"
    }
   ],
   "source": [
    "a=10.0\n",
    "np.ceil(a)"
   ]
  },
  {
   "cell_type": "markdown",
   "id": "b2e9b80c",
   "metadata": {},
   "source": [
    "Floor :\n",
    "  It will yeild out the minimum closet number."
   ]
  },
  {
   "cell_type": "code",
   "execution_count": 45,
   "id": "28780ae0",
   "metadata": {},
   "outputs": [
    {
     "data": {
      "text/plain": [
       "10.0"
      ]
     },
     "execution_count": 45,
     "metadata": {},
     "output_type": "execute_result"
    }
   ],
   "source": [
    "np.floor(10.9)"
   ]
  },
  {
   "cell_type": "markdown",
   "id": "c3e1c2a8",
   "metadata": {},
   "source": [
    "Around :\n",
    " Work extactly like around function for decimal part less than .5 it chooses minimum whole number otherwise closet maximum      number."
   ]
  },
  {
   "cell_type": "code",
   "execution_count": 46,
   "id": "3416314e",
   "metadata": {},
   "outputs": [
    {
     "data": {
      "text/plain": [
       "10.0"
      ]
     },
     "execution_count": 46,
     "metadata": {},
     "output_type": "execute_result"
    }
   ],
   "source": [
    "np.around(10.2)"
   ]
  },
  {
   "cell_type": "code",
   "execution_count": 49,
   "id": "b27a7932",
   "metadata": {},
   "outputs": [
    {
     "data": {
      "text/plain": [
       "11.0"
      ]
     },
     "execution_count": 49,
     "metadata": {},
     "output_type": "execute_result"
    }
   ],
   "source": [
    "np.around(10.7)"
   ]
  },
  {
   "cell_type": "code",
   "execution_count": 50,
   "id": "4c8f88e7",
   "metadata": {},
   "outputs": [
    {
     "data": {
      "text/plain": [
       "10.0"
      ]
     },
     "execution_count": 50,
     "metadata": {},
     "output_type": "execute_result"
    }
   ],
   "source": [
    "np.around(10.5)  #even"
   ]
  },
  {
   "cell_type": "code",
   "execution_count": 51,
   "id": "50b8d932",
   "metadata": {},
   "outputs": [
    {
     "data": {
      "text/plain": [
       "12.0"
      ]
     },
     "execution_count": 51,
     "metadata": {},
     "output_type": "execute_result"
    }
   ],
   "source": [
    "np.around(11.5)  #odd"
   ]
  },
  {
   "cell_type": "markdown",
   "id": "fa667367",
   "metadata": {},
   "source": [
    "Where :\n",
    "  Syntax :\n",
    "    np.where(condition, if meet, if does not meet)\n",
    "    np.where(condition, true, false)"
   ]
  },
  {
   "cell_type": "code",
   "execution_count": 57,
   "id": "79a069d4",
   "metadata": {},
   "outputs": [
    {
     "data": {
      "text/plain": [
       "(array([4], dtype=int64),)"
      ]
     },
     "execution_count": 57,
     "metadata": {},
     "output_type": "execute_result"
    }
   ],
   "source": [
    "a=np.array([12,3,4,5,41,2])\n",
    "a\n",
    "np.where(a==41)"
   ]
  },
  {
   "cell_type": "code",
   "execution_count": 58,
   "id": "20ed7662",
   "metadata": {},
   "outputs": [
    {
     "data": {
      "text/plain": [
       "array([ 12,   3,   4,   5, 100,   2])"
      ]
     },
     "execution_count": 58,
     "metadata": {},
     "output_type": "execute_result"
    }
   ],
   "source": [
    "a=np.array([12,3,4,5,41,2])\n",
    "a\n",
    "np.where(a==41,100,a)"
   ]
  },
  {
   "cell_type": "code",
   "execution_count": 61,
   "id": "fa7f0c96",
   "metadata": {},
   "outputs": [
    {
     "data": {
      "text/plain": [
       "array(['Dhoni', 'Raina', 'Rohit', 'Virat Kohli'], dtype='<U11')"
      ]
     },
     "execution_count": 61,
     "metadata": {},
     "output_type": "execute_result"
    }
   ],
   "source": [
    "a=np.array(['Dhoni','Raina','Rohit','Virat'])\n",
    "a\n",
    "np.where(a=='Virat','Virat Kohli',a)"
   ]
  },
  {
   "cell_type": "markdown",
   "id": "9562ccd2",
   "metadata": {},
   "source": [
    "Argmax And Argmin:"
   ]
  },
  {
   "cell_type": "code",
   "execution_count": 65,
   "id": "c6a8fadd",
   "metadata": {},
   "outputs": [
    {
     "data": {
      "text/plain": [
       "(5, 0)"
      ]
     },
     "execution_count": 65,
     "metadata": {},
     "output_type": "execute_result"
    }
   ],
   "source": [
    "a=np.array([1,20,4,52,423,424,2,80,54])\n",
    "np.argmax(a),np.argmin(a)"
   ]
  },
  {
   "cell_type": "markdown",
   "id": "4d855774",
   "metadata": {},
   "source": [
    "Size :"
   ]
  },
  {
   "cell_type": "code",
   "execution_count": 67,
   "id": "5a18e5af",
   "metadata": {},
   "outputs": [
    {
     "data": {
      "text/plain": [
       "9"
      ]
     },
     "execution_count": 67,
     "metadata": {},
     "output_type": "execute_result"
    }
   ],
   "source": [
    "a=np.array([1,20,4,52,423,424,2,80,54])\n",
    "np.size(a)"
   ]
  },
  {
   "cell_type": "markdown",
   "id": "ac2e87aa",
   "metadata": {},
   "source": [
    "Min, Max, Sum, Mean, Average, Len, Standard Deviation, Variance :"
   ]
  },
  {
   "cell_type": "code",
   "execution_count": 68,
   "id": "3beaf8f6",
   "metadata": {},
   "outputs": [
    {
     "data": {
      "text/plain": [
       "1"
      ]
     },
     "execution_count": 68,
     "metadata": {},
     "output_type": "execute_result"
    }
   ],
   "source": [
    "#Min\n",
    "np.min(a)"
   ]
  },
  {
   "cell_type": "code",
   "execution_count": 69,
   "id": "152766c5",
   "metadata": {},
   "outputs": [
    {
     "data": {
      "text/plain": [
       "424"
      ]
     },
     "execution_count": 69,
     "metadata": {},
     "output_type": "execute_result"
    }
   ],
   "source": [
    "#Max\n",
    "np.max(a)"
   ]
  },
  {
   "cell_type": "code",
   "execution_count": 71,
   "id": "09e12ed0",
   "metadata": {},
   "outputs": [
    {
     "data": {
      "text/plain": [
       "117.77777777777777"
      ]
     },
     "execution_count": 71,
     "metadata": {},
     "output_type": "execute_result"
    }
   ],
   "source": [
    "#Mean\n",
    "np.mean(a)"
   ]
  },
  {
   "cell_type": "code",
   "execution_count": 72,
   "id": "632bf5e9",
   "metadata": {},
   "outputs": [
    {
     "data": {
      "text/plain": [
       "117.77777777777777"
      ]
     },
     "execution_count": 72,
     "metadata": {},
     "output_type": "execute_result"
    }
   ],
   "source": [
    "#Average\n",
    "np.average(a)"
   ]
  },
  {
   "cell_type": "code",
   "execution_count": 74,
   "id": "a4b70e57",
   "metadata": {},
   "outputs": [
    {
     "data": {
      "text/plain": [
       "165.42925831355478"
      ]
     },
     "execution_count": 74,
     "metadata": {},
     "output_type": "execute_result"
    }
   ],
   "source": [
    "#Standard Deviation\n",
    "np.std(a)"
   ]
  },
  {
   "cell_type": "code",
   "execution_count": 77,
   "id": "be93a974",
   "metadata": {},
   "outputs": [
    {
     "data": {
      "text/plain": [
       "27366.839506172837"
      ]
     },
     "execution_count": 77,
     "metadata": {},
     "output_type": "execute_result"
    }
   ],
   "source": [
    "#Variance\n",
    "np.var(a)"
   ]
  },
  {
   "cell_type": "markdown",
   "id": "f294b875",
   "metadata": {},
   "source": [
    "Numpy Matrix :"
   ]
  },
  {
   "cell_type": "markdown",
   "id": "612a69f2",
   "metadata": {},
   "source": [
    "1.Dot Matrix :"
   ]
  },
  {
   "cell_type": "code",
   "execution_count": 86,
   "id": "379c0275",
   "metadata": {},
   "outputs": [
    {
     "data": {
      "text/plain": [
       "array([[  8,   9,  10,  11,  12,  13,  14,  15],\n",
       "       [ 24,  29,  34,  39,  44,  49,  54,  59],\n",
       "       [ 40,  49,  58,  67,  76,  85,  94, 103],\n",
       "       [ 56,  69,  82,  95, 108, 121, 134, 147],\n",
       "       [ 72,  89, 106, 123, 140, 157, 174, 191]])"
      ]
     },
     "execution_count": 86,
     "metadata": {},
     "output_type": "execute_result"
    }
   ],
   "source": [
    "a=np.arange(10).reshape(5,2)\n",
    "b=np.arange(16).reshape(2,8)\n",
    "a,b\n",
    "np.dot(a,b)"
   ]
  },
  {
   "cell_type": "markdown",
   "id": "d414047f",
   "metadata": {},
   "source": [
    "2.Numpy Linear Algebra :"
   ]
  },
  {
   "cell_type": "code",
   "execution_count": 91,
   "id": "bd832307",
   "metadata": {},
   "outputs": [
    {
     "data": {
      "text/plain": [
       "array([-5. ,  7.5])"
      ]
     },
     "execution_count": 91,
     "metadata": {},
     "output_type": "execute_result"
    }
   ],
   "source": [
    "#3x+4y=15\n",
    "#5x+6y=20\n",
    "a=np.array([[3,4],[5,6]])\n",
    "b=np.array([15,20])\n",
    "a,b\n",
    "np.linalg.solve(a,b)"
   ]
  },
  {
   "cell_type": "code",
   "execution_count": 92,
   "id": "3a57283c",
   "metadata": {},
   "outputs": [
    {
     "data": {
      "text/plain": [
       "array([[-3. ,  2. ],\n",
       "       [ 2.5, -1.5]])"
      ]
     },
     "execution_count": 92,
     "metadata": {},
     "output_type": "execute_result"
    }
   ],
   "source": [
    "#Inverse Matrix\n",
    "np.linalg.inv(a)"
   ]
  },
  {
   "cell_type": "code",
   "execution_count": 94,
   "id": "2a7027da",
   "metadata": {},
   "outputs": [
    {
     "data": {
      "text/plain": [
       "array([-0.21699057,  9.21699057])"
      ]
     },
     "execution_count": 94,
     "metadata": {},
     "output_type": "execute_result"
    }
   ],
   "source": [
    "#Eigen Matrix\n",
    "np.linalg.eigvals(a)"
   ]
  },
  {
   "cell_type": "code",
   "execution_count": 90,
   "id": "408cde0c",
   "metadata": {},
   "outputs": [
    {
     "data": {
      "text/plain": [
       "2"
      ]
     },
     "execution_count": 90,
     "metadata": {},
     "output_type": "execute_result"
    }
   ],
   "source": [
    "#Rank\n",
    "np.linalg.matrix_rank(a)"
   ]
  },
  {
   "cell_type": "markdown",
   "id": "7c49f1b7",
   "metadata": {},
   "source": [
    "Log Function :"
   ]
  },
  {
   "cell_type": "code",
   "execution_count": 78,
   "id": "1fbeaf13",
   "metadata": {},
   "outputs": [
    {
     "data": {
      "text/plain": [
       "2.302585092994046"
      ]
     },
     "execution_count": 78,
     "metadata": {},
     "output_type": "execute_result"
    }
   ],
   "source": [
    "np.log(10)"
   ]
  },
  {
   "cell_type": "code",
   "execution_count": 79,
   "id": "c8c87984",
   "metadata": {},
   "outputs": [
    {
     "data": {
      "text/plain": [
       "1.0"
      ]
     },
     "execution_count": 79,
     "metadata": {},
     "output_type": "execute_result"
    }
   ],
   "source": [
    "np.log10(10)"
   ]
  },
  {
   "cell_type": "code",
   "execution_count": 80,
   "id": "edabaf0d",
   "metadata": {},
   "outputs": [
    {
     "name": "stderr",
     "output_type": "stream",
     "text": [
      "C:\\Users\\Rudra Computer\\AppData\\Local\\Temp\\ipykernel_3144\\2933082444.py:1: RuntimeWarning: divide by zero encountered in log\n",
      "  np.log(0)\n"
     ]
    },
    {
     "data": {
      "text/plain": [
       "-inf"
      ]
     },
     "execution_count": 80,
     "metadata": {},
     "output_type": "execute_result"
    }
   ],
   "source": [
    "np.log(0)"
   ]
  },
  {
   "cell_type": "code",
   "execution_count": 81,
   "id": "dc16070b",
   "metadata": {},
   "outputs": [
    {
     "data": {
      "text/plain": [
       "22026.465794806718"
      ]
     },
     "execution_count": 81,
     "metadata": {},
     "output_type": "execute_result"
    }
   ],
   "source": [
    "#Expotential\n",
    "np.exp(10)"
   ]
  },
  {
   "cell_type": "code",
   "execution_count": 82,
   "id": "24571b9e",
   "metadata": {},
   "outputs": [
    {
     "data": {
      "text/plain": [
       "2.718281828459045"
      ]
     },
     "execution_count": 82,
     "metadata": {},
     "output_type": "execute_result"
    }
   ],
   "source": [
    "np.exp(np.log10(10))"
   ]
  },
  {
   "cell_type": "code",
   "execution_count": 83,
   "id": "b7a19497",
   "metadata": {},
   "outputs": [
    {
     "data": {
      "text/plain": [
       "2.718281828459045"
      ]
     },
     "execution_count": 83,
     "metadata": {},
     "output_type": "execute_result"
    }
   ],
   "source": [
    "np.exp(1)"
   ]
  },
  {
   "cell_type": "code",
   "execution_count": 84,
   "id": "87377017",
   "metadata": {},
   "outputs": [
    {
     "data": {
      "text/plain": [
       "0.0"
      ]
     },
     "execution_count": 84,
     "metadata": {},
     "output_type": "execute_result"
    }
   ],
   "source": [
    "np.log2(1)"
   ]
  },
  {
   "cell_type": "code",
   "execution_count": 85,
   "id": "02b22d99",
   "metadata": {},
   "outputs": [
    {
     "data": {
      "text/plain": [
       "1.0"
      ]
     },
     "execution_count": 85,
     "metadata": {},
     "output_type": "execute_result"
    }
   ],
   "source": [
    "np.log2(2)"
   ]
  },
  {
   "cell_type": "markdown",
   "id": "fdcb2d0c",
   "metadata": {},
   "source": [
    "Trignometry Function :"
   ]
  },
  {
   "cell_type": "code",
   "execution_count": 95,
   "id": "bc589a02",
   "metadata": {},
   "outputs": [
    {
     "data": {
      "text/plain": [
       "3.141592653589793"
      ]
     },
     "execution_count": 95,
     "metadata": {},
     "output_type": "execute_result"
    }
   ],
   "source": [
    "np.pi"
   ]
  },
  {
   "cell_type": "code",
   "execution_count": 97,
   "id": "6d174394",
   "metadata": {},
   "outputs": [
    {
     "data": {
      "text/plain": [
       "0.05233595624294383"
      ]
     },
     "execution_count": 97,
     "metadata": {},
     "output_type": "execute_result"
    }
   ],
   "source": [
    "np.sin(np.pi/60)"
   ]
  },
  {
   "cell_type": "code",
   "execution_count": 99,
   "id": "bf85c122",
   "metadata": {},
   "outputs": [
    {
     "data": {
      "text/plain": [
       "0.9999999999999999"
      ]
     },
     "execution_count": 99,
     "metadata": {},
     "output_type": "execute_result"
    }
   ],
   "source": [
    "np.tan(np.pi/4)"
   ]
  },
  {
   "cell_type": "code",
   "execution_count": 103,
   "id": "9bfdf53a",
   "metadata": {},
   "outputs": [
    {
     "data": {
      "text/plain": [
       "(0.5235987755982988, 0.49999999999999994)"
      ]
     },
     "execution_count": 103,
     "metadata": {},
     "output_type": "execute_result"
    }
   ],
   "source": [
    "#Degree To Radian :\n",
    "np.deg2rad(30),np.sin(0.5235987755982988)"
   ]
  },
  {
   "cell_type": "code",
   "execution_count": 104,
   "id": "5d2afd05",
   "metadata": {},
   "outputs": [
    {
     "data": {
      "text/plain": [
       "6.0"
      ]
     },
     "execution_count": 104,
     "metadata": {},
     "output_type": "execute_result"
    }
   ],
   "source": [
    "#Radian To Radian :\n",
    "np.rad2deg(np.pi/30)"
   ]
  },
  {
   "cell_type": "code",
   "execution_count": 105,
   "id": "7e960b0f",
   "metadata": {},
   "outputs": [
    {
     "data": {
      "text/plain": [
       "29.999999999999996"
      ]
     },
     "execution_count": 105,
     "metadata": {},
     "output_type": "execute_result"
    }
   ],
   "source": [
    "#Degrees\n",
    "np.degrees(np.pi/6)"
   ]
  },
  {
   "cell_type": "code",
   "execution_count": 109,
   "id": "03c5ee91",
   "metadata": {},
   "outputs": [
    {
     "data": {
      "text/plain": [
       "4"
      ]
     },
     "execution_count": 109,
     "metadata": {},
     "output_type": "execute_result"
    }
   ],
   "source": [
    "a=np.array([42,4,63,24,15,51,34,52,532])\n",
    "np.bincount(a).argmax()"
   ]
  },
  {
   "cell_type": "code",
   "execution_count": null,
   "id": "07259c1d",
   "metadata": {},
   "outputs": [],
   "source": []
  }
 ],
 "metadata": {
  "kernelspec": {
   "display_name": "Python 3 (ipykernel)",
   "language": "python",
   "name": "python3"
  },
  "language_info": {
   "codemirror_mode": {
    "name": "ipython",
    "version": 3
   },
   "file_extension": ".py",
   "mimetype": "text/x-python",
   "name": "python",
   "nbconvert_exporter": "python",
   "pygments_lexer": "ipython3",
   "version": "3.10.9"
  }
 },
 "nbformat": 4,
 "nbformat_minor": 5
}
