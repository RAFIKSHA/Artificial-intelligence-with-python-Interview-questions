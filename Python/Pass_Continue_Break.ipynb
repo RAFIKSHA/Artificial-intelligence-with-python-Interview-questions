{
 "cells": [
  {
   "cell_type": "markdown",
   "id": "0181b3dd",
   "metadata": {},
   "source": [
    "Pass :\n",
    "  Pass is used so as to neither express any statement further for bybass the condition or loop.\n",
    "  Pass does not stop or break the iteration.\n",
    "  Pass is also use along with conditional statement."
   ]
  },
  {
   "cell_type": "code",
   "execution_count": 2,
   "id": "e9da7918",
   "metadata": {},
   "outputs": [],
   "source": [
    "a=[1,2,3,4,5]\n",
    "for i in a:\n",
    "    pass"
   ]
  },
  {
   "cell_type": "code",
   "execution_count": 4,
   "id": "d8acd27a",
   "metadata": {},
   "outputs": [
    {
     "name": "stdout",
     "output_type": "stream",
     "text": [
      "6\n"
     ]
    }
   ],
   "source": [
    "for i in a:\n",
    "    pass\n",
    "else:\n",
    "    print(i+1)"
   ]
  },
  {
   "cell_type": "code",
   "execution_count": 3,
   "id": "5487162c",
   "metadata": {},
   "outputs": [
    {
     "name": "stdout",
     "output_type": "stream",
     "text": [
      "7\n"
     ]
    }
   ],
   "source": [
    "a=[33,4,5,6,7]\n",
    "for i in a:\n",
    "    pass\n",
    "else:\n",
    "    print(i)"
   ]
  },
  {
   "cell_type": "markdown",
   "id": "dcbe9fc5",
   "metadata": {},
   "source": [
    "Continue :\n",
    "  Continue will break the current iteration and loop on the next iteration."
   ]
  },
  {
   "cell_type": "code",
   "execution_count": 1,
   "id": "5dced49f",
   "metadata": {},
   "outputs": [
    {
     "name": "stdout",
     "output_type": "stream",
     "text": [
      "1\n",
      "2\n",
      "3\n",
      "4\n"
     ]
    }
   ],
   "source": [
    "a=[1,2,3,4,5]\n",
    "for i in a:\n",
    "    if i==5:\n",
    "        continue\n",
    "    print(i)"
   ]
  },
  {
   "cell_type": "markdown",
   "id": "30e515a3",
   "metadata": {},
   "source": [
    "Break :\n",
    " Break will break the entire loop and come out of the loop, it also will not execute any operation in the else from for else."
   ]
  },
  {
   "cell_type": "code",
   "execution_count": 1,
   "id": "1e2005f9",
   "metadata": {},
   "outputs": [
    {
     "name": "stdout",
     "output_type": "stream",
     "text": [
      "33\n",
      "4\n",
      "5\n"
     ]
    }
   ],
   "source": [
    "a=[33, 4, 5, 6, 7]\n",
    "for i in a:\n",
    "    if i==6:\n",
    "        break\n",
    "    print(i)"
   ]
  }
 ],
 "metadata": {
  "kernelspec": {
   "display_name": "Python 3 (ipykernel)",
   "language": "python",
   "name": "python3"
  },
  "language_info": {
   "codemirror_mode": {
    "name": "ipython",
    "version": 3
   },
   "file_extension": ".py",
   "mimetype": "text/x-python",
   "name": "python",
   "nbconvert_exporter": "python",
   "pygments_lexer": "ipython3",
   "version": "3.10.9"
  }
 },
 "nbformat": 4,
 "nbformat_minor": 5
}
