{
 "cells": [
  {
   "cell_type": "code",
   "execution_count": 1,
   "id": "ee2d01bc",
   "metadata": {},
   "outputs": [
    {
     "name": "stdout",
     "output_type": "stream",
     "text": [
      "Enter x value =3\n",
      "61\n"
     ]
    }
   ],
   "source": [
    "x=int(input('Enter x value ='))    #y=x^3+3(x^2)+2x+1\n",
    "y=x**3+3*(x**2)+2*x+1\n",
    "print(y)"
   ]
  },
  {
   "cell_type": "code",
   "execution_count": 2,
   "id": "2c6d41ae",
   "metadata": {},
   "outputs": [
    {
     "name": "stdout",
     "output_type": "stream",
     "text": [
      "put radius=3\n",
      "28.26\n"
     ]
    }
   ],
   "source": [
    "r=eval(input('put radius='))      #3.14*r^2\n",
    "a=(3.14*r**2)\n",
    "print(a)"
   ]
  },
  {
   "cell_type": "code",
   "execution_count": 4,
   "id": "adfb43ca",
   "metadata": {},
   "outputs": [
    {
     "name": "stdout",
     "output_type": "stream",
     "text": [
      "4\n",
      "6\n",
      "less value\n"
     ]
    }
   ],
   "source": [
    "x=int(input())\n",
    "y=int(input())\n",
    "if (x+y)>25:\n",
    "   print('greater value')\n",
    "else:\n",
    "   print('less value')"
   ]
  },
  {
   "cell_type": "code",
   "execution_count": 8,
   "id": "3f85f216",
   "metadata": {},
   "outputs": [
    {
     "name": "stdout",
     "output_type": "stream",
     "text": [
      "719\n",
      "9\n",
      "Greater value\n"
     ]
    }
   ],
   "source": [
    "x=int(input())\n",
    "y=int(input())\n",
    "if (x+y)>25:\n",
    "   print('Greater value')\n",
    "else:\n",
    "   print('less value')"
   ]
  },
  {
   "cell_type": "code",
   "execution_count": null,
   "id": "658d9c24",
   "metadata": {},
   "outputs": [],
   "source": []
  },
  {
   "cell_type": "code",
   "execution_count": null,
   "id": "7d0eeac0",
   "metadata": {},
   "outputs": [],
   "source": []
  }
 ],
 "metadata": {
  "kernelspec": {
   "display_name": "Python 3 (ipykernel)",
   "language": "python",
   "name": "python3"
  },
  "language_info": {
   "codemirror_mode": {
    "name": "ipython",
    "version": 3
   },
   "file_extension": ".py",
   "mimetype": "text/x-python",
   "name": "python",
   "nbconvert_exporter": "python",
   "pygments_lexer": "ipython3",
   "version": "3.10.9"
  }
 },
 "nbformat": 4,
 "nbformat_minor": 5
}
