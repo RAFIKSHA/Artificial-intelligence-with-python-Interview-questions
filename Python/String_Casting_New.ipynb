{
 "cells": [
  {
   "cell_type": "markdown",
   "id": "5f5302ea",
   "metadata": {},
   "source": [
    "String And its Function"
   ]
  },
  {
   "cell_type": "code",
   "execution_count": 5,
   "id": "6cea4e67",
   "metadata": {},
   "outputs": [
    {
     "name": "stdout",
     "output_type": "stream",
     "text": [
      "casting str\n",
      "123\n",
      "<class 'int'>\n",
      "----------------------------------------------------------------------------------------------------\n",
      "123\n",
      "<class 'str'>\n"
     ]
    }
   ],
   "source": [
    "#str Casting\n",
    "\"\"\"casting str\"\"\"\n",
    "print(__doc__)\n",
    "a=123\n",
    "print(a)\n",
    "str(a)\n",
    "print(type(a))\n",
    "print('--'*50)\n",
    "b=str(a)\n",
    "print(b)\n",
    "print(type(b))"
   ]
  },
  {
   "cell_type": "code",
   "execution_count": 11,
   "id": "f0badde5",
   "metadata": {},
   "outputs": [
    {
     "name": "stdout",
     "output_type": "stream",
     "text": [
      "Take user print\n",
      "Enter a TextReshma\n",
      "Reshma\n",
      "<class 'str'>\n",
      "------------------------------------------------\n",
      "Take user print\n",
      "Enter a Text(23,23)\n",
      "(23, 23)\n",
      "<class 'tuple'>\n"
     ]
    }
   ],
   "source": [
    "\"\"\"Take user print\"\"\"\n",
    "print(__doc__)\n",
    "a=input('Enter a Text')\n",
    "print(a)\n",
    "print(type(a))\n",
    "print('--'*24)\n",
    "#Eval input\n",
    "print(__doc__)\n",
    "b=eval(input('Enter a Text'))\n",
    "print(b)\n",
    "print(type(b))"
   ]
  },
  {
   "cell_type": "code",
   "execution_count": 9,
   "id": "e7e50a54",
   "metadata": {},
   "outputs": [
    {
     "name": "stdout",
     "output_type": "stream",
     "text": [
      "\n"
     ]
    }
   ],
   "source": [
    "print('' or '')"
   ]
  },
  {
   "cell_type": "code",
   "execution_count": 10,
   "id": "4acea93e",
   "metadata": {},
   "outputs": [
    {
     "name": "stdout",
     "output_type": "stream",
     "text": [
      "20\n"
     ]
    }
   ],
   "source": [
    "print(20 or 3)"
   ]
  },
  {
   "cell_type": "code",
   "execution_count": 7,
   "id": "de2a306a",
   "metadata": {},
   "outputs": [
    {
     "name": "stdout",
     "output_type": "stream",
     "text": [
      "\n"
     ]
    }
   ],
   "source": [
    "print('' and '')"
   ]
  },
  {
   "cell_type": "code",
   "execution_count": 8,
   "id": "3bde3b30",
   "metadata": {},
   "outputs": [
    {
     "name": "stdout",
     "output_type": "stream",
     "text": [
      "3\n"
     ]
    }
   ],
   "source": [
    "print(20 and 3)"
   ]
  },
  {
   "cell_type": "code",
   "execution_count": 12,
   "id": "01bf0716",
   "metadata": {},
   "outputs": [
    {
     "data": {
      "text/plain": [
       "'yth'"
      ]
     },
     "execution_count": 12,
     "metadata": {},
     "output_type": "execute_result"
    }
   ],
   "source": [
    "#str is immmutable datatype\n",
    "a='python'\n",
    "a[1:4]"
   ]
  },
  {
   "cell_type": "code",
   "execution_count": 1,
   "id": "5b08301a",
   "metadata": {},
   "outputs": [
    {
     "name": "stdout",
     "output_type": "stream",
     "text": [
      "23\n"
     ]
    }
   ],
   "source": [
    "a=23\n",
    "s=str(a)\n",
    "print(s)"
   ]
  }
 ],
 "metadata": {
  "kernelspec": {
   "display_name": "Python 3 (ipykernel)",
   "language": "python",
   "name": "python3"
  },
  "language_info": {
   "codemirror_mode": {
    "name": "ipython",
    "version": 3
   },
   "file_extension": ".py",
   "mimetype": "text/x-python",
   "name": "python",
   "nbconvert_exporter": "python",
   "pygments_lexer": "ipython3",
   "version": "3.10.9"
  }
 },
 "nbformat": 4,
 "nbformat_minor": 5
}
