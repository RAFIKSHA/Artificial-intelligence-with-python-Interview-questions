{
 "cells": [
  {
   "cell_type": "markdown",
   "id": "cb0437b2",
   "metadata": {},
   "source": [
    "Regular Expression : (regex-re)\n",
    "  Is one of the fundamental libary of python that deals with the text data.\n",
    "  It uses re function that uses a sequence of character which from a search pattern.\n",
    "   Uses--> NLP(Natural Language Procseeing), Text mining, Data processing, Web scrapping. "
   ]
  },
  {
   "cell_type": "markdown",
   "id": "91abafc6",
   "metadata": {},
   "source": [
    "re >> Regular Expression << regex"
   ]
  },
  {
   "cell_type": "markdown",
   "id": "26c0cb77",
   "metadata": {},
   "source": [
    "Findall :\n",
    "  Return a list of item that matches the search pattern (return all non overlapping matches).\n",
    " Syntax :\n",
    "   variable=re.findall('pattern',text data)\n",
    "   variable--> list return"
   ]
  },
  {
   "cell_type": "markdown",
   "id": "44609a96",
   "metadata": {},
   "source": [
    "[]--> Represent char class.\n",
    "{}--> Indicates number of occurances of presenting re to match.\n",
    "      NOTE : Number paased in {}-curly brackes takes about length and range (set) of patterns.\n",
    "             The pattern in itself passed in []-Square brackes in the string."
   ]
  },
  {
   "cell_type": "code",
   "execution_count": 9,
   "id": "bbb8cca7",
   "metadata": {},
   "outputs": [
    {
     "data": {
      "text/plain": [
       "['S', 'P', 'A']"
      ]
     },
     "execution_count": 9,
     "metadata": {},
     "output_type": "execute_result"
    }
   ],
   "source": [
    "import re \n",
    "a='Sresmha Prohit Araj ravi lavu guna'\n",
    "re.findall('[A-Z]',a)"
   ]
  },
  {
   "cell_type": "code",
   "execution_count": 7,
   "id": "72a8bbd0",
   "metadata": {},
   "outputs": [
    {
     "data": {
      "text/plain": [
       "['1', '2', '3']"
      ]
     },
     "execution_count": 7,
     "metadata": {},
     "output_type": "execute_result"
    }
   ],
   "source": [
    "a='resmha rohit @#$Araj ravi lavu guna123'\n",
    "re.findall('[0-9]',a)"
   ]
  },
  {
   "cell_type": "code",
   "execution_count": 5,
   "id": "5d9dbd61",
   "metadata": {},
   "outputs": [
    {
     "data": {
      "text/plain": [
       "['r',\n",
       " 'e',\n",
       " 's',\n",
       " 'm',\n",
       " 'h',\n",
       " 'a',\n",
       " 'r',\n",
       " 'o',\n",
       " 'h',\n",
       " 'i',\n",
       " 't',\n",
       " 'r',\n",
       " 'a',\n",
       " 'j',\n",
       " 'r',\n",
       " 'a',\n",
       " 'v',\n",
       " 'i',\n",
       " 'l',\n",
       " 'a',\n",
       " 'v',\n",
       " 'u',\n",
       " 'g',\n",
       " 'u',\n",
       " 'n',\n",
       " 'a']"
      ]
     },
     "execution_count": 5,
     "metadata": {},
     "output_type": "execute_result"
    }
   ],
   "source": [
    "a='resmha rohit Araj ravi lavu guna'\n",
    "re.findall('[a-z]',a)"
   ]
  },
  {
   "cell_type": "code",
   "execution_count": 11,
   "id": "5a055536",
   "metadata": {},
   "outputs": [
    {
     "data": {
      "text/plain": [
       "['@']"
      ]
     },
     "execution_count": 11,
     "metadata": {},
     "output_type": "execute_result"
    }
   ],
   "source": [
    "a='resmha @#$#rohit Araj ravi lavu guna'\n",
    "re.findall('[@]',a)"
   ]
  },
  {
   "cell_type": "code",
   "execution_count": 12,
   "id": "c8c204f8",
   "metadata": {},
   "outputs": [
    {
     "data": {
      "text/plain": [
       "['rohit']"
      ]
     },
     "execution_count": 12,
     "metadata": {},
     "output_type": "execute_result"
    }
   ],
   "source": [
    "a='resmha rohit Araj ravi lavu guna'\n",
    "re.findall('rohit',a)"
   ]
  },
  {
   "cell_type": "code",
   "execution_count": 13,
   "id": "0200bbe4",
   "metadata": {},
   "outputs": [
    {
     "data": {
      "text/plain": [
       "['r',\n",
       " 'e',\n",
       " 's',\n",
       " 'm',\n",
       " 'h',\n",
       " 'a',\n",
       " 'r',\n",
       " 'o',\n",
       " 'h',\n",
       " 'i',\n",
       " 't',\n",
       " 'A',\n",
       " 'r',\n",
       " 'a',\n",
       " 'j',\n",
       " 'A',\n",
       " 'S',\n",
       " 'P',\n",
       " 'B',\n",
       " 'D',\n",
       " 'r',\n",
       " 'a',\n",
       " 'v',\n",
       " 'i',\n",
       " 'l',\n",
       " 'a',\n",
       " 'v',\n",
       " 'u',\n",
       " 'g',\n",
       " 'u',\n",
       " 'n',\n",
       " 'a']"
      ]
     },
     "execution_count": 13,
     "metadata": {},
     "output_type": "execute_result"
    }
   ],
   "source": [
    "a='resmha rohit @#$Araj ASPBDravi lavu guna123'\n",
    "re.findall('[A-z]',a)"
   ]
  },
  {
   "cell_type": "code",
   "execution_count": 16,
   "id": "9a59b3d7",
   "metadata": {},
   "outputs": [
    {
     "data": {
      "text/plain": [
       "['9324567890']"
      ]
     },
     "execution_count": 16,
     "metadata": {},
     "output_type": "execute_result"
    }
   ],
   "source": [
    "a='resmha rohit @#$Araj ravi lavu guna9324567890'\n",
    "re.findall('[0-9]{10}',a)"
   ]
  },
  {
   "cell_type": "code",
   "execution_count": 17,
   "id": "dc727f89",
   "metadata": {},
   "outputs": [
    {
     "data": {
      "text/plain": [
       "['93', '24', '56', '78', '90']"
      ]
     },
     "execution_count": 17,
     "metadata": {},
     "output_type": "execute_result"
    }
   ],
   "source": [
    "a='resmha rohit @#$Araj ravi lavu guna9324567890'\n",
    "re.findall('[0-9]{2}',a)"
   ]
  },
  {
   "cell_type": "markdown",
   "id": "f1682ecb",
   "metadata": {},
   "source": [
    "Special Character :\n",
    "1.\\d--> Only digit.\n",
    "        {0-9}--> Is only for digit varying from 0-99.\n",
    "2.\\D--> Everything apart from digit.\n",
    "        [0-9]\n",
    "3.\\s--> It is Used for spaces.\n",
    "4.\\S--> Everything apart from sapces.\n",
    "5.\\w--> All alpha numberic."
   ]
  },
  {
   "cell_type": "code",
   "execution_count": 18,
   "id": "766a21de",
   "metadata": {},
   "outputs": [
    {
     "data": {
      "text/plain": [
       "['9', '3', '2', '4', '5', '6', '7', '8', '9', '0']"
      ]
     },
     "execution_count": 18,
     "metadata": {},
     "output_type": "execute_result"
    }
   ],
   "source": [
    "a='resmha rohit @#$Araj ravi lavu guna9324567890'\n",
    "re.findall('\\d',a)"
   ]
  },
  {
   "cell_type": "code",
   "execution_count": 19,
   "id": "80aec07e",
   "metadata": {},
   "outputs": [
    {
     "data": {
      "text/plain": [
       "['r',\n",
       " 'e',\n",
       " 's',\n",
       " 'm',\n",
       " 'h',\n",
       " 'a',\n",
       " ' ',\n",
       " 'r',\n",
       " 'o',\n",
       " 'h',\n",
       " 'i',\n",
       " 't',\n",
       " ' ',\n",
       " '@',\n",
       " '#',\n",
       " '$',\n",
       " 'A',\n",
       " 'r',\n",
       " 'a',\n",
       " 'j',\n",
       " ' ',\n",
       " 'r',\n",
       " 'a',\n",
       " 'v',\n",
       " 'i',\n",
       " ' ',\n",
       " 'l',\n",
       " 'a',\n",
       " 'v',\n",
       " 'u',\n",
       " ' ',\n",
       " 'g',\n",
       " 'u',\n",
       " 'n',\n",
       " 'a']"
      ]
     },
     "execution_count": 19,
     "metadata": {},
     "output_type": "execute_result"
    }
   ],
   "source": [
    "a='resmha rohit @#$Araj ravi lavu guna9324567890'\n",
    "re.findall('\\D',a)"
   ]
  },
  {
   "cell_type": "code",
   "execution_count": 20,
   "id": "6ea55aaa",
   "metadata": {},
   "outputs": [
    {
     "data": {
      "text/plain": [
       "[' ', ' ', ' ', ' ', ' ']"
      ]
     },
     "execution_count": 20,
     "metadata": {},
     "output_type": "execute_result"
    }
   ],
   "source": [
    "a='resmha rohit @#$Araj ravi lavu guna9324567890'\n",
    "re.findall('\\s',a)"
   ]
  },
  {
   "cell_type": "code",
   "execution_count": 21,
   "id": "667928fa",
   "metadata": {},
   "outputs": [
    {
     "data": {
      "text/plain": [
       "['r',\n",
       " 'e',\n",
       " 's',\n",
       " 'm',\n",
       " 'h',\n",
       " 'a',\n",
       " 'r',\n",
       " 'o',\n",
       " 'h',\n",
       " 'i',\n",
       " 't',\n",
       " '@',\n",
       " '#',\n",
       " '$',\n",
       " 'A',\n",
       " 'r',\n",
       " 'a',\n",
       " 'j',\n",
       " 'r',\n",
       " 'a',\n",
       " 'v',\n",
       " 'i',\n",
       " 'l',\n",
       " 'a',\n",
       " 'v',\n",
       " 'u',\n",
       " 'g',\n",
       " 'u',\n",
       " 'n',\n",
       " 'a',\n",
       " '9',\n",
       " '3',\n",
       " '2',\n",
       " '4',\n",
       " '5',\n",
       " '6',\n",
       " '7',\n",
       " '8',\n",
       " '9',\n",
       " '0']"
      ]
     },
     "execution_count": 21,
     "metadata": {},
     "output_type": "execute_result"
    }
   ],
   "source": [
    "a='resmha rohit @#$Araj ravi lavu guna9324567890'\n",
    "re.findall('\\S',a)"
   ]
  },
  {
   "cell_type": "code",
   "execution_count": 22,
   "id": "450eba86",
   "metadata": {},
   "outputs": [
    {
     "data": {
      "text/plain": [
       "['r',\n",
       " 'e',\n",
       " 's',\n",
       " 'm',\n",
       " 'h',\n",
       " 'a',\n",
       " 'r',\n",
       " 'o',\n",
       " 'h',\n",
       " 'i',\n",
       " 't',\n",
       " 'A',\n",
       " 'r',\n",
       " 'a',\n",
       " 'j',\n",
       " 'r',\n",
       " 'a',\n",
       " 'v',\n",
       " 'i',\n",
       " 'l',\n",
       " 'a',\n",
       " 'v',\n",
       " 'u',\n",
       " 'g',\n",
       " 'u',\n",
       " 'n',\n",
       " 'a',\n",
       " '9',\n",
       " '3',\n",
       " '2',\n",
       " '4',\n",
       " '5',\n",
       " '6',\n",
       " '7',\n",
       " '8',\n",
       " '9',\n",
       " '0']"
      ]
     },
     "execution_count": 22,
     "metadata": {},
     "output_type": "execute_result"
    }
   ],
   "source": [
    "a='resmha rohit @#$Araj ravi lavu guna9324567890'\n",
    "re.findall('\\w',a)"
   ]
  },
  {
   "cell_type": "code",
   "execution_count": 27,
   "id": "80612bf3",
   "metadata": {},
   "outputs": [
    {
     "data": {
      "text/plain": [
       "\"'reshma','9767843421','reshm.nikam8@gmail.com','ASCDES209K','234556784532'\""
      ]
     },
     "execution_count": 27,
     "metadata": {},
     "output_type": "execute_result"
    }
   ],
   "source": [
    "a=\"'reshma','9767843421','reshm.nikam8@gmail.com','ASCDES209K','234556784532'\"\n",
    "a"
   ]
  },
  {
   "cell_type": "code",
   "execution_count": 30,
   "id": "decb7d93",
   "metadata": {},
   "outputs": [
    {
     "data": {
      "text/plain": [
       "['234556784532']"
      ]
     },
     "execution_count": 30,
     "metadata": {},
     "output_type": "execute_result"
    }
   ],
   "source": [
    "re.findall('[0-9]{12}',a)"
   ]
  },
  {
   "cell_type": "code",
   "execution_count": 33,
   "id": "66392dac",
   "metadata": {},
   "outputs": [
    {
     "data": {
      "text/plain": [
       "[\"','reshm.nik\", \"@gmail.com',\"]"
      ]
     },
     "execution_count": 33,
     "metadata": {},
     "output_type": "execute_result"
    }
   ],
   "source": [
    "re.findall('[\\D]{12}',a)"
   ]
  },
  {
   "cell_type": "code",
   "execution_count": 35,
   "id": "f79a2105",
   "metadata": {},
   "outputs": [
    {
     "data": {
      "text/plain": [
       "['r',\n",
       " 'e',\n",
       " 's',\n",
       " 'h',\n",
       " 'm',\n",
       " 'a',\n",
       " '9',\n",
       " '7',\n",
       " '6',\n",
       " '7',\n",
       " '8',\n",
       " '4',\n",
       " '3',\n",
       " '4',\n",
       " '2',\n",
       " '1',\n",
       " 'r',\n",
       " 'e',\n",
       " 's',\n",
       " 'h',\n",
       " 'm',\n",
       " 'n',\n",
       " 'i',\n",
       " 'k',\n",
       " 'a',\n",
       " 'm',\n",
       " '8',\n",
       " 'g',\n",
       " 'm',\n",
       " 'a',\n",
       " 'i',\n",
       " 'l',\n",
       " 'c',\n",
       " 'o',\n",
       " 'm',\n",
       " 'A',\n",
       " 'S',\n",
       " 'C',\n",
       " 'D',\n",
       " 'E',\n",
       " 'S',\n",
       " '2',\n",
       " '0',\n",
       " '9',\n",
       " 'K',\n",
       " '2',\n",
       " '3',\n",
       " '4',\n",
       " '5',\n",
       " '5',\n",
       " '6',\n",
       " '7',\n",
       " '8',\n",
       " '4',\n",
       " '5',\n",
       " '3',\n",
       " '2']"
      ]
     },
     "execution_count": 35,
     "metadata": {},
     "output_type": "execute_result"
    }
   ],
   "source": [
    "re.findall('[A-z0-9]',a)"
   ]
  },
  {
   "cell_type": "code",
   "execution_count": 38,
   "id": "ea80f866",
   "metadata": {},
   "outputs": [
    {
     "data": {
      "text/plain": [
       "['reshma', 'reshm', 'nikam', 'gmail', 'com', 'ASCDES', 'K']"
      ]
     },
     "execution_count": 38,
     "metadata": {},
     "output_type": "execute_result"
    }
   ],
   "source": [
    "re.findall('[A-z]{1,20}',a)"
   ]
  },
  {
   "cell_type": "code",
   "execution_count": 39,
   "id": "f65c243a",
   "metadata": {},
   "outputs": [
    {
     "data": {
      "text/plain": [
       "['nikam8', 'ASCDES2']"
      ]
     },
     "execution_count": 39,
     "metadata": {},
     "output_type": "execute_result"
    }
   ],
   "source": [
    "re.findall('[A-z]{1,20}[0-9]',a)"
   ]
  },
  {
   "cell_type": "code",
   "execution_count": 53,
   "id": "146af0e7",
   "metadata": {},
   "outputs": [
    {
     "data": {
      "text/plain": [
       "['reshm.nikam8@gmail.com']"
      ]
     },
     "execution_count": 53,
     "metadata": {},
     "output_type": "execute_result"
    }
   ],
   "source": [
    "#Gmail\n",
    "re.findall('reshm.[a-z]{1,20}[0-9@]{1,5}@gmail.com',a)"
   ]
  },
  {
   "cell_type": "code",
   "execution_count": 59,
   "id": "d11bf5c8",
   "metadata": {},
   "outputs": [
    {
     "data": {
      "text/plain": [
       "['ASCDES209K']"
      ]
     },
     "execution_count": 59,
     "metadata": {},
     "output_type": "execute_result"
    }
   ],
   "source": [
    "#Pan card\n",
    "re.findall('[A-Z]{6}[0-9]{3}[A-Z]',a)"
   ]
  },
  {
   "cell_type": "markdown",
   "id": "6640c85a",
   "metadata": {},
   "source": [
    "Search() :\n",
    "  It searches for a match and return an object of the first occurance only."
   ]
  },
  {
   "cell_type": "code",
   "execution_count": 61,
   "id": "4bfbd74c",
   "metadata": {},
   "outputs": [
    {
     "data": {
      "text/plain": [
       "<re.Match object; span=(10, 11), match='9'>"
      ]
     },
     "execution_count": 61,
     "metadata": {},
     "output_type": "execute_result"
    }
   ],
   "source": [
    "s=re.search('\\d',a)\n",
    "s"
   ]
  },
  {
   "cell_type": "code",
   "execution_count": 63,
   "id": "532a5506",
   "metadata": {},
   "outputs": [
    {
     "data": {
      "text/plain": [
       "((10, 11), '9')"
      ]
     },
     "execution_count": 63,
     "metadata": {},
     "output_type": "execute_result"
    }
   ],
   "source": [
    "s=re.search('\\d',a)\n",
    "s.span(),s.group()"
   ]
  },
  {
   "cell_type": "markdown",
   "id": "c607c0ca",
   "metadata": {},
   "source": [
    "Match() :\n",
    "  Check for the zero index item.\n",
    "  If that matches then it returns the an object."
   ]
  },
  {
   "cell_type": "code",
   "execution_count": 66,
   "id": "489cb6ed",
   "metadata": {},
   "outputs": [
    {
     "name": "stdout",
     "output_type": "stream",
     "text": [
      "None\n"
     ]
    }
   ],
   "source": [
    "m=re.match('\\d',a)   #oth index value not present that is none error.\n",
    "print(m)"
   ]
  },
  {
   "cell_type": "code",
   "execution_count": 70,
   "id": "8b30a08c",
   "metadata": {},
   "outputs": [
    {
     "name": "stdout",
     "output_type": "stream",
     "text": [
      "<re.Match object; span=(0, 1), match='0'>\n"
     ]
    }
   ],
   "source": [
    "m=re.match('[0]','0reshma')\n",
    "print(m)"
   ]
  },
  {
   "cell_type": "markdown",
   "id": "da2b5998",
   "metadata": {},
   "source": [
    "Finditer() :"
   ]
  },
  {
   "cell_type": "code",
   "execution_count": 12,
   "id": "46b62849",
   "metadata": {},
   "outputs": [
    {
     "ename": "StopIteration",
     "evalue": "",
     "output_type": "error",
     "traceback": [
      "\u001b[1;31m---------------------------------------------------------------------------\u001b[0m",
      "\u001b[1;31mStopIteration\u001b[0m                             Traceback (most recent call last)",
      "Cell \u001b[1;32mIn[12], line 3\u001b[0m\n\u001b[0;32m      1\u001b[0m f1\u001b[38;5;241m=\u001b[39mre\u001b[38;5;241m.\u001b[39mfinditer(\u001b[38;5;124m'\u001b[39m\u001b[38;5;124m[0]\u001b[39m\u001b[38;5;124m'\u001b[39m,a)\n\u001b[0;32m      2\u001b[0m \u001b[38;5;28;01mfor\u001b[39;00m i \u001b[38;5;129;01min\u001b[39;00m \u001b[38;5;28mrange\u001b[39m(\u001b[38;5;241m5\u001b[39m):\n\u001b[1;32m----> 3\u001b[0m     \u001b[38;5;28mprint\u001b[39m(\u001b[38;5;28;43mnext\u001b[39;49m\u001b[43m(\u001b[49m\u001b[43mf1\u001b[49m\u001b[43m)\u001b[49m)\n\u001b[0;32m      4\u001b[0m \u001b[38;5;28mprint\u001b[39m(\u001b[38;5;28mnext\u001b[39m(f1))\n\u001b[0;32m      5\u001b[0m \u001b[38;5;28mprint\u001b[39m(\u001b[38;5;28mnext\u001b[39m(f1))\n",
      "\u001b[1;31mStopIteration\u001b[0m: "
     ]
    }
   ],
   "source": [
    "f1=re.finditer('[0]',a)\n",
    "for i in range(5):\n",
    "    print(next(f1))\n",
    "print(next(f1))\n",
    "print(next(f1))"
   ]
  },
  {
   "cell_type": "markdown",
   "id": "34bf3a62",
   "metadata": {},
   "source": [
    "Subn :\n",
    " It gives number of replacement.\n",
    " only replace.\n",
    "Syntax :\n",
    "   re.subn('old','new','text_data')"
   ]
  },
  {
   "cell_type": "code",
   "execution_count": 26,
   "id": "319d6fe9",
   "metadata": {},
   "outputs": [
    {
     "data": {
      "text/plain": [
       "('khushi sonal rohit raj ravi lavu guna', 1)"
      ]
     },
     "execution_count": 26,
     "metadata": {},
     "output_type": "execute_result"
    }
   ],
   "source": [
    "a='reshma sonal rohit raj ravi lavu guna'\n",
    "re.subn('reshma','khushi',a)"
   ]
  },
  {
   "cell_type": "markdown",
   "id": "b9ce5cc0",
   "metadata": {},
   "source": [
    "Metachar :\n",
    "   Total 14 metachar."
   ]
  },
  {
   "cell_type": "markdown",
   "id": "4c90d3ba",
   "metadata": {},
   "source": [
    "1. + (Plus Metachar) :\n",
    "   One or more ocuurance return."
   ]
  },
  {
   "cell_type": "code",
   "execution_count": 7,
   "id": "99639033",
   "metadata": {},
   "outputs": [
    {
     "data": {
      "text/plain": [
       "['pythhhhon', 'python', 'pyyython']"
      ]
     },
     "execution_count": 7,
     "metadata": {},
     "output_type": "execute_result"
    }
   ],
   "source": [
    "import re\n",
    "a='pythhhhon python pyyython'\n",
    "re.findall('py+th+on',a)"
   ]
  },
  {
   "cell_type": "markdown",
   "id": "3deea186",
   "metadata": {},
   "source": [
    "2. * (Astrix Metachar) :\n",
    "        Zero or more occurances return."
   ]
  },
  {
   "cell_type": "code",
   "execution_count": 9,
   "id": "d991b0ee",
   "metadata": {},
   "outputs": [
    {
     "data": {
      "text/plain": [
       "['pthon', 'pyyython']"
      ]
     },
     "execution_count": 9,
     "metadata": {},
     "output_type": "execute_result"
    }
   ],
   "source": [
    "a='pythhhhon pthon pyyython'\n",
    "re.findall('py*thon',a)"
   ]
  },
  {
   "cell_type": "markdown",
   "id": "ed44a72f",
   "metadata": {},
   "source": [
    "3. . (Dot Metachar) :"
   ]
  },
  {
   "cell_type": "code",
   "execution_count": 3,
   "id": "ebe9c352",
   "metadata": {},
   "outputs": [
    {
     "data": {
      "text/plain": [
       "['pythh', 'pthon', 'pyyyt']"
      ]
     },
     "execution_count": 3,
     "metadata": {},
     "output_type": "execute_result"
    }
   ],
   "source": [
    "import re\n",
    "a='pythhhhon pthon pyyython'\n",
    "re.findall('p....',a)"
   ]
  },
  {
   "cell_type": "code",
   "execution_count": 4,
   "id": "c84a7b3b",
   "metadata": {},
   "outputs": [
    {
     "data": {
      "text/plain": [
       "['hhhon', 'pthon', 'ython']"
      ]
     },
     "execution_count": 4,
     "metadata": {},
     "output_type": "execute_result"
    }
   ],
   "source": [
    "a='pythhhhon pthon pyyython'\n",
    "re.findall('....n',a)"
   ]
  },
  {
   "cell_type": "markdown",
   "id": "84f786f6",
   "metadata": {},
   "source": [
    "4. ? (Question Mark Metachar) :"
   ]
  },
  {
   "cell_type": "code",
   "execution_count": 14,
   "id": "0d5492c8",
   "metadata": {},
   "outputs": [
    {
     "data": {
      "text/plain": [
       "['',\n",
       " '',\n",
       " '',\n",
       " '',\n",
       " 'm',\n",
       " '',\n",
       " '',\n",
       " '',\n",
       " '',\n",
       " '',\n",
       " 'm',\n",
       " '',\n",
       " '',\n",
       " '',\n",
       " '',\n",
       " '',\n",
       " '',\n",
       " '',\n",
       " '',\n",
       " '',\n",
       " 'm',\n",
       " '',\n",
       " '']"
      ]
     },
     "execution_count": 14,
     "metadata": {},
     "output_type": "execute_result"
    }
   ],
   "source": [
    "a='reshmanikam12345reshma'\n",
    "re.findall('m?',a)"
   ]
  },
  {
   "cell_type": "code",
   "execution_count": 15,
   "id": "c851795a",
   "metadata": {},
   "outputs": [
    {
     "data": {
      "text/plain": [
       "['ma', 'a', 'ma']"
      ]
     },
     "execution_count": 15,
     "metadata": {},
     "output_type": "execute_result"
    }
   ],
   "source": [
    "a='reshmanikam12345reshma'\n",
    "re.findall('m?a',a)"
   ]
  },
  {
   "cell_type": "markdown",
   "id": "29f83c47",
   "metadata": {},
   "source": [
    "5. ^ (Startswith) :\n",
    "        Checking with the string in given pattern in starting."
   ]
  },
  {
   "cell_type": "code",
   "execution_count": 18,
   "id": "024c16cf",
   "metadata": {},
   "outputs": [
    {
     "data": {
      "text/plain": [
       "['pythhhhon']"
      ]
     },
     "execution_count": 18,
     "metadata": {},
     "output_type": "execute_result"
    }
   ],
   "source": [
    "a='pythhhhon pthon pyyython'\n",
    "re.findall('^[A-z]{9}',a)"
   ]
  },
  {
   "cell_type": "code",
   "execution_count": 23,
   "id": "c62a79df",
   "metadata": {},
   "outputs": [
    {
     "data": {
      "text/plain": [
       "['pythh']"
      ]
     },
     "execution_count": 23,
     "metadata": {},
     "output_type": "execute_result"
    }
   ],
   "source": [
    "a='pythhhhon python pyyython'\n",
    "re.findall('^[python]{5}',a)"
   ]
  },
  {
   "cell_type": "markdown",
   "id": "2e3a85f0",
   "metadata": {},
   "source": [
    "6. $ (Endswith) :"
   ]
  },
  {
   "cell_type": "code",
   "execution_count": 27,
   "id": "93b740fc",
   "metadata": {},
   "outputs": [
    {
     "data": {
      "text/plain": [
       "['pyyython']"
      ]
     },
     "execution_count": 27,
     "metadata": {},
     "output_type": "execute_result"
    }
   ],
   "source": [
    "a='pythhhhon pthon pyyython'\n",
    "re.findall('pyyython$',a)"
   ]
  },
  {
   "cell_type": "code",
   "execution_count": 28,
   "id": "e08d78f2",
   "metadata": {},
   "outputs": [
    {
     "data": {
      "text/plain": [
       "[]"
      ]
     },
     "execution_count": 28,
     "metadata": {},
     "output_type": "execute_result"
    }
   ],
   "source": [
    "a='pythhhhon pthon pyyython'\n",
    "re.findall('pytho$',a)"
   ]
  },
  {
   "cell_type": "code",
   "execution_count": 3,
   "id": "5be561a7",
   "metadata": {},
   "outputs": [
    {
     "data": {
      "text/plain": [
       "['python$']"
      ]
     },
     "execution_count": 3,
     "metadata": {},
     "output_type": "execute_result"
    }
   ],
   "source": [
    "import re\n",
    "a='pythh$hhon pthon pyyython python$'\n",
    "re.findall('[python$]{7}$',a)"
   ]
  },
  {
   "cell_type": "code",
   "execution_count": 4,
   "id": "fb15386f",
   "metadata": {},
   "outputs": [
    {
     "data": {
      "text/plain": [
       "['pythooooon$']"
      ]
     },
     "execution_count": 4,
     "metadata": {},
     "output_type": "execute_result"
    }
   ],
   "source": [
    "a='pythhhhon pthon pyyython pythooooon$'\n",
    "re.findall('[python$]{1,20}$',a)"
   ]
  }
 ],
 "metadata": {
  "kernelspec": {
   "display_name": "Python 3 (ipykernel)",
   "language": "python",
   "name": "python3"
  },
  "language_info": {
   "codemirror_mode": {
    "name": "ipython",
    "version": 3
   },
   "file_extension": ".py",
   "mimetype": "text/x-python",
   "name": "python",
   "nbconvert_exporter": "python",
   "pygments_lexer": "ipython3",
   "version": "3.10.9"
  }
 },
 "nbformat": 4,
 "nbformat_minor": 5
}
