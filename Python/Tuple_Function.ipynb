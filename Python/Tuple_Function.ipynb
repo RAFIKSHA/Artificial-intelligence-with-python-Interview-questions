{
 "cells": [
  {
   "cell_type": "markdown",
   "id": "1cd90b2d",
   "metadata": {},
   "source": [
    "Tuple :\n",
    "  It is data type in python.\n",
    "  It is used to store sequence.\n",
    "  It is immutable in nature.\n",
    "  Round brackets '()' are used to store tuple collection.\n",
    "  Comma sepearted values.\n",
    "  Ordered is perserved and duplicates are allowed.\n",
    "  We can store differnet types of data.\n",
    "  Tuple is faster than list (tuple are stored in a single block of memories tuple are immutable so, it does not require extra                                space to store new object).\n",
    "  Tuple also support indexing."
   ]
  },
  {
   "cell_type": "code",
   "execution_count": 2,
   "id": "1d4b4169",
   "metadata": {},
   "outputs": [
    {
     "name": "stdout",
     "output_type": "stream",
     "text": [
      "(1, 'reshma')\n",
      "<class 'tuple'>\n"
     ]
    }
   ],
   "source": [
    "a=(1,'reshma')\n",
    "print(a)\n",
    "print(type(a))"
   ]
  },
  {
   "cell_type": "code",
   "execution_count": 6,
   "id": "239c3feb",
   "metadata": {},
   "outputs": [
    {
     "data": {
      "text/plain": [
       "1"
      ]
     },
     "execution_count": 6,
     "metadata": {},
     "output_type": "execute_result"
    }
   ],
   "source": [
    "a[0]"
   ]
  },
  {
   "cell_type": "markdown",
   "id": "743c9e76",
   "metadata": {},
   "source": [
    "Indexing :"
   ]
  },
  {
   "cell_type": "code",
   "execution_count": 13,
   "id": "99488b2a",
   "metadata": {},
   "outputs": [
    {
     "data": {
      "text/plain": [
       "6"
      ]
     },
     "execution_count": 13,
     "metadata": {},
     "output_type": "execute_result"
    }
   ],
   "source": [
    "a=[2,3,4,5,6]\n",
    "a[-1]"
   ]
  },
  {
   "cell_type": "code",
   "execution_count": 14,
   "id": "ae65baf4",
   "metadata": {},
   "outputs": [
    {
     "data": {
      "text/plain": [
       "[4, 5, 6]"
      ]
     },
     "execution_count": 14,
     "metadata": {},
     "output_type": "execute_result"
    }
   ],
   "source": [
    "#slicing\n",
    "a[2::]"
   ]
  },
  {
   "cell_type": "markdown",
   "id": "1d8bc629",
   "metadata": {},
   "source": [
    "Indexing Assignment and moidification :"
   ]
  },
  {
   "cell_type": "code",
   "execution_count": 1,
   "id": "6601f6e9",
   "metadata": {},
   "outputs": [
    {
     "ename": "NameError",
     "evalue": "name 'a' is not defined",
     "output_type": "error",
     "traceback": [
      "\u001b[1;31m---------------------------------------------------------------------------\u001b[0m",
      "\u001b[1;31mNameError\u001b[0m                                 Traceback (most recent call last)",
      "Cell \u001b[1;32mIn[1], line 1\u001b[0m\n\u001b[1;32m----> 1\u001b[0m \u001b[38;5;28;01mdel\u001b[39;00m \u001b[43ma\u001b[49m[\u001b[38;5;241m0\u001b[39m]\n",
      "\u001b[1;31mNameError\u001b[0m: name 'a' is not defined"
     ]
    }
   ],
   "source": [
    "del a[0]  #tuple object does not support item deletion."
   ]
  },
  {
   "cell_type": "code",
   "execution_count": 6,
   "id": "22f56862",
   "metadata": {},
   "outputs": [],
   "source": [
    "a=[2,3,4,5,6]   #tuple object has no attribute clear\n",
    "a.clear()"
   ]
  },
  {
   "cell_type": "markdown",
   "id": "8106bb0e",
   "metadata": {},
   "source": [
    "Item modification by convertinf tuple into list :"
   ]
  },
  {
   "cell_type": "code",
   "execution_count": 11,
   "id": "1922b5a1",
   "metadata": {},
   "outputs": [
    {
     "data": {
      "text/plain": [
       "(45, 3, 4, 5, 6)"
      ]
     },
     "execution_count": 11,
     "metadata": {},
     "output_type": "execute_result"
    }
   ],
   "source": [
    "a[0]=45\n",
    "a=tuple(a)\n",
    "a"
   ]
  },
  {
   "cell_type": "markdown",
   "id": "43a4ad83",
   "metadata": {},
   "source": [
    "Addition of two tuple :"
   ]
  },
  {
   "cell_type": "code",
   "execution_count": 13,
   "id": "bf680a7c",
   "metadata": {},
   "outputs": [
    {
     "data": {
      "text/plain": [
       "[1, 2, 3, 4, 5, 6, 7, 8]"
      ]
     },
     "execution_count": 13,
     "metadata": {},
     "output_type": "execute_result"
    }
   ],
   "source": [
    "a=[1,2,3,4]\n",
    "b=[5,6,7,8]\n",
    "a+b"
   ]
  },
  {
   "cell_type": "markdown",
   "id": "d50ab4a9",
   "metadata": {},
   "source": [
    "Function That can use on tuple :\n",
    "1.index() :\n",
    "   It reutrns the index corresponding to the value in the tuple.\n",
    "  Syntax :\n",
    "    index(value,start_index,end_index)"
   ]
  },
  {
   "cell_type": "code",
   "execution_count": 18,
   "id": "8bb34241",
   "metadata": {},
   "outputs": [
    {
     "data": {
      "text/plain": [
       "[2, 3, 4, 5, 6]"
      ]
     },
     "execution_count": 18,
     "metadata": {},
     "output_type": "execute_result"
    }
   ],
   "source": [
    "a=[2,3,4,5,6] \n",
    "a"
   ]
  },
  {
   "cell_type": "code",
   "execution_count": 17,
   "id": "a502fec0",
   "metadata": {},
   "outputs": [
    {
     "data": {
      "text/plain": [
       "1"
      ]
     },
     "execution_count": 17,
     "metadata": {},
     "output_type": "execute_result"
    }
   ],
   "source": [
    "a.count(5)"
   ]
  },
  {
   "cell_type": "code",
   "execution_count": 19,
   "id": "ae53e2af",
   "metadata": {},
   "outputs": [
    {
     "data": {
      "text/plain": [
       "3"
      ]
     },
     "execution_count": 19,
     "metadata": {},
     "output_type": "execute_result"
    }
   ],
   "source": [
    "a.index(5)"
   ]
  },
  {
   "cell_type": "markdown",
   "id": "c78a3771",
   "metadata": {},
   "source": [
    "Min,Max :"
   ]
  },
  {
   "cell_type": "code",
   "execution_count": 20,
   "id": "d838de7b",
   "metadata": {},
   "outputs": [
    {
     "data": {
      "text/plain": [
       "6"
      ]
     },
     "execution_count": 20,
     "metadata": {},
     "output_type": "execute_result"
    }
   ],
   "source": [
    "max(a)"
   ]
  },
  {
   "cell_type": "code",
   "execution_count": 21,
   "id": "43ac1c73",
   "metadata": {},
   "outputs": [
    {
     "data": {
      "text/plain": [
       "2"
      ]
     },
     "execution_count": 21,
     "metadata": {},
     "output_type": "execute_result"
    }
   ],
   "source": [
    "min(a)"
   ]
  },
  {
   "cell_type": "markdown",
   "id": "77354d03",
   "metadata": {},
   "source": [
    "Sort Function :"
   ]
  },
  {
   "cell_type": "code",
   "execution_count": 22,
   "id": "59851386",
   "metadata": {},
   "outputs": [
    {
     "data": {
      "text/plain": [
       "[2, 3, 4, 5, 6]"
      ]
     },
     "execution_count": 22,
     "metadata": {},
     "output_type": "execute_result"
    }
   ],
   "source": [
    "a"
   ]
  },
  {
   "cell_type": "code",
   "execution_count": 23,
   "id": "53ea7705",
   "metadata": {},
   "outputs": [
    {
     "ename": "NameError",
     "evalue": "name 'sort' is not defined",
     "output_type": "error",
     "traceback": [
      "\u001b[1;31m---------------------------------------------------------------------------\u001b[0m",
      "\u001b[1;31mNameError\u001b[0m                                 Traceback (most recent call last)",
      "Cell \u001b[1;32mIn[23], line 1\u001b[0m\n\u001b[1;32m----> 1\u001b[0m \u001b[43msort\u001b[49m(a)\n",
      "\u001b[1;31mNameError\u001b[0m: name 'sort' is not defined"
     ]
    }
   ],
   "source": [
    "sort(a)   #name 'sort' is not defined (tuple immutable)"
   ]
  },
  {
   "cell_type": "code",
   "execution_count": 1,
   "id": "202b1960",
   "metadata": {},
   "outputs": [
    {
     "ename": "NameError",
     "evalue": "name 'a' is not defined",
     "output_type": "error",
     "traceback": [
      "\u001b[1;31m-------------------------------------------------------------------------\u001b[0m",
      "\u001b[1;31mNameError\u001b[0m                               Traceback (most recent call last)",
      "Cell \u001b[1;32mIn[1], line 1\u001b[0m\n\u001b[1;32m----> 1\u001b[0m c\u001b[38;5;241m=\u001b[39m\u001b[38;5;28msorted\u001b[39m(\u001b[43ma\u001b[49m)  \n\u001b[0;32m      2\u001b[0m c\n",
      "\u001b[1;31mNameError\u001b[0m: name 'a' is not defined"
     ]
    }
   ],
   "source": [
    "c=sorted(a)  \n",
    "c"
   ]
  },
  {
   "cell_type": "markdown",
   "id": "606510de",
   "metadata": {},
   "source": [
    "Reverse And Reversed :"
   ]
  },
  {
   "cell_type": "code",
   "execution_count": 4,
   "id": "98ee33ac",
   "metadata": {},
   "outputs": [
    {
     "data": {
      "text/plain": [
       "[6, 5, 4, 3, 2]"
      ]
     },
     "execution_count": 4,
     "metadata": {},
     "output_type": "execute_result"
    }
   ],
   "source": [
    "a=[2, 3, 4, 5, 6]\n",
    "a.reverse()\n",
    "a"
   ]
  },
  {
   "cell_type": "code",
   "execution_count": 3,
   "id": "677c4fbd",
   "metadata": {},
   "outputs": [
    {
     "name": "stdout",
     "output_type": "stream",
     "text": [
      "(6, 5, 4, 3, 2)\n"
     ]
    }
   ],
   "source": [
    "b=reversed(a)\n",
    "print(tuple(a))"
   ]
  },
  {
   "cell_type": "markdown",
   "id": "817d3191",
   "metadata": {},
   "source": [
    "Packing And unpacking"
   ]
  },
  {
   "cell_type": "code",
   "execution_count": 5,
   "id": "6ebc6b9b",
   "metadata": {},
   "outputs": [
    {
     "data": {
      "text/plain": [
       "(1, 2, 4, 5, 24, 53, 78)"
      ]
     },
     "execution_count": 5,
     "metadata": {},
     "output_type": "execute_result"
    }
   ],
   "source": [
    "tup=1,2,4,5,24,53,78\n",
    "tup"
   ]
  },
  {
   "cell_type": "code",
   "execution_count": null,
   "id": "d2d4421d",
   "metadata": {},
   "outputs": [],
   "source": []
  }
 ],
 "metadata": {
  "kernelspec": {
   "display_name": "Python 3 (ipykernel)",
   "language": "python",
   "name": "python3"
  },
  "language_info": {
   "codemirror_mode": {
    "name": "ipython",
    "version": 3
   },
   "file_extension": ".py",
   "mimetype": "text/x-python",
   "name": "python",
   "nbconvert_exporter": "python",
   "pygments_lexer": "ipython3",
   "version": "3.10.9"
  }
 },
 "nbformat": 4,
 "nbformat_minor": 5
}
