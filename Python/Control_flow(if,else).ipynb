{
 "cells": [
  {
   "cell_type": "code",
   "execution_count": 4,
   "id": "f14d7502",
   "metadata": {},
   "outputs": [
    {
     "name": "stdout",
     "output_type": "stream",
     "text": [
      "Equal\n"
     ]
    }
   ],
   "source": [
    "#if statement\n",
    "a=10\n",
    "if a==10:\n",
    "    print('Equal')"
   ]
  },
  {
   "cell_type": "code",
   "execution_count": 5,
   "id": "39d4dff2",
   "metadata": {},
   "outputs": [
    {
     "name": "stdout",
     "output_type": "stream",
     "text": [
      "Different\n"
     ]
    }
   ],
   "source": [
    "#if-else statement\n",
    "a=11\n",
    "if a==10:\n",
    "    print('Equal')\n",
    "else:\n",
    "    print('Different')"
   ]
  },
  {
   "cell_type": "code",
   "execution_count": 6,
   "id": "f90a5c09",
   "metadata": {},
   "outputs": [
    {
     "name": "stdout",
     "output_type": "stream",
     "text": [
      "a= 100\n"
     ]
    }
   ],
   "source": [
    "a=100\n",
    "b=20\n",
    "if a>b:\n",
    "    print('a=',a)\n",
    "else:\n",
    "        print('Thank You')"
   ]
  },
  {
   "cell_type": "code",
   "execution_count": 15,
   "id": "da80bfb8",
   "metadata": {},
   "outputs": [
    {
     "data": {
      "text/plain": [
       "False"
      ]
     },
     "execution_count": 15,
     "metadata": {},
     "output_type": "execute_result"
    }
   ],
   "source": [
    "a>b"
   ]
  },
  {
   "cell_type": "code",
   "execution_count": 19,
   "id": "615e9603",
   "metadata": {},
   "outputs": [
    {
     "name": "stdout",
     "output_type": "stream",
     "text": [
      "Enter an age=45\n",
      "Enter an Salary60000\n",
      "employee\n"
     ]
    }
   ],
   "source": [
    "age=int(input('Enter an age='))\n",
    "salary=int(input('Enter an Salary'))\n",
    "if (age>=18) & (salary>=20000):\n",
    "     print('employee')\n",
    "else:\n",
    "    print('unemployee')"
   ]
  },
  {
   "cell_type": "code",
   "execution_count": 20,
   "id": "d13f49b8",
   "metadata": {},
   "outputs": [
    {
     "name": "stdout",
     "output_type": "stream",
     "text": [
      "Enter an age=10\n",
      "Enter an Salary19000\n",
      "unemployee\n"
     ]
    }
   ],
   "source": [
    "age=int(input('Enter an age='))\n",
    "salary=int(input('Enter an Salary'))\n",
    "if (age>=18) & (salary>=20000):\n",
    "     print('employee')\n",
    "else:\n",
    "    print('unemployee')"
   ]
  },
  {
   "cell_type": "code",
   "execution_count": null,
   "id": "bb7b6650",
   "metadata": {},
   "outputs": [],
   "source": [
    "age=int(input('Enter an age='))\n",
    "salary=int(input('Enter an Salary='))\n",
    "cibil_score=int(input('Enter an Score='))\n",
    "if(age>=18) & (salary>=50000) & (cibil_score>=750):\n",
    "     print('Loan Approved')\n",
    "else:\n",
    "    print('Thank You')"
   ]
  }
 ],
 "metadata": {
  "kernelspec": {
   "display_name": "Python 3 (ipykernel)",
   "language": "python",
   "name": "python3"
  },
  "language_info": {
   "codemirror_mode": {
    "name": "ipython",
    "version": 3
   },
   "file_extension": ".py",
   "mimetype": "text/x-python",
   "name": "python",
   "nbconvert_exporter": "python",
   "pygments_lexer": "ipython3",
   "version": "3.10.9"
  }
 },
 "nbformat": 4,
 "nbformat_minor": 5
}
