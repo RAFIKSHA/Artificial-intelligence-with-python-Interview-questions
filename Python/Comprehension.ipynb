{
 "cells": [
  {
   "cell_type": "markdown",
   "id": "c9ddc3db",
   "metadata": {},
   "source": [
    "# Comprehension :"
   ]
  },
  {
   "cell_type": "markdown",
   "id": "db97ebf9",
   "metadata": {},
   "source": [
    "1.list_Comprehension :"
   ]
  },
  {
   "cell_type": "code",
   "execution_count": 1,
   "id": "cc51ea7d",
   "metadata": {},
   "outputs": [
    {
     "data": {
      "text/plain": [
       "[1, 3, 5, 7]"
      ]
     },
     "execution_count": 1,
     "metadata": {},
     "output_type": "execute_result"
    }
   ],
   "source": [
    "a=[1,2,3,4,5,6,7]               #odd number list\n",
    "[i for i in a if i%2!=0]"
   ]
  },
  {
   "cell_type": "markdown",
   "id": "518009fe",
   "metadata": {},
   "source": [
    "2.String_Comprehension :"
   ]
  },
  {
   "cell_type": "code",
   "execution_count": 2,
   "id": "f05ae47e",
   "metadata": {},
   "outputs": [
    {
     "data": {
      "text/plain": [
       "[11]"
      ]
     },
     "execution_count": 2,
     "metadata": {},
     "output_type": "execute_result"
    }
   ],
   "source": [
    "a='reshmanikam'\n",
    "[len(a)]"
   ]
  },
  {
   "cell_type": "code",
   "execution_count": 3,
   "id": "272cd317",
   "metadata": {},
   "outputs": [
    {
     "data": {
      "text/plain": [
       "['e', 'h', 'a', 'i', 'a']"
      ]
     },
     "execution_count": 3,
     "metadata": {},
     "output_type": "execute_result"
    }
   ],
   "source": [
    "a='reshmanikam'                        #odd number string\n",
    "[a[i] for i in range(len(a)) if i%2!=0]"
   ]
  },
  {
   "cell_type": "code",
   "execution_count": 4,
   "id": "0a9b26be",
   "metadata": {},
   "outputs": [
    {
     "data": {
      "text/plain": [
       "['r', 's', 'm', 'n', 'k', 'm']"
      ]
     },
     "execution_count": 4,
     "metadata": {},
     "output_type": "execute_result"
    }
   ],
   "source": [
    "a='reshmanikam'                      #even number string\n",
    "[a[i] for i in range(len(a)) if i%2==0]"
   ]
  },
  {
   "cell_type": "markdown",
   "id": "8f6954c8",
   "metadata": {},
   "source": [
    "3.Tuple_Comprehension :"
   ]
  },
  {
   "cell_type": "code",
   "execution_count": 2,
   "id": "a773c28b",
   "metadata": {
    "scrolled": true
   },
   "outputs": [
    {
     "data": {
      "text/plain": [
       "('r', 'e', 's', 'h', 'm', 'a', 'n', 'i', 'k', 'a', 'm')"
      ]
     },
     "execution_count": 2,
     "metadata": {},
     "output_type": "execute_result"
    }
   ],
   "source": [
    "a='reshmanikam'  \n",
    "a=(i for i in a)\n",
    "tuple(a)"
   ]
  },
  {
   "cell_type": "markdown",
   "id": "23df5053",
   "metadata": {},
   "source": [
    "4.Set_Comprehension :"
   ]
  },
  {
   "cell_type": "code",
   "execution_count": 6,
   "id": "1d43f9fa",
   "metadata": {},
   "outputs": [
    {
     "data": {
      "text/plain": [
       "{2, 4, 6, 8, 10, 12, 14, 16, 18, 20}"
      ]
     },
     "execution_count": 6,
     "metadata": {},
     "output_type": "execute_result"
    }
   ],
   "source": [
    "a={1,2,3,4,5,6,7,8,9,10}\n",
    "{i*2 for i in a}"
   ]
  },
  {
   "cell_type": "code",
   "execution_count": null,
   "id": "06c33199",
   "metadata": {},
   "outputs": [],
   "source": []
  }
 ],
 "metadata": {
  "kernelspec": {
   "display_name": "Python 3 (ipykernel)",
   "language": "python",
   "name": "python3"
  },
  "language_info": {
   "codemirror_mode": {
    "name": "ipython",
    "version": 3
   },
   "file_extension": ".py",
   "mimetype": "text/x-python",
   "name": "python",
   "nbconvert_exporter": "python",
   "pygments_lexer": "ipython3",
   "version": "3.10.9"
  }
 },
 "nbformat": 4,
 "nbformat_minor": 5
}
