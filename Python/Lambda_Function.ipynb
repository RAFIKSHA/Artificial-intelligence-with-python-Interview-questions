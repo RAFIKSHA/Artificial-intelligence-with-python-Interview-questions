{
 "cells": [
  {
   "cell_type": "markdown",
   "id": "4fd8cac6",
   "metadata": {},
   "source": [
    "Lambda :\n",
    "  It is also called as short hand function.\n",
    "  Function not having name and this function work for short peroid of time.\n",
    "  Define by using lambda keywords.\n",
    " Syntax :\n",
    "   lambda agruments: expression\n",
    "   argument: passing parameters\n",
    "   expression: It will be only one."
   ]
  },
  {
   "cell_type": "code",
   "execution_count": 1,
   "id": "0722ebdb",
   "metadata": {},
   "outputs": [
    {
     "data": {
      "text/plain": [
       "10"
      ]
     },
     "execution_count": 1,
     "metadata": {},
     "output_type": "execute_result"
    }
   ],
   "source": [
    "a=lambda x:x+5\n",
    "a(5)"
   ]
  },
  {
   "cell_type": "code",
   "execution_count": 2,
   "id": "2e47e450",
   "metadata": {},
   "outputs": [
    {
     "data": {
      "text/plain": [
       "10"
      ]
     },
     "execution_count": 2,
     "metadata": {},
     "output_type": "execute_result"
    }
   ],
   "source": [
    "a=5+5\n",
    "a"
   ]
  },
  {
   "cell_type": "code",
   "execution_count": 6,
   "id": "1407990b",
   "metadata": {},
   "outputs": [],
   "source": [
    "power=lambda x: x**2     #square number"
   ]
  },
  {
   "cell_type": "code",
   "execution_count": 7,
   "id": "bec97c61",
   "metadata": {},
   "outputs": [
    {
     "data": {
      "text/plain": [
       "4"
      ]
     },
     "execution_count": 7,
     "metadata": {},
     "output_type": "execute_result"
    }
   ],
   "source": [
    "power(2)"
   ]
  },
  {
   "cell_type": "code",
   "execution_count": 8,
   "id": "b875cf29",
   "metadata": {},
   "outputs": [
    {
     "data": {
      "text/plain": [
       "9"
      ]
     },
     "execution_count": 8,
     "metadata": {},
     "output_type": "execute_result"
    }
   ],
   "source": [
    "power(3)"
   ]
  },
  {
   "cell_type": "code",
   "execution_count": 9,
   "id": "5d152676",
   "metadata": {},
   "outputs": [
    {
     "data": {
      "text/plain": [
       "81"
      ]
     },
     "execution_count": 9,
     "metadata": {},
     "output_type": "execute_result"
    }
   ],
   "source": [
    "power(9)"
   ]
  },
  {
   "cell_type": "code",
   "execution_count": 13,
   "id": "c89c3af1",
   "metadata": {},
   "outputs": [],
   "source": [
    "cube=lambda x: x**3    #CUBE NUMBER"
   ]
  },
  {
   "cell_type": "code",
   "execution_count": 14,
   "id": "22fc176b",
   "metadata": {},
   "outputs": [
    {
     "data": {
      "text/plain": [
       "8"
      ]
     },
     "execution_count": 14,
     "metadata": {},
     "output_type": "execute_result"
    }
   ],
   "source": [
    "cube(2)"
   ]
  },
  {
   "cell_type": "code",
   "execution_count": 15,
   "id": "1ef31d47",
   "metadata": {},
   "outputs": [
    {
     "data": {
      "text/plain": [
       "27"
      ]
     },
     "execution_count": 15,
     "metadata": {},
     "output_type": "execute_result"
    }
   ],
   "source": [
    "cube(3)"
   ]
  },
  {
   "cell_type": "code",
   "execution_count": 16,
   "id": "08ac0177",
   "metadata": {},
   "outputs": [],
   "source": [
    "add=lambda x,y: x+y    #Addition of number  "
   ]
  },
  {
   "cell_type": "code",
   "execution_count": 17,
   "id": "30f9649c",
   "metadata": {},
   "outputs": [
    {
     "data": {
      "text/plain": [
       "8"
      ]
     },
     "execution_count": 17,
     "metadata": {},
     "output_type": "execute_result"
    }
   ],
   "source": [
    "add(3,5)"
   ]
  },
  {
   "cell_type": "code",
   "execution_count": 22,
   "id": "480f1ae9",
   "metadata": {},
   "outputs": [],
   "source": [
    "largest_num=lambda a,b: print(f\"{a} is greater\") if a>b else print(f\"{b} is greater\")   #greatest number"
   ]
  },
  {
   "cell_type": "code",
   "execution_count": 23,
   "id": "4547867a",
   "metadata": {},
   "outputs": [
    {
     "name": "stdout",
     "output_type": "stream",
     "text": [
      "140 is greater\n"
     ]
    }
   ],
   "source": [
    "largest_num(5,140)"
   ]
  },
  {
   "cell_type": "code",
   "execution_count": 27,
   "id": "969285da",
   "metadata": {},
   "outputs": [],
   "source": [
    "a=[1,2,3,4,5,6]                         #list square\n",
    "list=lambda a:[i**2 for i in a]"
   ]
  },
  {
   "cell_type": "code",
   "execution_count": 28,
   "id": "48d34cfe",
   "metadata": {},
   "outputs": [
    {
     "data": {
      "text/plain": [
       "[1, 4, 9, 16, 25, 36]"
      ]
     },
     "execution_count": 28,
     "metadata": {},
     "output_type": "execute_result"
    }
   ],
   "source": [
    "list(a)"
   ]
  },
  {
   "cell_type": "markdown",
   "id": "f76eb806",
   "metadata": {},
   "source": [
    "Higher order function :\n",
    "   A function is called higher order function if it contain other function as a parameter or return a function as an output.\n",
    "   A function is an instance of the object type.\n",
    " 1.Map() :\n",
    "    Syntax :\n",
    "       list(map(function_name,iterator))\n",
    "    Applies a given function to all the the iterable and return new value.\n",
    " 2.Filter() :\n",
    "     Used to filter the given iterable like list,set with the help of another function passed as an argument to test all the        element to be true or false. \n",
    " 3.Reduce() :\n",
    "     To applies some other function to a list of element that are pass as a parameter to it and finally returns the single          value."
   ]
  },
  {
   "cell_type": "code",
   "execution_count": 1,
   "id": "07691973",
   "metadata": {},
   "outputs": [
    {
     "name": "stdout",
     "output_type": "stream",
     "text": [
      "[7, 8, 9, 11]\n"
     ]
    }
   ],
   "source": [
    "#1.Map()\n",
    "a=[4,5,6,8]\n",
    "a=map(lambda x:x+3,a)\n",
    "print(list(a))"
   ]
  },
  {
   "cell_type": "code",
   "execution_count": 3,
   "id": "cdf8994b",
   "metadata": {},
   "outputs": [
    {
     "name": "stdout",
     "output_type": "stream",
     "text": [
      "[True, False, True, True]\n"
     ]
    }
   ],
   "source": [
    "a=[4,5,6,8]\n",
    "a=map(lambda x:x%2==0,a)\n",
    "print(list(a))"
   ]
  },
  {
   "cell_type": "code",
   "execution_count": 2,
   "id": "b283fc2e",
   "metadata": {},
   "outputs": [
    {
     "name": "stdout",
     "output_type": "stream",
     "text": [
      "[2, 4, 6, 8]\n"
     ]
    }
   ],
   "source": [
    "#2.Filter()\n",
    "a=[1,2,3,4,5,6,8]\n",
    "a=filter(lambda x:x%2==0,a)\n",
    "print(list(a))"
   ]
  },
  {
   "cell_type": "code",
   "execution_count": 1,
   "id": "5c605781",
   "metadata": {},
   "outputs": [
    {
     "data": {
      "text/plain": [
       "28"
      ]
     },
     "execution_count": 1,
     "metadata": {},
     "output_type": "execute_result"
    }
   ],
   "source": [
    "#3.Reduce()\n",
    "from functools import reduce\n",
    "a=reduce(lambda a,b:a+b,[1,2,3,4,5,6,7])\n",
    "a"
   ]
  },
  {
   "cell_type": "code",
   "execution_count": null,
   "id": "42f03a1e",
   "metadata": {},
   "outputs": [],
   "source": []
  }
 ],
 "metadata": {
  "kernelspec": {
   "display_name": "Python 3 (ipykernel)",
   "language": "python",
   "name": "python3"
  },
  "language_info": {
   "codemirror_mode": {
    "name": "ipython",
    "version": 3
   },
   "file_extension": ".py",
   "mimetype": "text/x-python",
   "name": "python",
   "nbconvert_exporter": "python",
   "pygments_lexer": "ipython3",
   "version": "3.10.9"
  }
 },
 "nbformat": 4,
 "nbformat_minor": 5
}
