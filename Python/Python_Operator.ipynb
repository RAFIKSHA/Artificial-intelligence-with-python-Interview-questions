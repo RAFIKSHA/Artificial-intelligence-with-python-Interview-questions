{
 "cells": [
  {
   "cell_type": "raw",
   "id": "0ac8f949",
   "metadata": {},
   "source": [
    "#Python_Operators: Type=3 Subtypes=7\n",
    "1.uniary\n",
    "2.binary\n",
    "3.trnary\n"
   ]
  },
  {
   "cell_type": "code",
   "execution_count": 9,
   "id": "bc1c80e9",
   "metadata": {},
   "outputs": [
    {
     "data": {
      "text/plain": [
       "10"
      ]
     },
     "execution_count": 9,
     "metadata": {},
     "output_type": "execute_result"
    }
   ],
   "source": [
    "#1.Arithmetic Operator (+,-,*,/,//,%,**)\n",
    "a=10\n",
    "b=20\n",
    "a+b\n",
    "a-b\n",
    "a*b\n",
    "a//b\n",
    "a/b\n",
    "a**b\n",
    "a%b"
   ]
  },
  {
   "cell_type": "code",
   "execution_count": 25,
   "id": "53b3ed61",
   "metadata": {},
   "outputs": [
    {
     "data": {
      "text/plain": [
       "[5, 3]"
      ]
     },
     "execution_count": 25,
     "metadata": {},
     "output_type": "execute_result"
    }
   ],
   "source": [
    "a,*b,c=4,5,3,2\n",
    "a\n",
    "c\n",
    "b"
   ]
  },
  {
   "cell_type": "code",
   "execution_count": 22,
   "id": "faf44cba",
   "metadata": {},
   "outputs": [
    {
     "data": {
      "text/plain": [
       "[5, 6, 7]"
      ]
     },
     "execution_count": 22,
     "metadata": {},
     "output_type": "execute_result"
    }
   ],
   "source": [
    "a,b,c,*d=2,3,4,5,6,7\n",
    "a\n",
    "b\n",
    "c\n",
    "d"
   ]
  },
  {
   "cell_type": "code",
   "execution_count": null,
   "id": "274e5403",
   "metadata": {},
   "outputs": [],
   "source": []
  },
  {
   "cell_type": "code",
   "execution_count": null,
   "id": "c935d9d7",
   "metadata": {},
   "outputs": [],
   "source": []
  },
  {
   "cell_type": "code",
   "execution_count": 37,
   "id": "5d5de278",
   "metadata": {},
   "outputs": [
    {
     "data": {
      "text/plain": [
       "True"
      ]
     },
     "execution_count": 37,
     "metadata": {},
     "output_type": "execute_result"
    }
   ],
   "source": [
    "#2.Relational Operator (<,>,<=,>=,==,!=)\n",
    "a=10\n",
    "b=20\n",
    "a>b\n",
    "a<b\n",
    "a==b\n",
    "a<=b\n",
    "a>=b\n",
    "a!=b"
   ]
  },
  {
   "cell_type": "code",
   "execution_count": 38,
   "id": "42a392c5",
   "metadata": {},
   "outputs": [
    {
     "data": {
      "text/plain": [
       "True"
      ]
     },
     "execution_count": 38,
     "metadata": {},
     "output_type": "execute_result"
    }
   ],
   "source": [
    "a=10\n",
    "a!=11"
   ]
  },
  {
   "cell_type": "code",
   "execution_count": null,
   "id": "2c6cbf10",
   "metadata": {},
   "outputs": [],
   "source": []
  },
  {
   "cell_type": "code",
   "execution_count": null,
   "id": "32a0950f",
   "metadata": {},
   "outputs": [],
   "source": [
    "#3.Logical Operator (and,or,not)\n",
    "#And\n",
    "con1  con2  Result\n",
    "0      0      0\n",
    "1      0      0\n",
    "0      1      0\n",
    "1      1      1    "
   ]
  },
  {
   "cell_type": "code",
   "execution_count": 47,
   "id": "dd566385",
   "metadata": {},
   "outputs": [
    {
     "data": {
      "text/plain": [
       "20"
      ]
     },
     "execution_count": 47,
     "metadata": {},
     "output_type": "execute_result"
    }
   ],
   "source": [
    "10 and 20"
   ]
  },
  {
   "cell_type": "code",
   "execution_count": 52,
   "id": "2f8ab3d4",
   "metadata": {},
   "outputs": [
    {
     "data": {
      "text/plain": [
       "0"
      ]
     },
     "execution_count": 52,
     "metadata": {},
     "output_type": "execute_result"
    }
   ],
   "source": [
    "0 and 20"
   ]
  },
  {
   "cell_type": "code",
   "execution_count": 41,
   "id": "b84ba2e0",
   "metadata": {},
   "outputs": [
    {
     "data": {
      "text/plain": [
       "True"
      ]
     },
     "execution_count": 41,
     "metadata": {},
     "output_type": "execute_result"
    }
   ],
   "source": [
    "a=10\n",
    "b=10\n",
    "a==10 and type(a)==int"
   ]
  },
  {
   "cell_type": "code",
   "execution_count": 43,
   "id": "af243a21",
   "metadata": {},
   "outputs": [
    {
     "data": {
      "text/plain": [
       "False"
      ]
     },
     "execution_count": 43,
     "metadata": {},
     "output_type": "execute_result"
    }
   ],
   "source": [
    "a=10\n",
    "b=10\n",
    "a==10.1 and type(a)==float"
   ]
  },
  {
   "cell_type": "code",
   "execution_count": null,
   "id": "3e4388e7",
   "metadata": {},
   "outputs": [],
   "source": [
    "#Or\n",
    "con1  con2  Result\n",
    "0      0      0\n",
    "1      0      1\n",
    "0      1      1\n",
    "1      1      1   "
   ]
  },
  {
   "cell_type": "code",
   "execution_count": 44,
   "id": "25f6d2b3",
   "metadata": {},
   "outputs": [
    {
     "data": {
      "text/plain": [
       "True"
      ]
     },
     "execution_count": 44,
     "metadata": {},
     "output_type": "execute_result"
    }
   ],
   "source": [
    "a=10\n",
    "b=20\n",
    "a==10 and type(a)==int"
   ]
  },
  {
   "cell_type": "code",
   "execution_count": 45,
   "id": "718ade19",
   "metadata": {},
   "outputs": [
    {
     "data": {
      "text/plain": [
       "True"
      ]
     },
     "execution_count": 45,
     "metadata": {},
     "output_type": "execute_result"
    }
   ],
   "source": [
    "a=10\n",
    "a==10 or a>10"
   ]
  },
  {
   "cell_type": "code",
   "execution_count": 46,
   "id": "0dd56834",
   "metadata": {},
   "outputs": [
    {
     "data": {
      "text/plain": [
       "False"
      ]
     },
     "execution_count": 46,
     "metadata": {},
     "output_type": "execute_result"
    }
   ],
   "source": [
    "a=10\n",
    "a==120 or a>10"
   ]
  },
  {
   "cell_type": "code",
   "execution_count": 48,
   "id": "304eac93",
   "metadata": {},
   "outputs": [
    {
     "data": {
      "text/plain": [
       "10"
      ]
     },
     "execution_count": 48,
     "metadata": {},
     "output_type": "execute_result"
    }
   ],
   "source": [
    "10 or 20"
   ]
  },
  {
   "cell_type": "code",
   "execution_count": null,
   "id": "d99d01ef",
   "metadata": {},
   "outputs": [],
   "source": [
    "#Not\n",
    "con   Result\n",
    "1       0\n",
    "0       1"
   ]
  },
  {
   "cell_type": "code",
   "execution_count": 54,
   "id": "9e80a369",
   "metadata": {},
   "outputs": [
    {
     "data": {
      "text/plain": [
       "False"
      ]
     },
     "execution_count": 54,
     "metadata": {},
     "output_type": "execute_result"
    }
   ],
   "source": [
    "not(' ')"
   ]
  },
  {
   "cell_type": "code",
   "execution_count": 56,
   "id": "c7d45b96",
   "metadata": {},
   "outputs": [
    {
     "data": {
      "text/plain": [
       "' '"
      ]
     },
     "execution_count": 56,
     "metadata": {},
     "output_type": "execute_result"
    }
   ],
   "source": [
    "\" \" and \" \"   #and"
   ]
  },
  {
   "cell_type": "code",
   "execution_count": 62,
   "id": "5e55c907",
   "metadata": {},
   "outputs": [],
   "source": [
    "#4.Assignemnt Operator (+=,-=,=,*=,\\=,\\\\=)\n",
    "a=20 #="
   ]
  },
  {
   "cell_type": "code",
   "execution_count": 64,
   "id": "d4e47ab9",
   "metadata": {},
   "outputs": [],
   "source": [
    "a=12.1"
   ]
  },
  {
   "cell_type": "code",
   "execution_count": 65,
   "id": "8134f7bb",
   "metadata": {},
   "outputs": [
    {
     "data": {
      "text/plain": [
       "12.1"
      ]
     },
     "execution_count": 65,
     "metadata": {},
     "output_type": "execute_result"
    }
   ],
   "source": [
    "a"
   ]
  },
  {
   "cell_type": "code",
   "execution_count": 76,
   "id": "5c7e28d8",
   "metadata": {},
   "outputs": [
    {
     "data": {
      "text/plain": [
       "2"
      ]
     },
     "execution_count": 76,
     "metadata": {},
     "output_type": "execute_result"
    }
   ],
   "source": [
    "a+=1\n",
    "a\n",
    "a-=5\n",
    "a\n",
    "a=2\n",
    "a"
   ]
  },
  {
   "cell_type": "code",
   "execution_count": 83,
   "id": "4b25887b",
   "metadata": {},
   "outputs": [
    {
     "data": {
      "text/plain": [
       "0.5"
      ]
     },
     "execution_count": 83,
     "metadata": {},
     "output_type": "execute_result"
    }
   ],
   "source": [
    "a*=2\n",
    "a\n",
    "a/=4\n",
    "a\n",
    "a//2\n",
    "a"
   ]
  },
  {
   "cell_type": "code",
   "execution_count": 72,
   "id": "8e91d6f2",
   "metadata": {},
   "outputs": [
    {
     "ename": "TypeError",
     "evalue": "unsupported operand type(s) for +=: 'float' and 'str'",
     "output_type": "error",
     "traceback": [
      "\u001b[1;31m---------------------------------------------------------------------------\u001b[0m",
      "\u001b[1;31mTypeError\u001b[0m                                 Traceback (most recent call last)",
      "Cell \u001b[1;32mIn[72], line 1\u001b[0m\n\u001b[1;32m----> 1\u001b[0m a\u001b[38;5;241m+\u001b[39m\u001b[38;5;241m=\u001b[39m\u001b[38;5;124m'\u001b[39m\u001b[38;5;124mre\u001b[39m\u001b[38;5;124m'\u001b[39m\n",
      "\u001b[1;31mTypeError\u001b[0m: unsupported operand type(s) for +=: 'float' and 'str'"
     ]
    }
   ],
   "source": [
    "a+='re' #unsupported operand type(s) for +=: 'float' and 'str'"
   ]
  },
  {
   "cell_type": "code",
   "execution_count": 84,
   "id": "9fc3969c",
   "metadata": {},
   "outputs": [
    {
     "name": "stdout",
     "output_type": "stream",
     "text": [
      "True\n"
     ]
    },
    {
     "name": "stderr",
     "output_type": "stream",
     "text": [
      "<>:3: SyntaxWarning: \"is\" with a literal. Did you mean \"==\"?\n",
      "<>:3: SyntaxWarning: \"is\" with a literal. Did you mean \"==\"?\n",
      "C:\\Users\\Rudra Computer\\AppData\\Local\\Temp\\ipykernel_10440\\3231924962.py:3: SyntaxWarning: \"is\" with a literal. Did you mean \"==\"?\n",
      "  print(a is 5)\n"
     ]
    }
   ],
   "source": [
    "#5.identity Operator (is,is not)\n",
    "a=5\n",
    "print(a is 5)"
   ]
  },
  {
   "cell_type": "code",
   "execution_count": 85,
   "id": "7ed5e05a",
   "metadata": {},
   "outputs": [
    {
     "name": "stdout",
     "output_type": "stream",
     "text": [
      "y\n"
     ]
    }
   ],
   "source": [
    "a=[2,3,4,5]\n",
    "if type(a) is list:\n",
    "    print('y')\n",
    "else:\n",
    "    print('n')"
   ]
  },
  {
   "cell_type": "code",
   "execution_count": 86,
   "id": "f3c1d121",
   "metadata": {},
   "outputs": [
    {
     "name": "stdout",
     "output_type": "stream",
     "text": [
      "y\n"
     ]
    }
   ],
   "source": [
    "a=[1,2,3,4,5]\n",
    "if type(a) is not list:\n",
    "    print('n')\n",
    "else:\n",
    "    print('y')"
   ]
  },
  {
   "cell_type": "code",
   "execution_count": 87,
   "id": "72eee58a",
   "metadata": {},
   "outputs": [
    {
     "name": "stdout",
     "output_type": "stream",
     "text": [
      "True\n"
     ]
    }
   ],
   "source": [
    "#6.Membership Operator (in,not in)\n",
    "a=[1,2,3,4,5]\n",
    "print(2 in a)"
   ]
  },
  {
   "cell_type": "code",
   "execution_count": 88,
   "id": "350c4216",
   "metadata": {},
   "outputs": [
    {
     "name": "stdout",
     "output_type": "stream",
     "text": [
      "False\n"
     ]
    }
   ],
   "source": [
    "a=[1,2,3,4,5]\n",
    "print(2 not in a)"
   ]
  },
  {
   "cell_type": "code",
   "execution_count": 89,
   "id": "f357f75e",
   "metadata": {},
   "outputs": [
    {
     "name": "stdout",
     "output_type": "stream",
     "text": [
      "True\n"
     ]
    }
   ],
   "source": [
    "a=[1,2,3,4,5]\n",
    "print('akshay' not in a)"
   ]
  },
  {
   "cell_type": "code",
   "execution_count": 12,
   "id": "077f79d3",
   "metadata": {},
   "outputs": [
    {
     "data": {
      "text/plain": [
       "4"
      ]
     },
     "execution_count": 12,
     "metadata": {},
     "output_type": "execute_result"
    }
   ],
   "source": [
    "#7.Bitwise Operator (&,|,<<,>>,^,~)\n",
    "#1.Bitwise and(&)\n",
    "a=(4&5)\n",
    "a"
   ]
  },
  {
   "cell_type": "code",
   "execution_count": 13,
   "id": "9bb9b5a8",
   "metadata": {},
   "outputs": [
    {
     "data": {
      "text/plain": [
       "('0b100', '0b101')"
      ]
     },
     "execution_count": 13,
     "metadata": {},
     "output_type": "execute_result"
    }
   ],
   "source": [
    "bin(4),bin(5)"
   ]
  },
  {
   "cell_type": "code",
   "execution_count": 14,
   "id": "b89f2e37",
   "metadata": {},
   "outputs": [
    {
     "data": {
      "text/plain": [
       "'0b100'"
      ]
     },
     "execution_count": 14,
     "metadata": {},
     "output_type": "execute_result"
    }
   ],
   "source": [
    "bin(4&5)"
   ]
  },
  {
   "cell_type": "code",
   "execution_count": 15,
   "id": "e37438fc",
   "metadata": {},
   "outputs": [
    {
     "data": {
      "text/plain": [
       "5"
      ]
     },
     "execution_count": 15,
     "metadata": {},
     "output_type": "execute_result"
    }
   ],
   "source": [
    "#2.Bitwise or(|)\n",
    "a=(4|5)\n",
    "a"
   ]
  },
  {
   "cell_type": "code",
   "execution_count": 16,
   "id": "ee94c1da",
   "metadata": {},
   "outputs": [
    {
     "data": {
      "text/plain": [
       "'0b101'"
      ]
     },
     "execution_count": 16,
     "metadata": {},
     "output_type": "execute_result"
    }
   ],
   "source": [
    "bin(4|5)"
   ]
  },
  {
   "cell_type": "code",
   "execution_count": 17,
   "id": "5f613868",
   "metadata": {},
   "outputs": [
    {
     "data": {
      "text/plain": [
       "'0b100'"
      ]
     },
     "execution_count": 17,
     "metadata": {},
     "output_type": "execute_result"
    }
   ],
   "source": [
    "#3.X-or(^)\n",
    "bin(4)"
   ]
  },
  {
   "cell_type": "code",
   "execution_count": 18,
   "id": "d2749767",
   "metadata": {},
   "outputs": [
    {
     "data": {
      "text/plain": [
       "'0b101'"
      ]
     },
     "execution_count": 18,
     "metadata": {},
     "output_type": "execute_result"
    }
   ],
   "source": [
    "bin(5)"
   ]
  },
  {
   "cell_type": "code",
   "execution_count": 20,
   "id": "bfedad37",
   "metadata": {},
   "outputs": [
    {
     "data": {
      "text/plain": [
       "1"
      ]
     },
     "execution_count": 20,
     "metadata": {},
     "output_type": "execute_result"
    }
   ],
   "source": [
    "(4^5)"
   ]
  },
  {
   "cell_type": "code",
   "execution_count": 23,
   "id": "e069988d",
   "metadata": {},
   "outputs": [
    {
     "data": {
      "text/plain": [
       "1"
      ]
     },
     "execution_count": 23,
     "metadata": {},
     "output_type": "execute_result"
    }
   ],
   "source": [
    "#4.Right shift(>>)\n",
    "a=(4 >> 2)\n",
    "a"
   ]
  },
  {
   "cell_type": "code",
   "execution_count": 24,
   "id": "04ee1112",
   "metadata": {},
   "outputs": [
    {
     "data": {
      "text/plain": [
       "16"
      ]
     },
     "execution_count": 24,
     "metadata": {},
     "output_type": "execute_result"
    }
   ],
   "source": [
    "#4.Left shift(<<)\n",
    "a=(4 << 2)\n",
    "a"
   ]
  },
  {
   "cell_type": "code",
   "execution_count": null,
   "id": "af4efed2",
   "metadata": {},
   "outputs": [],
   "source": [
    "x=int(input('Enter x value ='))\n",
    "y=x**3+3*(x**2)+2*x+1\n",
    "print(y)"
   ]
  },
  {
   "cell_type": "code",
   "execution_count": null,
   "id": "e3be3690",
   "metadata": {},
   "outputs": [],
   "source": [
    "Enter x value =5\n",
    "211"
   ]
  },
  {
   "cell_type": "code",
   "execution_count": null,
   "id": "a3834bc5",
   "metadata": {},
   "outputs": [],
   "source": [
    "#x=int(input('Area of circle='))\n",
    "r=eval(input('put radius='))\n",
    "a=(3.14*r**2)\n",
    "print(a)"
   ]
  }
 ],
 "metadata": {
  "kernelspec": {
   "display_name": "Python 3 (ipykernel)",
   "language": "python",
   "name": "python3"
  },
  "language_info": {
   "codemirror_mode": {
    "name": "ipython",
    "version": 3
   },
   "file_extension": ".py",
   "mimetype": "text/x-python",
   "name": "python",
   "nbconvert_exporter": "python",
   "pygments_lexer": "ipython3",
   "version": "3.10.9"
  }
 },
 "nbformat": 4,
 "nbformat_minor": 5
}
