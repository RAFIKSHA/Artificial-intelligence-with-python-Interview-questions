{
 "cells": [
  {
   "cell_type": "markdown",
   "id": "d422278d",
   "metadata": {},
   "source": [
    "List :\n",
    "   List is collection of item, entities that are enclosed in square braces and are seperated by commas.[,]\n",
    "   List is stored varoius data type. \n",
    "   List is mutable datatype we cand add, update and delete element from list..\n",
    "   List is iterable datatype.\n",
    "   Heterogeneous objects are allowed.\n",
    "   List is dynamic in nature it means we can inceease and decrease size of list.\n",
    "   List supporting index concept.\n",
    "   If we want to represent group of individual object as single entity then we used list.\n",
    "   Inseration order is preserved and duplictes are allowed.\n",
    "         By default start from 0 and end length of list -1 {len(list)} for positive index.------->(Left To Right)\n",
    "         By default start from -1 and end minus of length of list {-len(list)} For negative index.------>(Right To Left)"
   ]
  },
  {
   "cell_type": "code",
   "execution_count": 4,
   "id": "215850ed",
   "metadata": {},
   "outputs": [
    {
     "data": {
      "text/plain": [
       "[2, 45, 43, 567, 23, 'reshma']"
      ]
     },
     "execution_count": 4,
     "metadata": {},
     "output_type": "execute_result"
    }
   ],
   "source": [
    "a=[2,45,43,567,23,'reshma']\n",
    "a"
   ]
  },
  {
   "cell_type": "code",
   "execution_count": 5,
   "id": "81372fd7",
   "metadata": {},
   "outputs": [
    {
     "data": {
      "text/plain": [
       "str"
      ]
     },
     "execution_count": 5,
     "metadata": {},
     "output_type": "execute_result"
    }
   ],
   "source": [
    "type(a[-1])"
   ]
  },
  {
   "cell_type": "code",
   "execution_count": 6,
   "id": "6f10f843",
   "metadata": {},
   "outputs": [
    {
     "name": "stdout",
     "output_type": "stream",
     "text": [
      "1\n",
      "2\n",
      "34\n",
      "54\n",
      "7\n"
     ]
    }
   ],
   "source": [
    "#Iterable datatype\n",
    "import time   \n",
    "a=[1,2,34,54,7]\n",
    "for i in a:\n",
    "    time.sleep(2)\n",
    "    print(i)"
   ]
  },
  {
   "cell_type": "code",
   "execution_count": 9,
   "id": "8b1e053c",
   "metadata": {},
   "outputs": [
    {
     "name": "stdout",
     "output_type": "stream",
     "text": [
      "<list_iterator object at 0x000001FE37AA1CF0>\n",
      "4\n",
      "45\n",
      "3\n",
      "4\n",
      "2\n"
     ]
    }
   ],
   "source": [
    "a=[4,45,3,4,2]\n",
    "a=iter(a)   #iter=iterater object\n",
    "print(a)\n",
    "for i in range(5):\n",
    "    print(next(a))"
   ]
  },
  {
   "cell_type": "code",
   "execution_count": 10,
   "id": "7c9a4059",
   "metadata": {},
   "outputs": [
    {
     "ename": "TypeError",
     "evalue": "'int' object is not iterable",
     "output_type": "error",
     "traceback": [
      "\u001b[1;31m---------------------------------------------------------------------------\u001b[0m",
      "\u001b[1;31mTypeError\u001b[0m                                 Traceback (most recent call last)",
      "Cell \u001b[1;32mIn[10], line 1\u001b[0m\n\u001b[1;32m----> 1\u001b[0m \u001b[38;5;28;01mfor\u001b[39;00m i \u001b[38;5;129;01min\u001b[39;00m \u001b[38;5;241m4675\u001b[39m:\n\u001b[0;32m      2\u001b[0m     \u001b[38;5;28mprint\u001b[39m(i)\n",
      "\u001b[1;31mTypeError\u001b[0m: 'int' object is not iterable"
     ]
    }
   ],
   "source": [
    "for i in 4675:\n",
    "    print(i)   #'int' object is not iterable"
   ]
  },
  {
   "cell_type": "code",
   "execution_count": 16,
   "id": "e163ae3f",
   "metadata": {},
   "outputs": [
    {
     "data": {
      "text/plain": [
       "[6, 8, 5, 4]"
      ]
     },
     "execution_count": 16,
     "metadata": {},
     "output_type": "execute_result"
    }
   ],
   "source": [
    "a=[4,5,8,6]         #Reverse List\n",
    "a[-1:-len(a)-1:-1]"
   ]
  },
  {
   "cell_type": "code",
   "execution_count": 3,
   "id": "c828e39d",
   "metadata": {},
   "outputs": [
    {
     "data": {
      "text/plain": [
       "[25, 45, 4, 5, 654, 9]"
      ]
     },
     "execution_count": 3,
     "metadata": {},
     "output_type": "execute_result"
    }
   ],
   "source": [
    "a=[2,45,4,5,654,9]\n",
    "a[0]=25\n",
    "a"
   ]
  },
  {
   "cell_type": "code",
   "execution_count": 4,
   "id": "a95efa3c",
   "metadata": {},
   "outputs": [
    {
     "data": {
      "text/plain": [
       "4979269880916516382"
      ]
     },
     "execution_count": 4,
     "metadata": {},
     "output_type": "execute_result"
    }
   ],
   "source": [
    "a='reshma'\n",
    "hash(a)"
   ]
  },
  {
   "cell_type": "markdown",
   "id": "d41670f4",
   "metadata": {},
   "source": [
    "Indexing :\n",
    "    Indexing start from 0 for Positive index.(left-->right)\n",
    "    Indexing start from -1 for Negative index.(right-->left)"
   ]
  },
  {
   "cell_type": "code",
   "execution_count": 6,
   "id": "e3595445",
   "metadata": {},
   "outputs": [
    {
     "data": {
      "text/plain": [
       "'rohit'"
      ]
     },
     "execution_count": 6,
     "metadata": {},
     "output_type": "execute_result"
    }
   ],
   "source": [
    "a=[1,'reshma','rohit',34.6]\n",
    "a[2]"
   ]
  },
  {
   "cell_type": "code",
   "execution_count": 14,
   "id": "7819efd1",
   "metadata": {},
   "outputs": [
    {
     "data": {
      "text/plain": [
       "'reshma rohit ram sayali swati'"
      ]
     },
     "execution_count": 14,
     "metadata": {},
     "output_type": "execute_result"
    }
   ],
   "source": [
    "a='reshma rohit ram sayali swati'\n",
    "a"
   ]
  },
  {
   "cell_type": "code",
   "execution_count": 16,
   "id": "f563ee73",
   "metadata": {},
   "outputs": [
    {
     "name": "stdout",
     "output_type": "stream",
     "text": [
      "mahs\n",
      "amhser\n",
      "tihor\n",
      "itaws\n"
     ]
    }
   ],
   "source": [
    "a=['sham','reshma','rohit','swati']    #reverse word\n",
    "for i in a: \n",
    "    print(i[::-1])"
   ]
  },
  {
   "cell_type": "code",
   "execution_count": 20,
   "id": "2399cb56",
   "metadata": {},
   "outputs": [
    {
     "data": {
      "text/plain": [
       "'rohit'"
      ]
     },
     "execution_count": 20,
     "metadata": {},
     "output_type": "execute_result"
    }
   ],
   "source": [
    "a=[1,'reshma','rohit',34.6]\n",
    "a[-2]"
   ]
  },
  {
   "cell_type": "markdown",
   "id": "67d5b6c7",
   "metadata": {},
   "source": [
    "List slicing :\n",
    "       A slicing object is use to specify how to slice a sequence you can specify to start the slicing and where to end.\n",
    "       you can also specify the step.\n",
    "   syntax :\n",
    "       list_var[start:end:step_size]."
   ]
  },
  {
   "cell_type": "code",
   "execution_count": 23,
   "id": "8338aa35",
   "metadata": {},
   "outputs": [
    {
     "data": {
      "text/plain": [
       "['reshma', 'rohit']"
      ]
     },
     "execution_count": 23,
     "metadata": {},
     "output_type": "execute_result"
    }
   ],
   "source": [
    "a=['sham','reshma','rohit','swati'] \n",
    "a[1:3]"
   ]
  },
  {
   "cell_type": "code",
   "execution_count": 24,
   "id": "ed4372b6",
   "metadata": {},
   "outputs": [
    {
     "data": {
      "text/plain": [
       "['rohit', 'reshma']"
      ]
     },
     "execution_count": 24,
     "metadata": {},
     "output_type": "execute_result"
    }
   ],
   "source": [
    "a=['sham','reshma','rohit','swati'] \n",
    "a[1:3][::-1]"
   ]
  },
  {
   "cell_type": "code",
   "execution_count": 25,
   "id": "685c4c2e",
   "metadata": {},
   "outputs": [
    {
     "data": {
      "text/plain": [
       "['reshma']"
      ]
     },
     "execution_count": 25,
     "metadata": {},
     "output_type": "execute_result"
    }
   ],
   "source": [
    "a=['sham','reshma','rohit','swati']  #Step size\n",
    "a[1:3:2]"
   ]
  },
  {
   "cell_type": "markdown",
   "id": "9474112d",
   "metadata": {},
   "source": [
    "Reverse index list :      "
   ]
  },
  {
   "cell_type": "code",
   "execution_count": 28,
   "id": "2a24d360",
   "metadata": {},
   "outputs": [
    {
     "data": {
      "text/plain": [
       "['swati', 'rohit', 'reshma', 'sham']"
      ]
     },
     "execution_count": 28,
     "metadata": {},
     "output_type": "execute_result"
    }
   ],
   "source": [
    "a=['sham','reshma','rohit','swati'] \n",
    "a[::-1]"
   ]
  },
  {
   "cell_type": "code",
   "execution_count": 32,
   "id": "47d7bcff",
   "metadata": {},
   "outputs": [
    {
     "data": {
      "text/plain": [
       "[]"
      ]
     },
     "execution_count": 32,
     "metadata": {},
     "output_type": "execute_result"
    }
   ],
   "source": [
    "a[0:3:-1]"
   ]
  },
  {
   "cell_type": "markdown",
   "id": "e63de677",
   "metadata": {},
   "source": [
    "Checking all items in list :"
   ]
  },
  {
   "cell_type": "code",
   "execution_count": 33,
   "id": "5dfab832",
   "metadata": {},
   "outputs": [
    {
     "name": "stdout",
     "output_type": "stream",
     "text": [
      "sham\n",
      "reshma\n",
      "rohit\n",
      "swati\n"
     ]
    }
   ],
   "source": [
    "a=['sham','reshma','rohit','swati'] \n",
    "for i in a:\n",
    "    print(i)"
   ]
  },
  {
   "cell_type": "code",
   "execution_count": 35,
   "id": "0228b748",
   "metadata": {},
   "outputs": [
    {
     "name": "stdout",
     "output_type": "stream",
     "text": [
      "(0, 'sham')\n",
      "(1, 'reshma')\n",
      "(2, 'rohit')\n",
      "(3, 'swati')\n"
     ]
    }
   ],
   "source": [
    "for i in enumerate(a):      #by using enumerate in for loop\n",
    "    print(i)"
   ]
  },
  {
   "cell_type": "code",
   "execution_count": 36,
   "id": "5403cf64",
   "metadata": {},
   "outputs": [
    {
     "name": "stdout",
     "output_type": "stream",
     "text": [
      "0 sham\n",
      "1 reshma\n",
      "2 rohit\n",
      "3 swati\n"
     ]
    }
   ],
   "source": [
    "for i,v in enumerate(a):      #by using enumerate in for loop\n",
    "    print(i,v)"
   ]
  },
  {
   "cell_type": "code",
   "execution_count": 41,
   "id": "860b2849",
   "metadata": {},
   "outputs": [
    {
     "name": "stdout",
     "output_type": "stream",
     "text": [
      "0 sham\n",
      "1 reshma\n",
      "2 rohit\n",
      "3 swati\n"
     ]
    }
   ],
   "source": [
    "a=['sham','reshma','rohit','swati']   #indexing using for loop\n",
    "index=0\n",
    "for i in a:\n",
    "    print(index,i)\n",
    "    index+=1"
   ]
  },
  {
   "cell_type": "markdown",
   "id": "ae4751b5",
   "metadata": {},
   "source": [
    "Range Function :\n",
    "     It gives the sequences of numbers.\n",
    "  Syntax :\n",
    "      range(intial_index,end index,step_size)."
   ]
  },
  {
   "cell_type": "code",
   "execution_count": 44,
   "id": "93bd4fe5",
   "metadata": {},
   "outputs": [
    {
     "data": {
      "text/plain": [
       "[0, 1, 2, 3, 4]"
      ]
     },
     "execution_count": 44,
     "metadata": {},
     "output_type": "execute_result"
    }
   ],
   "source": [
    " list(range(5))"
   ]
  },
  {
   "cell_type": "code",
   "execution_count": 45,
   "id": "54c358c8",
   "metadata": {},
   "outputs": [
    {
     "data": {
      "text/plain": [
       "[0, 2, 4]"
      ]
     },
     "execution_count": 45,
     "metadata": {},
     "output_type": "execute_result"
    }
   ],
   "source": [
    " list(range(0,5,2))"
   ]
  },
  {
   "cell_type": "code",
   "execution_count": 47,
   "id": "7567c03d",
   "metadata": {},
   "outputs": [
    {
     "data": {
      "text/plain": [
       "[0, 3]"
      ]
     },
     "execution_count": 47,
     "metadata": {},
     "output_type": "execute_result"
    }
   ],
   "source": [
    " list(range(0,5,3))"
   ]
  },
  {
   "cell_type": "markdown",
   "id": "43857f88",
   "metadata": {},
   "source": [
    "Adding Function :\n",
    "1.Append() :\n",
    "      list.append() takes exactly one argument.\n",
    "      Append is used to add the item in the list by default is adds the item at the -1 index basically at the last.\n",
    "2.Extend() :\n",
    "      Extend is used to add the iterat item in the list.\n",
    "    Syntax :\n",
    "       list_var.extend(data)\n",
    "3.Insert() :\n",
    "      Add item and list in index point.\n",
    "    Syntax :\n",
    "       list_var.insert(indexpoint,data)"
   ]
  },
  {
   "cell_type": "code",
   "execution_count": 52,
   "id": "9575e6f9",
   "metadata": {},
   "outputs": [
    {
     "data": {
      "text/plain": [
       "['sham', 'reshma', 'rohit', 'swati', 'rohit', 'rohit']"
      ]
     },
     "execution_count": 52,
     "metadata": {},
     "output_type": "execute_result"
    }
   ],
   "source": [
    "#1.Append()\n",
    "a.append('rohit')\n",
    "a"
   ]
  },
  {
   "cell_type": "code",
   "execution_count": 53,
   "id": "fab774b1",
   "metadata": {},
   "outputs": [
    {
     "ename": "TypeError",
     "evalue": "list.append() takes exactly one argument (2 given)",
     "output_type": "error",
     "traceback": [
      "\u001b[1;31m---------------------------------------------------------------------------\u001b[0m",
      "\u001b[1;31mTypeError\u001b[0m                                 Traceback (most recent call last)",
      "Cell \u001b[1;32mIn[53], line 1\u001b[0m\n\u001b[1;32m----> 1\u001b[0m \u001b[43ma\u001b[49m\u001b[38;5;241;43m.\u001b[39;49m\u001b[43mappend\u001b[49m\u001b[43m(\u001b[49m\u001b[38;5;124;43m'\u001b[39;49m\u001b[38;5;124;43mrohit\u001b[39;49m\u001b[38;5;124;43m'\u001b[39;49m\u001b[43m,\u001b[49m\u001b[38;5;124;43m'\u001b[39;49m\u001b[38;5;124;43mraj\u001b[39;49m\u001b[38;5;124;43m'\u001b[39;49m\u001b[43m)\u001b[49m\n",
      "\u001b[1;31mTypeError\u001b[0m: list.append() takes exactly one argument (2 given)"
     ]
    }
   ],
   "source": [
    "a.append('rohit','raj') #list.append() takes exactly one argument (2 given)"
   ]
  },
  {
   "cell_type": "code",
   "execution_count": 55,
   "id": "5210c63a",
   "metadata": {},
   "outputs": [
    {
     "data": {
      "text/plain": [
       "[4, 6, 45, 342, 53, 53, 9, [-5, -6, -7, 8, 90]]"
      ]
     },
     "execution_count": 55,
     "metadata": {},
     "output_type": "execute_result"
    }
   ],
   "source": [
    "a=[4,6,45,342,53,53,9]     #Nested list\n",
    "a.append([-5,-6,-7,8,90])\n",
    "a"
   ]
  },
  {
   "cell_type": "code",
   "execution_count": 59,
   "id": "d14d0fa1",
   "metadata": {},
   "outputs": [
    {
     "data": {
      "text/plain": [
       "[4, 5, 6, 3, 2, 89, -7, -6, 4, 3, -2]"
      ]
     },
     "execution_count": 59,
     "metadata": {},
     "output_type": "execute_result"
    }
   ],
   "source": [
    "#2.Extend()\n",
    "a=[4,5,6,3,2,89]\n",
    "a.extend([-7,-6,4,3,-2])\n",
    "a"
   ]
  },
  {
   "cell_type": "code",
   "execution_count": 3,
   "id": "9d5186e8",
   "metadata": {},
   "outputs": [
    {
     "data": {
      "text/plain": [
       "[4, 5, 6, 'Reshma', 3, 2, 89]"
      ]
     },
     "execution_count": 3,
     "metadata": {},
     "output_type": "execute_result"
    }
   ],
   "source": [
    "#3.Insert()\n",
    "a=[4,5,6,3,2,89]\n",
    "a.insert(3,'Reshma')\n",
    "a"
   ]
  },
  {
   "cell_type": "markdown",
   "id": "a2dc42b4",
   "metadata": {},
   "source": [
    "Index Function :\n",
    "    Used to finding the index of any item in the list.\n",
    "    Return first occurance.\n",
    "  Syntax :\n",
    "    list_name.index(item in the list,start index,end index)."
   ]
  },
  {
   "cell_type": "code",
   "execution_count": 69,
   "id": "4998b53e",
   "metadata": {},
   "outputs": [
    {
     "data": {
      "text/plain": [
       "0"
      ]
     },
     "execution_count": 69,
     "metadata": {},
     "output_type": "execute_result"
    }
   ],
   "source": [
    "a=[4,5,6,3,2,89]\n",
    "a.index(4)"
   ]
  },
  {
   "cell_type": "code",
   "execution_count": 68,
   "id": "d160f0dc",
   "metadata": {},
   "outputs": [
    {
     "data": {
      "text/plain": [
       "3"
      ]
     },
     "execution_count": 68,
     "metadata": {},
     "output_type": "execute_result"
    }
   ],
   "source": [
    "a=[4, 5, 6, 'Reshma', 3, 2, 89]\n",
    "a.index('Reshma')"
   ]
  },
  {
   "cell_type": "code",
   "execution_count": 74,
   "id": "1dcb62d2",
   "metadata": {},
   "outputs": [
    {
     "data": {
      "text/plain": [
       "[4, 5, 785, 45, 87, [5, 78, 4, 65, 9]]"
      ]
     },
     "execution_count": 74,
     "metadata": {},
     "output_type": "execute_result"
    }
   ],
   "source": [
    "a=[4,5,785,45,87,[5,78,4,65,9]]\n",
    "a[5][4]"
   ]
  },
  {
   "cell_type": "code",
   "execution_count": 76,
   "id": "7c621320",
   "metadata": {},
   "outputs": [
    {
     "data": {
      "text/plain": [
       "[4, 5, 785, 45, 87, [5, 78, 4, 65, [5, 97, 8, 7]]]"
      ]
     },
     "execution_count": 76,
     "metadata": {},
     "output_type": "execute_result"
    }
   ],
   "source": [
    "a=[4,5,785,45,87,[5,78,4,65,9]]\n",
    "a[5][4]=[5,97,8,7]\n",
    "a"
   ]
  },
  {
   "cell_type": "code",
   "execution_count": 4,
   "id": "68c3bb99",
   "metadata": {},
   "outputs": [
    {
     "name": "stdout",
     "output_type": "stream",
     "text": [
      "['ram', 'sham', 'raj', 'rohit', 'ravi', 'lavu']\n"
     ]
    }
   ],
   "source": [
    "a=['ram','sham','raj','rohit','ravi','lavu','ram','raj']   #remove unique and duplicate word form list\n",
    "unique=[]\n",
    "for i in a:\n",
    "    if i not in unique:\n",
    "        unique.append(i)\n",
    "print(unique)"
   ]
  },
  {
   "cell_type": "markdown",
   "id": "d85ffde7",
   "metadata": {},
   "source": [
    "Counter :\n",
    "   From collections import Counter\n",
    "   Counter(a)"
   ]
  },
  {
   "cell_type": "code",
   "execution_count": 89,
   "id": "04f91408",
   "metadata": {},
   "outputs": [
    {
     "data": {
      "text/plain": [
       "Counter({'ram': 2, 'sham': 1, 'raj': 2, 'rohit': 1, 'ravi': 1, 'lavu': 1})"
      ]
     },
     "execution_count": 89,
     "metadata": {},
     "output_type": "execute_result"
    }
   ],
   "source": [
    "from collections import Counter\n",
    "Counter(a)"
   ]
  },
  {
   "cell_type": "markdown",
   "id": "b5c50ebe",
   "metadata": {},
   "source": [
    "Deleting item from list :\n",
    "1.remove :\n",
    "    Remove is used to remove item from the list.\n",
    "    By default it remove first occurance from the list.\n",
    "2.pop :\n",
    "    Pop expected at most 1 argument.\n",
    "    It remove -1 index.\n",
    "3.delete :\n",
    "    Delete the item in the list or it can also delete the entire list itself.\n",
    "4.clear :\n",
    "    It delete all the item in list and it gives the empty list."
   ]
  },
  {
   "cell_type": "code",
   "execution_count": 93,
   "id": "e082032f",
   "metadata": {},
   "outputs": [
    {
     "data": {
      "text/plain": [
       "['ram', 'rohit', 'ravi']"
      ]
     },
     "execution_count": 93,
     "metadata": {},
     "output_type": "execute_result"
    }
   ],
   "source": [
    "#1.Remove\n",
    "a=['ram','raj','rohit','ravi']\n",
    "a.remove('raj')\n",
    "a"
   ]
  },
  {
   "cell_type": "code",
   "execution_count": 98,
   "id": "0afa3223",
   "metadata": {},
   "outputs": [
    {
     "data": {
      "text/plain": [
       "'ravi'"
      ]
     },
     "execution_count": 98,
     "metadata": {},
     "output_type": "execute_result"
    }
   ],
   "source": [
    "#2.Pop\n",
    "a=['ram','raj','rohit','ravi']   #it remove -1 index.\n",
    "a.pop()  "
   ]
  },
  {
   "cell_type": "code",
   "execution_count": 100,
   "id": "693a0366",
   "metadata": {},
   "outputs": [
    {
     "data": {
      "text/plain": [
       "['ram', 'raj', 'rohit']"
      ]
     },
     "execution_count": 100,
     "metadata": {},
     "output_type": "execute_result"
    }
   ],
   "source": [
    "a"
   ]
  },
  {
   "cell_type": "code",
   "execution_count": 101,
   "id": "a9ca1c24",
   "metadata": {},
   "outputs": [
    {
     "data": {
      "text/plain": [
       "'ram'"
      ]
     },
     "execution_count": 101,
     "metadata": {},
     "output_type": "execute_result"
    }
   ],
   "source": [
    "a.pop(0)"
   ]
  },
  {
   "cell_type": "code",
   "execution_count": 102,
   "id": "1464a562",
   "metadata": {},
   "outputs": [
    {
     "data": {
      "text/plain": [
       "['raj', 'rohit']"
      ]
     },
     "execution_count": 102,
     "metadata": {},
     "output_type": "execute_result"
    }
   ],
   "source": [
    "a"
   ]
  },
  {
   "cell_type": "code",
   "execution_count": 105,
   "id": "200cff1b",
   "metadata": {},
   "outputs": [
    {
     "ename": "TypeError",
     "evalue": "pop expected at most 1 argument, got 2",
     "output_type": "error",
     "traceback": [
      "\u001b[1;31m---------------------------------------------------------------------------\u001b[0m",
      "\u001b[1;31mTypeError\u001b[0m                                 Traceback (most recent call last)",
      "Cell \u001b[1;32mIn[105], line 1\u001b[0m\n\u001b[1;32m----> 1\u001b[0m \u001b[43ma\u001b[49m\u001b[38;5;241;43m.\u001b[39;49m\u001b[43mpop\u001b[49m\u001b[43m(\u001b[49m\u001b[38;5;241;43m0\u001b[39;49m\u001b[43m,\u001b[49m\u001b[38;5;241;43m1\u001b[39;49m\u001b[43m)\u001b[49m\n",
      "\u001b[1;31mTypeError\u001b[0m: pop expected at most 1 argument, got 2"
     ]
    }
   ],
   "source": [
    "a.pop(0,1)   #pop expected at most 1 argument, got 2"
   ]
  },
  {
   "cell_type": "code",
   "execution_count": 109,
   "id": "681125c2",
   "metadata": {},
   "outputs": [
    {
     "data": {
      "text/plain": [
       "[4, 33, 7, 5, 23]"
      ]
     },
     "execution_count": 109,
     "metadata": {},
     "output_type": "execute_result"
    }
   ],
   "source": [
    "#3.Delete\n",
    "a=[4,56,33,7,5,23]\n",
    "del a[1]\n",
    "a"
   ]
  },
  {
   "cell_type": "code",
   "execution_count": 111,
   "id": "619e378f",
   "metadata": {},
   "outputs": [
    {
     "ename": "NameError",
     "evalue": "name 'a' is not defined",
     "output_type": "error",
     "traceback": [
      "\u001b[1;31m---------------------------------------------------------------------------\u001b[0m",
      "\u001b[1;31mNameError\u001b[0m                                 Traceback (most recent call last)",
      "Cell \u001b[1;32mIn[111], line 1\u001b[0m\n\u001b[1;32m----> 1\u001b[0m \u001b[38;5;28;01mdel\u001b[39;00m a\n\u001b[0;32m      2\u001b[0m a\n",
      "\u001b[1;31mNameError\u001b[0m: name 'a' is not defined"
     ]
    }
   ],
   "source": [
    "del a    #delete the entire list (name 'a' is not defined)\n",
    "a"
   ]
  },
  {
   "cell_type": "code",
   "execution_count": 118,
   "id": "f82e4345",
   "metadata": {},
   "outputs": [
    {
     "data": {
      "text/plain": [
       "[]"
      ]
     },
     "execution_count": 118,
     "metadata": {},
     "output_type": "execute_result"
    }
   ],
   "source": [
    "#4.Clear\n",
    "a=[4,33,7,5,23,2,11]  \n",
    "a.clear()\n",
    "a"
   ]
  },
  {
   "cell_type": "markdown",
   "id": "a0adb71b",
   "metadata": {},
   "source": [
    "Sorting Function :\n",
    "     1.sort() :\n",
    "         It modified the actual data.\n",
    "         It does not require any external variable.\n",
    "         By default sort the actual data into ascending order."
   ]
  },
  {
   "cell_type": "code",
   "execution_count": 3,
   "id": "58c9b3e4",
   "metadata": {},
   "outputs": [
    {
     "data": {
      "text/plain": [
       "[1, 2, 3, 4, 5, 22, 34, 56, 80, 87]"
      ]
     },
     "execution_count": 3,
     "metadata": {},
     "output_type": "execute_result"
    }
   ],
   "source": [
    "#Ascending oder \n",
    "a=[1,4,3,56,34,22,87,80,5,2]  \n",
    "a.sort()\n",
    "a"
   ]
  },
  {
   "cell_type": "code",
   "execution_count": 5,
   "id": "c274d8a9",
   "metadata": {},
   "outputs": [
    {
     "data": {
      "text/plain": [
       "[87, 80, 56, 34, 22, 5, 4, 3, 2, 1]"
      ]
     },
     "execution_count": 5,
     "metadata": {},
     "output_type": "execute_result"
    }
   ],
   "source": [
    "#Descending oder \n",
    "a=[1,4,3,56,34,22,87,80,5,2]  \n",
    "a.sort(reverse=True)  #a.sort(reverse=0)\n",
    "a"
   ]
  },
  {
   "cell_type": "markdown",
   "id": "1b81cb62",
   "metadata": {},
   "source": [
    "Sorted() :\n",
    "   Sorted does not modified the original data.\n",
    "   So it does require external variable to sotre the change variable."
   ]
  },
  {
   "cell_type": "code",
   "execution_count": 9,
   "id": "fc150e63",
   "metadata": {},
   "outputs": [
    {
     "data": {
      "text/plain": [
       "[2, 3, 4, 6, 7, 12, 43, 45, 754]"
      ]
     },
     "execution_count": 9,
     "metadata": {},
     "output_type": "execute_result"
    }
   ],
   "source": [
    "#Ascending oder \n",
    "a=[4,3,6,2,7,43,754,12,45]\n",
    "a=sorted(a)\n",
    "a"
   ]
  },
  {
   "cell_type": "code",
   "execution_count": 11,
   "id": "40b09b73",
   "metadata": {},
   "outputs": [
    {
     "data": {
      "text/plain": [
       "[754, 45, 43, 12, 7, 6, 4, 3, 2]"
      ]
     },
     "execution_count": 11,
     "metadata": {},
     "output_type": "execute_result"
    }
   ],
   "source": [
    "#Descending oder \n",
    "a=[4,3,6,2,7,43,754,12,45]\n",
    "a=sorted(a,reverse=1)\n",
    "a"
   ]
  },
  {
   "cell_type": "markdown",
   "id": "44f5a503",
   "metadata": {},
   "source": [
    "Reverse() :    "
   ]
  },
  {
   "cell_type": "code",
   "execution_count": 15,
   "id": "026a5f3a",
   "metadata": {},
   "outputs": [
    {
     "data": {
      "text/plain": [
       "[45, 12, 54, 43, 7, 2, 6, 3, 4]"
      ]
     },
     "execution_count": 15,
     "metadata": {},
     "output_type": "execute_result"
    }
   ],
   "source": [
    "a=[4,3,6,2,7,43,54,12,45]\n",
    "a.reverse()\n",
    "a"
   ]
  },
  {
   "cell_type": "code",
   "execution_count": 24,
   "id": "0818caba",
   "metadata": {},
   "outputs": [
    {
     "data": {
      "text/plain": [
       "[54, 45, 43, 12, 7, 6, 4, 3, 2]"
      ]
     },
     "execution_count": 24,
     "metadata": {},
     "output_type": "execute_result"
    }
   ],
   "source": [
    "a=sorted(a)    #[2, 3, 4, 6, 7, 12, 43, 45, 54]\n",
    "a.reverse()\n",
    "a"
   ]
  },
  {
   "cell_type": "markdown",
   "id": "f4695a4f",
   "metadata": {},
   "source": [
    "Reversed() :\n",
    "   It requires external variable."
   ]
  },
  {
   "cell_type": "code",
   "execution_count": 27,
   "id": "9a16e2b5",
   "metadata": {},
   "outputs": [
    {
     "data": {
      "text/plain": [
       "[54, 45, 43, 12, 77, 55, 7, 6, 4, 3, 2]"
      ]
     },
     "execution_count": 27,
     "metadata": {},
     "output_type": "execute_result"
    }
   ],
   "source": [
    "a=[2, 3, 4, 6, 7, 55,77,12, 43, 45, 54]\n",
    "f=reversed(a)\n",
    "list(f)"
   ]
  },
  {
   "cell_type": "markdown",
   "id": "5a199a6a",
   "metadata": {},
   "source": [
    "Count () :\n",
    "   The count method return the numbers of time the specified element appears in the list."
   ]
  },
  {
   "cell_type": "code",
   "execution_count": 34,
   "id": "60cc1fdc",
   "metadata": {},
   "outputs": [
    {
     "data": {
      "text/plain": [
       "1"
      ]
     },
     "execution_count": 34,
     "metadata": {},
     "output_type": "execute_result"
    }
   ],
   "source": [
    "a=[54, 45, 43, 12, 77, 55, 7, 6, 4, 3, 2]\n",
    "a.count(3)"
   ]
  },
  {
   "cell_type": "code",
   "execution_count": 30,
   "id": "581a29d9",
   "metadata": {},
   "outputs": [
    {
     "data": {
      "text/plain": [
       "0"
      ]
     },
     "execution_count": 30,
     "metadata": {},
     "output_type": "execute_result"
    }
   ],
   "source": [
    "a.count(10)"
   ]
  },
  {
   "cell_type": "code",
   "execution_count": 33,
   "id": "d8357462",
   "metadata": {},
   "outputs": [
    {
     "name": "stdout",
     "output_type": "stream",
     "text": [
      "1 2\n",
      "1 3\n",
      "1 4\n",
      "1 6\n",
      "1 7\n",
      "1 55\n",
      "1 77\n",
      "1 12\n",
      "1 43\n",
      "1 45\n",
      "1 54\n"
     ]
    }
   ],
   "source": [
    "for i in a:\n",
    "    print(a.count(i),i)"
   ]
  },
  {
   "cell_type": "markdown",
   "id": "73e209ea",
   "metadata": {},
   "source": [
    "Aggregate Function :\n",
    "1.Sum\n",
    "2.Max\n",
    "3.Min"
   ]
  },
  {
   "cell_type": "code",
   "execution_count": 35,
   "id": "0177dcd1",
   "metadata": {},
   "outputs": [
    {
     "data": {
      "text/plain": [
       "308"
      ]
     },
     "execution_count": 35,
     "metadata": {},
     "output_type": "execute_result"
    }
   ],
   "source": [
    "#1.sum\n",
    "a=[54, 45, 43, 12, 77, 55, 7, 6, 4, 3, 2]\n",
    "sum(a)"
   ]
  },
  {
   "cell_type": "code",
   "execution_count": 39,
   "id": "dcf87ae8",
   "metadata": {},
   "outputs": [
    {
     "name": "stdout",
     "output_type": "stream",
     "text": [
      "308\n",
      "308\n",
      "308\n",
      "308\n",
      "308\n",
      "308\n",
      "308\n",
      "308\n",
      "308\n",
      "308\n",
      "308\n"
     ]
    }
   ],
   "source": [
    "for i in a:\n",
    "    print(sum(a))"
   ]
  },
  {
   "cell_type": "code",
   "execution_count": 40,
   "id": "d9f26001",
   "metadata": {},
   "outputs": [
    {
     "data": {
      "text/plain": [
       "77"
      ]
     },
     "execution_count": 40,
     "metadata": {},
     "output_type": "execute_result"
    }
   ],
   "source": [
    "#2.Max\n",
    "a=[54, 45, 43, 12, 77, 55, 7, 6, 4, 3, 2]\n",
    "max(a)"
   ]
  },
  {
   "cell_type": "code",
   "execution_count": 41,
   "id": "cbbdd3f0",
   "metadata": {},
   "outputs": [
    {
     "data": {
      "text/plain": [
       "2"
      ]
     },
     "execution_count": 41,
     "metadata": {},
     "output_type": "execute_result"
    }
   ],
   "source": [
    "#3.Min\n",
    "a=[54, 45, 43, 12, 77, 55, 7, 6, 4, 3, 2]\n",
    "min(a)"
   ]
  },
  {
   "cell_type": "markdown",
   "id": "16007271",
   "metadata": {},
   "source": [
    "1.Mean :\n",
    "    Sum of all the items didvied by number of item is mean of the list.\n",
    "2.Median :\n",
    "    Center value in the sorted list otherwise average center value.\n",
    "3.Mode :\n",
    "    Most occurance item in the list otherwise first occurance or index value."
   ]
  },
  {
   "cell_type": "code",
   "execution_count": 42,
   "id": "c61e964d",
   "metadata": {},
   "outputs": [
    {
     "data": {
      "text/plain": [
       "[54, 45, 43, 12, 77, 55, 7, 6, 4, 3, 2]"
      ]
     },
     "execution_count": 42,
     "metadata": {},
     "output_type": "execute_result"
    }
   ],
   "source": [
    "#1.Mean\n",
    "a=[54, 45, 43, 12, 77, 55, 7, 6, 4, 3, 2]\n",
    "a"
   ]
  },
  {
   "cell_type": "code",
   "execution_count": 45,
   "id": "c5a11c9f",
   "metadata": {},
   "outputs": [
    {
     "data": {
      "text/plain": [
       "54"
      ]
     },
     "execution_count": 45,
     "metadata": {},
     "output_type": "execute_result"
    }
   ],
   "source": [
    "from statistics import mode,mean,median\n",
    "mode(a)"
   ]
  },
  {
   "cell_type": "code",
   "execution_count": 46,
   "id": "5ee0a7dc",
   "metadata": {},
   "outputs": [
    {
     "data": {
      "text/plain": [
       "28"
      ]
     },
     "execution_count": 46,
     "metadata": {},
     "output_type": "execute_result"
    }
   ],
   "source": [
    "mean(a)"
   ]
  },
  {
   "cell_type": "code",
   "execution_count": 47,
   "id": "4d071da2",
   "metadata": {},
   "outputs": [
    {
     "data": {
      "text/plain": [
       "28.0"
      ]
     },
     "execution_count": 47,
     "metadata": {},
     "output_type": "execute_result"
    }
   ],
   "source": [
    "sum(a)/len(a)   #mean formula"
   ]
  },
  {
   "cell_type": "code",
   "execution_count": 48,
   "id": "8a93cf40",
   "metadata": {},
   "outputs": [
    {
     "data": {
      "text/plain": [
       "12"
      ]
     },
     "execution_count": 48,
     "metadata": {},
     "output_type": "execute_result"
    }
   ],
   "source": [
    "median(a)"
   ]
  },
  {
   "cell_type": "code",
   "execution_count": 49,
   "id": "1223c0d6",
   "metadata": {},
   "outputs": [
    {
     "data": {
      "text/plain": [
       "[2, 3, 4, 6, 7, 12, 43, 45, 54, 55, 77]"
      ]
     },
     "execution_count": 49,
     "metadata": {},
     "output_type": "execute_result"
    }
   ],
   "source": [
    "a.sort()\n",
    "a"
   ]
  },
  {
   "cell_type": "code",
   "execution_count": 51,
   "id": "e005079f",
   "metadata": {},
   "outputs": [
    {
     "data": {
      "text/plain": [
       "4.5"
      ]
     },
     "execution_count": 51,
     "metadata": {},
     "output_type": "execute_result"
    }
   ],
   "source": [
    "median([4,5,2,5])"
   ]
  },
  {
   "cell_type": "markdown",
   "id": "21bfae39",
   "metadata": {},
   "source": [
    "Power Function : \n",
    "  Syntax :\n",
    "     from math import pow\n",
    "     pow(num,order or degree or power)"
   ]
  },
  {
   "cell_type": "code",
   "execution_count": null,
   "id": "325bffd8",
   "metadata": {},
   "outputs": [],
   "source": [
    "from math import pow\n",
    "     pow(num,order or degree or power)"
   ]
  },
  {
   "cell_type": "code",
   "execution_count": 52,
   "id": "50d77192",
   "metadata": {},
   "outputs": [
    {
     "data": {
      "text/plain": [
       "8"
      ]
     },
     "execution_count": 52,
     "metadata": {},
     "output_type": "execute_result"
    }
   ],
   "source": [
    "pow(2,3)"
   ]
  },
  {
   "cell_type": "code",
   "execution_count": 54,
   "id": "207b938b",
   "metadata": {},
   "outputs": [
    {
     "data": {
      "text/plain": [
       "3.0"
      ]
     },
     "execution_count": 54,
     "metadata": {},
     "output_type": "execute_result"
    }
   ],
   "source": [
    "median([1,2,4,5])"
   ]
  },
  {
   "cell_type": "markdown",
   "id": "5d55844c",
   "metadata": {},
   "source": [
    "List Comprehension :\n",
    "   It is very easy and compact way of creating list from any iterable like list,tuple,set,dict,etc. \n",
    " Syntax :\n",
    "   list_var=[expression / value for item in sequence if condition]"
   ]
  },
  {
   "cell_type": "code",
   "execution_count": 56,
   "id": "bd1a228f",
   "metadata": {},
   "outputs": [
    {
     "data": {
      "text/plain": [
       "[9, 8, 48, 7, 10, 27]"
      ]
     },
     "execution_count": 56,
     "metadata": {},
     "output_type": "execute_result"
    }
   ],
   "source": [
    "a=[4,3,43,2,5,22]\n",
    "[i+5 for i in a]"
   ]
  },
  {
   "cell_type": "code",
   "execution_count": 57,
   "id": "2ef4eb65",
   "metadata": {},
   "outputs": [
    {
     "data": {
      "text/plain": [
       "[6, 5, 45, 4, 7, 24]"
      ]
     },
     "execution_count": 57,
     "metadata": {},
     "output_type": "execute_result"
    }
   ],
   "source": [
    "a=[4,3,43,2,5,22]\n",
    "[i+2 for i in a]"
   ]
  },
  {
   "cell_type": "code",
   "execution_count": 60,
   "id": "96cfe6ce",
   "metadata": {},
   "outputs": [
    {
     "data": {
      "text/plain": [
       "[9, 7, 27]"
      ]
     },
     "execution_count": 60,
     "metadata": {},
     "output_type": "execute_result"
    }
   ],
   "source": [
    "a=[4,3,43,2,5,22]             #Even Number\n",
    "[i+5 for i in a if i%2==0]"
   ]
  },
  {
   "cell_type": "code",
   "execution_count": 59,
   "id": "aa374db7",
   "metadata": {},
   "outputs": [
    {
     "data": {
      "text/plain": [
       "[True, False, False, True, False, True]"
      ]
     },
     "execution_count": 59,
     "metadata": {},
     "output_type": "execute_result"
    }
   ],
   "source": [
    "[i%2==0 for i in a]         #Even Number with output = true/false "
   ]
  },
  {
   "cell_type": "code",
   "execution_count": 66,
   "id": "4facb6bc",
   "metadata": {},
   "outputs": [
    {
     "data": {
      "text/plain": [
       "[False, True, False, True, False, True, False, True, False, True]"
      ]
     },
     "execution_count": 66,
     "metadata": {},
     "output_type": "execute_result"
    }
   ],
   "source": [
    "[i%2!=0 for i in range(50,60)] "
   ]
  }
 ],
 "metadata": {
  "kernelspec": {
   "display_name": "Python 3 (ipykernel)",
   "language": "python",
   "name": "python3"
  },
  "language_info": {
   "codemirror_mode": {
    "name": "ipython",
    "version": 3
   },
   "file_extension": ".py",
   "mimetype": "text/x-python",
   "name": "python",
   "nbconvert_exporter": "python",
   "pygments_lexer": "ipython3",
   "version": "3.10.9"
  }
 },
 "nbformat": 4,
 "nbformat_minor": 5
}
