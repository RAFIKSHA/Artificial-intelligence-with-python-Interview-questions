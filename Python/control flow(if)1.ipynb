{
 "cells": [
  {
   "cell_type": "code",
   "execution_count": 2,
   "id": "da3f362a",
   "metadata": {},
   "outputs": [
    {
     "name": "stdout",
     "output_type": "stream",
     "text": [
      "Enter an age=19\n",
      "Enter an Salary=60000\n",
      "Enter an Score=800\n",
      "Loan Approved\n"
     ]
    }
   ],
   "source": [
    "#if-else Statement\n",
    "age=int(input('Enter an age='))\n",
    "salary=int(input('Enter an Salary='))\n",
    "cibil_score=int(input('Enter an Score='))\n",
    "if(age>=18) & (salary>=50000) & (cibil_score>=750):\n",
    "     print('Loan Approved')\n",
    "else:\n",
    "    print('Thank You')"
   ]
  },
  {
   "cell_type": "code",
   "execution_count": 4,
   "id": "e715c800",
   "metadata": {},
   "outputs": [
    {
     "name": "stdout",
     "output_type": "stream",
     "text": [
      "10\n",
      "20\n",
      "30\n",
      "old Age 30\n"
     ]
    }
   ],
   "source": [
    "#elif Statement\n",
    "age=int(input())\n",
    "age1=int(input())\n",
    "age2=int(input())\n",
    "if(age>age1) & (age1>age2):\n",
    "    print('old Age',age)\n",
    "elif(age1>age2):\n",
    "    print('old Age',age1)\n",
    "else:\n",
    "    print('old Age',age2)"
   ]
  },
  {
   "cell_type": "code",
   "execution_count": 1,
   "id": "d00cd6ce",
   "metadata": {},
   "outputs": [
    {
     "name": "stdout",
     "output_type": "stream",
     "text": [
      "50\n",
      "43\n",
      "30\n",
      "old Age 50\n"
     ]
    }
   ],
   "source": [
    "age=int(input())\n",
    "age1=int(input())\n",
    "age2=int(input())\n",
    "if(age>age1) & (age1>age2):\n",
    "    print('old Age',age)\n",
    "elif(age1>age2):\n",
    "    print('old Age',age1)\n",
    "else:\n",
    "    print('old Age',age2)"
   ]
  },
  {
   "cell_type": "code",
   "execution_count": 5,
   "id": "9f31df39",
   "metadata": {},
   "outputs": [
    {
     "name": "stdout",
     "output_type": "stream",
     "text": [
      "Enter First Number =4\n",
      "Enter An Operation =5\n",
      "Enter Second Number =6\n"
     ]
    }
   ],
   "source": [
    "a=int(input('Enter First Number ='))\n",
    "b=eval(input('Enter An Operation ='))\n",
    "c=int(input('Enter Second Number ='))\n",
    "if b=='+':\n",
    "    print('Addition of two Value =',a+c)\n",
    "elif b=='-':\n",
    "    print('Subtraction of two Value =',a-c)\n",
    "elif b=='*':\n",
    "    print('Multiplication of two Value =',a*c)\n",
    "elif b=='/':\n",
    "    print('Division of two Value =',a/c)"
   ]
  },
  {
   "cell_type": "code",
   "execution_count": null,
   "id": "5bea2e84",
   "metadata": {},
   "outputs": [],
   "source": []
  }
 ],
 "metadata": {
  "kernelspec": {
   "display_name": "Python 3 (ipykernel)",
   "language": "python",
   "name": "python3"
  },
  "language_info": {
   "codemirror_mode": {
    "name": "ipython",
    "version": 3
   },
   "file_extension": ".py",
   "mimetype": "text/x-python",
   "name": "python",
   "nbconvert_exporter": "python",
   "pygments_lexer": "ipython3",
   "version": "3.10.9"
  }
 },
 "nbformat": 4,
 "nbformat_minor": 5
}
