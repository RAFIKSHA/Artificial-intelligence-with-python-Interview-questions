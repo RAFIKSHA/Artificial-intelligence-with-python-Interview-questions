{
 "cells": [
  {
   "cell_type": "markdown",
   "id": "d46b0812",
   "metadata": {},
   "source": [
    "1.Positional Argument :\n",
    "   Number of arguments = Number of Parameter.\n",
    "   Positional arguments are arguments that need to be included in the proper position of order.\n",
    "   The first positional arguemnts always need to be listed first when the function is called. "
   ]
  },
  {
   "cell_type": "code",
   "execution_count": 2,
   "id": "9662b64e",
   "metadata": {},
   "outputs": [],
   "source": [
    "def add(a,b):\n",
    "    return a+b"
   ]
  },
  {
   "cell_type": "code",
   "execution_count": 4,
   "id": "153a549f",
   "metadata": {},
   "outputs": [
    {
     "data": {
      "text/plain": [
       "6"
      ]
     },
     "execution_count": 4,
     "metadata": {},
     "output_type": "execute_result"
    }
   ],
   "source": [
    "add(2,4)"
   ]
  },
  {
   "cell_type": "markdown",
   "id": "c86a8b48",
   "metadata": {},
   "source": [
    "2.Default Argument :\n",
    "   Argument are defined in the vary declaration of the function.\n",
    "   Which means if we fails to pass the parameter value while calling the function then it takes the by defalut value that      is define."
   ]
  },
  {
   "cell_type": "code",
   "execution_count": 6,
   "id": "69fc72ea",
   "metadata": {},
   "outputs": [],
   "source": [
    "def mult(a,b=10):\n",
    "    return a*b"
   ]
  },
  {
   "cell_type": "code",
   "execution_count": 10,
   "id": "a4d42e9b",
   "metadata": {},
   "outputs": [
    {
     "data": {
      "text/plain": [
       "100"
      ]
     },
     "execution_count": 10,
     "metadata": {},
     "output_type": "execute_result"
    }
   ],
   "source": [
    "mult(10)"
   ]
  },
  {
   "cell_type": "code",
   "execution_count": 11,
   "id": "971e76ae",
   "metadata": {},
   "outputs": [
    {
     "data": {
      "text/plain": [
       "200"
      ]
     },
     "execution_count": 11,
     "metadata": {},
     "output_type": "execute_result"
    }
   ],
   "source": [
    "mult(10,20)"
   ]
  },
  {
   "cell_type": "markdown",
   "id": "be0cf7be",
   "metadata": {},
   "source": [
    "3.Aarbitary Argument :\n",
    "   Argruments are symbolised by using '*' starting of the variable.\n",
    "    *Arg--> Aarbitary Argument.\n",
    "   When we do not know the number of arguments to be passed then we used."
   ]
  },
  {
   "cell_type": "code",
   "execution_count": 18,
   "id": "3e248277",
   "metadata": {},
   "outputs": [],
   "source": [
    "def arg(*a):\n",
    "    return a"
   ]
  },
  {
   "cell_type": "code",
   "execution_count": 20,
   "id": "9f862f4f",
   "metadata": {},
   "outputs": [
    {
     "data": {
      "text/plain": [
       "(1, 2, 3, 4)"
      ]
     },
     "execution_count": 20,
     "metadata": {},
     "output_type": "execute_result"
    }
   ],
   "source": [
    "arg(1,2,3,4)"
   ]
  },
  {
   "cell_type": "code",
   "execution_count": 26,
   "id": "63b072c3",
   "metadata": {},
   "outputs": [],
   "source": [
    "a,b,*c=1,2,3,4,5,6,7,8,9"
   ]
  },
  {
   "cell_type": "code",
   "execution_count": 22,
   "id": "3945847b",
   "metadata": {},
   "outputs": [
    {
     "data": {
      "text/plain": [
       "1"
      ]
     },
     "execution_count": 22,
     "metadata": {},
     "output_type": "execute_result"
    }
   ],
   "source": [
    "a"
   ]
  },
  {
   "cell_type": "code",
   "execution_count": 23,
   "id": "7807002a",
   "metadata": {},
   "outputs": [
    {
     "data": {
      "text/plain": [
       "2"
      ]
     },
     "execution_count": 23,
     "metadata": {},
     "output_type": "execute_result"
    }
   ],
   "source": [
    "b"
   ]
  },
  {
   "cell_type": "code",
   "execution_count": 24,
   "id": "c5f3ee85",
   "metadata": {},
   "outputs": [
    {
     "data": {
      "text/plain": [
       "[3, 4, 5, 6, 7, 8, 9]"
      ]
     },
     "execution_count": 24,
     "metadata": {},
     "output_type": "execute_result"
    }
   ],
   "source": [
    "c"
   ]
  },
  {
   "cell_type": "code",
   "execution_count": 27,
   "id": "d9c81608",
   "metadata": {},
   "outputs": [],
   "source": [
    "#In function\n",
    "def nums(*a):\n",
    "    for i in a:\n",
    "        print(i*2)"
   ]
  },
  {
   "cell_type": "code",
   "execution_count": 28,
   "id": "f2956342",
   "metadata": {},
   "outputs": [
    {
     "name": "stdout",
     "output_type": "stream",
     "text": [
      "4\n",
      "6\n",
      "92\n",
      "14\n",
      "16\n",
      "18\n"
     ]
    }
   ],
   "source": [
    "nums(2,3,46,7,8,9)"
   ]
  }
 ],
 "metadata": {
  "kernelspec": {
   "display_name": "Python 3 (ipykernel)",
   "language": "python",
   "name": "python3"
  },
  "language_info": {
   "codemirror_mode": {
    "name": "ipython",
    "version": 3
   },
   "file_extension": ".py",
   "mimetype": "text/x-python",
   "name": "python",
   "nbconvert_exporter": "python",
   "pygments_lexer": "ipython3",
   "version": "3.10.9"
  }
 },
 "nbformat": 4,
 "nbformat_minor": 5
}
