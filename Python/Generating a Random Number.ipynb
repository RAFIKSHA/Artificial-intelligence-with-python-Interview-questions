{
 "cells": [
  {
   "cell_type": "markdown",
   "id": "ec6772b8",
   "metadata": {},
   "source": [
    "Multiple functions to create random number in numpy :\n",
    "1.rand() :\n",
    "   It will generate random value between 0-1 with float value.\n",
    "   Cerate a matrix by using reshape().\n",
    "2.ranf() :\n",
    "   It will generate random number from 0-1 range.\n",
    "   Random takes only one positional argument.\n",
    "   Random_sample() takes at most 1 positional argument.\n",
    " Syntax :\n",
    "   np.random.randf(x)\n",
    "3.random() :\n",
    "   It will generate number from 0-1 range.\n",
    "   Random takes only one positional agrument. \n",
    "4.randint() :\n",
    "  It will generate random integer.\n",
    "  It will any random number between 0 to given number in the randint function.\n",
    " Syntax :\n",
    "   np.random.randint(low_value,hight_value,size=None,dtype='int')\n",
    "5.randn() :\n",
    "  It will generate the normally distributed number around(0,0) coordinates."
   ]
  },
  {
   "cell_type": "code",
   "execution_count": 3,
   "id": "2871bf4e",
   "metadata": {},
   "outputs": [],
   "source": [
    "import numpy as np"
   ]
  },
  {
   "cell_type": "code",
   "execution_count": 4,
   "id": "aaabe47b",
   "metadata": {},
   "outputs": [
    {
     "data": {
      "text/plain": [
       "array([0.66054173, 0.87009403, 0.57130164, 0.67264419, 0.41068073])"
      ]
     },
     "execution_count": 4,
     "metadata": {},
     "output_type": "execute_result"
    }
   ],
   "source": [
    "#1.rand()\n",
    "np.random.rand(5)"
   ]
  },
  {
   "cell_type": "code",
   "execution_count": 5,
   "id": "c8ec8bb1",
   "metadata": {},
   "outputs": [
    {
     "data": {
      "text/plain": [
       "array([[0.7119582 , 0.45575947],\n",
       "       [0.82150996, 0.53256216],\n",
       "       [0.69324058, 0.85002676],\n",
       "       [0.21110004, 0.42255507],\n",
       "       [0.60915795, 0.94694442]])"
      ]
     },
     "execution_count": 5,
     "metadata": {},
     "output_type": "execute_result"
    }
   ],
   "source": [
    "np.random.rand(5,2)"
   ]
  },
  {
   "cell_type": "code",
   "execution_count": 10,
   "id": "f1b8e660",
   "metadata": {},
   "outputs": [
    {
     "data": {
      "text/plain": [
       "array([0.6713492 , 0.24342811, 0.23818192, 0.88960475, 0.1235555 ])"
      ]
     },
     "execution_count": 10,
     "metadata": {},
     "output_type": "execute_result"
    }
   ],
   "source": [
    "#2.ranf()\n",
    "np.random.ranf(5)"
   ]
  },
  {
   "cell_type": "code",
   "execution_count": 11,
   "id": "d60746e1",
   "metadata": {},
   "outputs": [
    {
     "ename": "TypeError",
     "evalue": "random_sample() takes at most 1 positional argument (2 given)",
     "output_type": "error",
     "traceback": [
      "\u001b[1;31m---------------------------------------------------------------------------\u001b[0m",
      "\u001b[1;31mTypeError\u001b[0m                                 Traceback (most recent call last)",
      "Cell \u001b[1;32mIn[11], line 1\u001b[0m\n\u001b[1;32m----> 1\u001b[0m \u001b[43mnp\u001b[49m\u001b[38;5;241;43m.\u001b[39;49m\u001b[43mrandom\u001b[49m\u001b[38;5;241;43m.\u001b[39;49m\u001b[43mranf\u001b[49m\u001b[43m(\u001b[49m\u001b[38;5;241;43m5\u001b[39;49m\u001b[43m,\u001b[49m\u001b[38;5;241;43m2\u001b[39;49m\u001b[43m)\u001b[49m\n",
      "File \u001b[1;32mmtrand.pyx:4715\u001b[0m, in \u001b[0;36mnumpy.random.mtrand.ranf\u001b[1;34m()\u001b[0m\n",
      "File \u001b[1;32mmtrand.pyx:374\u001b[0m, in \u001b[0;36mnumpy.random.mtrand.RandomState.random_sample\u001b[1;34m()\u001b[0m\n",
      "\u001b[1;31mTypeError\u001b[0m: random_sample() takes at most 1 positional argument (2 given)"
     ]
    }
   ],
   "source": [
    "np.random.ranf(5,2)   #random_sample() takes at most 1 positional argument"
   ]
  },
  {
   "cell_type": "code",
   "execution_count": 12,
   "id": "3ab3d243",
   "metadata": {},
   "outputs": [
    {
     "data": {
      "text/plain": [
       "array([0.99859115, 0.15752267, 0.29537086, 0.95286475, 0.18103528])"
      ]
     },
     "execution_count": 12,
     "metadata": {},
     "output_type": "execute_result"
    }
   ],
   "source": [
    "#3.random()\n",
    "np.random.random(5)"
   ]
  },
  {
   "cell_type": "code",
   "execution_count": 17,
   "id": "fc88ba4a",
   "metadata": {},
   "outputs": [
    {
     "data": {
      "text/plain": [
       "8"
      ]
     },
     "execution_count": 17,
     "metadata": {},
     "output_type": "execute_result"
    }
   ],
   "source": [
    "#4.randint()\n",
    "np.random.randint(5,10)"
   ]
  },
  {
   "cell_type": "code",
   "execution_count": 20,
   "id": "609ecd62",
   "metadata": {},
   "outputs": [
    {
     "data": {
      "text/plain": [
       "array([ 0.51882187,  0.97452218,  0.61492208,  1.52139006, -0.39859869,\n",
       "       -0.59790831, -2.55446736,  0.37451385, -1.14402213, -0.13956998])"
      ]
     },
     "execution_count": 20,
     "metadata": {},
     "output_type": "execute_result"
    }
   ],
   "source": [
    "#5.randn()\n",
    "a=np.random.randn(10)\n",
    "a"
   ]
  },
  {
   "cell_type": "code",
   "execution_count": 21,
   "id": "5141ff31",
   "metadata": {},
   "outputs": [],
   "source": [
    "import seaborn as sns"
   ]
  },
  {
   "cell_type": "code",
   "execution_count": 22,
   "id": "27f316da",
   "metadata": {
    "scrolled": true
   },
   "outputs": [
    {
     "data": {
      "text/plain": [
       "<Axes: ylabel='Density'>"
      ]
     },
     "execution_count": 22,
     "metadata": {},
     "output_type": "execute_result"
    },
    {
     "data": {
      "image/png": "[encoded data removed]",
      "text/plain": [
       "<Figure size 640x480 with 1 Axes>"
      ]
     },
     "metadata": {},
     "output_type": "display_data"
    }
   ],
   "source": [
    "sns.kdeplot(a)"
   ]
  },
  {
   "cell_type": "code",
   "execution_count": null,
   "id": "e12b50b8",
   "metadata": {},
   "outputs": [],
   "source": []
  }
 ],
 "metadata": {
  "kernelspec": {
   "display_name": "Python 3 (ipykernel)",
   "language": "python",
   "name": "python3"
  },
  "language_info": {
   "codemirror_mode": {
    "name": "ipython",
    "version": 3
   },
   "file_extension": ".py",
   "mimetype": "text/x-python",
   "name": "python",
   "nbconvert_exporter": "python",
   "pygments_lexer": "ipython3",
   "version": "3.10.9"
  }
 },
 "nbformat": 4,
 "nbformat_minor": 5
}
