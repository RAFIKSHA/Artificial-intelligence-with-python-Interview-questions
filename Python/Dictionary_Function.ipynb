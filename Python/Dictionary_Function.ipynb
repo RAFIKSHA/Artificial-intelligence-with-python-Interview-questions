{
 "cells": [
  {
   "cell_type": "markdown",
   "id": "214808a9",
   "metadata": {},
   "source": [
    "Dictionary :\n",
    "   Dict are used to store data in key and value pair.\n",
    "   Dict is mutable in nature.\n",
    "   Ordered >= 3.6 version.\n",
    "   Unordered <3.6 version.\n",
    "   Indexing and slicing is not supported in dict.\n",
    "   Collection enclosed in '{}' and comma sepearted."
   ]
  },
  {
   "cell_type": "code",
   "execution_count": 7,
   "id": "9312d1fe",
   "metadata": {},
   "outputs": [
    {
     "data": {
      "text/plain": [
       "dict"
      ]
     },
     "execution_count": 7,
     "metadata": {},
     "output_type": "execute_result"
    }
   ],
   "source": [
    "a={'name':'reshma','class':43}\n",
    "type(a)"
   ]
  },
  {
   "cell_type": "code",
   "execution_count": 8,
   "id": "3a8fcfcf",
   "metadata": {},
   "outputs": [
    {
     "data": {
      "text/plain": [
       "{'name': 'reshma', 'class': 43}"
      ]
     },
     "execution_count": 8,
     "metadata": {},
     "output_type": "execute_result"
    }
   ],
   "source": [
    "a['name']='reshma'\n",
    "a"
   ]
  },
  {
   "cell_type": "code",
   "execution_count": 6,
   "id": "7580bd80",
   "metadata": {},
   "outputs": [
    {
     "ename": "KeyError",
     "evalue": "0",
     "output_type": "error",
     "traceback": [
      "\u001b[1;31m---------------------------------------------------------------------------\u001b[0m",
      "\u001b[1;31mKeyError\u001b[0m                                  Traceback (most recent call last)",
      "Cell \u001b[1;32mIn[6], line 1\u001b[0m\n\u001b[1;32m----> 1\u001b[0m \u001b[43ma\u001b[49m\u001b[43m[\u001b[49m\u001b[38;5;241;43m0\u001b[39;49m\u001b[43m]\u001b[49m\n",
      "\u001b[1;31mKeyError\u001b[0m: 0"
     ]
    }
   ],
   "source": [
    "a[0]"
   ]
  },
  {
   "cell_type": "code",
   "execution_count": 10,
   "id": "9e429540",
   "metadata": {},
   "outputs": [
    {
     "data": {
      "text/plain": [
       "dict"
      ]
     },
     "execution_count": 10,
     "metadata": {},
     "output_type": "execute_result"
    }
   ],
   "source": [
    "a={}\n",
    "type(a)"
   ]
  },
  {
   "cell_type": "code",
   "execution_count": 12,
   "id": "2bb98853",
   "metadata": {},
   "outputs": [
    {
     "data": {
      "text/plain": [
       "{'name': 'reshma', 'class': 'CSE', 'type of employee': 'temp'}"
      ]
     },
     "execution_count": 12,
     "metadata": {},
     "output_type": "execute_result"
    }
   ],
   "source": [
    "dict1={'name':'reshma','class':'CSE','type of employee':'temp'}\n",
    "dict1"
   ]
  },
  {
   "cell_type": "code",
   "execution_count": 13,
   "id": "e7c0f0b3",
   "metadata": {},
   "outputs": [
    {
     "data": {
      "text/plain": [
       "dict_values(['reshma', 'CSE', 'temp'])"
      ]
     },
     "execution_count": 13,
     "metadata": {},
     "output_type": "execute_result"
    }
   ],
   "source": [
    "dict1.values()"
   ]
  },
  {
   "cell_type": "markdown",
   "id": "41ba8c72",
   "metadata": {},
   "source": [
    "Accessing elements from dict :"
   ]
  },
  {
   "cell_type": "code",
   "execution_count": 14,
   "id": "be7cffec",
   "metadata": {},
   "outputs": [
    {
     "data": {
      "text/plain": [
       "{'name': 'reshma', 'class': 'CSE', 'type of employee': 'temp'}"
      ]
     },
     "execution_count": 14,
     "metadata": {},
     "output_type": "execute_result"
    }
   ],
   "source": [
    "dict1"
   ]
  },
  {
   "cell_type": "code",
   "execution_count": 15,
   "id": "c4367883",
   "metadata": {},
   "outputs": [
    {
     "data": {
      "text/plain": [
       "'temp'"
      ]
     },
     "execution_count": 15,
     "metadata": {},
     "output_type": "execute_result"
    }
   ],
   "source": [
    "dict1['type of employee']"
   ]
  },
  {
   "cell_type": "code",
   "execution_count": 16,
   "id": "d9e544cd",
   "metadata": {},
   "outputs": [
    {
     "data": {
      "text/plain": [
       "'CSE'"
      ]
     },
     "execution_count": 16,
     "metadata": {},
     "output_type": "execute_result"
    }
   ],
   "source": [
    "dict1['class']"
   ]
  },
  {
   "cell_type": "code",
   "execution_count": 17,
   "id": "1373d675",
   "metadata": {},
   "outputs": [
    {
     "data": {
      "text/plain": [
       "'reshma'"
      ]
     },
     "execution_count": 17,
     "metadata": {},
     "output_type": "execute_result"
    }
   ],
   "source": [
    "dict1['name']"
   ]
  },
  {
   "cell_type": "markdown",
   "id": "0518932c",
   "metadata": {},
   "source": [
    "Updating the Dict :"
   ]
  },
  {
   "cell_type": "code",
   "execution_count": 18,
   "id": "013613a5",
   "metadata": {},
   "outputs": [
    {
     "data": {
      "text/plain": [
       "{'name': 'reshma', 'class': 458, 'type of employee': 'temp'}"
      ]
     },
     "execution_count": 18,
     "metadata": {},
     "output_type": "execute_result"
    }
   ],
   "source": [
    "dict1['class']=458\n",
    "dict1"
   ]
  },
  {
   "cell_type": "code",
   "execution_count": 21,
   "id": "2f28b882",
   "metadata": {},
   "outputs": [
    {
     "data": {
      "text/plain": [
       "{'name': 'reshma', 'class': 458, 'type of employee': 'temp', 'degree': 'Btech'}"
      ]
     },
     "execution_count": 21,
     "metadata": {},
     "output_type": "execute_result"
    }
   ],
   "source": [
    "dict1['degree']='Btech'\n",
    "dict1"
   ]
  },
  {
   "cell_type": "markdown",
   "id": "f8aac8b9",
   "metadata": {},
   "source": [
    "Delete elements from dict :"
   ]
  },
  {
   "cell_type": "code",
   "execution_count": 27,
   "id": "0f7f4d37",
   "metadata": {},
   "outputs": [
    {
     "ename": "NameError",
     "evalue": "name 'dict1' is not defined",
     "output_type": "error",
     "traceback": [
      "\u001b[1;31m---------------------------------------------------------------------------\u001b[0m",
      "\u001b[1;31mNameError\u001b[0m                                 Traceback (most recent call last)",
      "Cell \u001b[1;32mIn[27], line 1\u001b[0m\n\u001b[1;32m----> 1\u001b[0m \u001b[38;5;28;01mdel\u001b[39;00m dict1\n\u001b[0;32m      2\u001b[0m dict1\n",
      "\u001b[1;31mNameError\u001b[0m: name 'dict1' is not defined"
     ]
    }
   ],
   "source": [
    "del dict1   #name 'dict1' is not def\n",
    "dict1"
   ]
  },
  {
   "cell_type": "code",
   "execution_count": 3,
   "id": "6e8435e4",
   "metadata": {},
   "outputs": [
    {
     "data": {
      "text/plain": [
       "{'name': 'reshma', 'type of employee': 'temp'}"
      ]
     },
     "execution_count": 3,
     "metadata": {},
     "output_type": "execute_result"
    }
   ],
   "source": [
    "dict1={'name':'reshma','class':'CSE','type of employee':'temp'}\n",
    "dict1\n",
    "del dict1['class']\n",
    "dict1"
   ]
  },
  {
   "cell_type": "code",
   "execution_count": 7,
   "id": "6c4d7469",
   "metadata": {},
   "outputs": [
    {
     "data": {
      "text/plain": [
       "3"
      ]
     },
     "execution_count": 7,
     "metadata": {},
     "output_type": "execute_result"
    }
   ],
   "source": [
    "#Len()\n",
    "dict1={'name':'reshma','class':'CSE','type of employee':'temp'}\n",
    "len(dict1)"
   ]
  },
  {
   "cell_type": "markdown",
   "id": "9155764b",
   "metadata": {},
   "source": [
    "Important Function in Dict :"
   ]
  },
  {
   "cell_type": "code",
   "execution_count": 2,
   "id": "bdcff684",
   "metadata": {},
   "outputs": [
    {
     "data": {
      "text/plain": [
       "{'name': 'reshma', 'class': 'CSE', 'type of employee': 'temp'}"
      ]
     },
     "execution_count": 2,
     "metadata": {},
     "output_type": "execute_result"
    }
   ],
   "source": [
    "dict1={'name':'reshma','class':'CSE','type of employee':'temp'}\n",
    "dict1"
   ]
  },
  {
   "cell_type": "markdown",
   "id": "86131fd7",
   "metadata": {},
   "source": [
    "1.Get() :\n",
    "   To get value assoicated with key.\n",
    " Syntax :\n",
    "    dict_name.get(key)"
   ]
  },
  {
   "cell_type": "code",
   "execution_count": 12,
   "id": "0f372fea",
   "metadata": {},
   "outputs": [
    {
     "data": {
      "text/plain": [
       "'CSE'"
      ]
     },
     "execution_count": 12,
     "metadata": {},
     "output_type": "execute_result"
    }
   ],
   "source": [
    "dict1.get('class')"
   ]
  },
  {
   "cell_type": "code",
   "execution_count": 3,
   "id": "df5caa53",
   "metadata": {},
   "outputs": [],
   "source": [
    "dict1.get('nana')  "
   ]
  },
  {
   "cell_type": "markdown",
   "id": "6c15f217",
   "metadata": {},
   "source": [
    "2.Pop() :\n",
    "   It removes value assoicated whcih specified key and return the value."
   ]
  },
  {
   "cell_type": "code",
   "execution_count": 27,
   "id": "e6a5e038",
   "metadata": {},
   "outputs": [
    {
     "data": {
      "text/plain": [
       "{'name': 'reshma', 'type of employee': 'temp'}"
      ]
     },
     "execution_count": 27,
     "metadata": {},
     "output_type": "execute_result"
    }
   ],
   "source": [
    "dict1={'name':'reshma','class':'CSE','type of employee':'temp'}\n",
    "dict1\n",
    "dict1.pop('class')\n",
    "dict1"
   ]
  },
  {
   "cell_type": "markdown",
   "id": "fc2fc82e",
   "metadata": {},
   "source": [
    "3.Pop Item() :\n",
    "   It remove last inserted key value from dict.\n",
    "  Syntax :\n",
    "    dict_name.popitem()"
   ]
  },
  {
   "cell_type": "code",
   "execution_count": 30,
   "id": "bd32bc13",
   "metadata": {},
   "outputs": [
    {
     "data": {
      "text/plain": [
       "{'name': 'reshma', 'class': 'CSE'}"
      ]
     },
     "execution_count": 30,
     "metadata": {},
     "output_type": "execute_result"
    }
   ],
   "source": [
    "dict1={'name':'reshma','class':'CSE','type of employee':'temp'}\n",
    "dict1\n",
    "dict1.popitem()\n",
    "dict1"
   ]
  },
  {
   "cell_type": "markdown",
   "id": "0e8dcafd",
   "metadata": {},
   "source": [
    "4.Keys() :\n",
    "   It returns all keys in dict."
   ]
  },
  {
   "cell_type": "code",
   "execution_count": 37,
   "id": "d481bf17",
   "metadata": {},
   "outputs": [
    {
     "data": {
      "text/plain": [
       "dict_keys(['name', 'class', 'type of employee'])"
      ]
     },
     "execution_count": 37,
     "metadata": {},
     "output_type": "execute_result"
    }
   ],
   "source": [
    "dict1={'name':'reshma','class':'CSE','type of employee':'temp'}\n",
    "dict1\n",
    "dict1.keys()"
   ]
  },
  {
   "cell_type": "code",
   "execution_count": 41,
   "id": "6f70f19e",
   "metadata": {},
   "outputs": [
    {
     "name": "stdout",
     "output_type": "stream",
     "text": [
      "name\n",
      "class\n",
      "type of employee\n"
     ]
    }
   ],
   "source": [
    "for i in dict1.keys():\n",
    "    print(i)"
   ]
  },
  {
   "cell_type": "markdown",
   "id": "e80068f6",
   "metadata": {},
   "source": [
    "5.Values() :\n",
    "   It return all values in dict."
   ]
  },
  {
   "cell_type": "code",
   "execution_count": 38,
   "id": "76fc8413",
   "metadata": {},
   "outputs": [
    {
     "data": {
      "text/plain": [
       "dict_values(['reshma', 'CSE', 'temp'])"
      ]
     },
     "execution_count": 38,
     "metadata": {},
     "output_type": "execute_result"
    }
   ],
   "source": [
    "dict1={'name':'reshma','class':'CSE','type of employee':'temp'}\n",
    "dict1\n",
    "dict1.values()"
   ]
  },
  {
   "cell_type": "code",
   "execution_count": 42,
   "id": "de31c131",
   "metadata": {},
   "outputs": [
    {
     "name": "stdout",
     "output_type": "stream",
     "text": [
      "reshma\n",
      "CSE\n",
      "temp\n"
     ]
    }
   ],
   "source": [
    "for i in dict1.values():\n",
    "    print(i)"
   ]
  },
  {
   "cell_type": "markdown",
   "id": "ff4ee581",
   "metadata": {},
   "source": [
    "6.Items() :\n",
    "   It return list of tuple representing key and value in dict."
   ]
  },
  {
   "cell_type": "code",
   "execution_count": 39,
   "id": "d153d3a3",
   "metadata": {},
   "outputs": [
    {
     "data": {
      "text/plain": [
       "dict_items([('name', 'reshma'), ('class', 'CSE'), ('type of employee', 'temp')])"
      ]
     },
     "execution_count": 39,
     "metadata": {},
     "output_type": "execute_result"
    }
   ],
   "source": [
    "dict1={'name':'reshma','class':'CSE','type of employee':'temp'}\n",
    "dict1\n",
    "dict1.items()"
   ]
  },
  {
   "cell_type": "code",
   "execution_count": 43,
   "id": "7392b1a4",
   "metadata": {},
   "outputs": [
    {
     "name": "stdout",
     "output_type": "stream",
     "text": [
      "('name', 'reshma')\n",
      "('class', 'CSE')\n",
      "('type of employee', 'temp')\n"
     ]
    }
   ],
   "source": [
    "for i in dict1.items():\n",
    "    print(i)"
   ]
  },
  {
   "cell_type": "code",
   "execution_count": 44,
   "id": "da1e3078",
   "metadata": {},
   "outputs": [
    {
     "data": {
      "text/plain": [
       "65"
      ]
     },
     "execution_count": 44,
     "metadata": {},
     "output_type": "execute_result"
    }
   ],
   "source": [
    "#ASCII\n",
    "ord('A')"
   ]
  },
  {
   "cell_type": "code",
   "execution_count": 45,
   "id": "7e841f06",
   "metadata": {},
   "outputs": [
    {
     "data": {
      "text/plain": [
       "97"
      ]
     },
     "execution_count": 45,
     "metadata": {},
     "output_type": "execute_result"
    }
   ],
   "source": [
    "ord('a')"
   ]
  },
  {
   "cell_type": "code",
   "execution_count": 48,
   "id": "bbf800a1",
   "metadata": {},
   "outputs": [
    {
     "name": "stdout",
     "output_type": "stream",
     "text": [
      "{'A': 65, 'B': 66, 'C': 67, 'D': 68, 'E': 69}\n"
     ]
    }
   ],
   "source": [
    "dict2={}\n",
    "for i in range(65,70):\n",
    "    dict2[chr(i)]=i\n",
    "print(dict2)"
   ]
  },
  {
   "cell_type": "code",
   "execution_count": 59,
   "id": "a649dba0",
   "metadata": {},
   "outputs": [
    {
     "data": {
      "text/plain": [
       "[2, 4, 6, 8, 10, 12, 14, 16, 18, 20]"
      ]
     },
     "execution_count": 59,
     "metadata": {},
     "output_type": "execute_result"
    }
   ],
   "source": [
    "list(range(2,21,2))"
   ]
  },
  {
   "cell_type": "code",
   "execution_count": 52,
   "id": "a074294f",
   "metadata": {},
   "outputs": [
    {
     "name": "stdout",
     "output_type": "stream",
     "text": [
      "{2: 4, 4: 16, 6: 36, 8: 64, 10: 100, 12: 144, 14: 196, 16: 256, 18: 324, 20: 400}\n"
     ]
    }
   ],
   "source": [
    "dict3={}\n",
    "for i in range(2,21,2):\n",
    "    dict3[i]=i**2\n",
    "print(dict3)"
   ]
  },
  {
   "cell_type": "code",
   "execution_count": 58,
   "id": "e2cf49b3",
   "metadata": {},
   "outputs": [
    {
     "name": "stdout",
     "output_type": "stream",
     "text": [
      "{'raj': 3, 'ravi': 4, 'rohit': 5, 'lavu': 4, 'guna': 4}\n"
     ]
    }
   ],
   "source": [
    "a=('raj','ravi','rohit','lavu','guna')\n",
    "dict4={}\n",
    "for i in a:\n",
    "    dict4[i]=len(i)\n",
    "print(dict4)"
   ]
  },
  {
   "cell_type": "markdown",
   "id": "392c9e3e",
   "metadata": {},
   "source": [
    "7.Serdefault() :\n",
    "  It will return a value which specific key if the key is present.\n",
    "  If the key is not present(items) and if only variable is pass then it create new key with value as none."
   ]
  },
  {
   "cell_type": "code",
   "execution_count": 82,
   "id": "47729b8b",
   "metadata": {},
   "outputs": [
    {
     "data": {
      "text/plain": [
       "{'name': 'reshma', 'class': 'CSE', 'type of employee': 'temp'}"
      ]
     },
     "execution_count": 82,
     "metadata": {},
     "output_type": "execute_result"
    }
   ],
   "source": [
    "dict1"
   ]
  },
  {
   "cell_type": "code",
   "execution_count": 84,
   "id": "b93b6129",
   "metadata": {},
   "outputs": [
    {
     "data": {
      "text/plain": [
       "{'name': 'reshma', 'class': 'CSE', 'type of employee': 'temp', 'pass': None}"
      ]
     },
     "execution_count": 84,
     "metadata": {},
     "output_type": "execute_result"
    }
   ],
   "source": [
    "dict1.setdefault('pass')\n",
    "dict1"
   ]
  },
  {
   "cell_type": "code",
   "execution_count": 87,
   "id": "7cd5d046",
   "metadata": {},
   "outputs": [
    {
     "data": {
      "text/plain": [
       "{'name': 'reshma',\n",
       " 'class': 'CSE',\n",
       " 'type of employee': 'temp',\n",
       " 'pass': None,\n",
       " 'pass1': 678}"
      ]
     },
     "execution_count": 87,
     "metadata": {},
     "output_type": "execute_result"
    }
   ],
   "source": [
    "dict1.setdefault('pass1',678)\n",
    "dict1"
   ]
  },
  {
   "cell_type": "markdown",
   "id": "156b7680",
   "metadata": {},
   "source": [
    "8.Zip Function :"
   ]
  },
  {
   "cell_type": "code",
   "execution_count": 88,
   "id": "95c38d58",
   "metadata": {},
   "outputs": [
    {
     "data": {
      "text/plain": [
       "{'a': 1, 'b': 2, 'c': 3, 'd': 4, 'e': 5}"
      ]
     },
     "execution_count": 88,
     "metadata": {},
     "output_type": "execute_result"
    }
   ],
   "source": [
    "a=[1,2,3,4,5]        #list convert to dict using zip()\n",
    "b=['a','b','c','d','e']\n",
    "dict(zip(b,a))"
   ]
  },
  {
   "cell_type": "markdown",
   "id": "214b0fdc",
   "metadata": {},
   "source": [
    "Sort Dict by using key and values :"
   ]
  },
  {
   "cell_type": "code",
   "execution_count": 60,
   "id": "d2fe9d2d",
   "metadata": {},
   "outputs": [
    {
     "name": "stdout",
     "output_type": "stream",
     "text": [
      "['bio', 'chem', 'maths', 'phy']\n"
     ]
    }
   ],
   "source": [
    "#sorted dict by keys :\n",
    "sub={'maths':90,'bio':76,'phy':65,'chem':78}\n",
    "sorted_key=sorted(sub.keys())\n",
    "print(sorted_key)"
   ]
  },
  {
   "cell_type": "code",
   "execution_count": 61,
   "id": "5c12d363",
   "metadata": {},
   "outputs": [
    {
     "name": "stdout",
     "output_type": "stream",
     "text": [
      "[('bio', 76), ('chem', 78), ('maths', 90), ('phy', 65)]\n"
     ]
    }
   ],
   "source": [
    "#sorted dict by items :\n",
    "sub={'maths':90,'bio':76,'phy':65,'chem':78}\n",
    "sorted_item=sorted(sub.items())\n",
    "print(sorted_item)"
   ]
  },
  {
   "cell_type": "code",
   "execution_count": 62,
   "id": "dcf402da",
   "metadata": {},
   "outputs": [
    {
     "data": {
      "text/plain": [
       "{'bio': 76, 'chem': 78, 'maths': 90, 'phy': 65}"
      ]
     },
     "execution_count": 62,
     "metadata": {},
     "output_type": "execute_result"
    }
   ],
   "source": [
    "dict(sorted(sub.items()))"
   ]
  },
  {
   "cell_type": "code",
   "execution_count": 64,
   "id": "99e1fbb8",
   "metadata": {},
   "outputs": [
    {
     "data": {
      "text/plain": [
       "{'maths': 90, 'bio': 76, 'phy': 65, 'chem': 78}"
      ]
     },
     "execution_count": 64,
     "metadata": {},
     "output_type": "execute_result"
    }
   ],
   "source": [
    "sub"
   ]
  },
  {
   "cell_type": "code",
   "execution_count": 67,
   "id": "097e79a1",
   "metadata": {},
   "outputs": [
    {
     "data": {
      "text/plain": [
       "dict_keys(['maths', 'bio', 'phy', 'chem'])"
      ]
     },
     "execution_count": 67,
     "metadata": {},
     "output_type": "execute_result"
    }
   ],
   "source": [
    "key=sub.keys()\n",
    "key"
   ]
  },
  {
   "cell_type": "code",
   "execution_count": 68,
   "id": "d7b56a73",
   "metadata": {},
   "outputs": [
    {
     "data": {
      "text/plain": [
       "dict_values([90, 76, 65, 78])"
      ]
     },
     "execution_count": 68,
     "metadata": {},
     "output_type": "execute_result"
    }
   ],
   "source": [
    "#sorted by values:\n",
    "value=sub.values()\n",
    "value"
   ]
  },
  {
   "cell_type": "code",
   "execution_count": 69,
   "id": "8295c246",
   "metadata": {},
   "outputs": [
    {
     "data": {
      "text/plain": [
       "(dict_keys(['maths', 'bio', 'phy', 'chem']), dict_values([90, 76, 65, 78]))"
      ]
     },
     "execution_count": 69,
     "metadata": {},
     "output_type": "execute_result"
    }
   ],
   "source": [
    "key=sub.keys()\n",
    "value=sub.values()\n",
    "key,value"
   ]
  },
  {
   "cell_type": "code",
   "execution_count": 71,
   "id": "5a957eca",
   "metadata": {},
   "outputs": [
    {
     "data": {
      "text/plain": [
       "{90: 'maths', 76: 'bio', 65: 'phy', 78: 'chem'}"
      ]
     },
     "execution_count": 71,
     "metadata": {},
     "output_type": "execute_result"
    }
   ],
   "source": [
    "#Zip()\n",
    "dict(zip(value,key))"
   ]
  },
  {
   "cell_type": "code",
   "execution_count": 75,
   "id": "80ce7be9",
   "metadata": {},
   "outputs": [
    {
     "data": {
      "text/plain": [
       "{65: 'phy', 76: 'bio', 78: 'chem', 90: 'maths'}"
      ]
     },
     "execution_count": 75,
     "metadata": {},
     "output_type": "execute_result"
    }
   ],
   "source": [
    "dict(sorted(dict(zip(value,key)).items()))"
   ]
  },
  {
   "cell_type": "markdown",
   "id": "c1902c6d",
   "metadata": {},
   "source": [
    "By other method sorting key and value in ascending order :"
   ]
  },
  {
   "cell_type": "code",
   "execution_count": 76,
   "id": "682e6bd4",
   "metadata": {},
   "outputs": [
    {
     "data": {
      "text/plain": [
       "{'maths': 90, 'bio': 76, 'phy': 65, 'chem': 78}"
      ]
     },
     "execution_count": 76,
     "metadata": {},
     "output_type": "execute_result"
    }
   ],
   "source": [
    "sub"
   ]
  },
  {
   "cell_type": "code",
   "execution_count": 81,
   "id": "cf56656d",
   "metadata": {},
   "outputs": [
    {
     "data": {
      "text/plain": [
       "{'bio': 76, 'chem': 78, 'maths': 90, 'phy': 65}"
      ]
     },
     "execution_count": 81,
     "metadata": {},
     "output_type": "execute_result"
    }
   ],
   "source": [
    "dict(sorted(sub.items(),key=lambda x:x[0]))"
   ]
  },
  {
   "cell_type": "code",
   "execution_count": null,
   "id": "5d0ced25",
   "metadata": {},
   "outputs": [],
   "source": []
  },
  {
   "cell_type": "code",
   "execution_count": null,
   "id": "ebe3b99d",
   "metadata": {},
   "outputs": [],
   "source": []
  },
  {
   "cell_type": "code",
   "execution_count": null,
   "id": "d650d615",
   "metadata": {},
   "outputs": [],
   "source": []
  },
  {
   "cell_type": "code",
   "execution_count": null,
   "id": "a11d9fa7",
   "metadata": {},
   "outputs": [],
   "source": []
  },
  {
   "cell_type": "code",
   "execution_count": null,
   "id": "7929cf95",
   "metadata": {},
   "outputs": [],
   "source": []
  }
 ],
 "metadata": {
  "kernelspec": {
   "display_name": "Python 3 (ipykernel)",
   "language": "python",
   "name": "python3"
  },
  "language_info": {
   "codemirror_mode": {
    "name": "ipython",
    "version": 3
   },
   "file_extension": ".py",
   "mimetype": "text/x-python",
   "name": "python",
   "nbconvert_exporter": "python",
   "pygments_lexer": "ipython3",
   "version": "3.10.9"
  }
 },
 "nbformat": 4,
 "nbformat_minor": 5
}
