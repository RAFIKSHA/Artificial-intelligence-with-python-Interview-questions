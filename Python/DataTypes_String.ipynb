{
 "cells": [
  {
   "cell_type": "raw",
   "id": "e9840ec2",
   "metadata": {},
   "source": [
    "Data Types:\n",
    "1. String"
   ]
  },
  {
   "cell_type": "code",
   "execution_count": 1,
   "id": "a8b53d21",
   "metadata": {},
   "outputs": [
    {
     "data": {
      "text/plain": [
       "str"
      ]
     },
     "execution_count": 1,
     "metadata": {},
     "output_type": "execute_result"
    }
   ],
   "source": [
    "a='90'\n",
    "type(a)"
   ]
  },
  {
   "cell_type": "code",
   "execution_count": 3,
   "id": "2be22450",
   "metadata": {},
   "outputs": [
    {
     "data": {
      "text/plain": [
       "str"
      ]
     },
     "execution_count": 3,
     "metadata": {},
     "output_type": "execute_result"
    }
   ],
   "source": [
    "a=\"can't\"\n",
    "type(a)"
   ]
  },
  {
   "cell_type": "raw",
   "id": "a413dfe3",
   "metadata": {},
   "source": [
    "Indexing :\n",
    "1.Positive Indexing\n",
    "2.Negative Indexing"
   ]
  },
  {
   "cell_type": "code",
   "execution_count": 4,
   "id": "19627446",
   "metadata": {},
   "outputs": [
    {
     "data": {
      "text/plain": [
       "'c'"
      ]
     },
     "execution_count": 4,
     "metadata": {},
     "output_type": "execute_result"
    }
   ],
   "source": [
    "a[0]  #indexing"
   ]
  },
  {
   "cell_type": "code",
   "execution_count": 34,
   "id": "671f5930",
   "metadata": {},
   "outputs": [
    {
     "data": {
      "text/plain": [
       "'Reshma Nikam\\nSangli\\nADCET Ashta'"
      ]
     },
     "execution_count": 34,
     "metadata": {},
     "output_type": "execute_result"
    }
   ],
   "source": [
    "#Multiple Statemnet\n",
    "a=\"\"\"Reshma Nikam\n",
    "Sangli\n",
    "ADCET Ashta\"\"\"\n",
    "a"
   ]
  },
  {
   "cell_type": "raw",
   "id": "b9ea8b6f",
   "metadata": {},
   "source": [
    "Positive Indexing"
   ]
  },
  {
   "cell_type": "code",
   "execution_count": 35,
   "id": "808322f5",
   "metadata": {},
   "outputs": [
    {
     "data": {
      "text/plain": [
       "('e', 'm')"
      ]
     },
     "execution_count": 35,
     "metadata": {},
     "output_type": "execute_result"
    }
   ],
   "source": [
    "a='Reshma'\n",
    "a[1],a[4]"
   ]
  },
  {
   "cell_type": "code",
   "execution_count": 37,
   "id": "1df0171c",
   "metadata": {},
   "outputs": [
    {
     "data": {
      "text/plain": [
       "'ello'"
      ]
     },
     "execution_count": 37,
     "metadata": {},
     "output_type": "execute_result"
    }
   ],
   "source": [
    "a='Hello'\n",
    "a[1:5]"
   ]
  },
  {
   "cell_type": "raw",
   "id": "8ae7aa05",
   "metadata": {},
   "source": [
    "Slicing +Ve Index"
   ]
  },
  {
   "cell_type": "code",
   "execution_count": 38,
   "id": "8d17268d",
   "metadata": {},
   "outputs": [
    {
     "data": {
      "text/plain": [
       "'pto'"
      ]
     },
     "execution_count": 38,
     "metadata": {},
     "output_type": "execute_result"
    }
   ],
   "source": [
    "a='python'\n",
    "a[::2]"
   ]
  },
  {
   "cell_type": "code",
   "execution_count": 6,
   "id": "64d8ae9d",
   "metadata": {},
   "outputs": [
    {
     "data": {
      "text/plain": [
       "'e'"
      ]
     },
     "execution_count": 6,
     "metadata": {},
     "output_type": "execute_result"
    }
   ],
   "source": [
    "a='Resh'\n",
    "a[1:2]"
   ]
  },
  {
   "cell_type": "code",
   "execution_count": 39,
   "id": "db7a665e",
   "metadata": {},
   "outputs": [
    {
     "data": {
      "text/plain": [
       "'yh'"
      ]
     },
     "execution_count": 39,
     "metadata": {},
     "output_type": "execute_result"
    }
   ],
   "source": [
    "a='python'\n",
    "a[1:5:2]"
   ]
  },
  {
   "cell_type": "code",
   "execution_count": 1,
   "id": "48f5d11d",
   "metadata": {},
   "outputs": [
    {
     "data": {
      "text/plain": [
       "'Ph'"
      ]
     },
     "execution_count": 1,
     "metadata": {},
     "output_type": "execute_result"
    }
   ],
   "source": [
    "a='Python'\n",
    "a[::3]"
   ]
  },
  {
   "cell_type": "raw",
   "id": "6f56ce5a",
   "metadata": {},
   "source": [
    "Negative Indexing"
   ]
  },
  {
   "cell_type": "code",
   "execution_count": 41,
   "id": "fa1dc127",
   "metadata": {},
   "outputs": [
    {
     "data": {
      "text/plain": [
       "'nohtyp'"
      ]
     },
     "execution_count": 41,
     "metadata": {},
     "output_type": "execute_result"
    }
   ],
   "source": [
    "a='python'\n",
    "a[::-1]"
   ]
  },
  {
   "cell_type": "code",
   "execution_count": 12,
   "id": "eb857bbc",
   "metadata": {},
   "outputs": [
    {
     "data": {
      "text/plain": [
       "('n', 'h')"
      ]
     },
     "execution_count": 12,
     "metadata": {},
     "output_type": "execute_result"
    }
   ],
   "source": [
    "a='Python'\n",
    "a[-1],a[-3]"
   ]
  },
  {
   "cell_type": "raw",
   "id": "b5d9941b",
   "metadata": {},
   "source": [
    "Slicing -Ve Index"
   ]
  },
  {
   "cell_type": "code",
   "execution_count": 3,
   "id": "592e277e",
   "metadata": {},
   "outputs": [
    {
     "data": {
      "text/plain": [
       "'ytho'"
      ]
     },
     "execution_count": 3,
     "metadata": {},
     "output_type": "execute_result"
    }
   ],
   "source": [
    "#ytho #Python\n",
    "a[-5:-1]"
   ]
  },
  {
   "cell_type": "code",
   "execution_count": 7,
   "id": "2827c281",
   "metadata": {},
   "outputs": [
    {
     "name": "stdout",
     "output_type": "stream",
     "text": [
      "0 P\n",
      "1 y\n",
      "2 t\n",
      "3 h\n",
      "4 o\n",
      "5 n\n"
     ]
    }
   ],
   "source": [
    "for i in enumerate(a):\n",
    "    print(i[0],i[1])"
   ]
  },
  {
   "cell_type": "code",
   "execution_count": 4,
   "id": "672a5faf",
   "metadata": {},
   "outputs": [
    {
     "data": {
      "text/plain": [
       "'nhy'"
      ]
     },
     "execution_count": 4,
     "metadata": {},
     "output_type": "execute_result"
    }
   ],
   "source": [
    "a[::-2]"
   ]
  },
  {
   "cell_type": "code",
   "execution_count": 5,
   "id": "49c4c6d0",
   "metadata": {},
   "outputs": [
    {
     "data": {
      "text/plain": [
       "'Python'"
      ]
     },
     "execution_count": 5,
     "metadata": {},
     "output_type": "execute_result"
    }
   ],
   "source": [
    "a[::]"
   ]
  },
  {
   "cell_type": "code",
   "execution_count": 15,
   "id": "e8216127",
   "metadata": {},
   "outputs": [
    {
     "data": {
      "text/plain": [
       "'tho'"
      ]
     },
     "execution_count": 15,
     "metadata": {},
     "output_type": "execute_result"
    }
   ],
   "source": [
    "#tho\n",
    "a[-4:-1]"
   ]
  },
  {
   "cell_type": "code",
   "execution_count": 6,
   "id": "a9fbd79b",
   "metadata": {},
   "outputs": [
    {
     "data": {
      "text/plain": [
       "'nohtyP'"
      ]
     },
     "execution_count": 6,
     "metadata": {},
     "output_type": "execute_result"
    }
   ],
   "source": [
    "a[::-1]"
   ]
  },
  {
   "cell_type": "code",
   "execution_count": 16,
   "id": "171d0f9c",
   "metadata": {},
   "outputs": [
    {
     "data": {
      "text/plain": [
       "'Python'"
      ]
     },
     "execution_count": 16,
     "metadata": {},
     "output_type": "execute_result"
    }
   ],
   "source": [
    "a"
   ]
  },
  {
   "cell_type": "code",
   "execution_count": 25,
   "id": "29c07f03",
   "metadata": {},
   "outputs": [
    {
     "data": {
      "text/plain": [
       "'noht'"
      ]
     },
     "execution_count": 25,
     "metadata": {},
     "output_type": "execute_result"
    }
   ],
   "source": [
    "a[len(a):-5:-1]    #reverse String"
   ]
  },
  {
   "cell_type": "code",
   "execution_count": 9,
   "id": "142f40fe",
   "metadata": {},
   "outputs": [
    {
     "data": {
      "text/plain": [
       "'ohty'"
      ]
     },
     "execution_count": 9,
     "metadata": {},
     "output_type": "execute_result"
    }
   ],
   "source": [
    "a[1:5][::-1]   #ytho"
   ]
  },
  {
   "cell_type": "code",
   "execution_count": 4,
   "id": "7ee388d7",
   "metadata": {},
   "outputs": [
    {
     "ename": "TypeError",
     "evalue": "'str' object does not support item assignment",
     "output_type": "error",
     "traceback": [
      "\u001b[1;31m---------------------------------------------------------------------------\u001b[0m",
      "\u001b[1;31mTypeError\u001b[0m                                 Traceback (most recent call last)",
      "Cell \u001b[1;32mIn[4], line 3\u001b[0m\n\u001b[0;32m      1\u001b[0m a\u001b[38;5;241m=\u001b[39m\u001b[38;5;124m'\u001b[39m\u001b[38;5;124mPython\u001b[39m\u001b[38;5;124m'\u001b[39m\n\u001b[0;32m      2\u001b[0m a\n\u001b[1;32m----> 3\u001b[0m a[\u001b[38;5;241m0\u001b[39m]\u001b[38;5;241m=\u001b[39m\u001b[38;5;124m'\u001b[39m\u001b[38;5;124my\u001b[39m\u001b[38;5;124m'\u001b[39m\n",
      "\u001b[1;31mTypeError\u001b[0m: 'str' object does not support item assignment"
     ]
    }
   ],
   "source": [
    "a[0]='y'"
   ]
  },
  {
   "cell_type": "raw",
   "id": "86670d66",
   "metadata": {},
   "source": [
    "String Concatenation"
   ]
  },
  {
   "cell_type": "code",
   "execution_count": 9,
   "id": "80b4ed97",
   "metadata": {},
   "outputs": [
    {
     "data": {
      "text/plain": [
       "'Reshma'"
      ]
     },
     "execution_count": 9,
     "metadata": {},
     "output_type": "execute_result"
    }
   ],
   "source": [
    "'Resh' + 'ma'"
   ]
  },
  {
   "cell_type": "code",
   "execution_count": 10,
   "id": "cb0a2edb",
   "metadata": {},
   "outputs": [
    {
     "data": {
      "text/plain": [
       "'Resh_ma'"
      ]
     },
     "execution_count": 10,
     "metadata": {},
     "output_type": "execute_result"
    }
   ],
   "source": [
    "'Resh' + '_ma'"
   ]
  },
  {
   "cell_type": "code",
   "execution_count": 11,
   "id": "ced25230",
   "metadata": {},
   "outputs": [
    {
     "name": "stdout",
     "output_type": "stream",
     "text": [
      "ReshmaNikamRN\n"
     ]
    }
   ],
   "source": [
    "a='Reshma'\n",
    "b='Nikam'\n",
    "c='RN'\n",
    "print(a+b+c)"
   ]
  },
  {
   "cell_type": "code",
   "execution_count": 14,
   "id": "e15492d1",
   "metadata": {},
   "outputs": [
    {
     "name": "stdout",
     "output_type": "stream",
     "text": [
      "Reshma Nikam RN\n"
     ]
    }
   ],
   "source": [
    "a='Reshma'\n",
    "b='Nikam'\n",
    "c='RN'\n",
    "print(a+' '+b+' '+c)"
   ]
  },
  {
   "cell_type": "code",
   "execution_count": 21,
   "id": "062a9312",
   "metadata": {},
   "outputs": [
    {
     "data": {
      "text/plain": [
       "'Reshma Nikam Rohit'"
      ]
     },
     "execution_count": 21,
     "metadata": {},
     "output_type": "execute_result"
    }
   ],
   "source": [
    "a='reshma'\n",
    "b='nikam'\n",
    "c='rohit'\n",
    "a.title()+' '+b.title()+' '+c.title()"
   ]
  },
  {
   "cell_type": "raw",
   "id": "d2ee4107",
   "metadata": {},
   "source": [
    "Comment (#)\n",
    "Types : \n",
    "1.Single (#)\n",
    "2.Double (''' ''', \"\"\" \"\"\")"
   ]
  },
  {
   "cell_type": "code",
   "execution_count": 22,
   "id": "b5dce6ae",
   "metadata": {},
   "outputs": [],
   "source": [
    "#1.Single Comment\n",
    "#First Char Capital\n",
    "a.title()+' '+b.title()+' '+c.title()"
   ]
  },
  {
   "cell_type": "code",
   "execution_count": 24,
   "id": "c9b23eca",
   "metadata": {},
   "outputs": [
    {
     "name": "stdout",
     "output_type": "stream",
     "text": [
      "30\n"
     ]
    }
   ],
   "source": [
    "#2.Double Comment\n",
    "'''Reshma Nikam\n",
    "Sangli\n",
    "ADCET Ashta'''\n",
    "\"\"\"Reshma Nikam\n",
    "Sangli\n",
    "ADCET Ashta\"\"\"\n",
    "a=10\n",
    "b=20\n",
    "print(a+b)"
   ]
  },
  {
   "cell_type": "code",
   "execution_count": 34,
   "id": "536611fd",
   "metadata": {},
   "outputs": [
    {
     "ename": "IndentationError",
     "evalue": "unexpected indent (1776435000.py, line 4)",
     "output_type": "error",
     "traceback": [
      "\u001b[1;36m  Cell \u001b[1;32mIn[34], line 4\u001b[1;36m\u001b[0m\n\u001b[1;33m    return None\u001b[0m\n\u001b[1;37m    ^\u001b[0m\n\u001b[1;31mIndentationError\u001b[0m\u001b[1;31m:\u001b[0m unexpected indent\n"
     ]
    }
   ],
   "source": [
    "def Doc_string():\n",
    "      '''Reshma Nikam\n",
    "         Sangli'''\n",
    "         return None"
   ]
  },
  {
   "cell_type": "code",
   "execution_count": 32,
   "id": "4486ff24",
   "metadata": {},
   "outputs": [
    {
     "ename": "AttributeError",
     "evalue": "'function' object has no attribute '_doc_'",
     "output_type": "error",
     "traceback": [
      "\u001b[1;31m---------------------------------------------------------------------------\u001b[0m",
      "\u001b[1;31mAttributeError\u001b[0m                            Traceback (most recent call last)",
      "Cell \u001b[1;32mIn[32], line 1\u001b[0m\n\u001b[1;32m----> 1\u001b[0m \u001b[38;5;28mprint\u001b[39m(\u001b[43mDoc_string\u001b[49m\u001b[38;5;241;43m.\u001b[39;49m\u001b[43m_doc_\u001b[49m)\n\u001b[0;32m      2\u001b[0m \u001b[38;5;28mprint\u001b[39m(\u001b[38;5;124m'\u001b[39m\u001b[38;5;124m*\u001b[39m\u001b[38;5;124m'\u001b[39m\u001b[38;5;241m*\u001b[39m\u001b[38;5;241m50\u001b[39m)\n\u001b[0;32m      3\u001b[0m help(Doc_string)\n",
      "\u001b[1;31mAttributeError\u001b[0m: 'function' object has no attribute '_doc_'"
     ]
    }
   ],
   "source": [
    "print(Doc_string._doc_)\n",
    "print('*'*50)\n",
    "help(Doc_string)"
   ]
  }
 ],
 "metadata": {
  "kernelspec": {
   "display_name": "Python 3 (ipykernel)",
   "language": "python",
   "name": "python3"
  },
  "language_info": {
   "codemirror_mode": {
    "name": "ipython",
    "version": 3
   },
   "file_extension": ".py",
   "mimetype": "text/x-python",
   "name": "python",
   "nbconvert_exporter": "python",
   "pygments_lexer": "ipython3",
   "version": "3.10.9"
  }
 },
 "nbformat": 4,
 "nbformat_minor": 5
}
