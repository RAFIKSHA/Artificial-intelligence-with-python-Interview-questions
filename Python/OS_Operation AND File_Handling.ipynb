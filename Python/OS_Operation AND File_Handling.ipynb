{
 "cells": [
  {
   "cell_type": "markdown",
   "id": "c7780a8f",
   "metadata": {},
   "source": [
    "Os Opeartion AND File Handling :\n",
    "  Syntax :\n",
    "    file_name=open('file_name/file_path',mode)\n",
    "    file_name.function()\n",
    "    file_name.close()"
   ]
  },
  {
   "cell_type": "code",
   "execution_count": 1,
   "id": "e33fcd59",
   "metadata": {},
   "outputs": [],
   "source": [
    "student=open(\"student.txt\",'w')\n",
    "student.write(\"Reshma Nikam\")\n",
    "student.close()"
   ]
  },
  {
   "cell_type": "code",
   "execution_count": 2,
   "id": "ea19f527",
   "metadata": {},
   "outputs": [],
   "source": [
    "import os"
   ]
  },
  {
   "cell_type": "code",
   "execution_count": 3,
   "id": "4d54cd07",
   "metadata": {},
   "outputs": [
    {
     "data": {
      "text/plain": [
       "'C:\\\\Users\\\\Rudra Computer'"
      ]
     },
     "execution_count": 3,
     "metadata": {},
     "output_type": "execute_result"
    }
   ],
   "source": [
    "os.getcwd()"
   ]
  },
  {
   "cell_type": "markdown",
   "id": "d45886db",
   "metadata": {},
   "source": [
    "Open--> Open return the file object and mode decide what operation should be done on that filter.\n",
    "write_mode--> Creating file.\n",
    "'w' mode--> Create a file if the file does not exists and then does the write operation.\n",
    "            If the file exists and there is any content in the file the right mode will overwrite that content."
   ]
  },
  {
   "cell_type": "code",
   "execution_count": 5,
   "id": "6be54622",
   "metadata": {},
   "outputs": [],
   "source": [
    "student=open(\"student.txt\",'w')\n",
    "student.write(\"Fuel Information\")\n",
    "student.close()"
   ]
  },
  {
   "cell_type": "markdown",
   "id": "5a46ca4f",
   "metadata": {},
   "source": [
    "Append Mode : \n",
    " 'a'--> Create a file if the file does not exists\n",
    "        If the file exists then it append (add the next to the existing data in the file)."
   ]
  },
  {
   "cell_type": "code",
   "execution_count": 7,
   "id": "d210e40b",
   "metadata": {},
   "outputs": [],
   "source": [
    "student=open(\"student.txt\",'a')\n",
    "student.write(\"123445677889\")\n",
    "student.close()"
   ]
  },
  {
   "cell_type": "code",
   "execution_count": 12,
   "id": "0c8637f9",
   "metadata": {},
   "outputs": [],
   "source": [
    "student=open(\"client.txt\",'a')\n",
    "student.write(\"123445677889\")\n",
    "student.close()"
   ]
  },
  {
   "cell_type": "markdown",
   "id": "a1b2c6b7",
   "metadata": {},
   "source": [
    "Read Mode :\n",
    "1.'r'--> Defalut mode-->If we do not pass anything. \n",
    "                        Used to read the contain of the file.\n",
    "2.'r+'--> It can we use both read and write operation.\n",
    "3.readline()\n",
    "4.readlines()"
   ]
  },
  {
   "cell_type": "code",
   "execution_count": 13,
   "id": "439bc033",
   "metadata": {},
   "outputs": [
    {
     "data": {
      "text/plain": [
       "'123445677889123445677889'"
      ]
     },
     "execution_count": 13,
     "metadata": {},
     "output_type": "execute_result"
    }
   ],
   "source": [
    "#1.'r' mode\n",
    "student=open(\"client.txt\",'r')\n",
    "student.read()"
   ]
  },
  {
   "cell_type": "code",
   "execution_count": 14,
   "id": "59796000",
   "metadata": {},
   "outputs": [],
   "source": [
    "#2.'r+' mode\n",
    "student=open(\"client.txt\",'r+')\n",
    "student.write(\"Hello Hi\")\n",
    "student.close()"
   ]
  },
  {
   "cell_type": "code",
   "execution_count": 15,
   "id": "d629d689",
   "metadata": {},
   "outputs": [
    {
     "data": {
      "text/plain": [
       "'Hello Hi7889123445677889'"
      ]
     },
     "execution_count": 15,
     "metadata": {},
     "output_type": "execute_result"
    }
   ],
   "source": [
    "student=open(\"client.txt\",'r+')\n",
    "student.read()"
   ]
  },
  {
   "cell_type": "code",
   "execution_count": 16,
   "id": "a507987c",
   "metadata": {},
   "outputs": [
    {
     "data": {
      "text/plain": [
       "'Python is a high-level, general-purpose programming language\\nIts design philosophy emphasizes code readability with the \\nuse of significant indentation via the off-side rule'"
      ]
     },
     "execution_count": 16,
     "metadata": {},
     "output_type": "execute_result"
    }
   ],
   "source": [
    "#3.Readline()\n",
    "a=\"\"\"Python is a high-level, general-purpose programming language\n",
    "Its design philosophy emphasizes code readability with the \n",
    "use of significant indentation via the off-side rule\"\"\"\n",
    "a"
   ]
  },
  {
   "cell_type": "code",
   "execution_count": 17,
   "id": "ee184921",
   "metadata": {},
   "outputs": [],
   "source": [
    "data= open('data.txt','w')\n",
    "data.write(a)\n",
    "data.close()"
   ]
  },
  {
   "cell_type": "code",
   "execution_count": 21,
   "id": "f1f37f6b",
   "metadata": {},
   "outputs": [
    {
     "name": "stdout",
     "output_type": "stream",
     "text": [
      "Python is a high-level, general-purpose programming language\n",
      "\n",
      "Its design philosophy emphasizes code readability with the \n",
      "\n",
      "use of significant indentation via the off-side rule\n"
     ]
    }
   ],
   "source": [
    "data= open('data.txt','r')\n",
    "print(data.readline())\n",
    "print(data.readline())\n",
    "print(data.readline())"
   ]
  },
  {
   "cell_type": "code",
   "execution_count": 22,
   "id": "2d31e58b",
   "metadata": {},
   "outputs": [
    {
     "name": "stdout",
     "output_type": "stream",
     "text": [
      "['Python is a high-level, general-purpose programming language\\n', 'Its design philosophy emphasizes code readability with the \\n', 'use of significant indentation via the off-side rule']\n"
     ]
    }
   ],
   "source": [
    "#4.Readlines()\n",
    "data= open('data.txt','r')\n",
    "print(data.readlines())"
   ]
  },
  {
   "cell_type": "markdown",
   "id": "2a7d39fc",
   "metadata": {},
   "source": [
    "Os Module Function :"
   ]
  },
  {
   "cell_type": "code",
   "execution_count": 23,
   "id": "74e918c4",
   "metadata": {},
   "outputs": [],
   "source": [
    "import os "
   ]
  },
  {
   "cell_type": "code",
   "execution_count": 24,
   "id": "e6067a40",
   "metadata": {},
   "outputs": [
    {
     "data": {
      "text/plain": [
       "['DirEntry',\n",
       " 'F_OK',\n",
       " 'GenericAlias',\n",
       " 'Mapping',\n",
       " 'MutableMapping',\n",
       " 'O_APPEND',\n",
       " 'O_BINARY',\n",
       " 'O_CREAT',\n",
       " 'O_EXCL',\n",
       " 'O_NOINHERIT',\n",
       " 'O_RANDOM',\n",
       " 'O_RDONLY',\n",
       " 'O_RDWR',\n",
       " 'O_SEQUENTIAL',\n",
       " 'O_SHORT_LIVED',\n",
       " 'O_TEMPORARY',\n",
       " 'O_TEXT',\n",
       " 'O_TRUNC',\n",
       " 'O_WRONLY',\n",
       " 'P_DETACH',\n",
       " 'P_NOWAIT',\n",
       " 'P_NOWAITO',\n",
       " 'P_OVERLAY',\n",
       " 'P_WAIT',\n",
       " 'PathLike',\n",
       " 'R_OK',\n",
       " 'SEEK_CUR',\n",
       " 'SEEK_END',\n",
       " 'SEEK_SET',\n",
       " 'TMP_MAX',\n",
       " 'W_OK',\n",
       " 'X_OK',\n",
       " '_AddedDllDirectory',\n",
       " '_Environ',\n",
       " '__all__',\n",
       " '__builtins__',\n",
       " '__cached__',\n",
       " '__doc__',\n",
       " '__file__',\n",
       " '__loader__',\n",
       " '__name__',\n",
       " '__package__',\n",
       " '__spec__',\n",
       " '_check_methods',\n",
       " '_execvpe',\n",
       " '_exists',\n",
       " '_exit',\n",
       " '_fspath',\n",
       " '_get_exports_list',\n",
       " '_walk',\n",
       " '_wrap_close',\n",
       " 'abc',\n",
       " 'abort',\n",
       " 'access',\n",
       " 'add_dll_directory',\n",
       " 'altsep',\n",
       " 'chdir',\n",
       " 'chmod',\n",
       " 'close',\n",
       " 'closerange',\n",
       " 'cpu_count',\n",
       " 'curdir',\n",
       " 'defpath',\n",
       " 'device_encoding',\n",
       " 'devnull',\n",
       " 'dup',\n",
       " 'dup2',\n",
       " 'environ',\n",
       " 'error',\n",
       " 'execl',\n",
       " 'execle',\n",
       " 'execlp',\n",
       " 'execlpe',\n",
       " 'execv',\n",
       " 'execve',\n",
       " 'execvp',\n",
       " 'execvpe',\n",
       " 'extsep',\n",
       " 'fdopen',\n",
       " 'fsdecode',\n",
       " 'fsencode',\n",
       " 'fspath',\n",
       " 'fstat',\n",
       " 'fsync',\n",
       " 'ftruncate',\n",
       " 'get_exec_path',\n",
       " 'get_handle_inheritable',\n",
       " 'get_inheritable',\n",
       " 'get_terminal_size',\n",
       " 'getcwd',\n",
       " 'getcwdb',\n",
       " 'getenv',\n",
       " 'getlogin',\n",
       " 'getpid',\n",
       " 'getppid',\n",
       " 'isatty',\n",
       " 'kill',\n",
       " 'linesep',\n",
       " 'link',\n",
       " 'listdir',\n",
       " 'lseek',\n",
       " 'lstat',\n",
       " 'makedirs',\n",
       " 'mkdir',\n",
       " 'name',\n",
       " 'open',\n",
       " 'pardir',\n",
       " 'path',\n",
       " 'pathsep',\n",
       " 'pipe',\n",
       " 'popen',\n",
       " 'putenv',\n",
       " 'read',\n",
       " 'readlink',\n",
       " 'remove',\n",
       " 'removedirs',\n",
       " 'rename',\n",
       " 'renames',\n",
       " 'replace',\n",
       " 'rmdir',\n",
       " 'scandir',\n",
       " 'sep',\n",
       " 'set_handle_inheritable',\n",
       " 'set_inheritable',\n",
       " 'spawnl',\n",
       " 'spawnle',\n",
       " 'spawnv',\n",
       " 'spawnve',\n",
       " 'st',\n",
       " 'startfile',\n",
       " 'stat',\n",
       " 'stat_result',\n",
       " 'statvfs_result',\n",
       " 'strerror',\n",
       " 'supports_bytes_environ',\n",
       " 'supports_dir_fd',\n",
       " 'supports_effective_ids',\n",
       " 'supports_fd',\n",
       " 'supports_follow_symlinks',\n",
       " 'symlink',\n",
       " 'sys',\n",
       " 'system',\n",
       " 'terminal_size',\n",
       " 'times',\n",
       " 'times_result',\n",
       " 'truncate',\n",
       " 'umask',\n",
       " 'uname_result',\n",
       " 'unlink',\n",
       " 'unsetenv',\n",
       " 'urandom',\n",
       " 'utime',\n",
       " 'waitpid',\n",
       " 'waitstatus_to_exitcode',\n",
       " 'walk',\n",
       " 'write']"
      ]
     },
     "execution_count": 24,
     "metadata": {},
     "output_type": "execute_result"
    }
   ],
   "source": [
    "dir(os)"
   ]
  },
  {
   "cell_type": "code",
   "execution_count": 25,
   "id": "a2c72d86",
   "metadata": {},
   "outputs": [
    {
     "data": {
      "text/plain": [
       "'C:\\\\Users\\\\Rudra Computer'"
      ]
     },
     "execution_count": 25,
     "metadata": {},
     "output_type": "execute_result"
    }
   ],
   "source": [
    "os.getcwd()   #Current working directory"
   ]
  },
  {
   "cell_type": "markdown",
   "id": "3b06ab79",
   "metadata": {},
   "source": [
    "1.Rename() :\n",
    "   Used for renaming a file or folder.\n",
    "   Replacing a file name with another file name.\n",
    " Syntax :\n",
    "   os.rename('cwd_file_path'/'new_file_path')"
   ]
  },
  {
   "cell_type": "code",
   "execution_count": 40,
   "id": "abf45321",
   "metadata": {},
   "outputs": [],
   "source": [
    "os.rename(r'C:\\\\Users\\\\Rudra Computer\\\\student.txt',r'C:\\\\Users\\\\Rudra Computer\\\\student.txt')"
   ]
  },
  {
   "cell_type": "markdown",
   "id": "62e13e6b",
   "metadata": {},
   "source": [
    "2.Remove() :\n",
    "   Remove the file path.\n",
    "  Syntax :\n",
    "    os.remove('path')\n",
    "   The method does not return any value."
   ]
  },
  {
   "cell_type": "code",
   "execution_count": 41,
   "id": "fa0d8707",
   "metadata": {},
   "outputs": [],
   "source": [
    "os.remove(r'C:\\\\Users\\\\Rudra Computer\\\\student.txt')"
   ]
  },
  {
   "cell_type": "markdown",
   "id": "697471d8",
   "metadata": {},
   "source": [
    "File Exists :\n",
    " Check if the file exists--> true\n",
    " Otherwise--> false\n",
    "   Syntax :\n",
    "     os.path.exists('path/file_name')"
   ]
  },
  {
   "cell_type": "code",
   "execution_count": 42,
   "id": "de8f6c71",
   "metadata": {},
   "outputs": [
    {
     "data": {
      "text/plain": [
       "False"
      ]
     },
     "execution_count": 42,
     "metadata": {},
     "output_type": "execute_result"
    }
   ],
   "source": [
    " os.path.exists(r'C:\\\\Users\\\\Rudra Computer\\\\student.txt')"
   ]
  },
  {
   "cell_type": "code",
   "execution_count": 43,
   "id": "289eb946",
   "metadata": {},
   "outputs": [
    {
     "data": {
      "text/plain": [
       "True"
      ]
     },
     "execution_count": 43,
     "metadata": {},
     "output_type": "execute_result"
    }
   ],
   "source": [
    "os.path.exists('C:\\\\Users\\\\Rudra Computer\\\\client.txt')"
   ]
  },
  {
   "cell_type": "markdown",
   "id": "58564948",
   "metadata": {},
   "source": [
    "Working on Folder :"
   ]
  },
  {
   "cell_type": "markdown",
   "id": "f0c95487",
   "metadata": {},
   "source": [
    "1.mkdir()--> Make Directory()\n",
    "             For creating a directory {folder}.\n",
    "           Syntax :\n",
    "             os.mkdir('folder path')"
   ]
  },
  {
   "cell_type": "code",
   "execution_count": 54,
   "id": "b5d9ef70",
   "metadata": {},
   "outputs": [],
   "source": [
    "os.mkdir('C:\\\\Users\\\\Rudra Computer\\\\reshm')"
   ]
  },
  {
   "cell_type": "markdown",
   "id": "d5bdc6e1",
   "metadata": {},
   "source": [
    "2.rmdir()--> Remove Directory()\n",
    "             Used to delete the directory/package.\n",
    "           Syntax :\n",
    "             os.rmdir('folder path')"
   ]
  },
  {
   "cell_type": "code",
   "execution_count": 50,
   "id": "8434eb5f",
   "metadata": {},
   "outputs": [],
   "source": [
    "os.rmdir('C:\\\\Users\\\\Rudra Computer\\\\reshm')"
   ]
  },
  {
   "cell_type": "markdown",
   "id": "90b74c06",
   "metadata": {},
   "source": [
    "shutil :\n",
    "  It has multiple functionality similar to os.\n",
    "  import shutil\n",
    "  rmtree()--> Remove Tree"
   ]
  },
  {
   "cell_type": "code",
   "execution_count": 51,
   "id": "cfa8922e",
   "metadata": {},
   "outputs": [],
   "source": [
    "import shutil"
   ]
  },
  {
   "cell_type": "code",
   "execution_count": 57,
   "id": "468775b9",
   "metadata": {},
   "outputs": [],
   "source": [
    "shutil.rmtree('C:\\\\Users\\\\Rudra Computer\\\\reshma')"
   ]
  },
  {
   "cell_type": "markdown",
   "id": "18a5bf9a",
   "metadata": {},
   "source": [
    "Listdir :"
   ]
  },
  {
   "cell_type": "code",
   "execution_count": 58,
   "id": "c26c863b",
   "metadata": {},
   "outputs": [
    {
     "data": {
      "text/plain": [
       "['.bash_history',\n",
       " '.cache',\n",
       " '.config',\n",
       " '.dia',\n",
       " '.eclipse',\n",
       " '.gitconfig',\n",
       " '.ipynb_checkpoints',\n",
       " '.ipython',\n",
       " '.jupyter',\n",
       " '.mchp_packs',\n",
       " '.mplabcomm',\n",
       " '.node_repl_history',\n",
       " '.p2',\n",
       " '.viminfo',\n",
       " '.VirtualBox',\n",
       " '.vscode',\n",
       " '.yarnrc',\n",
       " '3D Objects',\n",
       " 'anaconda3',\n",
       " 'AppData',\n",
       " 'Application Data',\n",
       " 'Argument.ipynb',\n",
       " 'Bitwise_Python Opeartor.ipynb',\n",
       " 'client.txt',\n",
       " 'Comprehension.ipynb',\n",
       " 'Contacts',\n",
       " 'control flow(if)1.ipynb',\n",
       " 'Control_flow(if,else).ipynb',\n",
       " 'Cookies',\n",
       " 'Data type AND Type Casting.ipynb',\n",
       " 'data.txt',\n",
       " 'DataTypes_String.ipynb',\n",
       " 'Desktop',\n",
       " 'Dictionary_Function.ipynb',\n",
       " 'Documents',\n",
       " 'Downloads',\n",
       " 'eclipse',\n",
       " 'eclipse-workspace',\n",
       " 'elif_Examples.ipynb',\n",
       " 'Favorites',\n",
       " 'For_Loop AND While_Loop.ipynb',\n",
       " 'Function.ipynb',\n",
       " 'IBA_IOAPDATA',\n",
       " 'IntelGraphicsProfiles',\n",
       " 'Lambda_Function.ipynb',\n",
       " 'Links',\n",
       " 'List_Function.ipynb',\n",
       " 'Local Settings',\n",
       " 'MPLABXProjects',\n",
       " 'Music',\n",
       " 'My Documents',\n",
       " 'NetHood',\n",
       " 'NTUSER.DAT',\n",
       " 'ntuser.dat.LOG1',\n",
       " 'ntuser.dat.LOG2',\n",
       " 'NTUSER.DAT{53b39e88-18c4-11ea-a811-000d3aa4692b}.TM.blf',\n",
       " 'NTUSER.DAT{53b39e88-18c4-11ea-a811-000d3aa4692b}.TMContainer00000000000000000001.regtrans-ms',\n",
       " 'NTUSER.DAT{53b39e88-18c4-11ea-a811-000d3aa4692b}.TMContainer00000000000000000002.regtrans-ms',\n",
       " 'ntuser.ini',\n",
       " 'OneDrive',\n",
       " 'OS_Operation AND File_Handling.ipynb',\n",
       " 'Pictures',\n",
       " 'Praticse_Program(Indexing).ipynb',\n",
       " 'PrintHood',\n",
       " 'Python_Operator.ipynb',\n",
       " 'Recent',\n",
       " 'Saved Games',\n",
       " 'Searches',\n",
       " 'SendTo',\n",
       " 'Set_Function.ipynb',\n",
       " 'Start Menu',\n",
       " 'string casting.ipynb',\n",
       " 'String.ipynb',\n",
       " 'String_Casting_New.ipynb',\n",
       " 'String_Function.ipynb',\n",
       " 'Templates',\n",
       " 'Tuple_Function.ipynb',\n",
       " 'Untitled.ipynb',\n",
       " 'Untitled1.ipynb',\n",
       " 'Untitled10.ipynb',\n",
       " 'Untitled11.ipynb',\n",
       " 'Untitled12.ipynb',\n",
       " 'Untitled13.ipynb',\n",
       " 'Untitled14.ipynb',\n",
       " 'Untitled15.ipynb',\n",
       " 'Untitled16.ipynb',\n",
       " 'Untitled17.ipynb',\n",
       " 'Untitled18.ipynb',\n",
       " 'Untitled19.ipynb',\n",
       " 'Untitled2.ipynb',\n",
       " 'Untitled20.ipynb',\n",
       " 'Untitled21.ipynb',\n",
       " 'Untitled22.ipynb',\n",
       " 'Untitled23.ipynb',\n",
       " 'Untitled24.ipynb',\n",
       " 'Untitled25.ipynb',\n",
       " 'Untitled26.ipynb',\n",
       " 'Untitled27.ipynb',\n",
       " 'Untitled3.ipynb',\n",
       " 'Untitled4.ipynb',\n",
       " 'Untitled5.ipynb',\n",
       " 'Untitled6.ipynb',\n",
       " 'Untitled7.ipynb',\n",
       " 'Untitled8.ipynb',\n",
       " 'Untitled9.ipynb',\n",
       " 'Videos',\n",
       " 'VirtualBox VMs',\n",
       " '_netrc']"
      ]
     },
     "execution_count": 58,
     "metadata": {},
     "output_type": "execute_result"
    }
   ],
   "source": [
    "os.listdir()"
   ]
  },
  {
   "cell_type": "markdown",
   "id": "720894dd",
   "metadata": {},
   "source": [
    "Glob :\n",
    " Used for selecting files particular extension."
   ]
  },
  {
   "cell_type": "code",
   "execution_count": 61,
   "id": "80ddc747",
   "metadata": {},
   "outputs": [
    {
     "data": {
      "text/plain": [
       "'C:\\\\Users\\\\Rudra Computer'"
      ]
     },
     "execution_count": 61,
     "metadata": {},
     "output_type": "execute_result"
    }
   ],
   "source": [
    "os.getcwd()"
   ]
  },
  {
   "cell_type": "code",
   "execution_count": 67,
   "id": "b7a01834",
   "metadata": {},
   "outputs": [
    {
     "data": {
      "text/plain": [
       "['C:\\\\Users\\\\Rudra Computer\\\\Argument.ipynb',\n",
       " 'C:\\\\Users\\\\Rudra Computer\\\\Bitwise_Python Opeartor.ipynb',\n",
       " 'C:\\\\Users\\\\Rudra Computer\\\\Comprehension.ipynb',\n",
       " 'C:\\\\Users\\\\Rudra Computer\\\\control flow(if)1.ipynb',\n",
       " 'C:\\\\Users\\\\Rudra Computer\\\\Control_flow(if,else).ipynb',\n",
       " 'C:\\\\Users\\\\Rudra Computer\\\\Data type AND Type Casting.ipynb',\n",
       " 'C:\\\\Users\\\\Rudra Computer\\\\DataTypes_String.ipynb',\n",
       " 'C:\\\\Users\\\\Rudra Computer\\\\Dictionary_Function.ipynb',\n",
       " 'C:\\\\Users\\\\Rudra Computer\\\\elif_Examples.ipynb',\n",
       " 'C:\\\\Users\\\\Rudra Computer\\\\For_Loop AND While_Loop.ipynb',\n",
       " 'C:\\\\Users\\\\Rudra Computer\\\\Function.ipynb',\n",
       " 'C:\\\\Users\\\\Rudra Computer\\\\Lambda_Function.ipynb',\n",
       " 'C:\\\\Users\\\\Rudra Computer\\\\List_Function.ipynb',\n",
       " 'C:\\\\Users\\\\Rudra Computer\\\\OS_Operation AND File_Handling.ipynb',\n",
       " 'C:\\\\Users\\\\Rudra Computer\\\\Praticse_Program(Indexing).ipynb',\n",
       " 'C:\\\\Users\\\\Rudra Computer\\\\Python_Operator.ipynb',\n",
       " 'C:\\\\Users\\\\Rudra Computer\\\\Set_Function.ipynb',\n",
       " 'C:\\\\Users\\\\Rudra Computer\\\\string casting.ipynb',\n",
       " 'C:\\\\Users\\\\Rudra Computer\\\\String.ipynb',\n",
       " 'C:\\\\Users\\\\Rudra Computer\\\\String_Casting_New.ipynb',\n",
       " 'C:\\\\Users\\\\Rudra Computer\\\\String_Function.ipynb',\n",
       " 'C:\\\\Users\\\\Rudra Computer\\\\Tuple_Function.ipynb',\n",
       " 'C:\\\\Users\\\\Rudra Computer\\\\Untitled.ipynb',\n",
       " 'C:\\\\Users\\\\Rudra Computer\\\\Untitled1.ipynb',\n",
       " 'C:\\\\Users\\\\Rudra Computer\\\\Untitled10.ipynb',\n",
       " 'C:\\\\Users\\\\Rudra Computer\\\\Untitled11.ipynb',\n",
       " 'C:\\\\Users\\\\Rudra Computer\\\\Untitled12.ipynb',\n",
       " 'C:\\\\Users\\\\Rudra Computer\\\\Untitled13.ipynb',\n",
       " 'C:\\\\Users\\\\Rudra Computer\\\\Untitled14.ipynb',\n",
       " 'C:\\\\Users\\\\Rudra Computer\\\\Untitled15.ipynb',\n",
       " 'C:\\\\Users\\\\Rudra Computer\\\\Untitled16.ipynb',\n",
       " 'C:\\\\Users\\\\Rudra Computer\\\\Untitled17.ipynb',\n",
       " 'C:\\\\Users\\\\Rudra Computer\\\\Untitled18.ipynb',\n",
       " 'C:\\\\Users\\\\Rudra Computer\\\\Untitled19.ipynb',\n",
       " 'C:\\\\Users\\\\Rudra Computer\\\\Untitled2.ipynb',\n",
       " 'C:\\\\Users\\\\Rudra Computer\\\\Untitled20.ipynb',\n",
       " 'C:\\\\Users\\\\Rudra Computer\\\\Untitled21.ipynb',\n",
       " 'C:\\\\Users\\\\Rudra Computer\\\\Untitled22.ipynb',\n",
       " 'C:\\\\Users\\\\Rudra Computer\\\\Untitled23.ipynb',\n",
       " 'C:\\\\Users\\\\Rudra Computer\\\\Untitled24.ipynb',\n",
       " 'C:\\\\Users\\\\Rudra Computer\\\\Untitled25.ipynb',\n",
       " 'C:\\\\Users\\\\Rudra Computer\\\\Untitled26.ipynb',\n",
       " 'C:\\\\Users\\\\Rudra Computer\\\\Untitled27.ipynb',\n",
       " 'C:\\\\Users\\\\Rudra Computer\\\\Untitled3.ipynb',\n",
       " 'C:\\\\Users\\\\Rudra Computer\\\\Untitled4.ipynb',\n",
       " 'C:\\\\Users\\\\Rudra Computer\\\\Untitled5.ipynb',\n",
       " 'C:\\\\Users\\\\Rudra Computer\\\\Untitled6.ipynb',\n",
       " 'C:\\\\Users\\\\Rudra Computer\\\\Untitled7.ipynb',\n",
       " 'C:\\\\Users\\\\Rudra Computer\\\\Untitled8.ipynb',\n",
       " 'C:\\\\Users\\\\Rudra Computer\\\\Untitled9.ipynb']"
      ]
     },
     "execution_count": 67,
     "metadata": {},
     "output_type": "execute_result"
    }
   ],
   "source": [
    "import glob\n",
    "ipynb=glob.glob('C:\\\\Users\\\\Rudra Computer'+'/*.ipynb')\n",
    "ipynb"
   ]
  },
  {
   "cell_type": "code",
   "execution_count": 68,
   "id": "154348f3",
   "metadata": {},
   "outputs": [
    {
     "data": {
      "text/plain": [
       "['C:\\\\Users\\\\Rudra Computer\\\\Desktop\\\\Reshma_Campus\\\\Reshma_Zensar\\\\Course_Certificate\\\\Reshma Suresh Nikam_Getting Started with Agile_Certificate_92d029e9-db2d-4899-9733-0bb5274ddaaf_.pdf',\n",
       " 'C:\\\\Users\\\\Rudra Computer\\\\Desktop\\\\Reshma_Campus\\\\Reshma_Zensar\\\\Course_Certificate\\\\Reshma Suresh Nikam_Git Essentials for Beginners_Certificate_3eb41b52-88af-451a-9716-971fc77e654f_.pdf',\n",
       " 'C:\\\\Users\\\\Rudra Computer\\\\Desktop\\\\Reshma_Campus\\\\Reshma_Zensar\\\\Course_Certificate\\\\Reshma Suresh Nikam_Learn How to Code_ The Complete Core Java Programming Course_Certificate_989ad68b-4848-45fa-9320-2d6a56b54239_.pdf',\n",
       " 'C:\\\\Users\\\\Rudra Computer\\\\Desktop\\\\Reshma_Campus\\\\Reshma_Zensar\\\\Course_Certificate\\\\Reshma Suresh Nikam_Microsoft SQL Server Development for Everyone_Certificate_02cffbbd-5616-4561-9ba5-2393ec531412_.pdf',\n",
       " 'C:\\\\Users\\\\Rudra Computer\\\\Desktop\\\\Reshma_Campus\\\\Reshma_Zensar\\\\Course_Certificate\\\\Reshma Suresh Nikam_PL-SQL Level I_Certificate_ea025a60-610a-4e63-87d2-09d73d41c3aa_.pdf',\n",
       " 'C:\\\\Users\\\\Rudra Computer\\\\Desktop\\\\Reshma_Campus\\\\Reshma_Zensar\\\\Course_Certificate\\\\Reshma Suresh Nikam_QA_Certificate.pdf',\n",
       " 'C:\\\\Users\\\\Rudra Computer\\\\Desktop\\\\Reshma_Campus\\\\Reshma_Zensar\\\\Course_Certificate\\\\Reshma Suresh Nikam_The Complete MySQL Developer Course_Certificate_217cb3bd-d4a2-421d-b01e-949e660b20c0_.pdf',\n",
       " 'C:\\\\Users\\\\Rudra Computer\\\\Desktop\\\\Reshma_Campus\\\\Reshma_Zensar\\\\Course_Certificate\\\\Reshma Suresh Nikam_The DevOps Essentials - The Handbook_Certificate_c37fe495-b933-4ef0-bfe0-6275f709c83d_.pdf']"
      ]
     },
     "execution_count": 68,
     "metadata": {},
     "output_type": "execute_result"
    }
   ],
   "source": [
    "import glob\n",
    "pdf=glob.glob(r'C:\\Users\\Rudra Computer\\Desktop\\Reshma_Campus\\Reshma_Zensar\\Course_Certificate'+'/*.pdf')\n",
    "pdf"
   ]
  },
  {
   "cell_type": "code",
   "execution_count": null,
   "id": "4132311b",
   "metadata": {},
   "outputs": [],
   "source": []
  },
  {
   "cell_type": "code",
   "execution_count": null,
   "id": "31766c43",
   "metadata": {},
   "outputs": [],
   "source": []
  }
 ],
 "metadata": {
  "kernelspec": {
   "display_name": "Python 3 (ipykernel)",
   "language": "python",
   "name": "python3"
  },
  "language_info": {
   "codemirror_mode": {
    "name": "ipython",
    "version": 3
   },
   "file_extension": ".py",
   "mimetype": "text/x-python",
   "name": "python",
   "nbconvert_exporter": "python",
   "pygments_lexer": "ipython3",
   "version": "3.10.9"
  }
 },
 "nbformat": 4,
 "nbformat_minor": 5
}
