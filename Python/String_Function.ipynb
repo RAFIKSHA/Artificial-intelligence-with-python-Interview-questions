{
 "cells": [
  {
   "cell_type": "markdown",
   "id": "b4fa10c9",
   "metadata": {},
   "source": [
    "String Function"
   ]
  },
  {
   "cell_type": "markdown",
   "id": "38b489c3",
   "metadata": {},
   "source": [
    "1.Capitalize() :\n",
    "        In Capitalize in 0th index char only capital."
   ]
  },
  {
   "cell_type": "code",
   "execution_count": 1,
   "id": "ff428e7a",
   "metadata": {},
   "outputs": [
    {
     "data": {
      "text/plain": [
       "'Python'"
      ]
     },
     "execution_count": 1,
     "metadata": {},
     "output_type": "execute_result"
    }
   ],
   "source": [
    "a='python'\n",
    "a.capitalize()"
   ]
  },
  {
   "cell_type": "code",
   "execution_count": 6,
   "id": "c428c826",
   "metadata": {},
   "outputs": [
    {
     "data": {
      "text/plain": [
       "'Python reshma'"
      ]
     },
     "execution_count": 6,
     "metadata": {},
     "output_type": "execute_result"
    }
   ],
   "source": [
    "a='python reshma'\n",
    "a.capitalize()"
   ]
  },
  {
   "cell_type": "markdown",
   "id": "016a0d7b",
   "metadata": {},
   "source": [
    "2.Upper() :\n",
    "     It will convert the entire string into upper case.    "
   ]
  },
  {
   "cell_type": "code",
   "execution_count": 3,
   "id": "46dc4054",
   "metadata": {},
   "outputs": [
    {
     "data": {
      "text/plain": [
       "'PYTHON'"
      ]
     },
     "execution_count": 3,
     "metadata": {},
     "output_type": "execute_result"
    }
   ],
   "source": [
    "a='python'\n",
    "a.upper()"
   ]
  },
  {
   "cell_type": "code",
   "execution_count": 11,
   "id": "d56519de",
   "metadata": {},
   "outputs": [
    {
     "name": "stdout",
     "output_type": "stream",
     "text": [
      "Upper string function\n",
      "a = reshma\n",
      "RESHMA\n"
     ]
    }
   ],
   "source": [
    "\"\"\"Upper string function\"\"\"\n",
    "print(__doc__)\n",
    "a='reshma'\n",
    "print('a =',a)\n",
    "print(a.upper())"
   ]
  },
  {
   "cell_type": "markdown",
   "id": "0eccd05a",
   "metadata": {},
   "source": [
    "3.Lower() :\n",
    "     It will convert the entire string into lower case.  "
   ]
  },
  {
   "cell_type": "code",
   "execution_count": 7,
   "id": "748c9ef1",
   "metadata": {},
   "outputs": [
    {
     "data": {
      "text/plain": [
       "'python'"
      ]
     },
     "execution_count": 7,
     "metadata": {},
     "output_type": "execute_result"
    }
   ],
   "source": [
    "a='PYTHON'\n",
    "a.lower()"
   ]
  },
  {
   "cell_type": "code",
   "execution_count": 13,
   "id": "c89cdd71",
   "metadata": {},
   "outputs": [
    {
     "name": "stdout",
     "output_type": "stream",
     "text": [
      "Lower string function\n",
      "a = RESHMA\n",
      "reshma\n"
     ]
    }
   ],
   "source": [
    "\"\"\"Lower string function\"\"\"\n",
    "print(__doc__)\n",
    "a='RESHMA'\n",
    "print('a =',a)\n",
    "print(a.lower())"
   ]
  },
  {
   "cell_type": "markdown",
   "id": "8b3529b0",
   "metadata": {},
   "source": [
    "4.Title() :\n",
    "     It will convert every string char of word into capital letter.  "
   ]
  },
  {
   "cell_type": "code",
   "execution_count": 14,
   "id": "55e352d6",
   "metadata": {},
   "outputs": [
    {
     "data": {
      "text/plain": [
       "'Reshma Divya Sumit Priyanka'"
      ]
     },
     "execution_count": 14,
     "metadata": {},
     "output_type": "execute_result"
    }
   ],
   "source": [
    "a='reshma divya sumit priyanka'\n",
    "a.title()"
   ]
  },
  {
   "cell_type": "code",
   "execution_count": 15,
   "id": "afc55591",
   "metadata": {},
   "outputs": [
    {
     "name": "stdout",
     "output_type": "stream",
     "text": [
      "Title string function\n",
      "a = reshma divya sumit priyanka\n",
      "Reshma Divya Sumit Priyanka\n"
     ]
    }
   ],
   "source": [
    "\"\"\"Title string function\"\"\"\n",
    "print(__doc__)\n",
    "a='reshma divya sumit priyanka'\n",
    "print('a =',a)\n",
    "print(a.title())"
   ]
  },
  {
   "cell_type": "code",
   "execution_count": 28,
   "id": "ee7ce1a3",
   "metadata": {},
   "outputs": [
    {
     "name": "stdout",
     "output_type": "stream",
     "text": [
      "Title string function\n",
      "a = reshma divya sumit priyanka\n",
      "Reshma Divya Sumit Priyanka\n"
     ]
    },
    {
     "data": {
      "text/plain": [
       "'reshma divya sumit priyanka'"
      ]
     },
     "execution_count": 28,
     "metadata": {},
     "output_type": "execute_result"
    }
   ],
   "source": [
    "\"\"\"Title string function\"\"\"\n",
    "print(__doc__)\n",
    "a='reshma divya sumit priyanka'\n",
    "print('a =',a)\n",
    "print(a.title())\n",
    "a"
   ]
  },
  {
   "cell_type": "markdown",
   "id": "2f93d3a6",
   "metadata": {},
   "source": [
    "5.Strip() :\n",
    "     It remove spaces from the begenning and the end of the string."
   ]
  },
  {
   "cell_type": "code",
   "execution_count": 16,
   "id": "2a14f93d",
   "metadata": {},
   "outputs": [
    {
     "data": {
      "text/plain": [
       "'reshma shiv rohit sumit'"
      ]
     },
     "execution_count": 16,
     "metadata": {},
     "output_type": "execute_result"
    }
   ],
   "source": [
    "a='     reshma shiv rohit sumit     '\n",
    "a\n",
    "a.strip()"
   ]
  },
  {
   "cell_type": "code",
   "execution_count": 23,
   "id": "2e4e67a6",
   "metadata": {},
   "outputs": [
    {
     "name": "stdout",
     "output_type": "stream",
     "text": [
      "Strip string function\n",
      "a =      reshma shiv rohit sumit      \n",
      "reshma shiv rohit sumit\n"
     ]
    }
   ],
   "source": [
    "\"\"\"Strip string function\"\"\"\n",
    "print(__doc__)\n",
    "a='     reshma shiv rohit sumit      '\n",
    "print('a =',a)\n",
    "print(a.strip())"
   ]
  },
  {
   "cell_type": "markdown",
   "id": "495806f3",
   "metadata": {},
   "source": [
    "6.lStrip() :\n",
    "     It remove spaces from the begenning and the end of the string form left side."
   ]
  },
  {
   "cell_type": "code",
   "execution_count": 17,
   "id": "b3f718a7",
   "metadata": {},
   "outputs": [
    {
     "data": {
      "text/plain": [
       "'reshma shiv rohit sumit     '"
      ]
     },
     "execution_count": 17,
     "metadata": {},
     "output_type": "execute_result"
    }
   ],
   "source": [
    "a='     reshma shiv rohit sumit     '\n",
    "a\n",
    "a.lstrip()"
   ]
  },
  {
   "cell_type": "code",
   "execution_count": 24,
   "id": "203addfd",
   "metadata": {},
   "outputs": [
    {
     "name": "stdout",
     "output_type": "stream",
     "text": [
      "lStrip string function\n",
      "a =      reshma shiv rohit sumit      \n",
      "reshma shiv rohit sumit      \n"
     ]
    }
   ],
   "source": [
    "\"\"\"lStrip string function\"\"\"\n",
    "print(__doc__)\n",
    "a='     reshma shiv rohit sumit      '\n",
    "print('a =',a)\n",
    "print(a.lstrip())"
   ]
  },
  {
   "cell_type": "markdown",
   "id": "93400fe9",
   "metadata": {},
   "source": [
    "7.rStrip() :\n",
    "     It remove spaces from the begenning and the end of the string form right side."
   ]
  },
  {
   "cell_type": "code",
   "execution_count": 18,
   "id": "f1818b5f",
   "metadata": {},
   "outputs": [
    {
     "data": {
      "text/plain": [
       "'     reshma shiv rohit sumit'"
      ]
     },
     "execution_count": 18,
     "metadata": {},
     "output_type": "execute_result"
    }
   ],
   "source": [
    "a='     reshma shiv rohit sumit     '\n",
    "a\n",
    "a.rstrip()"
   ]
  },
  {
   "cell_type": "code",
   "execution_count": 25,
   "id": "f141fbe3",
   "metadata": {},
   "outputs": [
    {
     "name": "stdout",
     "output_type": "stream",
     "text": [
      "rStrip string function\n",
      "a =      reshma shiv rohit sumit      \n",
      "     reshma shiv rohit sumit\n"
     ]
    }
   ],
   "source": [
    "\"\"\"rStrip string function\"\"\"\n",
    "print(__doc__)\n",
    "a='     reshma shiv rohit sumit      '\n",
    "print('a =',a)\n",
    "print(a.rstrip())"
   ]
  },
  {
   "cell_type": "markdown",
   "id": "88912cb7",
   "metadata": {},
   "source": [
    "8.Swapcase() :\n",
    "     It swap the cases as in upper case char would be convert into lower case and lower case char would be converted into upper case."
   ]
  },
  {
   "cell_type": "code",
   "execution_count": 19,
   "id": "9b655cc8",
   "metadata": {},
   "outputs": [
    {
     "name": "stdout",
     "output_type": "stream",
     "text": [
      "Reshma\n"
     ]
    },
    {
     "data": {
      "text/plain": [
       "'rESHMA'"
      ]
     },
     "execution_count": 19,
     "metadata": {},
     "output_type": "execute_result"
    }
   ],
   "source": [
    "a='Reshma'     #lower to upper\n",
    "print(a)\n",
    "a.swapcase()"
   ]
  },
  {
   "cell_type": "code",
   "execution_count": 35,
   "id": "49b15eca",
   "metadata": {},
   "outputs": [
    {
     "name": "stdout",
     "output_type": "stream",
     "text": [
      "Swapcase string function(lower to upper)\n",
      "a = reshma\n",
      "RESHMA\n"
     ]
    }
   ],
   "source": [
    "\"\"\"Swapcase string function(lower to upper)\"\"\"\n",
    "print(__doc__)\n",
    "a='reshma'\n",
    "print('a =',a)\n",
    "print(a.swapcase())"
   ]
  },
  {
   "cell_type": "code",
   "execution_count": 38,
   "id": "ffe7083b",
   "metadata": {},
   "outputs": [
    {
     "name": "stdout",
     "output_type": "stream",
     "text": [
      "RESHMA\n"
     ]
    },
    {
     "data": {
      "text/plain": [
       "'reshma'"
      ]
     },
     "execution_count": 38,
     "metadata": {},
     "output_type": "execute_result"
    }
   ],
   "source": [
    "a='RESHMA'    #upper to lower\n",
    "print(a)\n",
    "a.swapcase()"
   ]
  },
  {
   "cell_type": "code",
   "execution_count": 36,
   "id": "3fb15a89",
   "metadata": {},
   "outputs": [
    {
     "name": "stdout",
     "output_type": "stream",
     "text": [
      "Swapcase string function(upper to lower)\n",
      "a = RESHMA\n",
      "reshma\n"
     ]
    }
   ],
   "source": [
    "\"\"\"Swapcase string function(upper to lower)\"\"\"\n",
    "print(__doc__)\n",
    "a='RESHMA'\n",
    "print('a =',a)\n",
    "print(a.swapcase())"
   ]
  },
  {
   "cell_type": "code",
   "execution_count": 39,
   "id": "529e82e1",
   "metadata": {},
   "outputs": [
    {
     "name": "stdout",
     "output_type": "stream",
     "text": [
      "ReshMA\n"
     ]
    },
    {
     "data": {
      "text/plain": [
       "'rESHma'"
      ]
     },
     "execution_count": 39,
     "metadata": {},
     "output_type": "execute_result"
    }
   ],
   "source": [
    "a='ReshMA'    #upper to lower AND lower to upper\n",
    "print(a)\n",
    "a.swapcase()"
   ]
  },
  {
   "cell_type": "code",
   "execution_count": 37,
   "id": "447ab69c",
   "metadata": {},
   "outputs": [
    {
     "name": "stdout",
     "output_type": "stream",
     "text": [
      "Swapcase string function(upper to lower AND lower to upper)\n",
      "a = ReshMA\n",
      "rESHma\n"
     ]
    }
   ],
   "source": [
    "\"\"\"Swapcase string function(upper to lower AND lower to upper)\"\"\"\n",
    "print(__doc__)\n",
    "a='ReshMA'\n",
    "print('a =',a)\n",
    "print(a.swapcase())"
   ]
  },
  {
   "cell_type": "markdown",
   "id": "53c44d18",
   "metadata": {},
   "source": [
    "9.Replace() :\n",
    "     Replace is an inbulit function in the python.\n",
    "     Programming language that returns that copies the str where all occurances of a substr are replce eith another substring.\n",
    "    syntax : \n",
    "    str_var.replace(old_substr,new_substr,count)\n",
    "    count is optinal."
   ]
  },
  {
   "cell_type": "code",
   "execution_count": 44,
   "id": "4c2edced",
   "metadata": {},
   "outputs": [
    {
     "name": "stdout",
     "output_type": "stream",
     "text": [
      "Replace string function\n",
      "a = reshma divya sumit priyanka\n",
      "reshma divya sumi priya\n"
     ]
    }
   ],
   "source": [
    "\"\"\"Replace string function\"\"\"\n",
    "print(__doc__)\n",
    "a='reshma divya sumit priyanka'\n",
    "print('a =',a)\n",
    "print(a.replace('sumit priyanka','sumi priya',2))"
   ]
  },
  {
   "cell_type": "markdown",
   "id": "d6a3d702",
   "metadata": {},
   "source": [
    "10.del() :\n",
    "    Basically deletes the entire variable or str. "
   ]
  },
  {
   "cell_type": "code",
   "execution_count": 45,
   "id": "177c32ee",
   "metadata": {},
   "outputs": [
    {
     "name": "stdout",
     "output_type": "stream",
     "text": [
      "del string function\n",
      "a = reshma divya sumit priyanka\n",
      "________________________________________\n"
     ]
    },
    {
     "ename": "NameError",
     "evalue": "name 'a' is not defined",
     "output_type": "error",
     "traceback": [
      "\u001b[1;31m---------------------------------------------------------------------------\u001b[0m",
      "\u001b[1;31mNameError\u001b[0m                                 Traceback (most recent call last)",
      "Cell \u001b[1;32mIn[45], line 7\u001b[0m\n\u001b[0;32m      5\u001b[0m \u001b[38;5;28mprint\u001b[39m(\u001b[38;5;124m'\u001b[39m\u001b[38;5;124m__\u001b[39m\u001b[38;5;124m'\u001b[39m\u001b[38;5;241m*\u001b[39m\u001b[38;5;241m20\u001b[39m)\n\u001b[0;32m      6\u001b[0m \u001b[38;5;28;01mdel\u001b[39;00m a\n\u001b[1;32m----> 7\u001b[0m \u001b[38;5;28mprint\u001b[39m(\u001b[43ma\u001b[49m)\n",
      "\u001b[1;31mNameError\u001b[0m: name 'a' is not defined"
     ]
    }
   ],
   "source": [
    "\"\"\"del string function\"\"\"\n",
    "print(__doc__)\n",
    "a='reshma divya sumit priyanka'\n",
    "print('a =',a)\n",
    "print('__'*20)\n",
    "del a     #name 'variable' is not defined\n",
    "print(a)"
   ]
  },
  {
   "cell_type": "markdown",
   "id": "184e051c",
   "metadata": {},
   "source": [
    "11.len() :"
   ]
  },
  {
   "cell_type": "code",
   "execution_count": 1,
   "id": "487c191d",
   "metadata": {},
   "outputs": [
    {
     "name": "stdout",
     "output_type": "stream",
     "text": [
      "Len string function\n",
      "a = reshma divya sumit priyanka\n"
     ]
    },
    {
     "ename": "AttributeError",
     "evalue": "'str' object has no attribute 'len'",
     "output_type": "error",
     "traceback": [
      "\u001b[1;31m---------------------------------------------------------------------------\u001b[0m",
      "\u001b[1;31mAttributeError\u001b[0m                            Traceback (most recent call last)",
      "Cell \u001b[1;32mIn[1], line 5\u001b[0m\n\u001b[0;32m      3\u001b[0m a\u001b[38;5;241m=\u001b[39m\u001b[38;5;124m'\u001b[39m\u001b[38;5;124mreshma divya sumit priyanka\u001b[39m\u001b[38;5;124m'\u001b[39m\n\u001b[0;32m      4\u001b[0m \u001b[38;5;28mprint\u001b[39m(\u001b[38;5;124m'\u001b[39m\u001b[38;5;124ma =\u001b[39m\u001b[38;5;124m'\u001b[39m,a)\n\u001b[1;32m----> 5\u001b[0m \u001b[38;5;28mprint\u001b[39m(\u001b[43ma\u001b[49m\u001b[38;5;241;43m.\u001b[39;49m\u001b[43mlen\u001b[49m())\n",
      "\u001b[1;31mAttributeError\u001b[0m: 'str' object has no attribute 'len'"
     ]
    }
   ],
   "source": [
    "\"\"\"Len string function\"\"\"\n",
    "print(__doc__)\n",
    "a='reshma divya sumit priyanka'\n",
    "print('a =',a)\n",
    "print(a.len())"
   ]
  },
  {
   "cell_type": "markdown",
   "id": "635e4d1e",
   "metadata": {},
   "source": [
    "12.Count() : substr\n",
    "    The count method returns the numbers of element with the speificed value."
   ]
  },
  {
   "cell_type": "code",
   "execution_count": 49,
   "id": "d8d8209c",
   "metadata": {},
   "outputs": [
    {
     "name": "stdout",
     "output_type": "stream",
     "text": [
      "Count string function\n",
      "a = reshma divya sumit priyanka\n",
      "1\n"
     ]
    }
   ],
   "source": [
    "\"\"\"Count string function\"\"\"\n",
    "print(__doc__)\n",
    "a='reshma divya sumit priyanka'\n",
    "print('a =',a)\n",
    "print(a.count('sumit'))"
   ]
  },
  {
   "cell_type": "code",
   "execution_count": 51,
   "id": "e4d789b1",
   "metadata": {},
   "outputs": [
    {
     "name": "stdout",
     "output_type": "stream",
     "text": [
      "Count string function\n",
      "a = number and element\n",
      "4\n"
     ]
    }
   ],
   "source": [
    "\"\"\"Count string function\"\"\"\n",
    "print(__doc__)\n",
    "a='number and element'\n",
    "print('a =',a)\n",
    "print(a.count('e'))"
   ]
  },
  {
   "cell_type": "code",
   "execution_count": 52,
   "id": "778fd7c2",
   "metadata": {},
   "outputs": [
    {
     "name": "stdout",
     "output_type": "stream",
     "text": [
      "Count string function\n",
      "a = reshma divya sumit priyanka\n",
      "3\n"
     ]
    }
   ],
   "source": [
    "\"\"\"Count string function\"\"\"\n",
    "print(__doc__)\n",
    "a='reshma divya sumit priyanka'\n",
    "print('a =',a)\n",
    "print(a.count(' '))"
   ]
  },
  {
   "cell_type": "markdown",
   "id": "19355d22",
   "metadata": {},
   "source": [
    "13.Index() :\n",
    "   Index() is an inbulit function python.\n",
    "   with searches for a given element from the start of the list and return lowest index where a element appers.\n",
    "  syntax :\n",
    "      str_variable.index('char/word','start_index','end_index')"
   ]
  },
  {
   "cell_type": "code",
   "execution_count": 58,
   "id": "5d8d2dde",
   "metadata": {},
   "outputs": [
    {
     "name": "stdout",
     "output_type": "stream",
     "text": [
      "Index string function\n",
      "a = python\n",
      "0\n"
     ]
    }
   ],
   "source": [
    "\"\"\"Index string function\"\"\"\n",
    "print(__doc__)\n",
    "a='python'\n",
    "print('a =',a)\n",
    "print(a.index('p'))"
   ]
  },
  {
   "cell_type": "code",
   "execution_count": 56,
   "id": "2e9bd67d",
   "metadata": {},
   "outputs": [
    {
     "name": "stdout",
     "output_type": "stream",
     "text": [
      "Index string function\n",
      "a = python\n",
      "4\n"
     ]
    }
   ],
   "source": [
    "\"\"\"Index string function\"\"\"\n",
    "print(__doc__)\n",
    "a='python'\n",
    "print('a =',a)\n",
    "print(a.index('o'))"
   ]
  },
  {
   "cell_type": "code",
   "execution_count": 59,
   "id": "70b2613c",
   "metadata": {},
   "outputs": [
    {
     "name": "stdout",
     "output_type": "stream",
     "text": [
      "Index string function\n",
      "a = pythonhhhhh\n",
      "6\n"
     ]
    }
   ],
   "source": [
    "\"\"\"Index string function\"\"\"\n",
    "print(__doc__)\n",
    "a='pythonhhhhh'\n",
    "print('a =',a)\n",
    "print(a.index('h',4,10))"
   ]
  },
  {
   "cell_type": "code",
   "execution_count": 62,
   "id": "1b8184e0",
   "metadata": {},
   "outputs": [
    {
     "name": "stdout",
     "output_type": "stream",
     "text": [
      "Index string function\n",
      "a = python and ML\n",
      "7\n"
     ]
    },
    {
     "ename": "ValueError",
     "evalue": "substring not found",
     "output_type": "error",
     "traceback": [
      "\u001b[1;31m---------------------------------------------------------------------------\u001b[0m",
      "\u001b[1;31mValueError\u001b[0m                                Traceback (most recent call last)",
      "Cell \u001b[1;32mIn[62], line 6\u001b[0m\n\u001b[0;32m      4\u001b[0m \u001b[38;5;28mprint\u001b[39m(\u001b[38;5;124m'\u001b[39m\u001b[38;5;124ma =\u001b[39m\u001b[38;5;124m'\u001b[39m,a)\n\u001b[0;32m      5\u001b[0m \u001b[38;5;28mprint\u001b[39m(a\u001b[38;5;241m.\u001b[39mindex(\u001b[38;5;124m'\u001b[39m\u001b[38;5;124mand\u001b[39m\u001b[38;5;124m'\u001b[39m))\n\u001b[1;32m----> 6\u001b[0m \u001b[38;5;28mprint\u001b[39m(\u001b[43ma\u001b[49m\u001b[38;5;241;43m.\u001b[39;49m\u001b[43mindex\u001b[49m\u001b[43m(\u001b[49m\u001b[38;5;124;43m'\u001b[39;49m\u001b[38;5;124;43mshiv\u001b[39;49m\u001b[38;5;124;43m'\u001b[39;49m\u001b[43m)\u001b[49m)\n",
      "\u001b[1;31mValueError\u001b[0m: substring not found"
     ]
    }
   ],
   "source": [
    "\"\"\"Index string function\"\"\"\n",
    "print(__doc__)\n",
    "a='python and ML'\n",
    "print('a =',a)\n",
    "print(a.index('and'))\n",
    "print(a.index('shiv'))   #substring not found"
   ]
  },
  {
   "cell_type": "markdown",
   "id": "9f3464da",
   "metadata": {},
   "source": [
    "*find : \n",
    "   Difference Between index and find is that returns error is substring is not found while find return -1."
   ]
  },
  {
   "cell_type": "code",
   "execution_count": 2,
   "id": "329f972c",
   "metadata": {},
   "outputs": [
    {
     "data": {
      "text/plain": [
       "5"
      ]
     },
     "execution_count": 2,
     "metadata": {},
     "output_type": "execute_result"
    }
   ],
   "source": [
    "a='python'\n",
    "a.find('n')"
   ]
  },
  {
   "cell_type": "markdown",
   "id": "f01c8f79",
   "metadata": {},
   "source": [
    "14.Field() :"
   ]
  },
  {
   "cell_type": "code",
   "execution_count": null,
   "id": "fd1ff2c6",
   "metadata": {},
   "outputs": [],
   "source": [
    "\"\"\"Field string function\"\"\"\n",
    "print(__doc__)\n",
    "a='reshma divya sumit priyanka'\n",
    "print('a =',a)\n",
    "print(a.field())"
   ]
  },
  {
   "cell_type": "markdown",
   "id": "0a1eb97f",
   "metadata": {},
   "source": [
    "15.Split() :\n",
    "    Split will actually the str and return them all in them list format.\n",
    "    by default spliiting parameter is space\"\"."
   ]
  },
  {
   "cell_type": "code",
   "execution_count": 69,
   "id": "1ccb0501",
   "metadata": {},
   "outputs": [
    {
     "name": "stdout",
     "output_type": "stream",
     "text": [
      "Split string function\n",
      "a = reshma divya sumit priyanka\n",
      "['reshm', ' divy', ' sumit priy', 'nk', '']\n"
     ]
    }
   ],
   "source": [
    "\"\"\"Split string function\"\"\"\n",
    "print(__doc__)\n",
    "a='reshma divya sumit priyanka'\n",
    "print('a =',a)\n",
    "print(a.split('a'))"
   ]
  },
  {
   "cell_type": "code",
   "execution_count": 74,
   "id": "145b1f41",
   "metadata": {},
   "outputs": [
    {
     "name": "stdout",
     "output_type": "stream",
     "text": [
      "Split string function\n",
      "a = reshma divya sumit priyanka\n",
      "['reshm', ' divy', ' sumit priy', 'nk', '']\n",
      "['reshma', 'divya', 'sumit', 'priyanka']\n",
      "<class 'list'>\n"
     ]
    }
   ],
   "source": [
    "\"\"\"Split string function\"\"\"\n",
    "print(__doc__)\n",
    "a='reshma divya sumit priyanka'\n",
    "print('a =',a)\n",
    "print(a.split('a'))\n",
    "b=a.split()\n",
    "print(b)\n",
    "print(type(b))"
   ]
  },
  {
   "cell_type": "code",
   "execution_count": 76,
   "id": "fac05d35",
   "metadata": {},
   "outputs": [
    {
     "data": {
      "text/plain": [
       "'reshma divya sumit priyanka'"
      ]
     },
     "execution_count": 76,
     "metadata": {},
     "output_type": "execute_result"
    }
   ],
   "source": [
    "#join :\n",
    "\" \".join(b)"
   ]
  },
  {
   "cell_type": "code",
   "execution_count": 77,
   "id": "56b4be89",
   "metadata": {},
   "outputs": [
    {
     "data": {
      "text/plain": [
       "'reshmadivyasumitpriyanka'"
      ]
     },
     "execution_count": 77,
     "metadata": {},
     "output_type": "execute_result"
    }
   ],
   "source": [
    "\"\".join(b)"
   ]
  },
  {
   "cell_type": "code",
   "execution_count": null,
   "id": "88da6edc",
   "metadata": {},
   "outputs": [],
   "source": [
    "b=\"\".join(b)\n"
   ]
  },
  {
   "cell_type": "markdown",
   "id": "dabbed1a",
   "metadata": {},
   "source": [
    "16.Endwith() :\n",
    "   Return the boolean value.\n",
    "   It check what that str is ending with at the char or word.\n",
    "   It return true if string ends with the speificed suffix.\n",
    "  Syntax :\n",
    "     str_variable.endswith('char/word')"
   ]
  },
  {
   "cell_type": "code",
   "execution_count": 78,
   "id": "72a2ba38",
   "metadata": {},
   "outputs": [
    {
     "name": "stdout",
     "output_type": "stream",
     "text": [
      "Endswith string function\n",
      "a = reshma divya sumit priyanka\n",
      "False\n"
     ]
    }
   ],
   "source": [
    "\"\"\"Endswith string function\"\"\"\n",
    "print(__doc__)\n",
    "a='reshma divya sumit priyanka'\n",
    "print('a =',a)\n",
    "print(a.endswith('.'))"
   ]
  },
  {
   "cell_type": "code",
   "execution_count": 80,
   "id": "00ca11cb",
   "metadata": {},
   "outputs": [
    {
     "name": "stdout",
     "output_type": "stream",
     "text": [
      "Endswith string function\n",
      "a = reshma divya sumit priyanka\n",
      "True\n"
     ]
    }
   ],
   "source": [
    "\"\"\"Endswith string function\"\"\"\n",
    "print(__doc__)\n",
    "a='reshma divya sumit priyanka'\n",
    "print('a =',a)\n",
    "print(a.endswith('priyanka'))"
   ]
  },
  {
   "cell_type": "markdown",
   "id": "2b8873e2",
   "metadata": {},
   "source": [
    "17.Startswith() :\n",
    "     It return ture if str with the specified suffix.\n",
    "  syntax :\n",
    "    str_var.startswith('char/word')"
   ]
  },
  {
   "cell_type": "code",
   "execution_count": 82,
   "id": "c72687bd",
   "metadata": {},
   "outputs": [
    {
     "name": "stdout",
     "output_type": "stream",
     "text": [
      "Startswith string function\n",
      "a = reshma divya sumit priyanka\n",
      "True\n"
     ]
    }
   ],
   "source": [
    "\"\"\"Startswith string function\"\"\"\n",
    "print(__doc__)\n",
    "a='reshma divya sumit priyanka'\n",
    "print('a =',a)\n",
    "print(a.startswith('reshma'))"
   ]
  },
  {
   "cell_type": "code",
   "execution_count": 83,
   "id": "e4cb311f",
   "metadata": {},
   "outputs": [
    {
     "name": "stdout",
     "output_type": "stream",
     "text": [
      "Startswith string function\n",
      "a = reshma divya sumit priyanka\n",
      "True\n"
     ]
    }
   ],
   "source": [
    "\"\"\"Startswith string function\"\"\"\n",
    "print(__doc__)\n",
    "a='reshma divya sumit priyanka'\n",
    "print('a =',a)\n",
    "print(a.startswith('r'))"
   ]
  },
  {
   "cell_type": "markdown",
   "id": "b2a2e4ad",
   "metadata": {},
   "source": [
    "17.isalnum() :\n",
    "     Checks whether the str is made of only alphabets and numbers if so, them it returns true else otherwise false."
   ]
  },
  {
   "cell_type": "code",
   "execution_count": 87,
   "id": "5d1815ae",
   "metadata": {},
   "outputs": [
    {
     "name": "stdout",
     "output_type": "stream",
     "text": [
      "Isalnum string function\n",
      "a = FSTXER345\n",
      "True\n"
     ]
    }
   ],
   "source": [
    "\"\"\"Isalnum string function\"\"\"\n",
    "print(__doc__)\n",
    "a='FSTXER345'\n",
    "print('a =',a)\n",
    "print(a.isalnum())"
   ]
  },
  {
   "cell_type": "code",
   "execution_count": 88,
   "id": "7852a700",
   "metadata": {},
   "outputs": [
    {
     "name": "stdout",
     "output_type": "stream",
     "text": [
      "Isalnum string function\n",
      "a = FSTXER345 FTESG567\n",
      "False\n"
     ]
    }
   ],
   "source": [
    "\"\"\"Isalnum string function\"\"\"\n",
    "print(__doc__)\n",
    "a='FSTXER345 FTESG567'\n",
    "print('a =',a)\n",
    "print(a.isalnum())"
   ]
  },
  {
   "cell_type": "markdown",
   "id": "f46bbd59",
   "metadata": {},
   "source": [
    "18.Isalpha() :\n",
    "     Will check whether the str consist of only alphabets."
   ]
  },
  {
   "cell_type": "code",
   "execution_count": 93,
   "id": "49ec25fd",
   "metadata": {},
   "outputs": [
    {
     "name": "stdout",
     "output_type": "stream",
     "text": [
      "Isalpha string function\n",
      "a = FSTXERTFFF\n",
      "True\n"
     ]
    }
   ],
   "source": [
    "\"\"\"Isalpha string function\"\"\"\n",
    "print(__doc__)\n",
    "a='FSTXERTFFF'\n",
    "print('a =',a)\n",
    "print(a.isalpha())"
   ]
  },
  {
   "cell_type": "code",
   "execution_count": 95,
   "id": "516febdb",
   "metadata": {},
   "outputs": [
    {
     "name": "stdout",
     "output_type": "stream",
     "text": [
      "Isalpha string function\n",
      "a = FSTXER_RESD\n",
      "False\n"
     ]
    }
   ],
   "source": [
    "\"\"\"Isalpha string function\"\"\"\n",
    "print(__doc__)\n",
    "a='FSTXER_RESD'\n",
    "print('a =',a)\n",
    "print(a.isalpha())"
   ]
  },
  {
   "cell_type": "markdown",
   "id": "d0f47017",
   "metadata": {},
   "source": [
    "19.ASCII() : (American Standard Code of Inforamtion Interchange)\n",
    "    1.chr() =  It tansform the ASCII into equivlent english char.\n",
    "               chr(65),chr(97)\n",
    "    2.ord() =  It finds the equivlent ASCII number of the chr.\n",
    "               ord('A'),ord('Z'),ord('z'),ord('a')"
   ]
  },
  {
   "cell_type": "code",
   "execution_count": 97,
   "id": "c652f1cf",
   "metadata": {},
   "outputs": [
    {
     "data": {
      "text/plain": [
       "('A', 'a')"
      ]
     },
     "execution_count": 97,
     "metadata": {},
     "output_type": "execute_result"
    }
   ],
   "source": [
    "#1.chr()\n",
    "chr(65),chr(97)"
   ]
  },
  {
   "cell_type": "code",
   "execution_count": 99,
   "id": "c0513f6c",
   "metadata": {},
   "outputs": [
    {
     "data": {
      "text/plain": [
       "(65, 90, 122, 97)"
      ]
     },
     "execution_count": 99,
     "metadata": {},
     "output_type": "execute_result"
    }
   ],
   "source": [
    "#2.Ord()\n",
    "ord('A'),ord('Z'),ord('z'),ord('a')"
   ]
  },
  {
   "cell_type": "markdown",
   "id": "bb33da70",
   "metadata": {},
   "source": [
    "20.Lowerletter() : islower\n",
    "     Check the str is in lower form."
   ]
  },
  {
   "cell_type": "code",
   "execution_count": 101,
   "id": "fe41c3a5",
   "metadata": {},
   "outputs": [
    {
     "name": "stdout",
     "output_type": "stream",
     "text": [
      "Lowerletter string function\n",
      "a = python\n",
      "True\n"
     ]
    }
   ],
   "source": [
    "\"\"\"Lowerletter string function\"\"\"\n",
    "print(__doc__)\n",
    "a='python'\n",
    "print('a =',a)\n",
    "print(a.islower())"
   ]
  },
  {
   "cell_type": "code",
   "execution_count": 102,
   "id": "76b22bad",
   "metadata": {},
   "outputs": [
    {
     "name": "stdout",
     "output_type": "stream",
     "text": [
      "Lowerletter string function\n",
      "a = PYTHON\n",
      "False\n"
     ]
    }
   ],
   "source": [
    "\"\"\"Lowerletter string function\"\"\"\n",
    "print(__doc__)\n",
    "a='PYTHON'\n",
    "print('a =',a)\n",
    "print(a.islower())"
   ]
  },
  {
   "cell_type": "markdown",
   "id": "d964dc67",
   "metadata": {},
   "source": [
    "21.Upperletter() : isupper\n",
    "     Check the str is in upper form."
   ]
  },
  {
   "cell_type": "code",
   "execution_count": 103,
   "id": "533101ad",
   "metadata": {},
   "outputs": [
    {
     "name": "stdout",
     "output_type": "stream",
     "text": [
      "Lowerletter string function\n",
      "a = PYTHON\n",
      "True\n"
     ]
    }
   ],
   "source": [
    "\"\"\"Upperletter string function\"\"\"\n",
    "print(__doc__)\n",
    "a='PYTHON'\n",
    "print('a =',a)\n",
    "print(a.isupper())"
   ]
  },
  {
   "cell_type": "code",
   "execution_count": 104,
   "id": "ada46443",
   "metadata": {},
   "outputs": [
    {
     "name": "stdout",
     "output_type": "stream",
     "text": [
      "Upperletter string function\n",
      "a = python\n",
      "False\n"
     ]
    }
   ],
   "source": [
    "\"\"\"Upperletter string function\"\"\"\n",
    "print(__doc__)\n",
    "a='python'\n",
    "print('a =',a)\n",
    "print(a.isupper())"
   ]
  },
  {
   "cell_type": "markdown",
   "id": "27a69ab2",
   "metadata": {},
   "source": [
    "22.Issapce() :"
   ]
  },
  {
   "cell_type": "code",
   "execution_count": 114,
   "id": "4cf8f77a",
   "metadata": {},
   "outputs": [
    {
     "name": "stdout",
     "output_type": "stream",
     "text": [
      "Isspace string function\n",
      "r\n",
      "e\n",
      "s\n",
      "h\n",
      "m\n",
      "a\n",
      "n\n",
      "i\n",
      "k\n",
      "a\n",
      "m\n"
     ]
    }
   ],
   "source": [
    "\"\"\"Isspace string function\"\"\"\n",
    "print(__doc__)\n",
    "a=\"reshma nikam\"\n",
    "for i in a:\n",
    "    if i.isspace():\n",
    "        pass\n",
    "    else:\n",
    "        print(i)"
   ]
  },
  {
   "cell_type": "markdown",
   "id": "b83bdc56",
   "metadata": {},
   "source": [
    "23.Isdecimal() :\n",
    "    It accept only number and unicode char (Range 29-32)."
   ]
  },
  {
   "cell_type": "code",
   "execution_count": 117,
   "id": "6431fb27",
   "metadata": {},
   "outputs": [
    {
     "name": "stdout",
     "output_type": "stream",
     "text": [
      "Isdecimal string function\n",
      "a = python\n"
     ]
    },
    {
     "data": {
      "text/plain": [
       "False"
      ]
     },
     "execution_count": 117,
     "metadata": {},
     "output_type": "execute_result"
    }
   ],
   "source": [
    "\"\"\"Isdecimal string function\"\"\"\n",
    "print(__doc__)\n",
    "a='python'\n",
    "print('a =',a)\n",
    "a.isdecimal()"
   ]
  },
  {
   "cell_type": "code",
   "execution_count": 118,
   "id": "96f350ef",
   "metadata": {},
   "outputs": [
    {
     "name": "stdout",
     "output_type": "stream",
     "text": [
      "Isdecimal string function\n",
      "a = 3.6\n"
     ]
    },
    {
     "data": {
      "text/plain": [
       "False"
      ]
     },
     "execution_count": 118,
     "metadata": {},
     "output_type": "execute_result"
    }
   ],
   "source": [
    "\"\"\"Isdecimal string function\"\"\"\n",
    "print(__doc__)\n",
    "a='3.6'\n",
    "print('a =',a)\n",
    "a.isdecimal()"
   ]
  },
  {
   "cell_type": "code",
   "execution_count": 119,
   "id": "ee96fc52",
   "metadata": {},
   "outputs": [
    {
     "name": "stdout",
     "output_type": "stream",
     "text": [
      "Isdecimal string function\n",
      "a = 3676\n"
     ]
    },
    {
     "data": {
      "text/plain": [
       "True"
      ]
     },
     "execution_count": 119,
     "metadata": {},
     "output_type": "execute_result"
    }
   ],
   "source": [
    "\"\"\"Isdecimal string function\"\"\"\n",
    "print(__doc__)\n",
    "a='3676'\n",
    "print('a =',a)\n",
    "a.isdecimal()"
   ]
  },
  {
   "cell_type": "code",
   "execution_count": 120,
   "id": "16052836",
   "metadata": {},
   "outputs": [
    {
     "name": "stdout",
     "output_type": "stream",
     "text": [
      "Isdecimal string function\n",
      "a = 0\n"
     ]
    },
    {
     "data": {
      "text/plain": [
       "True"
      ]
     },
     "execution_count": 120,
     "metadata": {},
     "output_type": "execute_result"
    }
   ],
   "source": [
    "\"\"\"Isdecimal string function\"\"\"\n",
    "print(__doc__)\n",
    "a='\\u0030'\n",
    "print('a =',a)\n",
    "a.isdecimal()"
   ]
  },
  {
   "cell_type": "code",
   "execution_count": 122,
   "id": "42e777b1",
   "metadata": {},
   "outputs": [
    {
     "name": "stdout",
     "output_type": "stream",
     "text": [
      "Isdecimal string function\n",
      "a = )\n"
     ]
    },
    {
     "data": {
      "text/plain": [
       "False"
      ]
     },
     "execution_count": 122,
     "metadata": {},
     "output_type": "execute_result"
    }
   ],
   "source": [
    "\"\"\"Isdecimal string function\"\"\"\n",
    "print(__doc__)\n",
    "a='\\u0029'\n",
    "print('a =',a)\n",
    "a.isdecimal()"
   ]
  },
  {
   "cell_type": "markdown",
   "id": "514a460a",
   "metadata": {},
   "source": [
    "24.Isdigit() :\n",
    "    return = Boolean values.\n",
    "    It support all numbers, unicode (30-39), subscript, superscript.\n",
    "    Special char are not allowed and also vulgar function not allowed. "
   ]
  },
  {
   "cell_type": "code",
   "execution_count": 134,
   "id": "5f4f5a79",
   "metadata": {},
   "outputs": [
    {
     "name": "stdout",
     "output_type": "stream",
     "text": [
      "Isdigit string function\n",
      "a = 1223.2435\n"
     ]
    },
    {
     "data": {
      "text/plain": [
       "False"
      ]
     },
     "execution_count": 134,
     "metadata": {},
     "output_type": "execute_result"
    }
   ],
   "source": [
    "\"\"\"Isdigit string function\"\"\"\n",
    "print(__doc__)\n",
    "a='1223.2435'\n",
    "print('a =',a)\n",
    "a.isdigit()"
   ]
  },
  {
   "cell_type": "code",
   "execution_count": 133,
   "id": "5f61fde0",
   "metadata": {},
   "outputs": [
    {
     "name": "stdout",
     "output_type": "stream",
     "text": [
      "Isdigit string function\n",
      "a = 12232435\n"
     ]
    },
    {
     "data": {
      "text/plain": [
       "True"
      ]
     },
     "execution_count": 133,
     "metadata": {},
     "output_type": "execute_result"
    }
   ],
   "source": [
    "\"\"\"Isdigit string function\"\"\"\n",
    "print(__doc__)\n",
    "a='12232435'\n",
    "print('a =',a)\n",
    "a.isdigit()"
   ]
  },
  {
   "cell_type": "code",
   "execution_count": 137,
   "id": "27d0d84b",
   "metadata": {},
   "outputs": [
    {
     "name": "stdout",
     "output_type": "stream",
     "text": [
      "Isdigit string function\n",
      "a = ¼\n"
     ]
    },
    {
     "data": {
      "text/plain": [
       "False"
      ]
     },
     "execution_count": 137,
     "metadata": {},
     "output_type": "execute_result"
    }
   ],
   "source": [
    "\"\"\"Isdigit string function\"\"\"\n",
    "print(__doc__)\n",
    "a='\\u00BC'           #vuglar char are not allowed.\n",
    "print('a =',a)\n",
    "a.isdigit()"
   ]
  },
  {
   "cell_type": "code",
   "execution_count": 135,
   "id": "da408a9a",
   "metadata": {},
   "outputs": [
    {
     "name": "stdout",
     "output_type": "stream",
     "text": [
      "Isdigit string function\n",
      "a = #\n"
     ]
    },
    {
     "data": {
      "text/plain": [
       "False"
      ]
     },
     "execution_count": 135,
     "metadata": {},
     "output_type": "execute_result"
    }
   ],
   "source": [
    "\"\"\"Isdigit string function\"\"\"\n",
    "print(__doc__)\n",
    "a='\\u0023'\n",
    "print('a =',a)\n",
    "a.isdigit()"
   ]
  },
  {
   "cell_type": "markdown",
   "id": "914632b1",
   "metadata": {},
   "source": [
    "25.Isnumeric() :\n",
    "   return = True and False\n",
    "   It support all numbers, unicode, subscript and superscript also vulgar function (U+00BC=1/4,U+00BD=1/2). \n",
    "   Speical characters are not allowed."
   ]
  },
  {
   "cell_type": "code",
   "execution_count": 124,
   "id": "a6d32da8",
   "metadata": {},
   "outputs": [
    {
     "name": "stdout",
     "output_type": "stream",
     "text": [
      "Isnumeric string function\n",
      "a = 36575686\n"
     ]
    },
    {
     "data": {
      "text/plain": [
       "True"
      ]
     },
     "execution_count": 124,
     "metadata": {},
     "output_type": "execute_result"
    }
   ],
   "source": [
    "\"\"\"Isnumeric string function\"\"\"\n",
    "print(__doc__)\n",
    "a='36575686'\n",
    "print('a =',a)\n",
    "a.isnumeric()"
   ]
  },
  {
   "cell_type": "code",
   "execution_count": 125,
   "id": "8b366d48",
   "metadata": {},
   "outputs": [
    {
     "name": "stdout",
     "output_type": "stream",
     "text": [
      "Isnumeric string function\n",
      "a = ¼\n"
     ]
    },
    {
     "data": {
      "text/plain": [
       "True"
      ]
     },
     "execution_count": 125,
     "metadata": {},
     "output_type": "execute_result"
    }
   ],
   "source": [
    "\"\"\"Isnumeric string function\"\"\"\n",
    "print(__doc__)\n",
    "a='\\u00BC'\n",
    "print('a =',a)\n",
    "a.isnumeric()"
   ]
  },
  {
   "cell_type": "code",
   "execution_count": 127,
   "id": "f0df691e",
   "metadata": {},
   "outputs": [
    {
     "name": "stdout",
     "output_type": "stream",
     "text": [
      "Isnumeric string function\n",
      "a = ¾\n"
     ]
    },
    {
     "data": {
      "text/plain": [
       "True"
      ]
     },
     "execution_count": 127,
     "metadata": {},
     "output_type": "execute_result"
    }
   ],
   "source": [
    "\"\"\"Isnumeric string function\"\"\"\n",
    "print(__doc__)\n",
    "a='\\u00BE'\n",
    "print('a =',a)\n",
    "a.isnumeric()"
   ]
  },
  {
   "cell_type": "code",
   "execution_count": 128,
   "id": "8c05289e",
   "metadata": {},
   "outputs": [
    {
     "name": "stdout",
     "output_type": "stream",
     "text": [
      "Isnumeric string function\n",
      "a = )\n"
     ]
    },
    {
     "data": {
      "text/plain": [
       "False"
      ]
     },
     "execution_count": 128,
     "metadata": {},
     "output_type": "execute_result"
    }
   ],
   "source": [
    "\"\"\"Isnumeric string function\"\"\"\n",
    "print(__doc__)\n",
    "a='\\u0029'\n",
    "print('a =',a)\n",
    "a.isnumeric()"
   ]
  },
  {
   "cell_type": "markdown",
   "id": "026e0ae8",
   "metadata": {},
   "source": [
    "26.Zfill() :\n",
    "    It adds zeros at the startinf of the str."
   ]
  },
  {
   "cell_type": "code",
   "execution_count": 138,
   "id": "0e4ca749",
   "metadata": {},
   "outputs": [
    {
     "name": "stdout",
     "output_type": "stream",
     "text": [
      "Zfill string function\n",
      "a = reshma\n"
     ]
    },
    {
     "data": {
      "text/plain": [
       "'0000reshma'"
      ]
     },
     "execution_count": 138,
     "metadata": {},
     "output_type": "execute_result"
    }
   ],
   "source": [
    "\"\"\"Zfill string function\"\"\"\n",
    "print(__doc__)\n",
    "a='reshma'\n",
    "print('a =',a)\n",
    "a.zfill(10)"
   ]
  },
  {
   "cell_type": "code",
   "execution_count": 140,
   "id": "4197cad6",
   "metadata": {},
   "outputs": [
    {
     "name": "stdout",
     "output_type": "stream",
     "text": [
      "Zfill string function\n",
      "a = reshma and rohit ravi priya raj\n"
     ]
    },
    {
     "data": {
      "text/plain": [
       "'0000000000000000000reshma and rohit ravi priya raj'"
      ]
     },
     "execution_count": 140,
     "metadata": {},
     "output_type": "execute_result"
    }
   ],
   "source": [
    "\"\"\"Zfill string function\"\"\"\n",
    "print(__doc__)\n",
    "a='reshma and rohit ravi priya raj'\n",
    "print('a =',a)\n",
    "a.zfill(50)"
   ]
  },
  {
   "cell_type": "markdown",
   "id": "2e3457cf",
   "metadata": {},
   "source": [
    "27.Center() :"
   ]
  },
  {
   "cell_type": "code",
   "execution_count": 143,
   "id": "44b43079",
   "metadata": {},
   "outputs": [
    {
     "name": "stdout",
     "output_type": "stream",
     "text": [
      "Center string function\n",
      "a = 256\n"
     ]
    },
    {
     "data": {
      "text/plain": [
       "'   256    '"
      ]
     },
     "execution_count": 143,
     "metadata": {},
     "output_type": "execute_result"
    }
   ],
   "source": [
    "\"\"\"Center string function\"\"\"\n",
    "print(__doc__)\n",
    "a='256'   #odd number la starting la more space.\n",
    "print('a =',a)\n",
    "a.center(10)"
   ]
  },
  {
   "cell_type": "code",
   "execution_count": 144,
   "id": "e63d1fb3",
   "metadata": {},
   "outputs": [
    {
     "name": "stdout",
     "output_type": "stream",
     "text": [
      "Center string function\n",
      "a = 2566\n"
     ]
    },
    {
     "data": {
      "text/plain": [
       "'   2566   '"
      ]
     },
     "execution_count": 144,
     "metadata": {},
     "output_type": "execute_result"
    }
   ],
   "source": [
    "\"\"\"Center string function\"\"\"\n",
    "print(__doc__)\n",
    "a='2566'          #Even number la same space.\n",
    "print('a =',a)\n",
    "a.center(10)"
   ]
  },
  {
   "cell_type": "code",
   "execution_count": 145,
   "id": "904e3792",
   "metadata": {},
   "outputs": [
    {
     "name": "stdout",
     "output_type": "stream",
     "text": [
      "2\n"
     ]
    }
   ],
   "source": [
    "#Ternary Opeartor :\n",
    "a=10\n",
    "b=2\n",
    "min_num=a if a<b else b\n",
    "print(min_num)"
   ]
  },
  {
   "cell_type": "code",
   "execution_count": null,
   "id": "42eefae6",
   "metadata": {},
   "outputs": [],
   "source": []
  },
  {
   "cell_type": "code",
   "execution_count": null,
   "id": "0cb4bac2",
   "metadata": {},
   "outputs": [],
   "source": []
  }
 ],
 "metadata": {
  "kernelspec": {
   "display_name": "Python 3 (ipykernel)",
   "language": "python",
   "name": "python3"
  },
  "language_info": {
   "codemirror_mode": {
    "name": "ipython",
    "version": 3
   },
   "file_extension": ".py",
   "mimetype": "text/x-python",
   "name": "python",
   "nbconvert_exporter": "python",
   "pygments_lexer": "ipython3",
   "version": "3.10.9"
  }
 },
 "nbformat": 4,
 "nbformat_minor": 5
}
