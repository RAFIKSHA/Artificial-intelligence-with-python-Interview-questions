{
 "cells": [
  {
   "cell_type": "markdown",
   "id": "ae3db961",
   "metadata": {},
   "source": [
    "Function :\n",
    "  Functions are the block of codethat we can run as an when required.\n",
    "  When we can call a function multiple time across the same file or in another file as well.\n",
    "  Functions are origanised body of code.\n",
    "  \n",
    "Type Of Function :\n",
    "1.Pre Defined Function (in-bulit function) :\n",
    "    These functions are in bulit in python.\n",
    "     (len,max,min,print,etc.)\n",
    "2.User Defined Function :\n",
    "    These functions are perfromed or defined by the user to perfrom a speicifc task.\n",
    "      --Two parts of function body :\n",
    "          1.Declaration of the function.\n",
    "          2.Calling of the function.\n",
    "   Python keywords to create a function is def.\n",
    "   def-->> Delecaration of function, Definition of function.\n",
    "     Syntax :\n",
    "       def sum():\n",
    "         STATEMENT\n",
    "         CODE\n",
    "       FUNCTION_NAME(PARAMETER)"
   ]
  },
  {
   "cell_type": "code",
   "execution_count": 1,
   "id": "d0b9109d",
   "metadata": {},
   "outputs": [],
   "source": [
    "def math(a,b,c):\n",
    "    add=a+b+c\n",
    "    mult=a*b*c\n",
    "    return (add,mult)"
   ]
  },
  {
   "cell_type": "code",
   "execution_count": 3,
   "id": "5ca95e80",
   "metadata": {},
   "outputs": [
    {
     "data": {
      "text/plain": [
       "(9, 24)"
      ]
     },
     "execution_count": 3,
     "metadata": {},
     "output_type": "execute_result"
    }
   ],
   "source": [
    "math(4,2,3)"
   ]
  },
  {
   "cell_type": "code",
   "execution_count": 4,
   "id": "666f14df",
   "metadata": {},
   "outputs": [
    {
     "data": {
      "text/plain": [
       "(15, 120)"
      ]
     },
     "execution_count": 4,
     "metadata": {},
     "output_type": "execute_result"
    }
   ],
   "source": [
    "math(4,5,6)"
   ]
  },
  {
   "cell_type": "code",
   "execution_count": 9,
   "id": "f435dec3",
   "metadata": {},
   "outputs": [],
   "source": [
    "def even_odd(a):   #even and odd number\n",
    "    if a%2==0:\n",
    "        print('Even')\n",
    "    else:\n",
    "        print('Odd')"
   ]
  },
  {
   "cell_type": "code",
   "execution_count": 7,
   "id": "6a92f8a8",
   "metadata": {},
   "outputs": [
    {
     "name": "stdout",
     "output_type": "stream",
     "text": [
      "Odd\n"
     ]
    }
   ],
   "source": [
    "even_odd(5)"
   ]
  },
  {
   "cell_type": "code",
   "execution_count": 8,
   "id": "89af351f",
   "metadata": {},
   "outputs": [
    {
     "name": "stdout",
     "output_type": "stream",
     "text": [
      "Even\n"
     ]
    }
   ],
   "source": [
    "even_odd(100)"
   ]
  },
  {
   "cell_type": "markdown",
   "id": "0875585a",
   "metadata": {},
   "source": [
    "Return() :\n",
    "  Return is used to int function or break the function and return the specific value from the function.\n",
    "  Retrun can aslo be the empty we are not return anything from function."
   ]
  },
  {
   "cell_type": "code",
   "execution_count": 16,
   "id": "bf4c1210",
   "metadata": {},
   "outputs": [],
   "source": [
    "def even_odd():\n",
    "    for i in [1,2,3,4,5]:\n",
    "        if i%2==0:\n",
    "            return 'Even'\n",
    "        else:\n",
    "            return 'Odd'"
   ]
  },
  {
   "cell_type": "code",
   "execution_count": 17,
   "id": "12e7f6f5",
   "metadata": {},
   "outputs": [
    {
     "data": {
      "text/plain": [
       "'Odd'"
      ]
     },
     "execution_count": 17,
     "metadata": {},
     "output_type": "execute_result"
    }
   ],
   "source": [
    "even_odd()"
   ]
  },
  {
   "cell_type": "markdown",
   "id": "2d3fc435",
   "metadata": {},
   "source": [
    "Yeild :\n",
    "  Yeild does not end function and break the function and it can retruen specific value from the function again and again."
   ]
  },
  {
   "cell_type": "code",
   "execution_count": 10,
   "id": "1a811851",
   "metadata": {},
   "outputs": [],
   "source": [
    "def even_odd():\n",
    "    for i in [1,2,3,4,5]:\n",
    "        if i%2==0:\n",
    "            yield 'Even'\n",
    "        else:\n",
    "            yield 'Odd'"
   ]
  },
  {
   "cell_type": "code",
   "execution_count": 11,
   "id": "5b8b7b8d",
   "metadata": {},
   "outputs": [],
   "source": [
    "a=even_odd()\n",
    "#list(a)"
   ]
  },
  {
   "cell_type": "code",
   "execution_count": 12,
   "id": "fa3ed58d",
   "metadata": {},
   "outputs": [
    {
     "name": "stdout",
     "output_type": "stream",
     "text": [
      "Odd\n",
      "Even\n",
      "Odd\n",
      "Even\n",
      "Odd\n"
     ]
    },
    {
     "ename": "StopIteration",
     "evalue": "",
     "output_type": "error",
     "traceback": [
      "\u001b[1;31m---------------------------------------------------------------------------\u001b[0m",
      "\u001b[1;31mStopIteration\u001b[0m                             Traceback (most recent call last)",
      "Cell \u001b[1;32mIn[12], line 2\u001b[0m\n\u001b[0;32m      1\u001b[0m \u001b[38;5;28;01mfor\u001b[39;00m i \u001b[38;5;129;01min\u001b[39;00m \u001b[38;5;28mrange\u001b[39m(\u001b[38;5;241m10\u001b[39m):\n\u001b[1;32m----> 2\u001b[0m     \u001b[38;5;28mprint\u001b[39m(\u001b[38;5;28;43mnext\u001b[39;49m\u001b[43m(\u001b[49m\u001b[43ma\u001b[49m\u001b[43m)\u001b[49m)\n",
      "\u001b[1;31mStopIteration\u001b[0m: "
     ]
    }
   ],
   "source": [
    "for i in range(10):\n",
    "    print(next(a))"
   ]
  },
  {
   "cell_type": "code",
   "execution_count": 19,
   "id": "bb521a52",
   "metadata": {},
   "outputs": [
    {
     "data": {
      "text/plain": [
       "['amhseR', 'tihor', 'jar', 'jar']"
      ]
     },
     "execution_count": 19,
     "metadata": {},
     "output_type": "execute_result"
    }
   ],
   "source": [
    "#Reverse String\n",
    "a=['Reshma','rohit','raj','raj']\n",
    "for i in range(len(a)):\n",
    "    a[i]=a[i][::-1]\n",
    "a"
   ]
  },
  {
   "cell_type": "code",
   "execution_count": 18,
   "id": "02e3fc3e",
   "metadata": {},
   "outputs": [
    {
     "data": {
      "text/plain": [
       "['amhseR', 'tihor', 'jar', 'jar']"
      ]
     },
     "execution_count": 18,
     "metadata": {},
     "output_type": "execute_result"
    }
   ],
   "source": [
    "a=['Reshma','rohit','raj','raj']\n",
    "s=[]\n",
    "for i in a:\n",
    "    s.append(i[::-1])\n",
    "s"
   ]
  },
  {
   "cell_type": "code",
   "execution_count": 20,
   "id": "8368abf4",
   "metadata": {},
   "outputs": [
    {
     "name": "stdout",
     "output_type": "stream",
     "text": [
      "amhseR\n",
      "tihor\n",
      "jar\n",
      "jar\n"
     ]
    }
   ],
   "source": [
    "a=['Reshma','rohit','raj','raj']\n",
    "for i in a:\n",
    "    print(i[::-1])"
   ]
  },
  {
   "cell_type": "code",
   "execution_count": 21,
   "id": "068aace3",
   "metadata": {},
   "outputs": [
    {
     "name": "stdout",
     "output_type": "stream",
     "text": [
      "P\n",
      "y\n",
      "t\n",
      "h\n",
      "o\n",
      "n\n",
      "i\n",
      "s\n",
      "a\n",
      "h\n",
      "i\n",
      "g\n",
      "h\n",
      "-\n",
      "l\n",
      "e\n",
      "v\n",
      "e\n",
      "l\n",
      ",\n",
      "g\n",
      "e\n",
      "n\n",
      "e\n",
      "r\n",
      "a\n",
      "l\n",
      "-\n",
      "p\n",
      "u\n",
      "r\n",
      "p\n",
      "o\n",
      "s\n",
      "e\n",
      "p\n",
      "r\n",
      "o\n",
      "g\n",
      "r\n",
      "a\n",
      "m\n",
      "m\n",
      "i\n",
      "n\n",
      "g\n",
      "l\n",
      "a\n",
      "n\n",
      "g\n",
      "u\n",
      "a\n",
      "g\n",
      "e\n"
     ]
    }
   ],
   "source": [
    "#Remove Space\n",
    "a='Python is a high-level, general-purpose programming language'\n",
    "for i in a:\n",
    "    if i.isspace():\n",
    "        pass\n",
    "    else:\n",
    "        print(i)"
   ]
  },
  {
   "cell_type": "code",
   "execution_count": 22,
   "id": "82fed038",
   "metadata": {},
   "outputs": [
    {
     "data": {
      "text/plain": [
       "'Pythonisahigh-level,general-purposeprogramminglanguage'"
      ]
     },
     "execution_count": 22,
     "metadata": {},
     "output_type": "execute_result"
    }
   ],
   "source": [
    "a='Python is a high level, general purpose programming language'\n",
    "s=''\n",
    "for i in a:\n",
    "    if i.isspace():\n",
    "        pass\n",
    "    else:\n",
    "        s=s+i\n",
    "s"
   ]
  },
  {
   "cell_type": "markdown",
   "id": "a50ae7f4",
   "metadata": {},
   "source": [
    "Next Function :\n",
    "  Next unfold one item at the from geneartor object."
   ]
  },
  {
   "cell_type": "code",
   "execution_count": null,
   "id": "6b2960d3",
   "metadata": {},
   "outputs": [],
   "source": []
  },
  {
   "cell_type": "code",
   "execution_count": null,
   "id": "6f7f7b31",
   "metadata": {},
   "outputs": [],
   "source": []
  },
  {
   "cell_type": "code",
   "execution_count": null,
   "id": "1a2a47bc",
   "metadata": {},
   "outputs": [],
   "source": []
  },
  {
   "cell_type": "code",
   "execution_count": null,
   "id": "ccbf7374",
   "metadata": {},
   "outputs": [],
   "source": []
  }
 ],
 "metadata": {
  "kernelspec": {
   "display_name": "Python 3 (ipykernel)",
   "language": "python",
   "name": "python3"
  },
  "language_info": {
   "codemirror_mode": {
    "name": "ipython",
    "version": 3
   },
   "file_extension": ".py",
   "mimetype": "text/x-python",
   "name": "python",
   "nbconvert_exporter": "python",
   "pygments_lexer": "ipython3",
   "version": "3.10.9"
  }
 },
 "nbformat": 4,
 "nbformat_minor": 5
}
