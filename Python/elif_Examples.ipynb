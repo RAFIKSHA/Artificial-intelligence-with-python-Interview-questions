{
 "cells": [
  {
   "cell_type": "code",
   "execution_count": 2,
   "id": "e42bddde",
   "metadata": {},
   "outputs": [
    {
     "name": "stdout",
     "output_type": "stream",
     "text": [
      "Enter First Number =5\n",
      "Enter An Operation =-\n",
      "Enter Second Number =2\n",
      "Subtraction of two Value = 3\n"
     ]
    }
   ],
   "source": [
    "a=int(input('Enter First Number ='))\n",
    "b=input(('Enter An Operation ='))\n",
    "c=int(input('Enter Second Number ='))\n",
    "if b=='+':\n",
    "    print('Addition of two Value =',a+c)\n",
    "elif b=='-':\n",
    "    print('Subtraction of two Value =',a-c)\n",
    "elif b=='*':\n",
    "    print('Multiplication of two Value =',a*c)\n",
    "elif b=='/':\n",
    "    print('Division of two Value =',a/c)"
   ]
  },
  {
   "cell_type": "code",
   "execution_count": 4,
   "id": "93ef807b",
   "metadata": {},
   "outputs": [
    {
     "name": "stdout",
     "output_type": "stream",
     "text": [
      "Enter First Number =5\n",
      "Enter An Operation =*\n",
      "Enter Second Number =3\n",
      "Multiplication of two Value = 15\n"
     ]
    }
   ],
   "source": [
    "a=int(input('Enter First Number ='))\n",
    "b=input(('Enter An Operation ='))\n",
    "c=int(input('Enter Second Number ='))\n",
    "if b=='+':\n",
    "    print('Addition of two Value =',a+c)\n",
    "elif b=='-':\n",
    "    print('Subtraction of two Value =',a-c)\n",
    "elif b=='*':\n",
    "    print('Multiplication of two Value =',a*c)\n",
    "elif b=='/':\n",
    "    print('Division of two Value =',a/c)"
   ]
  },
  {
   "cell_type": "code",
   "execution_count": 15,
   "id": "50a700cc",
   "metadata": {},
   "outputs": [
    {
     "name": "stdout",
     "output_type": "stream",
     "text": [
      "Enter The Marks =62\n",
      "First Class\n"
     ]
    }
   ],
   "source": [
    "mark=int(input('Enter The Marks ='))\n",
    "if mark<40:\n",
    "    print('Fail')\n",
    "if mark<60:\n",
    "    print('Second  class')\n",
    "if mark<67:\n",
    "    print('First Class')\n",
    "else:\n",
    "    print('Distinction')    "
   ]
  },
  {
   "cell_type": "code",
   "execution_count": 17,
   "id": "c02c46da",
   "metadata": {},
   "outputs": [
    {
     "name": "stdout",
     "output_type": "stream",
     "text": [
      "Enter The Marks =40\n",
      "Fail\n"
     ]
    }
   ],
   "source": [
    "mark=int(input('Enter The Marks ='))\n",
    "if mark>67:\n",
    "    print('Distinction')\n",
    "elif mark>60:\n",
    "    print('First  class')\n",
    "elif mark>40:\n",
    "    print('Second Class')\n",
    "else:\n",
    "    print('Fail')    "
   ]
  },
  {
   "cell_type": "code",
   "execution_count": null,
   "id": "89788533",
   "metadata": {},
   "outputs": [],
   "source": []
  }
 ],
 "metadata": {
  "kernelspec": {
   "display_name": "Python 3 (ipykernel)",
   "language": "python",
   "name": "python3"
  },
  "language_info": {
   "codemirror_mode": {
    "name": "ipython",
    "version": 3
   },
   "file_extension": ".py",
   "mimetype": "text/x-python",
   "name": "python",
   "nbconvert_exporter": "python",
   "pygments_lexer": "ipython3",
   "version": "3.10.9"
  }
 },
 "nbformat": 4,
 "nbformat_minor": 5
}
