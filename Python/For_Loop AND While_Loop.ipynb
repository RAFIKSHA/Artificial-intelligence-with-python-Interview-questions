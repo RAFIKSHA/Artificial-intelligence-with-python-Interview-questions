{
 "cells": [
  {
   "cell_type": "markdown",
   "id": "76e14c82",
   "metadata": {},
   "source": [
    "For Loop :\n",
    "   It works an iterator.\n",
    "    *iterator--> str,list,tuple,set,dict,series,range.\n",
    "     Syntax :\n",
    "        for variable_name in iterator:\n",
    "            print(variable_name)\n",
    "               OR\n",
    "       for i in iterator:\n",
    "           if condition1==True:\n",
    "               print(True Statment1)\n",
    "           else:\n",
    "              print(False Statment2)\n",
    "              \n",
    "  If we want to execute some action statement for number of items then we use this loop.\n",
    "  "
   ]
  },
  {
   "cell_type": "code",
   "execution_count": 2,
   "id": "7fcd16fe",
   "metadata": {},
   "outputs": [
    {
     "name": "stdout",
     "output_type": "stream",
     "text": [
      "Good Morning\n",
      "Good Morning\n",
      "Good Morning\n",
      "Good Morning\n",
      "Good Morning\n"
     ]
    }
   ],
   "source": [
    " for i in range(5):\n",
    "        print('Good Morning')"
   ]
  },
  {
   "cell_type": "code",
   "execution_count": 3,
   "id": "a51d40cc",
   "metadata": {},
   "outputs": [
    {
     "data": {
      "text/plain": [
       "['r', 'e', 's', 'h', 'm', 'a']"
      ]
     },
     "execution_count": 3,
     "metadata": {},
     "output_type": "execute_result"
    }
   ],
   "source": [
    "a='reshma'     #list constrcutor\n",
    "list(a)"
   ]
  },
  {
   "cell_type": "code",
   "execution_count": 4,
   "id": "4350e0b6",
   "metadata": {},
   "outputs": [
    {
     "data": {
      "text/plain": [
       "45"
      ]
     },
     "execution_count": 4,
     "metadata": {},
     "output_type": "execute_result"
    }
   ],
   "source": [
    "int('45')     #int constructor"
   ]
  },
  {
   "cell_type": "code",
   "execution_count": 6,
   "id": "d794cffc",
   "metadata": {},
   "outputs": [
    {
     "name": "stdout",
     "output_type": "stream",
     "text": [
      "reshma\n"
     ]
    }
   ],
   "source": [
    "for i in ['reshma']:\n",
    "    print(i)"
   ]
  },
  {
   "cell_type": "code",
   "execution_count": 11,
   "id": "c21cf5c1",
   "metadata": {},
   "outputs": [
    {
     "name": "stdout",
     "output_type": "stream",
     "text": [
      "2\n",
      "4\n",
      "Odd\n",
      "Odd\n",
      "Odd\n",
      "6\n",
      "Odd\n",
      "8\n",
      "Odd\n",
      "24\n",
      "Odd\n"
     ]
    }
   ],
   "source": [
    "a=[2,4,3,1,5,6,7,8,43,24,9]   #Even And Odd Number\n",
    "for i in a:\n",
    "    if i%2==0:\n",
    "        print(i)\n",
    "    else:\n",
    "        print('Odd')"
   ]
  },
  {
   "cell_type": "markdown",
   "id": "0f0d7e77",
   "metadata": {},
   "source": [
    "For Loop using range :\n",
    "  Syntax :\n",
    "    for i in range(n):\n",
    "       Statments\n",
    " n--> Number of repetation you want\n",
    " i--> Iteration value \n",
    "        OR\n",
    "     for i in range(start_value,end_value,step_size):\n",
    "         Statments\n",
    " start_value--> It will start from given value.\n",
    " end_value--> end_value -1\n",
    " step_size--> By now much you want increase next iteration, by default it is 1.\n",
    " \n",
    "   NOTE :\n",
    "     By default i value starts with 0 and end with n-1."
   ]
  },
  {
   "cell_type": "code",
   "execution_count": 14,
   "id": "34a49b72",
   "metadata": {},
   "outputs": [
    {
     "name": "stdout",
     "output_type": "stream",
     "text": [
      "Reshma\n",
      "Reshma\n",
      "Reshma\n",
      "Reshma\n",
      "Reshma\n"
     ]
    }
   ],
   "source": [
    " for i in range(5):\n",
    "        print('Reshma')"
   ]
  },
  {
   "cell_type": "code",
   "execution_count": 15,
   "id": "2b49b461",
   "metadata": {},
   "outputs": [
    {
     "name": "stdout",
     "output_type": "stream",
     "text": [
      "reshma 0\n",
      "nikam\n",
      "reshma 1\n",
      "nikam\n",
      "reshma 2\n",
      "nikam\n",
      "reshma 3\n",
      "nikam\n",
      "reshma 4\n",
      "nikam\n"
     ]
    }
   ],
   "source": [
    "for i in range(5):\n",
    "    print('reshma',i)\n",
    "    print('nikam')"
   ]
  },
  {
   "cell_type": "code",
   "execution_count": 16,
   "id": "19a9081a",
   "metadata": {},
   "outputs": [
    {
     "name": "stdout",
     "output_type": "stream",
     "text": [
      "reshma 2\n",
      "nikam\n",
      "reshma 3\n",
      "nikam\n",
      "reshma 4\n",
      "nikam\n",
      "reshma 5\n",
      "nikam\n",
      "reshma 6\n",
      "nikam\n",
      "reshma 7\n",
      "nikam\n",
      "reshma 8\n",
      "nikam\n",
      "reshma 9\n",
      "nikam\n"
     ]
    }
   ],
   "source": [
    "for i in range(2,10):\n",
    "    print('reshma',i)\n",
    "    print('nikam')"
   ]
  },
  {
   "cell_type": "code",
   "execution_count": 17,
   "id": "dd7594e9",
   "metadata": {},
   "outputs": [
    {
     "name": "stdout",
     "output_type": "stream",
     "text": [
      "21\n",
      "23\n",
      "25\n",
      "27\n",
      "29\n"
     ]
    }
   ],
   "source": [
    "for i in range(21,30,2):\n",
    "    print(i)"
   ]
  },
  {
   "cell_type": "code",
   "execution_count": 21,
   "id": "e5f4c349",
   "metadata": {},
   "outputs": [
    {
     "name": "stdout",
     "output_type": "stream",
     "text": [
      "30\n",
      "28\n",
      "26\n",
      "24\n",
      "22\n"
     ]
    }
   ],
   "source": [
    "for i in range(30,20,-2):\n",
    "    print(i)"
   ]
  },
  {
   "cell_type": "markdown",
   "id": "71025448",
   "metadata": {},
   "source": [
    "Enumerate :\n",
    " Syntax :\n",
    "   for inex,value in enumerate(sequqnce):\n",
    "       statments"
   ]
  },
  {
   "cell_type": "code",
   "execution_count": 22,
   "id": "f5771957",
   "metadata": {},
   "outputs": [
    {
     "name": "stdout",
     "output_type": "stream",
     "text": [
      "0 r\n",
      "1 e\n",
      "2 s\n",
      "3 h\n",
      "4 m\n",
      "5 a\n"
     ]
    }
   ],
   "source": [
    "stt='reshma'\n",
    "for i,v in enumerate(stt):\n",
    "    print(i,v)"
   ]
  },
  {
   "cell_type": "markdown",
   "id": "8d0a9937",
   "metadata": {},
   "source": [
    "While Loop :\n",
    "  While loop is used for iterating over a sequqnce or iterators.\n",
    "  It will execute block of code repeatadly until the condition becomes false.\n",
    "   Syntax :\n",
    "     while condition:\n",
    "      statments"
   ]
  },
  {
   "cell_type": "code",
   "execution_count": 23,
   "id": "ca0bd0af",
   "metadata": {},
   "outputs": [
    {
     "name": "stdout",
     "output_type": "stream",
     "text": [
      "1\n",
      "2\n",
      "3\n",
      "4\n",
      "5\n",
      "6\n",
      "7\n",
      "8\n",
      "9\n",
      "10\n"
     ]
    }
   ],
   "source": [
    "for i in range(1,11):\n",
    "    print(i)"
   ]
  },
  {
   "cell_type": "code",
   "execution_count": 1,
   "id": "09209944",
   "metadata": {},
   "outputs": [
    {
     "name": "stdout",
     "output_type": "stream",
     "text": [
      "1\n",
      "2\n",
      "3\n",
      "4\n",
      "5\n",
      "6\n",
      "7\n",
      "8\n",
      "9\n",
      "10\n"
     ]
    }
   ],
   "source": [
    "i=1\n",
    "while i<=10:\n",
    "    print(i)\n",
    "    i=i+1"
   ]
  },
  {
   "cell_type": "code",
   "execution_count": 1,
   "id": "2b876f3f",
   "metadata": {},
   "outputs": [
    {
     "name": "stdout",
     "output_type": "stream",
     "text": [
      "5\n",
      "4\n",
      "3\n",
      "2\n",
      "1\n"
     ]
    }
   ],
   "source": [
    "n=12345\n",
    "while n!=0:\n",
    "    print(n%10)\n",
    "    n=n//10"
   ]
  },
  {
   "cell_type": "code",
   "execution_count": 2,
   "id": "1adb5765",
   "metadata": {},
   "outputs": [
    {
     "data": {
      "text/plain": [
       "5"
      ]
     },
     "execution_count": 2,
     "metadata": {},
     "output_type": "execute_result"
    }
   ],
   "source": [
    "12345%10"
   ]
  },
  {
   "cell_type": "code",
   "execution_count": 9,
   "id": "2bd7542d",
   "metadata": {},
   "outputs": [
    {
     "data": {
      "text/plain": [
       "1234"
      ]
     },
     "execution_count": 9,
     "metadata": {},
     "output_type": "execute_result"
    }
   ],
   "source": [
    "12345//10"
   ]
  },
  {
   "cell_type": "code",
   "execution_count": null,
   "id": "95ac7645",
   "metadata": {},
   "outputs": [],
   "source": []
  }
 ],
 "metadata": {
  "kernelspec": {
   "display_name": "Python 3 (ipykernel)",
   "language": "python",
   "name": "python3"
  },
  "language_info": {
   "codemirror_mode": {
    "name": "ipython",
    "version": 3
   },
   "file_extension": ".py",
   "mimetype": "text/x-python",
   "name": "python",
   "nbconvert_exporter": "python",
   "pygments_lexer": "ipython3",
   "version": "3.10.9"
  }
 },
 "nbformat": 4,
 "nbformat_minor": 5
}
