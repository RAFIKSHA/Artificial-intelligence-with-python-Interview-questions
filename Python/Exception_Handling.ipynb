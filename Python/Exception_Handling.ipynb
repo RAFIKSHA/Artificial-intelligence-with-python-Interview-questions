{
 "cells": [
  {
   "cell_type": "markdown",
   "id": "3f1cf388",
   "metadata": {},
   "source": [
    "Exception Handling :\n",
    "  Exception means the abnormal situation situation occurs at runtime and stop the execuation of programs is called exception.\n",
    "  There are two stages where error may happen in a programs.\n",
    "   1.During complination--> Syntax error.\n",
    "   2.During Exection--> Expections."
   ]
  },
  {
   "cell_type": "markdown",
   "id": "3e200bce",
   "metadata": {},
   "source": [
    "1.Syntax error :\n",
    "  Something in the program is not written according to the program grammmer.\n",
    "  Error is raised by the interpreter/compiler."
   ]
  },
  {
   "cell_type": "code",
   "execution_count": 3,
   "id": "32fee6c8",
   "metadata": {},
   "outputs": [
    {
     "ename": "SyntaxError",
     "evalue": "Missing parentheses in call to 'print'. Did you mean print(...)? (240306679.py, line 2)",
     "output_type": "error",
     "traceback": [
      "\u001b[1;36m  Cell \u001b[1;32mIn[3], line 2\u001b[1;36m\u001b[0m\n\u001b[1;33m    print 'Hello world'\u001b[0m\n\u001b[1;37m    ^\u001b[0m\n\u001b[1;31mSyntaxError\u001b[0m\u001b[1;31m:\u001b[0m Missing parentheses in call to 'print'. Did you mean print(...)?\n"
     ]
    }
   ],
   "source": [
    "#Examples of Syntax error\n",
    "print 'Hello world'"
   ]
  },
  {
   "cell_type": "markdown",
   "id": "52b9eaa2",
   "metadata": {},
   "source": [
    "Error :\n",
    "SyntaxError--> When a colon or parentheses is missing.\n",
    "IndentationError--> Unexpected spaces at the beginning of the line. \n",
    "FileNotFoundError--> File does not exist on that location.\n",
    "KeyError--> Trying the access the key of dict that does not exist. \n",
    "ZeroDivsionError--> Dividing a value by zero.\n",
    "TypeError--> Cannot multiply sequence by non-int of type 'str'.\n",
    "AttributeError--> 'Tuple' object has no attribute 'append'.\n",
    "IndexError--> Lisi index out of range.\n",
    "FileExistError--> [error 17] file:'ipl.txt'.\n",
    "EOFError--> Missing brackets.\n",
    "ValueError--> Invalid literal for int() with base 10: 'shiv'.\n",
    "NameError--> Name 'A' is not defined"
   ]
  },
  {
   "cell_type": "code",
   "execution_count": 15,
   "id": "49c358c2",
   "metadata": {},
   "outputs": [
    {
     "ename": "NameError",
     "evalue": "name 'A' is not defined",
     "output_type": "error",
     "traceback": [
      "\u001b[1;31m---------------------------------------------------------------------------\u001b[0m",
      "\u001b[1;31mNameError\u001b[0m                                 Traceback (most recent call last)",
      "Cell \u001b[1;32mIn[15], line 2\u001b[0m\n\u001b[0;32m      1\u001b[0m a\u001b[38;5;241m=\u001b[39m\u001b[38;5;241m10\u001b[39m\n\u001b[1;32m----> 2\u001b[0m \u001b[43mA\u001b[49m\n",
      "\u001b[1;31mNameError\u001b[0m: name 'A' is not defined"
     ]
    }
   ],
   "source": [
    "#NameError  \n",
    "a=10\n",
    "A"
   ]
  },
  {
   "cell_type": "code",
   "execution_count": 13,
   "id": "b18ce7ac",
   "metadata": {},
   "outputs": [
    {
     "name": "stdout",
     "output_type": "stream",
     "text": [
      "shiv\n"
     ]
    },
    {
     "ename": "ValueError",
     "evalue": "invalid literal for int() with base 10: 'shiv'",
     "output_type": "error",
     "traceback": [
      "\u001b[1;31m---------------------------------------------------------------------------\u001b[0m",
      "\u001b[1;31mValueError\u001b[0m                                Traceback (most recent call last)",
      "Cell \u001b[1;32mIn[13], line 1\u001b[0m\n\u001b[1;32m----> 1\u001b[0m a\u001b[38;5;241m==\u001b[39m\u001b[38;5;28;43mint\u001b[39;49m\u001b[43m(\u001b[49m\u001b[38;5;28;43minput\u001b[39;49m\u001b[43m(\u001b[49m\u001b[43m)\u001b[49m\u001b[43m)\u001b[49m\n\u001b[0;32m      2\u001b[0m a\n",
      "\u001b[1;31mValueError\u001b[0m: invalid literal for int() with base 10: 'shiv'"
     ]
    }
   ],
   "source": [
    "#ValueError \n",
    "a==int(input())\n",
    "a"
   ]
  },
  {
   "cell_type": "code",
   "execution_count": 9,
   "id": "1ce0cc90",
   "metadata": {},
   "outputs": [
    {
     "ename": "IndentationError",
     "evalue": "expected an indented block after 'for' statement on line 2 (3714157856.py, line 3)",
     "output_type": "error",
     "traceback": [
      "\u001b[1;36m  Cell \u001b[1;32mIn[9], line 3\u001b[1;36m\u001b[0m\n\u001b[1;33m    print(a)\u001b[0m\n\u001b[1;37m    ^\u001b[0m\n\u001b[1;31mIndentationError\u001b[0m\u001b[1;31m:\u001b[0m expected an indented block after 'for' statement on line 2\n"
     ]
    }
   ],
   "source": [
    "#IndentationError\n",
    "a=[1,2,3,4]\n",
    "for i in a:\n",
    "print(a)"
   ]
  },
  {
   "cell_type": "code",
   "execution_count": 5,
   "id": "30870fee",
   "metadata": {},
   "outputs": [
    {
     "ename": "SyntaxError",
     "evalue": "unterminated string literal (detected at line 1) (766155566.py, line 1)",
     "output_type": "error",
     "traceback": [
      "\u001b[1;36m  Cell \u001b[1;32mIn[5], line 1\u001b[1;36m\u001b[0m\n\u001b[1;33m    'reshma'*reshma'\u001b[0m\n\u001b[1;37m                   ^\u001b[0m\n\u001b[1;31mSyntaxError\u001b[0m\u001b[1;31m:\u001b[0m unterminated string literal (detected at line 1)\n"
     ]
    }
   ],
   "source": [
    "#TypeError\n",
    "'reshma'*reshma'"
   ]
  },
  {
   "cell_type": "code",
   "execution_count": 6,
   "id": "ab42efde",
   "metadata": {},
   "outputs": [
    {
     "ename": "IndexError",
     "evalue": "list index out of range",
     "output_type": "error",
     "traceback": [
      "\u001b[1;31m---------------------------------------------------------------------------\u001b[0m",
      "\u001b[1;31mIndexError\u001b[0m                                Traceback (most recent call last)",
      "Cell \u001b[1;32mIn[6], line 2\u001b[0m\n\u001b[0;32m      1\u001b[0m a\u001b[38;5;241m=\u001b[39m[\u001b[38;5;241m4\u001b[39m,\u001b[38;5;241m5\u001b[39m]\n\u001b[1;32m----> 2\u001b[0m \u001b[43ma\u001b[49m\u001b[43m[\u001b[49m\u001b[38;5;241;43m10\u001b[39;49m\u001b[43m]\u001b[49m\n",
      "\u001b[1;31mIndexError\u001b[0m: list index out of range"
     ]
    }
   ],
   "source": [
    "#IndexError \n",
    "a=[4,5]\n",
    "a[10]"
   ]
  },
  {
   "cell_type": "code",
   "execution_count": 1,
   "id": "94f1b505",
   "metadata": {},
   "outputs": [
    {
     "ename": "AttributeError",
     "evalue": "'str' object has no attribute 'append'",
     "output_type": "error",
     "traceback": [
      "\u001b[1;31m---------------------------------------------------------------------------\u001b[0m",
      "\u001b[1;31mAttributeError\u001b[0m                            Traceback (most recent call last)",
      "Cell \u001b[1;32mIn[1], line 2\u001b[0m\n\u001b[0;32m      1\u001b[0m a\u001b[38;5;241m=\u001b[39m\u001b[38;5;124m'\u001b[39m\u001b[38;5;124mreshma\u001b[39m\u001b[38;5;124m'\u001b[39m\n\u001b[1;32m----> 2\u001b[0m \u001b[43ma\u001b[49m\u001b[38;5;241;43m.\u001b[39;49m\u001b[43mappend\u001b[49m()\n",
      "\u001b[1;31mAttributeError\u001b[0m: 'str' object has no attribute 'append'"
     ]
    }
   ],
   "source": [
    "#AttributeError    \n",
    "a='reshma'\n",
    "a.append(5)"
   ]
  },
  {
   "cell_type": "code",
   "execution_count": 2,
   "id": "7187cd03",
   "metadata": {},
   "outputs": [
    {
     "name": "stdout",
     "output_type": "stream",
     "text": [
      "'str' object has no attribute 'append'\n"
     ]
    }
   ],
   "source": [
    "try:\n",
    "    a='reshma'\n",
    "    a.append(5)\n",
    "except Exception as e:\n",
    "    print(e)"
   ]
  },
  {
   "cell_type": "markdown",
   "id": "af60c509",
   "metadata": {},
   "source": [
    "Exception :\n",
    "  Exception are raised when the program is syntactically correct but the code resulted in an error.\n",
    "  This error does not stop the exectuion of the program."
   ]
  },
  {
   "cell_type": "markdown",
   "id": "69c889ef",
   "metadata": {},
   "source": [
    "Try and Except :\n",
    "Try--> It test the block of code and check if it work.\n",
    "Except--> It try does not work then except block will handle the error (hide error) occuring in the try block.\n",
    "except Exception as e--> This block will run when exception occure (in case condition or code in try block deos not work then                            will handle the error occuring in try block {we can print using the error using track back or even                              passes on the error}). "
   ]
  },
  {
   "cell_type": "code",
   "execution_count": 20,
   "id": "ada91387",
   "metadata": {},
   "outputs": [],
   "source": [
    "#print bu default paramter\n",
    "print(sep=' ')\n",
    "a=10\n",
    "b='reshma'\n",
    "print(a,b,sep=',',end='*',files=sys.stdout)\n",
    "print('reshma')"
   ]
  },
  {
   "cell_type": "markdown",
   "id": "fb75086d",
   "metadata": {},
   "source": [
    "Finally :\n",
    "  The block which run compulsory if error occure or not. "
   ]
  },
  {
   "cell_type": "code",
   "execution_count": 21,
   "id": "af5352f8",
   "metadata": {},
   "outputs": [
    {
     "name": "stdout",
     "output_type": "stream",
     "text": [
      "Enter value = 5\n",
      "can only concatenate str (not \"int\") to str\n",
      "Thank you\n"
     ]
    }
   ],
   "source": [
    "try:\n",
    "    a='reshma'\n",
    "    s=eval(input('Enter value = '))\n",
    "    p=a+s\n",
    "except Exception as e:\n",
    "    print(e)\n",
    "else:\n",
    "    print(p)\n",
    "finally:\n",
    "    print('Thank you')"
   ]
  },
  {
   "cell_type": "code",
   "execution_count": 25,
   "id": "3c26a05f",
   "metadata": {},
   "outputs": [
    {
     "name": "stdout",
     "output_type": "stream",
     "text": [
      "Enter value = 'reshma'\n",
      "reshma reshma\n",
      "Thank you\n"
     ]
    }
   ],
   "source": [
    "try:\n",
    "    a='reshma'\n",
    "    s=eval(input('Enter value = '))\n",
    "    p=a+' '+s\n",
    "except Exception as e:\n",
    "    print(e)\n",
    "else:\n",
    "    print(p)\n",
    "finally:\n",
    "    print('Thank you')"
   ]
  },
  {
   "cell_type": "code",
   "execution_count": 22,
   "id": "53feccde",
   "metadata": {},
   "outputs": [
    {
     "ename": "TypeError",
     "evalue": "can only concatenate str (not \"int\") to str",
     "output_type": "error",
     "traceback": [
      "\u001b[1;31m---------------------------------------------------------------------------\u001b[0m",
      "\u001b[1;31mTypeError\u001b[0m                                 Traceback (most recent call last)",
      "Cell \u001b[1;32mIn[22], line 1\u001b[0m\n\u001b[1;32m----> 1\u001b[0m \u001b[38;5;124;43m'\u001b[39;49m\u001b[38;5;124;43mresmha\u001b[39;49m\u001b[38;5;124;43m'\u001b[39;49m\u001b[38;5;241;43m+\u001b[39;49m\u001b[38;5;241;43m89\u001b[39;49m\n",
      "\u001b[1;31mTypeError\u001b[0m: can only concatenate str (not \"int\") to str"
     ]
    }
   ],
   "source": [
    "'resmha'+89"
   ]
  },
  {
   "cell_type": "code",
   "execution_count": null,
   "id": "c380a1a0",
   "metadata": {},
   "outputs": [],
   "source": []
  },
  {
   "cell_type": "code",
   "execution_count": null,
   "id": "e637e688",
   "metadata": {},
   "outputs": [],
   "source": []
  },
  {
   "cell_type": "code",
   "execution_count": null,
   "id": "9b1fcfe2",
   "metadata": {},
   "outputs": [],
   "source": []
  },
  {
   "cell_type": "code",
   "execution_count": null,
   "id": "81204eb7",
   "metadata": {},
   "outputs": [],
   "source": []
  }
 ],
 "metadata": {
  "kernelspec": {
   "display_name": "Python 3 (ipykernel)",
   "language": "python",
   "name": "python3"
  },
  "language_info": {
   "codemirror_mode": {
    "name": "ipython",
    "version": 3
   },
   "file_extension": ".py",
   "mimetype": "text/x-python",
   "name": "python",
   "nbconvert_exporter": "python",
   "pygments_lexer": "ipython3",
   "version": "3.10.9"
  }
 },
 "nbformat": 4,
 "nbformat_minor": 5
}
