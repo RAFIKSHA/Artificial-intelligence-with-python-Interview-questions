{
 "cells": [
  {
   "cell_type": "code",
   "execution_count": 3,
   "id": "2c5927d6",
   "metadata": {},
   "outputs": [
    {
     "data": {
      "text/plain": [
       "'reshma nikam'"
      ]
     },
     "execution_count": 3,
     "metadata": {},
     "output_type": "execute_result"
    }
   ],
   "source": [
    "#Addition of two string\n",
    "a='reshma'\n",
    "b=' nikam'\n",
    "a+b"
   ]
  },
  {
   "cell_type": "code",
   "execution_count": 5,
   "id": "1ec03408",
   "metadata": {},
   "outputs": [
    {
     "data": {
      "text/plain": [
       "'reshmareshmareshmareshmareshma'"
      ]
     },
     "execution_count": 5,
     "metadata": {},
     "output_type": "execute_result"
    }
   ],
   "source": [
    "#Repeatation of str\n",
    "a*5"
   ]
  },
  {
   "cell_type": "code",
   "execution_count": 6,
   "id": "14872eb6",
   "metadata": {},
   "outputs": [
    {
     "name": "stdout",
     "output_type": "stream",
     "text": [
      "5\n"
     ]
    }
   ],
   "source": [
    "#str casting\n",
    "a=input()"
   ]
  },
  {
   "cell_type": "code",
   "execution_count": 7,
   "id": "0321d306",
   "metadata": {},
   "outputs": [
    {
     "data": {
      "text/plain": [
       "'5'"
      ]
     },
     "execution_count": 7,
     "metadata": {},
     "output_type": "execute_result"
    }
   ],
   "source": [
    "a"
   ]
  },
  {
   "cell_type": "code",
   "execution_count": 9,
   "id": "33022173",
   "metadata": {},
   "outputs": [
    {
     "data": {
      "text/plain": [
       "int"
      ]
     },
     "execution_count": 9,
     "metadata": {},
     "output_type": "execute_result"
    }
   ],
   "source": [
    "a=5\n",
    "type(a)"
   ]
  },
  {
   "cell_type": "code",
   "execution_count": 10,
   "id": "703e4bce",
   "metadata": {},
   "outputs": [
    {
     "data": {
      "text/plain": [
       "'5'"
      ]
     },
     "execution_count": 10,
     "metadata": {},
     "output_type": "execute_result"
    }
   ],
   "source": [
    "str(a)"
   ]
  },
  {
   "cell_type": "code",
   "execution_count": 12,
   "id": "71365978",
   "metadata": {},
   "outputs": [
    {
     "name": "stdout",
     "output_type": "stream",
     "text": [
      "5\n"
     ]
    },
    {
     "data": {
      "text/plain": [
       "5"
      ]
     },
     "execution_count": 12,
     "metadata": {},
     "output_type": "execute_result"
    }
   ],
   "source": [
    "a=eval(input())   #eval=eavluate the data type\n",
    "a"
   ]
  },
  {
   "cell_type": "code",
   "execution_count": 37,
   "id": "a3f7ff3c",
   "metadata": {},
   "outputs": [
    {
     "data": {
      "text/plain": [
       "'erfdbfcmbfcb bdfgdfbdf\\nfcbcbcgd'"
      ]
     },
     "execution_count": 37,
     "metadata": {},
     "output_type": "execute_result"
    }
   ],
   "source": [
    "a=\"\"\"erfdbfcmbfcb bdfgdfbdf\n",
    "fcbcbcgd\"\"\"\n",
    "a"
   ]
  },
  {
   "cell_type": "raw",
   "id": "14fe0a2b",
   "metadata": {},
   "source": [
    "*f string :\n",
    "f string is literal string prefix with 'f' which contain expression inside braces{}."
   ]
  },
  {
   "cell_type": "code",
   "execution_count": 27,
   "id": "761eb55f",
   "metadata": {},
   "outputs": [
    {
     "name": "stdout",
     "output_type": "stream",
     "text": [
      "Value of a = 10 Value of b = 10\n",
      "**************************************************\n",
      "The value of a is 10\n"
     ]
    }
   ],
   "source": [
    "#f String\n",
    "a=10\n",
    "b=10\n",
    "print('Value of a =',a,'Value of b =',b )\n",
    "print('*'*50)\n",
    "print(f'The value of a is {a}')"
   ]
  },
  {
   "cell_type": "raw",
   "id": "1b12c003",
   "metadata": {},
   "source": [
    "String Function :\n",
    "1.Capitalize() :\n",
    "        In Capitalize in 0th index char only capital."
   ]
  },
  {
   "cell_type": "code",
   "execution_count": 62,
   "id": "4ac60c9b",
   "metadata": {},
   "outputs": [
    {
     "data": {
      "text/plain": [
       "'Python'"
      ]
     },
     "execution_count": 62,
     "metadata": {},
     "output_type": "execute_result"
    }
   ],
   "source": [
    "#Capitalize()\n",
    "a='python'\n",
    "a.capitalize()"
   ]
  },
  {
   "cell_type": "raw",
   "id": "7ada5edf",
   "metadata": {},
   "source": [
    "String Function :\n",
    "2.Upper() :\n",
    "     It will convert the entire string into upper case.     "
   ]
  },
  {
   "cell_type": "code",
   "execution_count": 39,
   "id": "6faa4517",
   "metadata": {},
   "outputs": [
    {
     "data": {
      "text/plain": [
       "'PYTHON'"
      ]
     },
     "execution_count": 39,
     "metadata": {},
     "output_type": "execute_result"
    }
   ],
   "source": [
    "#upper()\n",
    "a='python'\n",
    "a.upper()"
   ]
  },
  {
   "cell_type": "raw",
   "id": "f91dffea",
   "metadata": {},
   "source": [
    "String Function :\n",
    "3.Lower() :\n",
    "     It will convert the entire string into lower case.  "
   ]
  },
  {
   "cell_type": "code",
   "execution_count": 42,
   "id": "1ab4b3eb",
   "metadata": {},
   "outputs": [
    {
     "data": {
      "text/plain": [
       "'python'"
      ]
     },
     "execution_count": 42,
     "metadata": {},
     "output_type": "execute_result"
    }
   ],
   "source": [
    "a='PYTHON'\n",
    "a.lower()"
   ]
  },
  {
   "cell_type": "code",
   "execution_count": 58,
   "id": "7dc160c7",
   "metadata": {},
   "outputs": [
    {
     "name": "stdout",
     "output_type": "stream",
     "text": [
      "R\n",
      "reshma\n",
      "E\n",
      "reshma\n",
      "s\n",
      "h\n",
      "m\n",
      "A\n",
      "reshma\n"
     ]
    }
   ],
   "source": [
    "a='REshmA'\n",
    "for i in a:\n",
    "    print(i)\n",
    "    if i.isupper():\n",
    "        a=a.lower()\n",
    "        print(a)"
   ]
  },
  {
   "cell_type": "raw",
   "id": "b4133914",
   "metadata": {},
   "source": [
    "String Function :\n",
    "4.Title() :\n",
    "     It will convert every string char of word into capital letter.  "
   ]
  },
  {
   "cell_type": "code",
   "execution_count": 61,
   "id": "3b49d40b",
   "metadata": {},
   "outputs": [
    {
     "data": {
      "text/plain": [
       "'Reshma Divya Sumit Priyanka'"
      ]
     },
     "execution_count": 61,
     "metadata": {},
     "output_type": "execute_result"
    }
   ],
   "source": [
    "a='reshma divya sumit priyanka'\n",
    "a.title()"
   ]
  },
  {
   "cell_type": "raw",
   "id": "72271d60",
   "metadata": {},
   "source": [
    "String Function :\n",
    "5.1 Strip() :\n",
    "     It remove spaces from the begenning and the end of the string.\n",
    "     \n",
    "5.2 lStrip() :\n",
    "     It remove spaces from the begenning and the end of the string form left side.\n",
    "     \n",
    "5.3 rStrip() :\n",
    "     It remove spaces from the begenning and the end of the string form right side."
   ]
  },
  {
   "cell_type": "code",
   "execution_count": 66,
   "id": "5e8acc79",
   "metadata": {},
   "outputs": [
    {
     "data": {
      "text/plain": [
       "'reshma shiv rohit sumit'"
      ]
     },
     "execution_count": 66,
     "metadata": {},
     "output_type": "execute_result"
    }
   ],
   "source": [
    "#5.1\n",
    "a='     reshma shiv rohit sumit     '\n",
    "a\n",
    "a.strip()"
   ]
  },
  {
   "cell_type": "code",
   "execution_count": 68,
   "id": "9e36d82a",
   "metadata": {},
   "outputs": [
    {
     "data": {
      "text/plain": [
       "'reshma shiv rohit sumit     '"
      ]
     },
     "execution_count": 68,
     "metadata": {},
     "output_type": "execute_result"
    }
   ],
   "source": [
    "#5.2\n",
    "a='     reshma shiv rohit sumit     '\n",
    "a\n",
    "a.lstrip()"
   ]
  },
  {
   "cell_type": "code",
   "execution_count": 69,
   "id": "076bc865",
   "metadata": {},
   "outputs": [
    {
     "data": {
      "text/plain": [
       "'     reshma shiv rohit sumit'"
      ]
     },
     "execution_count": 69,
     "metadata": {},
     "output_type": "execute_result"
    }
   ],
   "source": [
    "#5.3\n",
    "a='     reshma shiv rohit sumit     '\n",
    "a\n",
    "a.rstrip()"
   ]
  },
  {
   "cell_type": "raw",
   "id": "33d8a40d",
   "metadata": {},
   "source": [
    "String Function :\n",
    "6.Swapcase() :\n",
    "     It swap the cases as in upper case char would be convert into lower case and lower case char would be converted into upper case."
   ]
  },
  {
   "cell_type": "code",
   "execution_count": 70,
   "id": "ba5c159c",
   "metadata": {},
   "outputs": [
    {
     "name": "stdout",
     "output_type": "stream",
     "text": [
      "Reshma\n"
     ]
    },
    {
     "data": {
      "text/plain": [
       "'rESHMA'"
      ]
     },
     "execution_count": 70,
     "metadata": {},
     "output_type": "execute_result"
    }
   ],
   "source": [
    "a='Reshma'\n",
    "print(a)\n",
    "a.swapcase()"
   ]
  },
  {
   "cell_type": "code",
   "execution_count": 71,
   "id": "b25cd10d",
   "metadata": {},
   "outputs": [
    {
     "name": "stdout",
     "output_type": "stream",
     "text": [
      "ReSHma\n"
     ]
    },
    {
     "data": {
      "text/plain": [
       "'rEshMA'"
      ]
     },
     "execution_count": 71,
     "metadata": {},
     "output_type": "execute_result"
    }
   ],
   "source": [
    "a='ReSHma'\n",
    "print(a)\n",
    "a.swapcase()"
   ]
  }
 ],
 "metadata": {
  "kernelspec": {
   "display_name": "Python 3 (ipykernel)",
   "language": "python",
   "name": "python3"
  },
  "language_info": {
   "codemirror_mode": {
    "name": "ipython",
    "version": 3
   },
   "file_extension": ".py",
   "mimetype": "text/x-python",
   "name": "python",
   "nbconvert_exporter": "python",
   "pygments_lexer": "ipython3",
   "version": "3.10.9"
  }
 },
 "nbformat": 4,
 "nbformat_minor": 5
}
