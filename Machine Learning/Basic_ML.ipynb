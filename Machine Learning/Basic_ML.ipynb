{
 "cells": [
  {
   "cell_type": "markdown",
   "id": "45c55c53",
   "metadata": {},
   "source": [
    "Machine Learning :\n",
    "   Machine learning is the science of getting to interpet process and analysis data in order to slove real world problem.\n",
    " There are two types of ML :\n",
    "   1.Supervised Machine Learning.\n",
    "   2.Unsuperivsed Machine Learning."
   ]
  },
  {
   "cell_type": "markdown",
   "id": "42739a13",
   "metadata": {},
   "source": [
    "1.Supervised Machine Learning :\n",
    "   Model training with labelled data (ground truth value).\n",
    "     a.Classification Data\n",
    "     b.Regression Data"
   ]
  },
  {
   "cell_type": "code",
   "execution_count": null,
   "id": "1f1e57e3",
   "metadata": {},
   "outputs": [],
   "source": [
    "a.Classification Data : "
   ]
  },
  {
   "cell_type": "code",
   "execution_count": null,
   "id": "9780fe6a",
   "metadata": {},
   "outputs": [],
   "source": []
  },
  {
   "cell_type": "code",
   "execution_count": null,
   "id": "24ac7e5d",
   "metadata": {},
   "outputs": [],
   "source": []
  },
  {
   "cell_type": "code",
   "execution_count": null,
   "id": "784efa87",
   "metadata": {},
   "outputs": [],
   "source": []
  },
  {
   "cell_type": "code",
   "execution_count": null,
   "id": "22dffdab",
   "metadata": {},
   "outputs": [],
   "source": []
  }
 ],
 "metadata": {
  "kernelspec": {
   "display_name": "Python 3 (ipykernel)",
   "language": "python",
   "name": "python3"
  },
  "language_info": {
   "codemirror_mode": {
    "name": "ipython",
    "version": 3
   },
   "file_extension": ".py",
   "mimetype": "text/x-python",
   "name": "python",
   "nbconvert_exporter": "python",
   "pygments_lexer": "ipython3",
   "version": "3.10.9"
  }
 },
 "nbformat": 4,
 "nbformat_minor": 5
}
