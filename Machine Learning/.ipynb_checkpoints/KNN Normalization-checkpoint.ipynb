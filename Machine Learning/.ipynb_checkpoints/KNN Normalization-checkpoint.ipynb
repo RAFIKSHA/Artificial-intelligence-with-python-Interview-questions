{
 "cells": [
  {
   "cell_type": "code",
   "execution_count": 2,
   "id": "c07b40a4",
   "metadata": {},
   "outputs": [],
   "source": [
    "import pandas as pd\n",
    "import numpy as np\n",
    "import seaborn as sns\n",
    "import matplotlib.pyplot as plt\n",
    "\n",
    "from sklearn.neighbors import KNeighborsClassifier\n",
    "from sklearn.preprocessing import MinMaxScaler,StandardScaler"
   ]
  },
  {
   "cell_type": "markdown",
   "id": "13aca871",
   "metadata": {},
   "source": [
    "# Normalization :\n",
    "Normalization is a technique often applied as part of data preparation for machine learning. \n",
    "The goal of normalization is to change the value of numeric column in the data set to use a column scale, without    distoring difference in the range of value of losing format. "
   ]
  },
  {
   "cell_type": "raw",
   "id": "772822dd",
   "metadata": {},
   "source": [
    "1. MinMax scalar\n",
    "2. standard scalar\n",
    "3. robust scalar\n",
    "4. log transformation\n",
    "5. Square root transformation\n",
    "6. Cube root transformation\n",
    "   {For Transformation---> np.log(),np.sqrt(),np.cbrt()}\n",
    "7. Mean normalization\n",
    "8. Max absolute scaling"
   ]
  },
  {
   "cell_type": "markdown",
   "id": "008d13cd",
   "metadata": {},
   "source": [
    "# 1.MinMax scalar :"
   ]
  },
  {
   "cell_type": "raw",
   "id": "d562294a",
   "metadata": {},
   "source": [
    "x_norms=(x_actualValue-x_minValue) / (x_maxValue-x_minValue)\n",
    "\n",
    "---> Range (0-1)\n",
    "Code---> \n",
    "  norma_scalar= MinMaxScaler()\n",
    "  scaled_age=norma_scalar.fit_transform(df['Age'])\n",
    "  x_normalized=pd.DataFrame(x_scaled,columns=df.columns)\n",
    "  x_normalized"
   ]
  },
  {
   "cell_type": "code",
   "execution_count": 8,
   "id": "3c441e21",
   "metadata": {},
   "outputs": [
    {
     "data": {
      "text/html": [
       "<div>\n",
       "<style scoped>\n",
       "    .dataframe tbody tr th:only-of-type {\n",
       "        vertical-align: middle;\n",
       "    }\n",
       "\n",
       "    .dataframe tbody tr th {\n",
       "        vertical-align: top;\n",
       "    }\n",
       "\n",
       "    .dataframe thead th {\n",
       "        text-align: right;\n",
       "    }\n",
       "</style>\n",
       "<table border=\"1\" class=\"dataframe\">\n",
       "  <thead>\n",
       "    <tr style=\"text-align: right;\">\n",
       "      <th></th>\n",
       "      <th>Experience</th>\n",
       "      <th>Age</th>\n",
       "      <th>Income</th>\n",
       "    </tr>\n",
       "  </thead>\n",
       "  <tbody>\n",
       "    <tr>\n",
       "      <th>0</th>\n",
       "      <td>10</td>\n",
       "      <td>12</td>\n",
       "      <td>1000</td>\n",
       "    </tr>\n",
       "    <tr>\n",
       "      <th>1</th>\n",
       "      <td>20</td>\n",
       "      <td>13</td>\n",
       "      <td>2000</td>\n",
       "    </tr>\n",
       "    <tr>\n",
       "      <th>2</th>\n",
       "      <td>30</td>\n",
       "      <td>41</td>\n",
       "      <td>3000</td>\n",
       "    </tr>\n",
       "    <tr>\n",
       "      <th>3</th>\n",
       "      <td>40</td>\n",
       "      <td>67</td>\n",
       "      <td>4000</td>\n",
       "    </tr>\n",
       "    <tr>\n",
       "      <th>4</th>\n",
       "      <td>50</td>\n",
       "      <td>43</td>\n",
       "      <td>5000</td>\n",
       "    </tr>\n",
       "  </tbody>\n",
       "</table>\n",
       "</div>"
      ],
      "text/plain": [
       "   Experience  Age  Income\n",
       "0          10   12    1000\n",
       "1          20   13    2000\n",
       "2          30   41    3000\n",
       "3          40   67    4000\n",
       "4          50   43    5000"
      ]
     },
     "execution_count": 8,
     "metadata": {},
     "output_type": "execute_result"
    }
   ],
   "source": [
    "import numpy as np\n",
    "arr=np.array([[10,20,30,40,50],[12,13,41,67,43],[1000,2000,3000,4000,5000]])\n",
    "df=pd.DataFrame(arr)\n",
    "df=df.T\n",
    "df.rename({0:'Experience',1:'Age',2:'Income'},axis=1,inplace=True)\n",
    "df"
   ]
  },
  {
   "cell_type": "code",
   "execution_count": 9,
   "id": "c3db1382",
   "metadata": {},
   "outputs": [
    {
     "data": {
      "text/html": [
       "<div>\n",
       "<style scoped>\n",
       "    .dataframe tbody tr th:only-of-type {\n",
       "        vertical-align: middle;\n",
       "    }\n",
       "\n",
       "    .dataframe tbody tr th {\n",
       "        vertical-align: top;\n",
       "    }\n",
       "\n",
       "    .dataframe thead th {\n",
       "        text-align: right;\n",
       "    }\n",
       "</style>\n",
       "<table border=\"1\" class=\"dataframe\">\n",
       "  <thead>\n",
       "    <tr style=\"text-align: right;\">\n",
       "      <th></th>\n",
       "      <th>Experience</th>\n",
       "      <th>Age</th>\n",
       "      <th>Income</th>\n",
       "    </tr>\n",
       "  </thead>\n",
       "  <tbody>\n",
       "    <tr>\n",
       "      <th>0</th>\n",
       "      <td>0.00</td>\n",
       "      <td>0.000000</td>\n",
       "      <td>0.00</td>\n",
       "    </tr>\n",
       "    <tr>\n",
       "      <th>1</th>\n",
       "      <td>0.25</td>\n",
       "      <td>0.018182</td>\n",
       "      <td>0.25</td>\n",
       "    </tr>\n",
       "    <tr>\n",
       "      <th>2</th>\n",
       "      <td>0.50</td>\n",
       "      <td>0.527273</td>\n",
       "      <td>0.50</td>\n",
       "    </tr>\n",
       "    <tr>\n",
       "      <th>3</th>\n",
       "      <td>0.75</td>\n",
       "      <td>1.000000</td>\n",
       "      <td>0.75</td>\n",
       "    </tr>\n",
       "    <tr>\n",
       "      <th>4</th>\n",
       "      <td>1.00</td>\n",
       "      <td>0.563636</td>\n",
       "      <td>1.00</td>\n",
       "    </tr>\n",
       "  </tbody>\n",
       "</table>\n",
       "</div>"
      ],
      "text/plain": [
       "   Experience       Age  Income\n",
       "0        0.00  0.000000    0.00\n",
       "1        0.25  0.018182    0.25\n",
       "2        0.50  0.527273    0.50\n",
       "3        0.75  1.000000    0.75\n",
       "4        1.00  0.563636    1.00"
      ]
     },
     "execution_count": 9,
     "metadata": {},
     "output_type": "execute_result"
    }
   ],
   "source": [
    "from sklearn.preprocessing import MinMaxScaler,StandardScaler\n",
    "syz_norm=MinMaxScaler()\n",
    "x_scaled=syz_norm.fit_transform(df)\n",
    "x_normalized=pd.DataFrame(x_scaled,columns=df.columns)\n",
    "x_normalized"
   ]
  },
  {
   "cell_type": "markdown",
   "id": "375adf28",
   "metadata": {},
   "source": [
    "# 2.Standard scalar :"
   ]
  },
  {
   "cell_type": "raw",
   "id": "6fa79b8d",
   "metadata": {},
   "source": [
    "x_std=(x_actual-x_mean)/(x_mean_std_value)\n",
    " It is used to scale down on standard normal distribution here in, mean is 0 and std is 1.\n",
    " It has no specific scale to scale down the value.\n",
    " \n",
    "Code--->\n",
    "    std_scaler= StandardScaler()\n",
    "    std_scaler.fit_transform(data)\n",
    "    data   "
   ]
  },
  {
   "cell_type": "code",
   "execution_count": 13,
   "id": "4c9c4039",
   "metadata": {},
   "outputs": [
    {
     "data": {
      "text/plain": [
       "array([[-1.41421356, -1.12225371, -1.41421356],\n",
       "       [-0.70710678, -1.0738807 , -0.70710678],\n",
       "       [ 0.        ,  0.28056343,  0.        ],\n",
       "       [ 0.70710678,  1.53826155,  0.70710678],\n",
       "       [ 1.41421356,  0.37730944,  1.41421356]])"
      ]
     },
     "execution_count": 13,
     "metadata": {},
     "output_type": "execute_result"
    }
   ],
   "source": [
    "std_scaler= StandardScaler()\n",
    "std_scaler.fit_transform(df)  "
   ]
  },
  {
   "cell_type": "markdown",
   "id": "401a599a",
   "metadata": {},
   "source": [
    "# 3.Robust scalar :"
   ]
  },
  {
   "cell_type": "raw",
   "id": "3f6de2c7",
   "metadata": {},
   "source": [
    "x_robust=(x_actual-x_median)/x_median_std\n",
    "  It is used to scale down based on std-normal-distribution.\n",
    "  Here in median is 0 and median_std_deviation is 1.\n",
    "  It has no specific scale to scale down the value."
   ]
  }
 ],
 "metadata": {
  "kernelspec": {
   "display_name": "Python 3 (ipykernel)",
   "language": "python",
   "name": "python3"
  },
  "language_info": {
   "codemirror_mode": {
    "name": "ipython",
    "version": 3
   },
   "file_extension": ".py",
   "mimetype": "text/x-python",
   "name": "python",
   "nbconvert_exporter": "python",
   "pygments_lexer": "ipython3",
   "version": "3.10.9"
  }
 },
 "nbformat": 4,
 "nbformat_minor": 5
}
